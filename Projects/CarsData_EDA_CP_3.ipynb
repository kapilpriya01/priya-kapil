{
  "nbformat": 4,
  "nbformat_minor": 0,
  "metadata": {
    "kernelspec": {
      "display_name": "Python 3",
      "language": "python",
      "name": "python3"
    },
    "language_info": {
      "codemirror_mode": {
        "name": "ipython",
        "version": 3
      },
      "file_extension": ".py",
      "mimetype": "text/x-python",
      "name": "python",
      "nbconvert_exporter": "python",
      "pygments_lexer": "ipython3",
      "version": "3.7.3"
    },
    "colab": {
      "name": "CarsData_EDA_CP_3.ipynb",
      "provenance": [],
      "include_colab_link": true
    }
  },
  "cells": [
    {
      "cell_type": "markdown",
      "metadata": {
        "id": "view-in-github",
        "colab_type": "text"
      },
      "source": [
        "<a href=\"https://colab.research.google.com/github/kapilpriya01/priya-kapil/blob/master/Projects/CarsData_EDA_CP_3.ipynb\" target=\"_parent\"><img src=\"https://colab.research.google.com/assets/colab-badge.svg\" alt=\"Open In Colab\"/></a>"
      ]
    },
    {
      "cell_type": "markdown",
      "metadata": {
        "id": "LiH1ixRPXT5j",
        "colab_type": "text"
      },
      "source": [
        "\n",
        "# EDA on Car Sales"
      ]
    },
    {
      "cell_type": "markdown",
      "metadata": {
        "id": "j8rExVFrXT5p",
        "colab_type": "text"
      },
      "source": [
        "### Table of Content\n",
        "\n",
        "1. [Problem Statement](#section1)</br>\n",
        "2. [Importing Packages](#section2)<br>\n",
        "3. [Loading Data Set](#section3)<br>\n",
        "  3.1 [Description of Data Set](#section3.1)<br>\n",
        "  3.2 [Data Info](#section3.2)<br>\n",
        "4. [Data Profiling](#section4)<br>\n",
        "5. [Data Pre-Processing](#section5)<br>\n",
        "  5.1 [Dropping Duplicates](#section5.1)<br>\n",
        "  5.2 [Handling Drive](#section5.2)<br>\n",
        "  5.3 [Handling Price](#section5.3)<br>\n",
        "  5.4 [Handling EngV or Engine Capaciy](#section5.4)<br>\n",
        "  5.5 [Handling Mileage](#section5.5)<br>\n",
        "6. [Exploratory Data Analysis](#section6)<br>\n",
        "  6.1 [Analysis based on Drive classification](#section6.1)<br>\n",
        "    6.1.1 [Which drive type is prefered most?](#section6.1.1)<br>\n",
        "    6.1.2 [What is maximum mileage of Front Wheel Drive car?](#section6.1.2)<br>\n",
        "  6.2 [Registered cars](#section6.2)<br>\n",
        "    6.2.1 [Analysing not registered cars](#section6.2.1)<br>\n",
        "  6.3 [Yearly car sales trend](#section6.3)<br>\n",
        "  6.4 [The most powerful and fastest car](#section6.4)<br>\n",
        "  6.5 [Most prefered engine types](#section6.5)<br>\n",
        "  6.6 [The most expensive car](#section6.6)<br>\n",
        "  6.7 [Price trend over years](#section6.7)<br>\n",
        "7. [Conclusion](#section7)<br>\n"
      ]
    },
    {
      "cell_type": "markdown",
      "metadata": {
        "id": "v7X9C9tZXT5r",
        "colab_type": "text"
      },
      "source": [
        "<a id=section1></a> \n",
        "## 1. Problem Statement "
      ]
    },
    {
      "cell_type": "markdown",
      "metadata": {
        "id": "l7k-6iZvXT5u",
        "colab_type": "text"
      },
      "source": [
        "A raw data of car sales collected over a period of time of almost more than 50 years and having a huge variety. So agenda is to find out the insights of this data to gain out some relevant information"
      ]
    },
    {
      "cell_type": "markdown",
      "metadata": {
        "id": "q7Sqs4WyXT5w",
        "colab_type": "text"
      },
      "source": [
        "## 2. Importing Packages"
      ]
    },
    {
      "cell_type": "code",
      "metadata": {
        "id": "CvhdMI4JXT5y",
        "colab_type": "code",
        "colab": {}
      },
      "source": [
        "import pandas as pd\n",
        "import matplotlib\n",
        "import matplotlib.pyplot as plt\n",
        "import pandas_profiling\n",
        "import numpy as np\n",
        "import seaborn as sb\n",
        "import warnings\n",
        "import squarify\n",
        "from wordcloud import WordCloud"
      ],
      "execution_count": 0,
      "outputs": []
    },
    {
      "cell_type": "code",
      "metadata": {
        "id": "GIWi_5qoXT55",
        "colab_type": "code",
        "colab": {}
      },
      "source": [
        "warnings.filterwarnings('ignore')                                       #ignoring warnings"
      ],
      "execution_count": 0,
      "outputs": []
    },
    {
      "cell_type": "markdown",
      "metadata": {
        "id": "B-m7qSs9XT5_",
        "colab_type": "text"
      },
      "source": [
        "## 3. Loading Data Set"
      ]
    },
    {
      "cell_type": "code",
      "metadata": {
        "id": "A_LERnw0XT6B",
        "colab_type": "code",
        "colab": {},
        "outputId": "7edb4772-2d91-4221-fa5b-cebc2a1c231c"
      },
      "source": [
        "cars_df_original = pd.read_csv('https://raw.githubusercontent.com/insaid2018/Term-1/master/Data/Projects/car_sales.csv',encoding='latin-1')\n",
        "cars_df = cars_df_original                                         # making a copy of original data\n",
        "cars_df.head()"
      ],
      "execution_count": 0,
      "outputs": [
        {
          "output_type": "execute_result",
          "data": {
            "text/html": [
              "<div>\n",
              "<style scoped>\n",
              "    .dataframe tbody tr th:only-of-type {\n",
              "        vertical-align: middle;\n",
              "    }\n",
              "\n",
              "    .dataframe tbody tr th {\n",
              "        vertical-align: top;\n",
              "    }\n",
              "\n",
              "    .dataframe thead th {\n",
              "        text-align: right;\n",
              "    }\n",
              "</style>\n",
              "<table border=\"1\" class=\"dataframe\">\n",
              "  <thead>\n",
              "    <tr style=\"text-align: right;\">\n",
              "      <th></th>\n",
              "      <th>car</th>\n",
              "      <th>price</th>\n",
              "      <th>body</th>\n",
              "      <th>mileage</th>\n",
              "      <th>engV</th>\n",
              "      <th>engType</th>\n",
              "      <th>registration</th>\n",
              "      <th>year</th>\n",
              "      <th>model</th>\n",
              "      <th>drive</th>\n",
              "    </tr>\n",
              "  </thead>\n",
              "  <tbody>\n",
              "    <tr>\n",
              "      <th>0</th>\n",
              "      <td>Ford</td>\n",
              "      <td>15500.0</td>\n",
              "      <td>crossover</td>\n",
              "      <td>68</td>\n",
              "      <td>2.5</td>\n",
              "      <td>Gas</td>\n",
              "      <td>yes</td>\n",
              "      <td>2010</td>\n",
              "      <td>Kuga</td>\n",
              "      <td>full</td>\n",
              "    </tr>\n",
              "    <tr>\n",
              "      <th>1</th>\n",
              "      <td>Mercedes-Benz</td>\n",
              "      <td>20500.0</td>\n",
              "      <td>sedan</td>\n",
              "      <td>173</td>\n",
              "      <td>1.8</td>\n",
              "      <td>Gas</td>\n",
              "      <td>yes</td>\n",
              "      <td>2011</td>\n",
              "      <td>E-Class</td>\n",
              "      <td>rear</td>\n",
              "    </tr>\n",
              "    <tr>\n",
              "      <th>2</th>\n",
              "      <td>Mercedes-Benz</td>\n",
              "      <td>35000.0</td>\n",
              "      <td>other</td>\n",
              "      <td>135</td>\n",
              "      <td>5.5</td>\n",
              "      <td>Petrol</td>\n",
              "      <td>yes</td>\n",
              "      <td>2008</td>\n",
              "      <td>CL 550</td>\n",
              "      <td>rear</td>\n",
              "    </tr>\n",
              "    <tr>\n",
              "      <th>3</th>\n",
              "      <td>Mercedes-Benz</td>\n",
              "      <td>17800.0</td>\n",
              "      <td>van</td>\n",
              "      <td>162</td>\n",
              "      <td>1.8</td>\n",
              "      <td>Diesel</td>\n",
              "      <td>yes</td>\n",
              "      <td>2012</td>\n",
              "      <td>B 180</td>\n",
              "      <td>front</td>\n",
              "    </tr>\n",
              "    <tr>\n",
              "      <th>4</th>\n",
              "      <td>Mercedes-Benz</td>\n",
              "      <td>33000.0</td>\n",
              "      <td>vagon</td>\n",
              "      <td>91</td>\n",
              "      <td>NaN</td>\n",
              "      <td>Other</td>\n",
              "      <td>yes</td>\n",
              "      <td>2013</td>\n",
              "      <td>E-Class</td>\n",
              "      <td>NaN</td>\n",
              "    </tr>\n",
              "  </tbody>\n",
              "</table>\n",
              "</div>"
            ],
            "text/plain": [
              "             car    price       body  mileage  engV engType registration  \\\n",
              "0           Ford  15500.0  crossover       68   2.5     Gas          yes   \n",
              "1  Mercedes-Benz  20500.0      sedan      173   1.8     Gas          yes   \n",
              "2  Mercedes-Benz  35000.0      other      135   5.5  Petrol          yes   \n",
              "3  Mercedes-Benz  17800.0        van      162   1.8  Diesel          yes   \n",
              "4  Mercedes-Benz  33000.0      vagon       91   NaN   Other          yes   \n",
              "\n",
              "   year    model  drive  \n",
              "0  2010     Kuga   full  \n",
              "1  2011  E-Class   rear  \n",
              "2  2008   CL 550   rear  \n",
              "3  2012    B 180  front  \n",
              "4  2013  E-Class    NaN  "
            ]
          },
          "metadata": {
            "tags": []
          },
          "execution_count": 3
        }
      ]
    },
    {
      "cell_type": "markdown",
      "metadata": {
        "id": "400dmxO4XT6J",
        "colab_type": "text"
      },
      "source": [
        "### 3.1 Description of Data Set \n",
        "\n",
        "| Column Name                    | Description           |\n",
        "| -------------------------------|:-----------------------------------------------:| \n",
        "| car                            | Name of the brand car belongs to| \n",
        "| price                          | price of corresponding car|\n",
        "| body                           | Body Type (sedan, crossover, hatch)|\n",
        "| mileage                        | Car Mileage (km per litre)|\n",
        "| EngV                           | Engine Capacity|\n",
        "| engType                        | Engine Type (Petrol, Diesal, Gas)|\n",
        "| registration                   | Registered Cars|\n",
        "| year                           | Year of Car Registered|\n",
        "| model                          | Corresponding car brand's model|\n",
        "| drive                          | Drive Type of wheels (Front, Full, Rear)|"
      ]
    },
    {
      "cell_type": "code",
      "metadata": {
        "id": "CIs0--_CXT6M",
        "colab_type": "code",
        "colab": {},
        "outputId": "e16f0c56-c5be-45c5-df62-f48c1cbbea37"
      },
      "source": [
        "cars_df.describe(include = 'all')"
      ],
      "execution_count": 0,
      "outputs": [
        {
          "output_type": "execute_result",
          "data": {
            "text/html": [
              "<div>\n",
              "<style scoped>\n",
              "    .dataframe tbody tr th:only-of-type {\n",
              "        vertical-align: middle;\n",
              "    }\n",
              "\n",
              "    .dataframe tbody tr th {\n",
              "        vertical-align: top;\n",
              "    }\n",
              "\n",
              "    .dataframe thead th {\n",
              "        text-align: right;\n",
              "    }\n",
              "</style>\n",
              "<table border=\"1\" class=\"dataframe\">\n",
              "  <thead>\n",
              "    <tr style=\"text-align: right;\">\n",
              "      <th></th>\n",
              "      <th>car</th>\n",
              "      <th>price</th>\n",
              "      <th>body</th>\n",
              "      <th>mileage</th>\n",
              "      <th>engV</th>\n",
              "      <th>engType</th>\n",
              "      <th>registration</th>\n",
              "      <th>year</th>\n",
              "      <th>model</th>\n",
              "      <th>drive</th>\n",
              "    </tr>\n",
              "  </thead>\n",
              "  <tbody>\n",
              "    <tr>\n",
              "      <th>count</th>\n",
              "      <td>9576</td>\n",
              "      <td>9576.000000</td>\n",
              "      <td>9576</td>\n",
              "      <td>9576.000000</td>\n",
              "      <td>9142.000000</td>\n",
              "      <td>9576</td>\n",
              "      <td>9576</td>\n",
              "      <td>9576.000000</td>\n",
              "      <td>9576</td>\n",
              "      <td>9065</td>\n",
              "    </tr>\n",
              "    <tr>\n",
              "      <th>unique</th>\n",
              "      <td>87</td>\n",
              "      <td>NaN</td>\n",
              "      <td>6</td>\n",
              "      <td>NaN</td>\n",
              "      <td>NaN</td>\n",
              "      <td>4</td>\n",
              "      <td>2</td>\n",
              "      <td>NaN</td>\n",
              "      <td>888</td>\n",
              "      <td>3</td>\n",
              "    </tr>\n",
              "    <tr>\n",
              "      <th>top</th>\n",
              "      <td>Volkswagen</td>\n",
              "      <td>NaN</td>\n",
              "      <td>sedan</td>\n",
              "      <td>NaN</td>\n",
              "      <td>NaN</td>\n",
              "      <td>Petrol</td>\n",
              "      <td>yes</td>\n",
              "      <td>NaN</td>\n",
              "      <td>E-Class</td>\n",
              "      <td>front</td>\n",
              "    </tr>\n",
              "    <tr>\n",
              "      <th>freq</th>\n",
              "      <td>936</td>\n",
              "      <td>NaN</td>\n",
              "      <td>3646</td>\n",
              "      <td>NaN</td>\n",
              "      <td>NaN</td>\n",
              "      <td>4379</td>\n",
              "      <td>9015</td>\n",
              "      <td>NaN</td>\n",
              "      <td>199</td>\n",
              "      <td>5188</td>\n",
              "    </tr>\n",
              "    <tr>\n",
              "      <th>mean</th>\n",
              "      <td>NaN</td>\n",
              "      <td>15633.317316</td>\n",
              "      <td>NaN</td>\n",
              "      <td>138.862364</td>\n",
              "      <td>2.646344</td>\n",
              "      <td>NaN</td>\n",
              "      <td>NaN</td>\n",
              "      <td>2006.605994</td>\n",
              "      <td>NaN</td>\n",
              "      <td>NaN</td>\n",
              "    </tr>\n",
              "    <tr>\n",
              "      <th>std</th>\n",
              "      <td>NaN</td>\n",
              "      <td>24106.523436</td>\n",
              "      <td>NaN</td>\n",
              "      <td>98.629754</td>\n",
              "      <td>5.927699</td>\n",
              "      <td>NaN</td>\n",
              "      <td>NaN</td>\n",
              "      <td>7.067924</td>\n",
              "      <td>NaN</td>\n",
              "      <td>NaN</td>\n",
              "    </tr>\n",
              "    <tr>\n",
              "      <th>min</th>\n",
              "      <td>NaN</td>\n",
              "      <td>0.000000</td>\n",
              "      <td>NaN</td>\n",
              "      <td>0.000000</td>\n",
              "      <td>0.100000</td>\n",
              "      <td>NaN</td>\n",
              "      <td>NaN</td>\n",
              "      <td>1953.000000</td>\n",
              "      <td>NaN</td>\n",
              "      <td>NaN</td>\n",
              "    </tr>\n",
              "    <tr>\n",
              "      <th>25%</th>\n",
              "      <td>NaN</td>\n",
              "      <td>4999.000000</td>\n",
              "      <td>NaN</td>\n",
              "      <td>70.000000</td>\n",
              "      <td>1.600000</td>\n",
              "      <td>NaN</td>\n",
              "      <td>NaN</td>\n",
              "      <td>2004.000000</td>\n",
              "      <td>NaN</td>\n",
              "      <td>NaN</td>\n",
              "    </tr>\n",
              "    <tr>\n",
              "      <th>50%</th>\n",
              "      <td>NaN</td>\n",
              "      <td>9200.000000</td>\n",
              "      <td>NaN</td>\n",
              "      <td>128.000000</td>\n",
              "      <td>2.000000</td>\n",
              "      <td>NaN</td>\n",
              "      <td>NaN</td>\n",
              "      <td>2008.000000</td>\n",
              "      <td>NaN</td>\n",
              "      <td>NaN</td>\n",
              "    </tr>\n",
              "    <tr>\n",
              "      <th>75%</th>\n",
              "      <td>NaN</td>\n",
              "      <td>16700.000000</td>\n",
              "      <td>NaN</td>\n",
              "      <td>194.000000</td>\n",
              "      <td>2.500000</td>\n",
              "      <td>NaN</td>\n",
              "      <td>NaN</td>\n",
              "      <td>2012.000000</td>\n",
              "      <td>NaN</td>\n",
              "      <td>NaN</td>\n",
              "    </tr>\n",
              "    <tr>\n",
              "      <th>max</th>\n",
              "      <td>NaN</td>\n",
              "      <td>547800.000000</td>\n",
              "      <td>NaN</td>\n",
              "      <td>999.000000</td>\n",
              "      <td>99.990000</td>\n",
              "      <td>NaN</td>\n",
              "      <td>NaN</td>\n",
              "      <td>2016.000000</td>\n",
              "      <td>NaN</td>\n",
              "      <td>NaN</td>\n",
              "    </tr>\n",
              "  </tbody>\n",
              "</table>\n",
              "</div>"
            ],
            "text/plain": [
              "               car          price   body      mileage         engV engType  \\\n",
              "count         9576    9576.000000   9576  9576.000000  9142.000000    9576   \n",
              "unique          87            NaN      6          NaN          NaN       4   \n",
              "top     Volkswagen            NaN  sedan          NaN          NaN  Petrol   \n",
              "freq           936            NaN   3646          NaN          NaN    4379   \n",
              "mean           NaN   15633.317316    NaN   138.862364     2.646344     NaN   \n",
              "std            NaN   24106.523436    NaN    98.629754     5.927699     NaN   \n",
              "min            NaN       0.000000    NaN     0.000000     0.100000     NaN   \n",
              "25%            NaN    4999.000000    NaN    70.000000     1.600000     NaN   \n",
              "50%            NaN    9200.000000    NaN   128.000000     2.000000     NaN   \n",
              "75%            NaN   16700.000000    NaN   194.000000     2.500000     NaN   \n",
              "max            NaN  547800.000000    NaN   999.000000    99.990000     NaN   \n",
              "\n",
              "       registration         year    model  drive  \n",
              "count          9576  9576.000000     9576   9065  \n",
              "unique            2          NaN      888      3  \n",
              "top             yes          NaN  E-Class  front  \n",
              "freq           9015          NaN      199   5188  \n",
              "mean            NaN  2006.605994      NaN    NaN  \n",
              "std             NaN     7.067924      NaN    NaN  \n",
              "min             NaN  1953.000000      NaN    NaN  \n",
              "25%             NaN  2004.000000      NaN    NaN  \n",
              "50%             NaN  2008.000000      NaN    NaN  \n",
              "75%             NaN  2012.000000      NaN    NaN  \n",
              "max             NaN  2016.000000      NaN    NaN  "
            ]
          },
          "metadata": {
            "tags": []
          },
          "execution_count": 4
        }
      ]
    },
    {
      "cell_type": "markdown",
      "metadata": {
        "id": "FdW5d_1UXT6S",
        "colab_type": "text"
      },
      "source": [
        "### 3.2 Data Info"
      ]
    },
    {
      "cell_type": "code",
      "metadata": {
        "id": "y9Cv2ZZWXT6U",
        "colab_type": "code",
        "colab": {},
        "outputId": "c6e40ee1-785b-49c6-fc8e-9fec8e9c6e30"
      },
      "source": [
        "cars_df.info()"
      ],
      "execution_count": 0,
      "outputs": [
        {
          "output_type": "stream",
          "text": [
            "<class 'pandas.core.frame.DataFrame'>\n",
            "RangeIndex: 9576 entries, 0 to 9575\n",
            "Data columns (total 10 columns):\n",
            "car             9576 non-null object\n",
            "price           9576 non-null float64\n",
            "body            9576 non-null object\n",
            "mileage         9576 non-null int64\n",
            "engV            9142 non-null float64\n",
            "engType         9576 non-null object\n",
            "registration    9576 non-null object\n",
            "year            9576 non-null int64\n",
            "model           9576 non-null object\n",
            "drive           9065 non-null object\n",
            "dtypes: float64(2), int64(2), object(6)\n",
            "memory usage: 748.2+ KB\n"
          ],
          "name": "stdout"
        }
      ]
    },
    {
      "cell_type": "markdown",
      "metadata": {
        "id": "-JzFWMOAXT6a",
        "colab_type": "text"
      },
      "source": [
        "- ```info``` states that there are 10 columns in which \n",
        "    - Year and Mileage columns are numerical discrete\n",
        "    - EngV an Price are numerical Continuous\n",
        "    - rest 6 are object type or categorical"
      ]
    },
    {
      "cell_type": "markdown",
      "metadata": {
        "id": "3vrPYukxXT6c",
        "colab_type": "text"
      },
      "source": [
        "## 4. Data Profiling"
      ]
    },
    {
      "cell_type": "code",
      "metadata": {
        "id": "dmw0uCdBXT6e",
        "colab_type": "code",
        "colab": {}
      },
      "source": [
        "cars_df_profiling = cars_df.profile_report(title = \"Pre-Profiling Report\")\n",
        "cars_df_profiling.to_file(output_file='cars_pre_Profiling.html')"
      ],
      "execution_count": 0,
      "outputs": []
    },
    {
      "cell_type": "markdown",
      "metadata": {
        "id": "3cHr73MpXT6j",
        "colab_type": "text"
      },
      "source": [
        "Pre-profiling gave an insight that\n",
        "- There re 113 rows i.e. **1.2% of data has duplicate rows**\n",
        "- 87 types of cars \n",
        "- **Mileage and Price has 0 values**\n",
        "- **Missing values** in **EngV(4.5%) and Drive (5.3%)**\n",
        "- **EngV has many outliers** at both extreme ends (< 1 and > 74)\n",
        "- **mileage has outliers** as no car can travel 900kms/miles per litre\n",
        "- **Car** Types and their corresposing **Models** have **extremely high cardinality**\n"
      ]
    },
    {
      "cell_type": "markdown",
      "metadata": {
        "id": "acHW_QvVXT6l",
        "colab_type": "text"
      },
      "source": [
        "## 5. Data Pre-Processing"
      ]
    },
    {
      "cell_type": "markdown",
      "metadata": {
        "id": "jdKJeBSkXT6n",
        "colab_type": "text"
      },
      "source": [
        "### 5.1 Dropping Duplicates"
      ]
    },
    {
      "cell_type": "code",
      "metadata": {
        "id": "8fpHMv2OXT6p",
        "colab_type": "code",
        "colab": {}
      },
      "source": [
        "cars_df = cars_df.drop_duplicates() # original : (9576, 10)"
      ],
      "execution_count": 0,
      "outputs": []
    },
    {
      "cell_type": "code",
      "metadata": {
        "id": "2su5jPAsXT6v",
        "colab_type": "code",
        "colab": {},
        "outputId": "17d6b073-28c9-40e9-b4b4-8a57ff41ce8b"
      },
      "source": [
        "cars_df.info()"
      ],
      "execution_count": 0,
      "outputs": [
        {
          "output_type": "stream",
          "text": [
            "<class 'pandas.core.frame.DataFrame'>\n",
            "Int64Index: 9463 entries, 0 to 9575\n",
            "Data columns (total 10 columns):\n",
            "car             9463 non-null object\n",
            "price           9463 non-null float64\n",
            "body            9463 non-null object\n",
            "mileage         9463 non-null int64\n",
            "engV            9029 non-null float64\n",
            "engType         9463 non-null object\n",
            "registration    9463 non-null object\n",
            "year            9463 non-null int64\n",
            "model           9463 non-null object\n",
            "drive           8953 non-null object\n",
            "dtypes: float64(2), int64(2), object(6)\n",
            "memory usage: 813.2+ KB\n"
          ],
          "name": "stdout"
        }
      ]
    },
    {
      "cell_type": "markdown",
      "metadata": {
        "id": "pH_6mse5XT61",
        "colab_type": "text"
      },
      "source": [
        "- **Removing all the duplicate rows** to get rid of repeatitive data which is of no use\n",
        "- **New data is of 9463 (earlier 9576) rows and 10 columns**"
      ]
    },
    {
      "cell_type": "code",
      "metadata": {
        "id": "2qVk0CQeXT63",
        "colab_type": "code",
        "colab": {}
      },
      "source": [
        "#cars_df.model = cars_df.car + \" \" + cars_df.model # mergind adding car names to model columns"
      ],
      "execution_count": 0,
      "outputs": []
    },
    {
      "cell_type": "markdown",
      "metadata": {
        "id": "bRgy8nbkXT69",
        "colab_type": "text"
      },
      "source": [
        "### 5.2 Handling Drive"
      ]
    },
    {
      "cell_type": "code",
      "metadata": {
        "id": "o8emysdOXT6_",
        "colab_type": "code",
        "colab": {},
        "outputId": "1ac1ba53-7ec9-4fac-ba73-4fdc74407669"
      },
      "source": [
        "cars_df.drive.unique()"
      ],
      "execution_count": 0,
      "outputs": [
        {
          "output_type": "execute_result",
          "data": {
            "text/plain": [
              "array(['full', 'rear', 'front', nan], dtype=object)"
            ]
          },
          "metadata": {
            "tags": []
          },
          "execution_count": 10
        }
      ]
    },
    {
      "cell_type": "code",
      "metadata": {
        "id": "odTyPKQSXT7F",
        "colab_type": "code",
        "colab": {},
        "outputId": "a85b7090-f8e1-48f7-e27f-77e02da5fe24"
      },
      "source": [
        "cars_df['drive'].fillna('others', inplace = True) \n",
        "cars_df.drive.unique()"
      ],
      "execution_count": 0,
      "outputs": [
        {
          "output_type": "execute_result",
          "data": {
            "text/plain": [
              "array(['full', 'rear', 'front', 'others'], dtype=object)"
            ]
          },
          "metadata": {
            "tags": []
          },
          "execution_count": 11
        }
      ]
    },
    {
      "cell_type": "markdown",
      "metadata": {
        "id": "4ngMTe-DXT7L",
        "colab_type": "text"
      },
      "source": [
        "- **Replaced missing Nan values with others**  as missing data can not be interpreted and is undetermined"
      ]
    },
    {
      "cell_type": "markdown",
      "metadata": {
        "id": "pO7t_MuPXT7N",
        "colab_type": "text"
      },
      "source": [
        "### 5.3 Handling Price "
      ]
    },
    {
      "cell_type": "code",
      "metadata": {
        "id": "97SO4tGoXT7P",
        "colab_type": "code",
        "colab": {},
        "outputId": "6be9361c-97f1-4cb6-b833-40ce258169af"
      },
      "source": [
        "print(\"cars mean: \",cars_df.price.mean())\n",
        "print(\"cars median: \",cars_df.price.median())"
      ],
      "execution_count": 0,
      "outputs": [
        {
          "output_type": "stream",
          "text": [
            "cars mean:  15303.858895873407\n",
            "cars median:  9200.0\n"
          ],
          "name": "stdout"
        }
      ]
    },
    {
      "cell_type": "markdown",
      "metadata": {
        "id": "PNGJJcygXT7V",
        "colab_type": "text"
      },
      "source": [
        "- Since, Cars 'mean' is very large as compared to 'median' as Extreme values of cars prices are pulling mean towards itself \n",
        "- There are 2.8% missing car price values\n",
        "- **Replace car price having 0 values by median**"
      ]
    },
    {
      "cell_type": "code",
      "metadata": {
        "id": "Rr1ofq3NXT7X",
        "colab_type": "code",
        "colab": {},
        "outputId": "4ceeea98-228b-4bba-f882-2fc0cec6e581"
      },
      "source": [
        "cars_df = cars_df.round(decimals = 3) \n",
        "cars_df['price'].replace(0, cars_df.price.median(), inplace = True)\n",
        "cars_df.price.sample(10)                         # takes a random sample of 10 price values"
      ],
      "execution_count": 0,
      "outputs": [
        {
          "output_type": "execute_result",
          "data": {
            "text/plain": [
              "5962     4800.0\n",
              "7049     2499.0\n",
              "6623    16200.0\n",
              "8502    39000.0\n",
              "1491    22000.0\n",
              "6368    24500.0\n",
              "2174    12500.0\n",
              "2843    27500.0\n",
              "2899     5300.0\n",
              "1233    17400.0\n",
              "Name: price, dtype: float64"
            ]
          },
          "metadata": {
            "tags": []
          },
          "execution_count": 13
        }
      ]
    },
    {
      "cell_type": "markdown",
      "metadata": {
        "id": "XRYYcdMlXT7d",
        "colab_type": "text"
      },
      "source": [
        "### 5.4 Handling EngV or Engine Capacity"
      ]
    },
    {
      "cell_type": "markdown",
      "metadata": {
        "id": "jAQVoh2HXT7f",
        "colab_type": "text"
      },
      "source": [
        "- EngV has many outliers **as engine capacity**  of a car **can not be greater 15**\n",
        "- **ENgV has 434 missing values** \n",
        "- replacing missing values and values > 15 by mean "
      ]
    },
    {
      "cell_type": "code",
      "metadata": {
        "id": "i86VQQtcXT7h",
        "colab_type": "code",
        "colab": {},
        "outputId": "5bdd18e4-4222-44d2-9c24-47ac9711337a"
      },
      "source": [
        "(len(cars_df[cars_df['engV'] >= 15])/ len(cars_df.engV))*100           # 0.5% data of engV > 15"
      ],
      "execution_count": 0,
      "outputs": [
        {
          "output_type": "execute_result",
          "data": {
            "text/plain": [
              "0.5178061925393639"
            ]
          },
          "metadata": {
            "tags": []
          },
          "execution_count": 14
        }
      ]
    },
    {
      "cell_type": "code",
      "metadata": {
        "id": "-We-VVi-XT7p",
        "colab_type": "code",
        "colab": {}
      },
      "source": [
        "cars_df['engV'].loc[cars_df['engV'] >= 15] = cars_df.engV.mean()       # replacing all engV values>=15"
      ],
      "execution_count": 0,
      "outputs": []
    },
    {
      "cell_type": "code",
      "metadata": {
        "id": "RFCjpGfZXT7y",
        "colab_type": "code",
        "colab": {},
        "outputId": "193d68a0-d120-4b46-b1f4-45f29e3885a8"
      },
      "source": [
        "cars_df.engV.fillna(0, inplace = True)                         # replacing all Nan values by mean\n",
        "cars_df['engV'].loc[cars_df['engV'] == 0] = cars_df.engV.mean()\n",
        "cars_df.engV.sort_values().unique()"
      ],
      "execution_count": 0,
      "outputs": [
        {
          "output_type": "execute_result",
          "data": {
            "text/plain": [
              "array([ 0.1       ,  0.11      ,  0.14      ,  0.6       ,  0.65      ,\n",
              "        0.7       ,  0.8       ,  0.9       ,  1.        ,  1.1       ,\n",
              "        1.12      ,  1.2       ,  1.23      ,  1.24      ,  1.25      ,\n",
              "        1.3       ,  1.31      ,  1.33      ,  1.34      ,  1.35      ,\n",
              "        1.36      ,  1.39      ,  1.4       ,  1.45      ,  1.46      ,\n",
              "        1.5       ,  1.59      ,  1.6       ,  1.7       ,  1.78      ,\n",
              "        1.79      ,  1.8       ,  1.9       ,  1.91      ,  2.        ,\n",
              "        2.1       ,  2.14      ,  2.14829449,  2.15      ,  2.17      ,\n",
              "        2.2       ,  2.28      ,  2.3       ,  2.4       ,  2.44      ,\n",
              "        2.46      ,  2.49      ,  2.5       ,  2.57      ,  2.6       ,\n",
              "        2.64144424,  2.69      ,  2.7       ,  2.8       ,  2.9       ,\n",
              "        2.98      ,  2.99      ,  3.        ,  3.1       ,  3.2       ,\n",
              "        3.3       ,  3.4       ,  3.5       ,  3.6       ,  3.7       ,\n",
              "        3.8       ,  4.        ,  4.2       ,  4.25      ,  4.3       ,\n",
              "        4.39      ,  4.4       ,  4.5       ,  4.6       ,  4.66      ,\n",
              "        4.67      ,  4.7       ,  4.8       ,  5.        ,  5.2       ,\n",
              "        5.3       ,  5.4       ,  5.46      ,  5.5       ,  5.6       ,\n",
              "        5.7       ,  6.        ,  6.1       ,  6.2       ,  6.3       ,\n",
              "        6.4       ,  6.5       ,  6.75      ,  7.        ,  7.2       ,\n",
              "        8.        ,  8.3       ,  8.7       ,  9.        , 10.        ,\n",
              "       11.5       , 12.        , 14.        ])"
            ]
          },
          "metadata": {
            "tags": []
          },
          "execution_count": 16
        }
      ]
    },
    {
      "cell_type": "markdown",
      "metadata": {
        "id": "bKZgCkY5XT74",
        "colab_type": "text"
      },
      "source": [
        "### 5.5 Handling Mileage"
      ]
    },
    {
      "cell_type": "markdown",
      "metadata": {
        "id": "u_mbD2srXT76",
        "colab_type": "text"
      },
      "source": [
        "- **Replacing 0 mileage** with median\n",
        "- **Replacing mileage above 400** with median as they are outliers affecting data. No car mileage can have 800 value"
      ]
    },
    {
      "cell_type": "code",
      "metadata": {
        "id": "83WAI-CFXT77",
        "colab_type": "code",
        "colab": {},
        "outputId": "6c3d2409-17ca-4a68-cb58-ab6ef96188ae"
      },
      "source": [
        "cars_df['mileage'].loc[cars_df['mileage'] == 0] = cars_df.mileage.median()\n",
        "cars_df['mileage'].loc[cars_df['mileage'] >= 400] = cars_df.mileage.median()\n",
        "cars_df.mileage.sort_values().unique()"
      ],
      "execution_count": 0,
      "outputs": [
        {
          "output_type": "execute_result",
          "data": {
            "text/plain": [
              "array([  1.,   2.,   3.,   4.,   5.,   6.,   7.,   8.,   9.,  10.,  11.,\n",
              "        12.,  13.,  14.,  15.,  16.,  17.,  18.,  19.,  20.,  21.,  22.,\n",
              "        23.,  24.,  25.,  26.,  27.,  28.,  29.,  30.,  31.,  32.,  33.,\n",
              "        34.,  35.,  36.,  37.,  38.,  39.,  40.,  41.,  42.,  43.,  44.,\n",
              "        45.,  46.,  47.,  48.,  49.,  50.,  51.,  52.,  53.,  54.,  55.,\n",
              "        56.,  57.,  58.,  59.,  60.,  61.,  62.,  63.,  64.,  65.,  66.,\n",
              "        67.,  68.,  69.,  70.,  71.,  72.,  73.,  74.,  75.,  76.,  77.,\n",
              "        78.,  79.,  80.,  81.,  82.,  83.,  84.,  85.,  86.,  87.,  88.,\n",
              "        89.,  90.,  91.,  92.,  93.,  94.,  95.,  96.,  97.,  98.,  99.,\n",
              "       100., 101., 102., 103., 104., 105., 106., 107., 108., 109., 110.,\n",
              "       111., 112., 113., 114., 115., 116., 117., 118., 119., 120., 121.,\n",
              "       122., 123., 124., 125., 126., 127., 128., 129., 130., 131., 132.,\n",
              "       133., 134., 135., 136., 137., 138., 139., 140., 141., 142., 143.,\n",
              "       144., 145., 146., 147., 148., 149., 150., 151., 152., 153., 154.,\n",
              "       155., 156., 157., 158., 159., 160., 161., 162., 163., 164., 165.,\n",
              "       166., 167., 168., 169., 170., 171., 172., 173., 174., 175., 176.,\n",
              "       177., 178., 179., 180., 181., 182., 183., 184., 185., 186., 187.,\n",
              "       188., 189., 190., 191., 192., 193., 194., 195., 196., 197., 198.,\n",
              "       199., 200., 201., 202., 203., 204., 205., 206., 207., 208., 209.,\n",
              "       210., 211., 212., 213., 214., 215., 216., 217., 218., 219., 220.,\n",
              "       221., 222., 223., 224., 225., 226., 227., 228., 229., 230., 231.,\n",
              "       232., 233., 234., 235., 236., 237., 238., 239., 240., 241., 242.,\n",
              "       243., 244., 245., 246., 247., 248., 249., 250., 251., 252., 253.,\n",
              "       254., 255., 256., 257., 258., 259., 260., 261., 262., 263., 264.,\n",
              "       265., 266., 267., 268., 269., 270., 271., 272., 273., 274., 275.,\n",
              "       276., 277., 278., 279., 280., 281., 282., 283., 284., 285., 286.,\n",
              "       287., 288., 289., 290., 292., 293., 294., 295., 296., 297., 298.,\n",
              "       299., 300., 301., 302., 303., 304., 305., 307., 308., 309., 310.,\n",
              "       311., 312., 313., 314., 315., 316., 317., 318., 319., 320., 322.,\n",
              "       323., 324., 325., 326., 327., 328., 329., 330., 331., 332., 333.,\n",
              "       334., 335., 336., 337., 338., 339., 340., 341., 342., 344., 345.,\n",
              "       346., 350., 352., 354., 355., 356., 357., 358., 360., 361., 362.,\n",
              "       363., 365., 366., 367., 368., 369., 370., 371., 373., 374., 375.,\n",
              "       377., 380., 381., 382., 383., 384., 385., 386., 388., 389., 390.,\n",
              "       392., 395., 396., 397., 398.])"
            ]
          },
          "metadata": {
            "tags": []
          },
          "execution_count": 17
        }
      ]
    },
    {
      "cell_type": "code",
      "metadata": {
        "id": "m5XmKkNtXT8B",
        "colab_type": "code",
        "colab": {},
        "outputId": "52cde86e-78f7-4e64-d4e9-36b5a7e8605c"
      },
      "source": [
        "cars_df.head()"
      ],
      "execution_count": 0,
      "outputs": [
        {
          "output_type": "execute_result",
          "data": {
            "text/html": [
              "<div>\n",
              "<style scoped>\n",
              "    .dataframe tbody tr th:only-of-type {\n",
              "        vertical-align: middle;\n",
              "    }\n",
              "\n",
              "    .dataframe tbody tr th {\n",
              "        vertical-align: top;\n",
              "    }\n",
              "\n",
              "    .dataframe thead th {\n",
              "        text-align: right;\n",
              "    }\n",
              "</style>\n",
              "<table border=\"1\" class=\"dataframe\">\n",
              "  <thead>\n",
              "    <tr style=\"text-align: right;\">\n",
              "      <th></th>\n",
              "      <th>car</th>\n",
              "      <th>price</th>\n",
              "      <th>body</th>\n",
              "      <th>mileage</th>\n",
              "      <th>engV</th>\n",
              "      <th>engType</th>\n",
              "      <th>registration</th>\n",
              "      <th>year</th>\n",
              "      <th>model</th>\n",
              "      <th>drive</th>\n",
              "    </tr>\n",
              "  </thead>\n",
              "  <tbody>\n",
              "    <tr>\n",
              "      <th>0</th>\n",
              "      <td>Ford</td>\n",
              "      <td>15500.0</td>\n",
              "      <td>crossover</td>\n",
              "      <td>68.0</td>\n",
              "      <td>2.500000</td>\n",
              "      <td>Gas</td>\n",
              "      <td>yes</td>\n",
              "      <td>2010</td>\n",
              "      <td>Kuga</td>\n",
              "      <td>full</td>\n",
              "    </tr>\n",
              "    <tr>\n",
              "      <th>1</th>\n",
              "      <td>Mercedes-Benz</td>\n",
              "      <td>20500.0</td>\n",
              "      <td>sedan</td>\n",
              "      <td>173.0</td>\n",
              "      <td>1.800000</td>\n",
              "      <td>Gas</td>\n",
              "      <td>yes</td>\n",
              "      <td>2011</td>\n",
              "      <td>E-Class</td>\n",
              "      <td>rear</td>\n",
              "    </tr>\n",
              "    <tr>\n",
              "      <th>2</th>\n",
              "      <td>Mercedes-Benz</td>\n",
              "      <td>35000.0</td>\n",
              "      <td>other</td>\n",
              "      <td>135.0</td>\n",
              "      <td>5.500000</td>\n",
              "      <td>Petrol</td>\n",
              "      <td>yes</td>\n",
              "      <td>2008</td>\n",
              "      <td>CL 550</td>\n",
              "      <td>rear</td>\n",
              "    </tr>\n",
              "    <tr>\n",
              "      <th>3</th>\n",
              "      <td>Mercedes-Benz</td>\n",
              "      <td>17800.0</td>\n",
              "      <td>van</td>\n",
              "      <td>162.0</td>\n",
              "      <td>1.800000</td>\n",
              "      <td>Diesel</td>\n",
              "      <td>yes</td>\n",
              "      <td>2012</td>\n",
              "      <td>B 180</td>\n",
              "      <td>front</td>\n",
              "    </tr>\n",
              "    <tr>\n",
              "      <th>4</th>\n",
              "      <td>Mercedes-Benz</td>\n",
              "      <td>33000.0</td>\n",
              "      <td>vagon</td>\n",
              "      <td>91.0</td>\n",
              "      <td>2.148294</td>\n",
              "      <td>Other</td>\n",
              "      <td>yes</td>\n",
              "      <td>2013</td>\n",
              "      <td>E-Class</td>\n",
              "      <td>others</td>\n",
              "    </tr>\n",
              "  </tbody>\n",
              "</table>\n",
              "</div>"
            ],
            "text/plain": [
              "             car    price       body  mileage      engV engType registration  \\\n",
              "0           Ford  15500.0  crossover     68.0  2.500000     Gas          yes   \n",
              "1  Mercedes-Benz  20500.0      sedan    173.0  1.800000     Gas          yes   \n",
              "2  Mercedes-Benz  35000.0      other    135.0  5.500000  Petrol          yes   \n",
              "3  Mercedes-Benz  17800.0        van    162.0  1.800000  Diesel          yes   \n",
              "4  Mercedes-Benz  33000.0      vagon     91.0  2.148294   Other          yes   \n",
              "\n",
              "   year    model   drive  \n",
              "0  2010     Kuga    full  \n",
              "1  2011  E-Class    rear  \n",
              "2  2008   CL 550    rear  \n",
              "3  2012    B 180   front  \n",
              "4  2013  E-Class  others  "
            ]
          },
          "metadata": {
            "tags": []
          },
          "execution_count": 18
        }
      ]
    },
    {
      "cell_type": "code",
      "metadata": {
        "id": "vd7N6TnEXT8G",
        "colab_type": "code",
        "colab": {}
      },
      "source": [
        "cars_df_post_profiling = cars_df.profile_report(title = \"Post-Profiling Report\")\n",
        "cars_df_post_profiling.to_file(output_file='cars_post_Profiling.html')"
      ],
      "execution_count": 0,
      "outputs": []
    },
    {
      "cell_type": "markdown",
      "metadata": {
        "id": "mhXJ1TQtXT8L",
        "colab_type": "text"
      },
      "source": [
        "## 6. Exploratory Data Analysis"
      ]
    },
    {
      "cell_type": "markdown",
      "metadata": {
        "id": "HS0-WXIIXT8M",
        "colab_type": "text"
      },
      "source": [
        "### 6.1 Analysis based on Drive classification"
      ]
    },
    {
      "cell_type": "markdown",
      "metadata": {
        "id": "kwzZF9kvXT8N",
        "colab_type": "text"
      },
      "source": [
        "#### 6.1.1 Which drive type is prefered most?"
      ]
    },
    {
      "cell_type": "code",
      "metadata": {
        "scrolled": true,
        "id": "nfkUrOcjXT8O",
        "colab_type": "code",
        "colab": {},
        "outputId": "e6906213-a9a2-467f-fa80-b5937fbeeb92"
      },
      "source": [
        "cars_df['drive'].value_counts().plot(kind = 'pie', autopct = '%3.1f%%',cmap = \"Set3\", figsize = (8,8), fontsize = 14)\n",
        "plt.title (\"Pie Chart showing classification of various Drive Types\")\n",
        "plt.ylabel(\"Drive Type\")"
      ],
      "execution_count": 0,
      "outputs": [
        {
          "output_type": "execute_result",
          "data": {
            "text/plain": [
              "Text(0, 0.5, 'Drive Type')"
            ]
          },
          "metadata": {
            "tags": []
          },
          "execution_count": 20
        },
        {
          "output_type": "display_data",
          "data": {
            "image/png": "[encoded data removed]",
            "text/plain": [
              "<Figure size 576x576 with 1 Axes>"
            ]
          },
          "metadata": {
            "tags": []
          }
        }
      ]
    },
    {
      "cell_type": "markdown",
      "metadata": {
        "id": "lCLUl41rXT8S",
        "colab_type": "text"
      },
      "source": [
        "- Front-wheel drive reduces overall weight of the car, decreases production costs, and improves fuel economy compared to a rear-wheel-drive system and thus majority of people **prefer Front Drive vehicles**"
      ]
    },
    {
      "cell_type": "markdown",
      "metadata": {
        "id": "0Oi2zZdHXT8T",
        "colab_type": "text"
      },
      "source": [
        "#### 6.1.2 What is maximum mileage of Front Wheel Drive car?"
      ]
    },
    {
      "cell_type": "code",
      "metadata": {
        "id": "Cn3LhgmXXT8U",
        "colab_type": "code",
        "colab": {},
        "outputId": "1137834a-2b14-4524-e26b-961d0e9d423e"
      },
      "source": [
        "cars_drive_front_df = cars_df.loc[cars_df['drive'] == 'front']\n",
        "cars_drive_front_df.head()"
      ],
      "execution_count": 0,
      "outputs": [
        {
          "output_type": "execute_result",
          "data": {
            "text/html": [
              "<div>\n",
              "<style scoped>\n",
              "    .dataframe tbody tr th:only-of-type {\n",
              "        vertical-align: middle;\n",
              "    }\n",
              "\n",
              "    .dataframe tbody tr th {\n",
              "        vertical-align: top;\n",
              "    }\n",
              "\n",
              "    .dataframe thead th {\n",
              "        text-align: right;\n",
              "    }\n",
              "</style>\n",
              "<table border=\"1\" class=\"dataframe\">\n",
              "  <thead>\n",
              "    <tr style=\"text-align: right;\">\n",
              "      <th></th>\n",
              "      <th>car</th>\n",
              "      <th>price</th>\n",
              "      <th>body</th>\n",
              "      <th>mileage</th>\n",
              "      <th>engV</th>\n",
              "      <th>engType</th>\n",
              "      <th>registration</th>\n",
              "      <th>year</th>\n",
              "      <th>model</th>\n",
              "      <th>drive</th>\n",
              "    </tr>\n",
              "  </thead>\n",
              "  <tbody>\n",
              "    <tr>\n",
              "      <th>3</th>\n",
              "      <td>Mercedes-Benz</td>\n",
              "      <td>17800.000</td>\n",
              "      <td>van</td>\n",
              "      <td>162.0</td>\n",
              "      <td>1.800000</td>\n",
              "      <td>Diesel</td>\n",
              "      <td>yes</td>\n",
              "      <td>2012</td>\n",
              "      <td>B 180</td>\n",
              "      <td>front</td>\n",
              "    </tr>\n",
              "    <tr>\n",
              "      <th>6</th>\n",
              "      <td>Honda</td>\n",
              "      <td>6500.000</td>\n",
              "      <td>sedan</td>\n",
              "      <td>199.0</td>\n",
              "      <td>2.000000</td>\n",
              "      <td>Petrol</td>\n",
              "      <td>yes</td>\n",
              "      <td>2003</td>\n",
              "      <td>Accord</td>\n",
              "      <td>front</td>\n",
              "    </tr>\n",
              "    <tr>\n",
              "      <th>7</th>\n",
              "      <td>Renault</td>\n",
              "      <td>10500.000</td>\n",
              "      <td>vagon</td>\n",
              "      <td>185.0</td>\n",
              "      <td>1.500000</td>\n",
              "      <td>Diesel</td>\n",
              "      <td>yes</td>\n",
              "      <td>2011</td>\n",
              "      <td>Megane</td>\n",
              "      <td>front</td>\n",
              "    </tr>\n",
              "    <tr>\n",
              "      <th>10</th>\n",
              "      <td>Nissan</td>\n",
              "      <td>20447.154</td>\n",
              "      <td>crossover</td>\n",
              "      <td>129.0</td>\n",
              "      <td>1.200000</td>\n",
              "      <td>Petrol</td>\n",
              "      <td>yes</td>\n",
              "      <td>2016</td>\n",
              "      <td>Qashqai</td>\n",
              "      <td>front</td>\n",
              "    </tr>\n",
              "    <tr>\n",
              "      <th>30</th>\n",
              "      <td>Nissan</td>\n",
              "      <td>13980.000</td>\n",
              "      <td>hatch</td>\n",
              "      <td>31.0</td>\n",
              "      <td>2.148294</td>\n",
              "      <td>Other</td>\n",
              "      <td>yes</td>\n",
              "      <td>2013</td>\n",
              "      <td>Leaf</td>\n",
              "      <td>front</td>\n",
              "    </tr>\n",
              "  </tbody>\n",
              "</table>\n",
              "</div>"
            ],
            "text/plain": [
              "              car      price       body  mileage      engV engType  \\\n",
              "3   Mercedes-Benz  17800.000        van    162.0  1.800000  Diesel   \n",
              "6           Honda   6500.000      sedan    199.0  2.000000  Petrol   \n",
              "7         Renault  10500.000      vagon    185.0  1.500000  Diesel   \n",
              "10         Nissan  20447.154  crossover    129.0  1.200000  Petrol   \n",
              "30         Nissan  13980.000      hatch     31.0  2.148294   Other   \n",
              "\n",
              "   registration  year    model  drive  \n",
              "3           yes  2012    B 180  front  \n",
              "6           yes  2003   Accord  front  \n",
              "7           yes  2011   Megane  front  \n",
              "10          yes  2016  Qashqai  front  \n",
              "30          yes  2013     Leaf  front  "
            ]
          },
          "metadata": {
            "tags": []
          },
          "execution_count": 21
        }
      ]
    },
    {
      "cell_type": "code",
      "metadata": {
        "id": "WdBrsjtBXT8a",
        "colab_type": "code",
        "colab": {},
        "outputId": "edcc7dc5-23de-4dd9-e234-5aefdd9f32cb"
      },
      "source": [
        "# Removing all the columns except the one which is needed\n",
        "cars_drive_front_df.drop(columns=['price','engV','year','engType','registration','model'], inplace=True)\n",
        "cars_drive_front_df.sort_values(by = 'mileage', ascending = False).head()"
      ],
      "execution_count": 0,
      "outputs": [
        {
          "output_type": "execute_result",
          "data": {
            "text/html": [
              "<div>\n",
              "<style scoped>\n",
              "    .dataframe tbody tr th:only-of-type {\n",
              "        vertical-align: middle;\n",
              "    }\n",
              "\n",
              "    .dataframe tbody tr th {\n",
              "        vertical-align: top;\n",
              "    }\n",
              "\n",
              "    .dataframe thead th {\n",
              "        text-align: right;\n",
              "    }\n",
              "</style>\n",
              "<table border=\"1\" class=\"dataframe\">\n",
              "  <thead>\n",
              "    <tr style=\"text-align: right;\">\n",
              "      <th></th>\n",
              "      <th>car</th>\n",
              "      <th>body</th>\n",
              "      <th>mileage</th>\n",
              "      <th>drive</th>\n",
              "    </tr>\n",
              "  </thead>\n",
              "  <tbody>\n",
              "    <tr>\n",
              "      <th>5760</th>\n",
              "      <td>Opel</td>\n",
              "      <td>sedan</td>\n",
              "      <td>398.0</td>\n",
              "      <td>front</td>\n",
              "    </tr>\n",
              "    <tr>\n",
              "      <th>9024</th>\n",
              "      <td>Mercedes-Benz</td>\n",
              "      <td>van</td>\n",
              "      <td>396.0</td>\n",
              "      <td>front</td>\n",
              "    </tr>\n",
              "    <tr>\n",
              "      <th>503</th>\n",
              "      <td>Mercedes-Benz</td>\n",
              "      <td>van</td>\n",
              "      <td>395.0</td>\n",
              "      <td>front</td>\n",
              "    </tr>\n",
              "    <tr>\n",
              "      <th>7807</th>\n",
              "      <td>Opel</td>\n",
              "      <td>vagon</td>\n",
              "      <td>392.0</td>\n",
              "      <td>front</td>\n",
              "    </tr>\n",
              "    <tr>\n",
              "      <th>6491</th>\n",
              "      <td>Audi</td>\n",
              "      <td>sedan</td>\n",
              "      <td>390.0</td>\n",
              "      <td>front</td>\n",
              "    </tr>\n",
              "  </tbody>\n",
              "</table>\n",
              "</div>"
            ],
            "text/plain": [
              "                car   body  mileage  drive\n",
              "5760           Opel  sedan    398.0  front\n",
              "9024  Mercedes-Benz    van    396.0  front\n",
              "503   Mercedes-Benz    van    395.0  front\n",
              "7807           Opel  vagon    392.0  front\n",
              "6491           Audi  sedan    390.0  front"
            ]
          },
          "metadata": {
            "tags": []
          },
          "execution_count": 22
        }
      ]
    },
    {
      "cell_type": "code",
      "metadata": {
        "id": "zZhQAQ05XT8e",
        "colab_type": "code",
        "colab": {},
        "outputId": "e48b596b-3812-408b-af11-dd0caa0d428d"
      },
      "source": [
        "cars_drive_front_df.sort_values(by = 'mileage', ascending = False).head().plot(kind = 'bar', x = 'car', figsize = (8,8), fontsize = 14,cmap = \"coolwarm\")\n",
        "plt.xlabel(\"car\")\n",
        "plt.ylabel(\"Mileage\")"
      ],
      "execution_count": 0,
      "outputs": [
        {
          "output_type": "execute_result",
          "data": {
            "text/plain": [
              "Text(0, 0.5, 'Mileage')"
            ]
          },
          "metadata": {
            "tags": []
          },
          "execution_count": 23
        },
        {
          "output_type": "display_data",
          "data": {
            "image/png": "[encoded data removed]",
            "text/plain": [
              "<Figure size 576x576 with 1 Axes>"
            ]
          },
          "metadata": {
            "tags": [],
            "needs_background": "light"
          }
        }
      ]
    },
    {
      "cell_type": "markdown",
      "metadata": {
        "id": "zDha9odjXT8j",
        "colab_type": "text"
      },
      "source": [
        "- **Opel car has the highest mileage of 398 followd by Mercedes-benz**"
      ]
    },
    {
      "cell_type": "markdown",
      "metadata": {
        "id": "NPVVSgfaXT8l",
        "colab_type": "text"
      },
      "source": [
        "### 6.2 Registered cars "
      ]
    },
    {
      "cell_type": "code",
      "metadata": {
        "scrolled": true,
        "id": "Lq8huoLqXT8m",
        "colab_type": "code",
        "colab": {},
        "outputId": "02b92270-fe12-4cc8-cf20-6438af602cda"
      },
      "source": [
        "# checking the percentage of registered cars\n",
        "cars_df['registration'].value_counts().plot(kind = 'pie',autopct = '%3.1f%%', colormap = 'cividis_r', legend = True,figsize = (6,6),fontsize = 14)\n",
        "plt.ylabel(\"numbers of buyers\")"
      ],
      "execution_count": 0,
      "outputs": [
        {
          "output_type": "execute_result",
          "data": {
            "text/plain": [
              "Text(0, 0.5, 'numbers of buyers')"
            ]
          },
          "metadata": {
            "tags": []
          },
          "execution_count": 24
        },
        {
          "output_type": "display_data",
          "data": {
            "image/png": "[encoded data removed]",
            "text/plain": [
              "<Figure size 432x432 with 1 Axes>"
            ]
          },
          "metadata": {
            "tags": []
          }
        }
      ]
    },
    {
      "cell_type": "markdown",
      "metadata": {
        "id": "DYaERbXYXT8r",
        "colab_type": "text"
      },
      "source": [
        "#### 6.2.1 Analysing not registered cars"
      ]
    },
    {
      "cell_type": "code",
      "metadata": {
        "scrolled": true,
        "id": "PKmcpMboXT8s",
        "colab_type": "code",
        "colab": {},
        "outputId": "08c144fa-f8e6-47bf-891d-ad6e61c57de0"
      },
      "source": [
        "cars_df_notRegistered = cars_df.loc[cars_df['registration'] == 'no']\n",
        "cars_df_notRegistered.car.value_counts().head(10).plot(kind = 'barh',colormap = 'Pastel2_r', figsize = (6,6),fontsize = 12)"
      ],
      "execution_count": 0,
      "outputs": [
        {
          "output_type": "execute_result",
          "data": {
            "text/plain": [
              "<matplotlib.axes._subplots.AxesSubplot at 0x158816067f0>"
            ]
          },
          "metadata": {
            "tags": []
          },
          "execution_count": 25
        },
        {
          "output_type": "display_data",
          "data": {
            "image/png": "[encoded data removed]",
            "text/plain": [
              "<Figure size 432x432 with 1 Axes>"
            ]
          },
          "metadata": {
            "tags": [],
            "needs_background": "light"
          }
        }
      ]
    },
    {
      "cell_type": "markdown",
      "metadata": {
        "id": "H2EoMvceXT8x",
        "colab_type": "text"
      },
      "source": [
        "- **BMW and AUDI are the most unregistered cars**. As they are extremely luxury and costly so seems like they might get stolen frequently"
      ]
    },
    {
      "cell_type": "markdown",
      "metadata": {
        "id": "c09H2wN3XT8y",
        "colab_type": "text"
      },
      "source": [
        "### 6.3 Yearly car sales trend"
      ]
    },
    {
      "cell_type": "code",
      "metadata": {
        "id": "EfsBUXRSXT80",
        "colab_type": "code",
        "colab": {},
        "outputId": "58d25bbf-fd29-4db1-9085-19a660120a54"
      },
      "source": [
        "cars_year_loc = cars_df.loc[cars_df['year'] >= 2000]\n",
        "\n",
        "test = sb.factorplot('year',data = cars_year_loc,aspect=2.5, kind='count',color=\"r\")\n",
        "test.set_xticklabels(rotation=45)"
      ],
      "execution_count": 0,
      "outputs": [
        {
          "output_type": "execute_result",
          "data": {
            "text/plain": [
              "<seaborn.axisgrid.FacetGrid at 0x15881063240>"
            ]
          },
          "metadata": {
            "tags": []
          },
          "execution_count": 26
        },
        {
          "output_type": "display_data",
          "data": {
            "image/png": "[encoded data removed]",
            "text/plain": [
              "<Figure size 900x360 with 1 Axes>"
            ]
          },
          "metadata": {
            "tags": [],
            "needs_background": "light"
          }
        }
      ]
    },
    {
      "cell_type": "markdown",
      "metadata": {
        "id": "UbSPXeJxXT85",
        "colab_type": "text"
      },
      "source": [
        "- When yearly car sales trend has been checked, Maximum cars were sold in year 2008 "
      ]
    },
    {
      "cell_type": "markdown",
      "metadata": {
        "id": "LSVyf5QfXT88",
        "colab_type": "text"
      },
      "source": [
        "### 6.4 The most powerful and fastest car"
      ]
    },
    {
      "cell_type": "code",
      "metadata": {
        "id": "XF6qwaVAXT8-",
        "colab_type": "code",
        "colab": {},
        "outputId": "02062bfa-86c1-452d-f147-1ed808e4bd26"
      },
      "source": [
        "cars_powerful_df = cars_df.sort_values(by = ['mileage','price','engV'],ascending= False)\n",
        "#cars_df.sort_values(by = ['mileage','price','engine capacity'],ascending= False)\n",
        "cars_powerful_df.head(5).plot(kind = 'bar', x = \"car\", y = \"engV\", figsize = (8,8), fontsize = 12)"
      ],
      "execution_count": 0,
      "outputs": [
        {
          "output_type": "execute_result",
          "data": {
            "text/plain": [
              "<matplotlib.axes._subplots.AxesSubplot at 0x1588073f390>"
            ]
          },
          "metadata": {
            "tags": []
          },
          "execution_count": 27
        },
        {
          "output_type": "display_data",
          "data": {
            "image/png": "[encoded data removed]",
            "text/plain": [
              "<Figure size 576x576 with 1 Axes>"
            ]
          },
          "metadata": {
            "tags": [],
            "needs_background": "light"
          }
        }
      ]
    },
    {
      "cell_type": "markdown",
      "metadata": {
        "id": "vhB1vaL1XT9E",
        "colab_type": "text"
      },
      "source": [
        "- The **most powerful car** based on various paramaters like best mileage, best price and best engine capacity, **Mercedes-Benz** gets on the top. "
      ]
    },
    {
      "cell_type": "markdown",
      "metadata": {
        "id": "j0Gyr7xhXT9G",
        "colab_type": "text"
      },
      "source": [
        "### 6.5 Most prefered engine types"
      ]
    },
    {
      "cell_type": "code",
      "metadata": {
        "id": "l3kdnA5SXT9H",
        "colab_type": "code",
        "colab": {},
        "outputId": "03d0e6e8-7c8a-4c47-c12f-16c3feba4a21"
      },
      "source": [
        "cars_df.engType.value_counts().plot(kind = \"pie\", figsize = (8,8),wedgeprops = dict(width = 0.3), fontsize = 12, legend = True)"
      ],
      "execution_count": 0,
      "outputs": [
        {
          "output_type": "execute_result",
          "data": {
            "text/plain": [
              "<matplotlib.axes._subplots.AxesSubplot at 0x158e7c58b00>"
            ]
          },
          "metadata": {
            "tags": []
          },
          "execution_count": 28
        },
        {
          "output_type": "display_data",
          "data": {
            "image/png": "[encoded data removed]",
            "text/plain": [
              "<Figure size 576x576 with 1 Axes>"
            ]
          },
          "metadata": {
            "tags": []
          }
        }
      ]
    },
    {
      "cell_type": "markdown",
      "metadata": {
        "id": "Jk7JddfHXT9M",
        "colab_type": "text"
      },
      "source": [
        "- **Petrol is the most preffered** \n",
        "\n",
        "- Let's take an average of prices of all engine types to get some more insight "
      ]
    },
    {
      "cell_type": "code",
      "metadata": {
        "id": "ByJjjXuAXT9N",
        "colab_type": "code",
        "colab": {},
        "outputId": "eaa0cd2b-51c6-4387-be86-ca0bc29b2c59"
      },
      "source": [
        "price_df = cars_df\n",
        "price_df.groupby(['engType'])['price'].mean().plot(kind='bar', color='blue')"
      ],
      "execution_count": 0,
      "outputs": [
        {
          "output_type": "execute_result",
          "data": {
            "text/plain": [
              "<matplotlib.axes._subplots.AxesSubplot at 0x15880540e10>"
            ]
          },
          "metadata": {
            "tags": []
          },
          "execution_count": 29
        },
        {
          "output_type": "display_data",
          "data": {
            "image/png": "[encoded data removed]",
            "text/plain": [
              "<Figure size 432x288 with 1 Axes>"
            ]
          },
          "metadata": {
            "tags": [],
            "needs_background": "light"
          }
        }
      ]
    },
    {
      "cell_type": "markdown",
      "metadata": {
        "id": "PKcOUNY9XT9S",
        "colab_type": "text"
      },
      "source": [
        "- **Petrol cars are cheaper than Diesel Ones**\n",
        "- Petrol engines tend to be less noisy\n",
        "- COst of registration of petrol car is less than Diesel"
      ]
    },
    {
      "cell_type": "markdown",
      "metadata": {
        "id": "K-lDpHxtXT9T",
        "colab_type": "text"
      },
      "source": [
        "### 6.6 The most expensive car"
      ]
    },
    {
      "cell_type": "code",
      "metadata": {
        "id": "T7FMij_qXT9V",
        "colab_type": "code",
        "colab": {},
        "outputId": "4553078e-ae38-4e79-cbca-ce6e2234f935"
      },
      "source": [
        "# based on the maximum registrations of a particular car model\n",
        "cars_price_df = cars_df.sort_values(by = ['price'], ascending = False)\n",
        "cars_price_df.head(10).plot(kind = 'bar',x = 'model', y = 'price',fontsize = 14,colormap = 'RdYlBu_r')"
      ],
      "execution_count": 0,
      "outputs": [
        {
          "output_type": "execute_result",
          "data": {
            "text/plain": [
              "<matplotlib.axes._subplots.AxesSubplot at 0x158e7c427f0>"
            ]
          },
          "metadata": {
            "tags": []
          },
          "execution_count": 30
        },
        {
          "output_type": "display_data",
          "data": {
            "image/png": "[encoded data removed]",
            "text/plain": [
              "<Figure size 432x288 with 1 Axes>"
            ]
          },
          "metadata": {
            "tags": [],
            "needs_background": "light"
          }
        }
      ]
    },
    {
      "cell_type": "markdown",
      "metadata": {
        "id": "3M8M3CiNXT9a",
        "colab_type": "text"
      },
      "source": [
        "- **Bentley Mulsanne and Bentley Bentayga is the most expensive and luxurious car** of the world "
      ]
    },
    {
      "cell_type": "markdown",
      "metadata": {
        "id": "TVQ9g8HhXT9d",
        "colab_type": "text"
      },
      "source": [
        "### 6.7 Price trend over years"
      ]
    },
    {
      "cell_type": "code",
      "metadata": {
        "id": "tF1WFbjMXT9f",
        "colab_type": "code",
        "colab": {},
        "outputId": "19f3044f-ea64-4776-c474-a08dfa847f10"
      },
      "source": [
        "car_sales_df = cars_df\n",
        "car_sales_df.groupby(['year'])[[\"price\"]].mean().plot(kind = 'bar', fontsize = 10, figsize = (10,5))"
      ],
      "execution_count": 0,
      "outputs": [
        {
          "output_type": "execute_result",
          "data": {
            "text/plain": [
              "<matplotlib.axes._subplots.AxesSubplot at 0x15880048e48>"
            ]
          },
          "metadata": {
            "tags": []
          },
          "execution_count": 31
        },
        {
          "output_type": "display_data",
          "data": {
            "image/png": "[encoded data removed]",
            "text/plain": [
              "<Figure size 720x360 with 1 Axes>"
            ]
          },
          "metadata": {
            "tags": [],
            "needs_background": "light"
          }
        }
      ]
    },
    {
      "cell_type": "markdown",
      "metadata": {
        "id": "p5xlciw4XT9m",
        "colab_type": "text"
      },
      "source": [
        "- After checking the price trend over years, we can analyse that price icreases exponentially with years"
      ]
    },
    {
      "cell_type": "markdown",
      "metadata": {
        "id": "NxM0c40cXT9n",
        "colab_type": "text"
      },
      "source": [
        "## 7. Conclusion"
      ]
    },
    {
      "cell_type": "markdown",
      "metadata": {
        "id": "RKNDDSisXT9o",
        "colab_type": "text"
      },
      "source": [
        "After analysing the above data, it is inferred that \n",
        "\n",
        "* With year, **car price gets increased exponentially** and in future this could go beyond our imaginable ranges\n",
        "* **Majority of people have registered cars** but there are few are non registered cars also. \n",
        "    * **Actionable insight**\n",
        "        * BMW and AUDI tops in this list so company must introduce more safety features \n",
        "* **2008 was the exceptional year which had most of the number of sales in pas 60 years** \n",
        "* **Bentley** leads the **most expensive cars** of the world\n",
        "* Most **economic engine type is Petrol** as Petrol cars are cheaper and registration fee of petrol is also lesser as compared to Diesal engine cars.\n",
        "* When it is about Car Drive Types, **Front Wheel Drive** is most optimal choice and most prefferred one\n",
        "    * In Front Wheen Drive, Opel car has the highest mileage"
      ]
    },
    {
      "cell_type": "code",
      "metadata": {
        "id": "gRpmZ84yXT9p",
        "colab_type": "code",
        "colab": {},
        "outputId": "e816a23d-1749-49dd-d9ca-0915132d43a2"
      },
      "source": [
        "text= cars_df.car.to_string()\n",
        " \n",
        "# Create the wordcloud object\n",
        "wordcloud = WordCloud(width=1000, height=1000, margin=0,scale=9).generate(text)\n",
        " \n",
        "plt.imshow(wordcloud, interpolation='bilinear')\n",
        "plt.axis(\"off\")\n",
        "plt.margins(x=0, y=0)\n",
        "plt.figure( figsize=(1,1))\n",
        "plt.show()"
      ],
      "execution_count": 0,
      "outputs": [
        {
          "output_type": "display_data",
          "data": {
            "image/png": "[encoded data removed]",
            "text/plain": [
              "<Figure size 432x288 with 1 Axes>"
            ]
          },
          "metadata": {
            "tags": [],
            "needs_background": "light"
          }
        },
        {
          "output_type": "display_data",
          "data": {
            "text/plain": [
              "<Figure size 72x72 with 0 Axes>"
            ]
          },
          "metadata": {
            "tags": []
          }
        }
      ]
    }
  ]
}