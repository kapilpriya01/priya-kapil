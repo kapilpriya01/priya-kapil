{
  "nbformat": 4,
  "nbformat_minor": 0,
  "metadata": {
    "colab": {
      "name": "capstone1.ipynb",
      "provenance": [],
      "collapsed_sections": [],
      "machine_shape": "hm"
    },
    "kernelspec": {
      "name": "python3",
      "display_name": "Python 3"
    }
  },
  "cells": [
    {
      "cell_type": "markdown",
      "metadata": {
        "id": "c8XhCPM4E7OB",
        "colab_type": "text"
      },
      "source": [
        "#                                    **CAPSTONE Project by Group 1060**"
      ]
    },
    {
      "cell_type": "markdown",
      "metadata": {
        "id": "NMARSJGZP1HE",
        "colab_type": "text"
      },
      "source": [
        "# **Table of Contents**\n",
        "1. Introduction\n",
        "2. Project Description\n",
        "3. Problem Statement\n",
        "4. Problem Analysis (Strategy for the Problem Statement analysis)\n",
        "5. Sources of Data (Explain about database connection, tables and their columns)\n",
        "6. Summary of Data Mining (What kind of challenges you faced with the Data and how youresolved them?, Summary of your Analysis)\n",
        "7. Proposed Solution for Customers (Describe your Analysis in Detail)\n",
        "8. Conclusion"
      ]
    },
    {
      "cell_type": "markdown",
      "metadata": {
        "id": "9gsO8at6sdc6",
        "colab_type": "text"
      },
      "source": [
        "**Installing My SQL connector package AND PyDrive package**\n",
        "\n",
        "---\n",
        "\n",
        "\n",
        "\n"
      ]
    },
    {
      "cell_type": "code",
      "metadata": {
        "id": "qPqEhEWZoeXw",
        "colab_type": "code",
        "outputId": "92fb5b5c-face-473f-82e1-b75243b102f0",
        "colab": {
          "base_uri": "https://localhost:8080/",
          "height": 1000
        }
      },
      "source": [
        "!pip install mysql-connector-python\n",
        "!pip install -U -q PyDrive\n",
        "!pip install pandas-profiling --upgrade"
      ],
      "execution_count": 0,
      "outputs": [
        {
          "output_type": "stream",
          "text": [
            "Collecting mysql-connector-python\n",
            "\u001b[?25l  Downloading https://files.pythonhosted.org/packages/d8/29/45c72a2292011816aab7f73e778872e79573a2ecc897592f7119ed802a82/mysql_connector_python-8.0.19-cp36-cp36m-manylinux1_x86_64.whl (14.7MB)\n",
            "\u001b[K     |████████████████████████████████| 14.7MB 253kB/s \n",
            "\u001b[?25hCollecting dnspython==1.16.0\n",
            "\u001b[?25l  Downloading https://files.pythonhosted.org/packages/ec/d3/3aa0e7213ef72b8585747aa0e271a9523e713813b9a20177ebe1e939deb0/dnspython-1.16.0-py2.py3-none-any.whl (188kB)\n",
            "\u001b[K     |████████████████████████████████| 194kB 47.9MB/s \n",
            "\u001b[?25hCollecting protobuf==3.6.1\n",
            "\u001b[?25l  Downloading https://files.pythonhosted.org/packages/c2/f9/28787754923612ca9bfdffc588daa05580ed70698add063a5629d1a4209d/protobuf-3.6.1-cp36-cp36m-manylinux1_x86_64.whl (1.1MB)\n",
            "\u001b[K     |████████████████████████████████| 1.1MB 45.2MB/s \n",
            "\u001b[?25hRequirement already satisfied: six>=1.9 in /usr/local/lib/python3.6/dist-packages (from protobuf==3.6.1->mysql-connector-python) (1.12.0)\n",
            "Requirement already satisfied: setuptools in /usr/local/lib/python3.6/dist-packages (from protobuf==3.6.1->mysql-connector-python) (46.0.0)\n",
            "\u001b[31mERROR: tensorflow-metadata 0.21.1 has requirement protobuf<4,>=3.7, but you'll have protobuf 3.6.1 which is incompatible.\u001b[0m\n",
            "\u001b[31mERROR: tensorflow-federated 0.12.0 has requirement tensorflow~=2.1.0, but you'll have tensorflow 1.15.0 which is incompatible.\u001b[0m\n",
            "\u001b[31mERROR: tensorflow-federated 0.12.0 has requirement tensorflow-addons~=0.7.0, but you'll have tensorflow-addons 0.8.3 which is incompatible.\u001b[0m\n",
            "Installing collected packages: dnspython, protobuf, mysql-connector-python\n",
            "  Found existing installation: protobuf 3.10.0\n",
            "    Uninstalling protobuf-3.10.0:\n",
            "      Successfully uninstalled protobuf-3.10.0\n",
            "Successfully installed dnspython-1.16.0 mysql-connector-python-8.0.19 protobuf-3.6.1\n"
          ],
          "name": "stdout"
        },
        {
          "output_type": "display_data",
          "data": {
            "application/vnd.colab-display-data+json": {
              "pip_warning": {
                "packages": [
                  "google"
                ]
              }
            }
          },
          "metadata": {
            "tags": []
          }
        },
        {
          "output_type": "stream",
          "text": [
            "Collecting pandas-profiling\n",
            "\u001b[?25l  Downloading https://files.pythonhosted.org/packages/e8/b0/bd5e3aaf37302fbe581b6947dc5ec1cda02a0ffe50fc823123def73e4d7a/pandas-profiling-2.5.0.tar.gz (192kB)\n",
            "\r\u001b[K     |█▊                              | 10kB 14.7MB/s eta 0:00:01\r\u001b[K     |███▍                            | 20kB 1.7MB/s eta 0:00:01\r\u001b[K     |█████                           | 30kB 2.3MB/s eta 0:00:01\r\u001b[K     |██████▉                         | 40kB 1.7MB/s eta 0:00:01\r\u001b[K     |████████▌                       | 51kB 1.9MB/s eta 0:00:01\r\u001b[K     |██████████▏                     | 61kB 2.3MB/s eta 0:00:01\r\u001b[K     |████████████                    | 71kB 2.4MB/s eta 0:00:01\r\u001b[K     |█████████████▋                  | 81kB 2.6MB/s eta 0:00:01\r\u001b[K     |███████████████▎                | 92kB 2.9MB/s eta 0:00:01\r\u001b[K     |█████████████████               | 102kB 2.7MB/s eta 0:00:01\r\u001b[K     |██████████████████▊             | 112kB 2.7MB/s eta 0:00:01\r\u001b[K     |████████████████████▍           | 122kB 2.7MB/s eta 0:00:01\r\u001b[K     |██████████████████████▏         | 133kB 2.7MB/s eta 0:00:01\r\u001b[K     |███████████████████████▉        | 143kB 2.7MB/s eta 0:00:01\r\u001b[K     |█████████████████████████▌      | 153kB 2.7MB/s eta 0:00:01\r\u001b[K     |███████████████████████████▎    | 163kB 2.7MB/s eta 0:00:01\r\u001b[K     |█████████████████████████████   | 174kB 2.7MB/s eta 0:00:01\r\u001b[K     |██████████████████████████████▋ | 184kB 2.7MB/s eta 0:00:01\r\u001b[K     |████████████████████████████████| 194kB 2.7MB/s \n",
            "\u001b[?25hRequirement already satisfied, skipping upgrade: numpy>=1.16.0 in /usr/local/lib/python3.6/dist-packages (from pandas-profiling) (1.18.2)\n",
            "Requirement already satisfied, skipping upgrade: scipy>=1.4.1 in /usr/local/lib/python3.6/dist-packages (from pandas-profiling) (1.4.1)\n",
            "Requirement already satisfied, skipping upgrade: pandas==0.25.3 in /usr/local/lib/python3.6/dist-packages (from pandas-profiling) (0.25.3)\n",
            "Requirement already satisfied, skipping upgrade: matplotlib>=3.0.3 in /usr/local/lib/python3.6/dist-packages (from pandas-profiling) (3.2.0)\n",
            "Collecting confuse==1.0.0\n",
            "  Downloading https://files.pythonhosted.org/packages/4c/6f/90e860cba937c174d8b3775729ccc6377eb91f52ad4eeb008e7252a3646d/confuse-1.0.0.tar.gz\n",
            "Requirement already satisfied, skipping upgrade: jinja2==2.11.1 in /usr/local/lib/python3.6/dist-packages (from pandas-profiling) (2.11.1)\n",
            "Collecting visions==0.2.2\n",
            "  Downloading https://files.pythonhosted.org/packages/07/4a/ab37f8bafda516b66c4f475b221a6c170097c0db203750a4aafb01023339/visions-0.2.2.tar.gz\n",
            "Collecting htmlmin==0.1.12\n",
            "  Downloading https://files.pythonhosted.org/packages/b3/e7/fcd59e12169de19f0131ff2812077f964c6b960e7c09804d30a7bf2ab461/htmlmin-0.1.12.tar.gz\n",
            "Requirement already satisfied, skipping upgrade: missingno==0.4.2 in /usr/local/lib/python3.6/dist-packages (from pandas-profiling) (0.4.2)\n",
            "Collecting phik==0.9.9\n",
            "\u001b[?25l  Downloading https://files.pythonhosted.org/packages/03/cf/b8cef2778104dc5d319f36dd836efaceb07a037cbf63f27c966b5a193ce9/phik-0.9.9-py3-none-any.whl (607kB)\n",
            "\u001b[K     |████████████████████████████████| 614kB 8.0MB/s \n",
            "\u001b[?25hRequirement already satisfied, skipping upgrade: astropy>=3.2.3 in /usr/local/lib/python3.6/dist-packages (from pandas-profiling) (4.0)\n",
            "Collecting tangled-up-in-unicode==0.0.3\n",
            "\u001b[?25l  Downloading https://files.pythonhosted.org/packages/43/fc/e3c970c5007b405827a4623e70fc4eb966ee49bc1edbd56c33e85e1c6534/tangled_up_in_unicode-0.0.3.tar.gz (1.5MB)\n",
            "\u001b[K     |████████████████████████████████| 1.5MB 13.4MB/s \n",
            "\u001b[?25hCollecting tqdm==4.42.0\n",
            "\u001b[?25l  Downloading https://files.pythonhosted.org/packages/cc/2e/4307206db63f05ed37e21d4c0d843d0fbcacd62479f8ce99ba0f2c0875e0/tqdm-4.42.0-py2.py3-none-any.whl (59kB)\n",
            "\u001b[K     |████████████████████████████████| 61kB 8.1MB/s \n",
            "\u001b[?25hRequirement already satisfied, skipping upgrade: kaggle==1.5.6 in /usr/local/lib/python3.6/dist-packages (from pandas-profiling) (1.5.6)\n",
            "Requirement already satisfied, skipping upgrade: ipywidgets==7.5.1 in /usr/local/lib/python3.6/dist-packages (from pandas-profiling) (7.5.1)\n",
            "Collecting requests==2.22.0\n",
            "\u001b[?25l  Downloading https://files.pythonhosted.org/packages/51/bd/23c926cd341ea6b7dd0b2a00aba99ae0f828be89d72b2190f27c11d4b7fb/requests-2.22.0-py2.py3-none-any.whl (57kB)\n",
            "\u001b[K     |████████████████████████████████| 61kB 8.9MB/s \n",
            "\u001b[?25hRequirement already satisfied, skipping upgrade: pytz>=2017.2 in /usr/local/lib/python3.6/dist-packages (from pandas==0.25.3->pandas-profiling) (2018.9)\n",
            "Requirement already satisfied, skipping upgrade: python-dateutil>=2.6.1 in /usr/local/lib/python3.6/dist-packages (from pandas==0.25.3->pandas-profiling) (2.8.1)\n",
            "Requirement already satisfied, skipping upgrade: pyparsing!=2.0.4,!=2.1.2,!=2.1.6,>=2.0.1 in /usr/local/lib/python3.6/dist-packages (from matplotlib>=3.0.3->pandas-profiling) (2.4.6)\n",
            "Requirement already satisfied, skipping upgrade: kiwisolver>=1.0.1 in /usr/local/lib/python3.6/dist-packages (from matplotlib>=3.0.3->pandas-profiling) (1.1.0)\n",
            "Requirement already satisfied, skipping upgrade: cycler>=0.10 in /usr/local/lib/python3.6/dist-packages (from matplotlib>=3.0.3->pandas-profiling) (0.10.0)\n",
            "Requirement already satisfied, skipping upgrade: pyyaml in /usr/local/lib/python3.6/dist-packages (from confuse==1.0.0->pandas-profiling) (3.13)\n",
            "Requirement already satisfied, skipping upgrade: MarkupSafe>=0.23 in /usr/local/lib/python3.6/dist-packages (from jinja2==2.11.1->pandas-profiling) (1.1.1)\n",
            "Requirement already satisfied, skipping upgrade: networkx in /usr/local/lib/python3.6/dist-packages (from visions==0.2.2->pandas-profiling) (2.4)\n",
            "Collecting attr\n",
            "  Downloading https://files.pythonhosted.org/packages/de/be/ddc7f84d4e087144472a38a373d3e319f51a6faf6e5fc1ae897173675f21/attr-0.3.1.tar.gz\n",
            "Requirement already satisfied, skipping upgrade: seaborn in /usr/local/lib/python3.6/dist-packages (from missingno==0.4.2->pandas-profiling) (0.10.0)\n",
            "Requirement already satisfied, skipping upgrade: jupyter-client>=5.2.3 in /usr/local/lib/python3.6/dist-packages (from phik==0.9.9->pandas-profiling) (5.3.4)\n",
            "Requirement already satisfied, skipping upgrade: numba>=0.38.1 in /usr/local/lib/python3.6/dist-packages (from phik==0.9.9->pandas-profiling) (0.47.0)\n",
            "Collecting pytest-pylint>=0.13.0\n",
            "  Downloading https://files.pythonhosted.org/packages/31/ef/e848f832a596a8a40b32d8aa169788b4df167c2d6a5960c01e83a30ebaa7/pytest_pylint-0.15.1-py3-none-any.whl\n",
            "Requirement already satisfied, skipping upgrade: joblib>=0.14.1 in /usr/local/lib/python3.6/dist-packages (from phik==0.9.9->pandas-profiling) (0.14.1)\n",
            "Collecting pytest>=4.0.2\n",
            "\u001b[?25l  Downloading https://files.pythonhosted.org/packages/c7/e2/c19c667f42f72716a7d03e8dd4d6f63f47d39feadd44cc1ee7ca3089862c/pytest-5.4.1-py3-none-any.whl (246kB)\n",
            "\u001b[K     |████████████████████████████████| 256kB 20.3MB/s \n",
            "\u001b[?25hRequirement already satisfied, skipping upgrade: nbconvert>=5.3.1 in /usr/local/lib/python3.6/dist-packages (from phik==0.9.9->pandas-profiling) (5.6.1)\n",
            "Requirement already satisfied, skipping upgrade: six>=1.10 in /usr/local/lib/python3.6/dist-packages (from kaggle==1.5.6->pandas-profiling) (1.12.0)\n",
            "Requirement already satisfied, skipping upgrade: urllib3<1.25,>=1.21.1 in /usr/local/lib/python3.6/dist-packages (from kaggle==1.5.6->pandas-profiling) (1.24.3)\n",
            "Requirement already satisfied, skipping upgrade: certifi in /usr/local/lib/python3.6/dist-packages (from kaggle==1.5.6->pandas-profiling) (2019.11.28)\n",
            "Requirement already satisfied, skipping upgrade: python-slugify in /usr/local/lib/python3.6/dist-packages (from kaggle==1.5.6->pandas-profiling) (4.0.0)\n",
            "Requirement already satisfied, skipping upgrade: nbformat>=4.2.0 in /usr/local/lib/python3.6/dist-packages (from ipywidgets==7.5.1->pandas-profiling) (5.0.4)\n",
            "Requirement already satisfied, skipping upgrade: ipython>=4.0.0; python_version >= \"3.3\" in /usr/local/lib/python3.6/dist-packages (from ipywidgets==7.5.1->pandas-profiling) (5.5.0)\n",
            "Requirement already satisfied, skipping upgrade: widgetsnbextension~=3.5.0 in /usr/local/lib/python3.6/dist-packages (from ipywidgets==7.5.1->pandas-profiling) (3.5.1)\n",
            "Requirement already satisfied, skipping upgrade: ipykernel>=4.5.1 in /usr/local/lib/python3.6/dist-packages (from ipywidgets==7.5.1->pandas-profiling) (4.6.1)\n",
            "Requirement already satisfied, skipping upgrade: traitlets>=4.3.1 in /usr/local/lib/python3.6/dist-packages (from ipywidgets==7.5.1->pandas-profiling) (4.3.3)\n",
            "Requirement already satisfied, skipping upgrade: chardet<3.1.0,>=3.0.2 in /usr/local/lib/python3.6/dist-packages (from requests==2.22.0->pandas-profiling) (3.0.4)\n",
            "Requirement already satisfied, skipping upgrade: idna<2.9,>=2.5 in /usr/local/lib/python3.6/dist-packages (from requests==2.22.0->pandas-profiling) (2.8)\n",
            "Requirement already satisfied, skipping upgrade: setuptools in /usr/local/lib/python3.6/dist-packages (from kiwisolver>=1.0.1->matplotlib>=3.0.3->pandas-profiling) (46.0.0)\n",
            "Requirement already satisfied, skipping upgrade: decorator>=4.3.0 in /usr/local/lib/python3.6/dist-packages (from networkx->visions==0.2.2->pandas-profiling) (4.4.2)\n",
            "Requirement already satisfied, skipping upgrade: pyzmq>=13 in /usr/local/lib/python3.6/dist-packages (from jupyter-client>=5.2.3->phik==0.9.9->pandas-profiling) (17.0.0)\n",
            "Requirement already satisfied, skipping upgrade: tornado>=4.1 in /usr/local/lib/python3.6/dist-packages (from jupyter-client>=5.2.3->phik==0.9.9->pandas-profiling) (4.5.3)\n",
            "Requirement already satisfied, skipping upgrade: jupyter-core>=4.6.0 in /usr/local/lib/python3.6/dist-packages (from jupyter-client>=5.2.3->phik==0.9.9->pandas-profiling) (4.6.3)\n",
            "Requirement already satisfied, skipping upgrade: llvmlite>=0.31.0dev0 in /usr/local/lib/python3.6/dist-packages (from numba>=0.38.1->phik==0.9.9->pandas-profiling) (0.31.0)\n",
            "Collecting pylint>=2.0.0\n",
            "\u001b[?25l  Downloading https://files.pythonhosted.org/packages/e9/59/43fc36c5ee316bb9aeb7cf5329cdbdca89e5749c34d5602753827c0aa2dc/pylint-2.4.4-py3-none-any.whl (302kB)\n",
            "\u001b[K     |████████████████████████████████| 307kB 21.8MB/s \n",
            "\u001b[?25hRequirement already satisfied, skipping upgrade: py>=1.5.0 in /usr/local/lib/python3.6/dist-packages (from pytest>=4.0.2->phik==0.9.9->pandas-profiling) (1.8.1)\n",
            "Requirement already satisfied, skipping upgrade: wcwidth in /usr/local/lib/python3.6/dist-packages (from pytest>=4.0.2->phik==0.9.9->pandas-profiling) (0.1.8)\n",
            "Requirement already satisfied, skipping upgrade: importlib-metadata>=0.12; python_version < \"3.8\" in /usr/local/lib/python3.6/dist-packages (from pytest>=4.0.2->phik==0.9.9->pandas-profiling) (1.5.0)\n",
            "Requirement already satisfied, skipping upgrade: more-itertools>=4.0.0 in /usr/local/lib/python3.6/dist-packages (from pytest>=4.0.2->phik==0.9.9->pandas-profiling) (8.2.0)\n",
            "Collecting pluggy<1.0,>=0.12\n",
            "  Downloading https://files.pythonhosted.org/packages/a0/28/85c7aa31b80d150b772fbe4a229487bc6644da9ccb7e427dd8cc60cb8a62/pluggy-0.13.1-py2.py3-none-any.whl\n",
            "Requirement already satisfied, skipping upgrade: packaging in /usr/local/lib/python3.6/dist-packages (from pytest>=4.0.2->phik==0.9.9->pandas-profiling) (20.3)\n",
            "Requirement already satisfied, skipping upgrade: attrs>=17.4.0 in /usr/local/lib/python3.6/dist-packages (from pytest>=4.0.2->phik==0.9.9->pandas-profiling) (19.3.0)\n",
            "Requirement already satisfied, skipping upgrade: defusedxml in /usr/local/lib/python3.6/dist-packages (from nbconvert>=5.3.1->phik==0.9.9->pandas-profiling) (0.6.0)\n",
            "Requirement already satisfied, skipping upgrade: pandocfilters>=1.4.1 in /usr/local/lib/python3.6/dist-packages (from nbconvert>=5.3.1->phik==0.9.9->pandas-profiling) (1.4.2)\n",
            "Requirement already satisfied, skipping upgrade: entrypoints>=0.2.2 in /usr/local/lib/python3.6/dist-packages (from nbconvert>=5.3.1->phik==0.9.9->pandas-profiling) (0.3)\n",
            "Requirement already satisfied, skipping upgrade: pygments in /usr/local/lib/python3.6/dist-packages (from nbconvert>=5.3.1->phik==0.9.9->pandas-profiling) (2.1.3)\n",
            "Requirement already satisfied, skipping upgrade: mistune<2,>=0.8.1 in /usr/local/lib/python3.6/dist-packages (from nbconvert>=5.3.1->phik==0.9.9->pandas-profiling) (0.8.4)\n",
            "Requirement already satisfied, skipping upgrade: testpath in /usr/local/lib/python3.6/dist-packages (from nbconvert>=5.3.1->phik==0.9.9->pandas-profiling) (0.4.4)\n",
            "Requirement already satisfied, skipping upgrade: bleach in /usr/local/lib/python3.6/dist-packages (from nbconvert>=5.3.1->phik==0.9.9->pandas-profiling) (3.1.3)\n",
            "Requirement already satisfied, skipping upgrade: text-unidecode>=1.3 in /usr/local/lib/python3.6/dist-packages (from python-slugify->kaggle==1.5.6->pandas-profiling) (1.3)\n",
            "Requirement already satisfied, skipping upgrade: ipython-genutils in /usr/local/lib/python3.6/dist-packages (from nbformat>=4.2.0->ipywidgets==7.5.1->pandas-profiling) (0.2.0)\n",
            "Requirement already satisfied, skipping upgrade: jsonschema!=2.5.0,>=2.4 in /usr/local/lib/python3.6/dist-packages (from nbformat>=4.2.0->ipywidgets==7.5.1->pandas-profiling) (2.6.0)\n",
            "Requirement already satisfied, skipping upgrade: prompt-toolkit<2.0.0,>=1.0.4 in /usr/local/lib/python3.6/dist-packages (from ipython>=4.0.0; python_version >= \"3.3\"->ipywidgets==7.5.1->pandas-profiling) (1.0.18)\n",
            "Requirement already satisfied, skipping upgrade: simplegeneric>0.8 in /usr/local/lib/python3.6/dist-packages (from ipython>=4.0.0; python_version >= \"3.3\"->ipywidgets==7.5.1->pandas-profiling) (0.8.1)\n",
            "Requirement already satisfied, skipping upgrade: pickleshare in /usr/local/lib/python3.6/dist-packages (from ipython>=4.0.0; python_version >= \"3.3\"->ipywidgets==7.5.1->pandas-profiling) (0.7.5)\n",
            "Requirement already satisfied, skipping upgrade: pexpect; sys_platform != \"win32\" in /usr/local/lib/python3.6/dist-packages (from ipython>=4.0.0; python_version >= \"3.3\"->ipywidgets==7.5.1->pandas-profiling) (4.8.0)\n",
            "Requirement already satisfied, skipping upgrade: notebook>=4.4.1 in /usr/local/lib/python3.6/dist-packages (from widgetsnbextension~=3.5.0->ipywidgets==7.5.1->pandas-profiling) (5.2.2)\n",
            "Collecting astroid<2.4,>=2.3.0\n",
            "\u001b[?25l  Downloading https://files.pythonhosted.org/packages/ad/ae/86734823047962e7b8c8529186a1ac4a7ca19aaf1aa0c7713c022ef593fd/astroid-2.3.3-py3-none-any.whl (205kB)\n",
            "\u001b[K     |████████████████████████████████| 215kB 23.4MB/s \n",
            "\u001b[?25hCollecting mccabe<0.7,>=0.6\n",
            "  Downloading https://files.pythonhosted.org/packages/87/89/479dc97e18549e21354893e4ee4ef36db1d237534982482c3681ee6e7b57/mccabe-0.6.1-py2.py3-none-any.whl\n",
            "Collecting isort<5,>=4.2.5\n",
            "\u001b[?25l  Downloading https://files.pythonhosted.org/packages/e5/b0/c121fd1fa3419ea9bfd55c7f9c4fedfec5143208d8c7ad3ce3db6c623c21/isort-4.3.21-py2.py3-none-any.whl (42kB)\n",
            "\u001b[K     |████████████████████████████████| 51kB 8.3MB/s \n",
            "\u001b[?25hRequirement already satisfied, skipping upgrade: zipp>=0.5 in /usr/local/lib/python3.6/dist-packages (from importlib-metadata>=0.12; python_version < \"3.8\"->pytest>=4.0.2->phik==0.9.9->pandas-profiling) (3.1.0)\n",
            "Requirement already satisfied, skipping upgrade: webencodings in /usr/local/lib/python3.6/dist-packages (from bleach->nbconvert>=5.3.1->phik==0.9.9->pandas-profiling) (0.5.1)\n",
            "Requirement already satisfied, skipping upgrade: ptyprocess>=0.5 in /usr/local/lib/python3.6/dist-packages (from pexpect; sys_platform != \"win32\"->ipython>=4.0.0; python_version >= \"3.3\"->ipywidgets==7.5.1->pandas-profiling) (0.6.0)\n",
            "Requirement already satisfied, skipping upgrade: terminado>=0.3.3; sys_platform != \"win32\" in /usr/local/lib/python3.6/dist-packages (from notebook>=4.4.1->widgetsnbextension~=3.5.0->ipywidgets==7.5.1->pandas-profiling) (0.8.3)\n",
            "Collecting wrapt==1.11.*\n",
            "  Downloading https://files.pythonhosted.org/packages/23/84/323c2415280bc4fc880ac5050dddfb3c8062c2552b34c2e512eb4aa68f79/wrapt-1.11.2.tar.gz\n",
            "Collecting lazy-object-proxy==1.4.*\n",
            "\u001b[?25l  Downloading https://files.pythonhosted.org/packages/0b/dd/b1e3407e9e6913cf178e506cd0dee818e58694d9a5cd1984e3f6a8b9a10f/lazy_object_proxy-1.4.3-cp36-cp36m-manylinux1_x86_64.whl (55kB)\n",
            "\u001b[K     |████████████████████████████████| 61kB 8.3MB/s \n",
            "\u001b[?25hCollecting typed-ast<1.5,>=1.4.0; implementation_name == \"cpython\" and python_version < \"3.8\"\n",
            "\u001b[?25l  Downloading https://files.pythonhosted.org/packages/90/ed/5459080d95eb87a02fe860d447197be63b6e2b5e9ff73c2b0a85622994f4/typed_ast-1.4.1-cp36-cp36m-manylinux1_x86_64.whl (737kB)\n",
            "\u001b[K     |████████████████████████████████| 747kB 21.4MB/s \n",
            "\u001b[?25hBuilding wheels for collected packages: pandas-profiling, confuse, visions, htmlmin, tangled-up-in-unicode, attr, wrapt\n",
            "  Building wheel for pandas-profiling (setup.py) ... \u001b[?25l\u001b[?25hdone\n",
            "  Created wheel for pandas-profiling: filename=pandas_profiling-2.5.0-py2.py3-none-any.whl size=241329 sha256=a26bc31c94932d8213cf6230e34729414ee3f8069b4a3bee0d99b928c9cacb17\n",
            "  Stored in directory: /root/.cache/pip/wheels/9b/c9/f1/4a2f30c760e017f3e2f46be999c4597a93d126ef5ea38e276f\n",
            "  Building wheel for confuse (setup.py) ... \u001b[?25l\u001b[?25hdone\n",
            "  Created wheel for confuse: filename=confuse-1.0.0-cp36-none-any.whl size=17487 sha256=614133f6b5e57535baa3d248a35771f5f1e482432474ee1389c2b80375472b8c\n",
            "  Stored in directory: /root/.cache/pip/wheels/b0/b2/96/2074eee7dbf7b7df69d004c9b6ac4e32dad04fb7666cf943bd\n",
            "  Building wheel for visions (setup.py) ... \u001b[?25l\u001b[?25hdone\n",
            "  Created wheel for visions: filename=visions-0.2.2-cp36-none-any.whl size=53058 sha256=e1dc82fe0274ae36d6cca726474bdcff3318bcb2ffbef71318e30e3a252102f5\n",
            "  Stored in directory: /root/.cache/pip/wheels/53/87/68/294a9e88d82e395b38571df18f7cb71e9ab51cedae77dd6f31\n",
            "  Building wheel for htmlmin (setup.py) ... \u001b[?25l\u001b[?25hdone\n",
            "  Created wheel for htmlmin: filename=htmlmin-0.1.12-cp36-none-any.whl size=27084 sha256=6b38e54ece0b807621e895848e11872222cec0df8ab38640baa336d6a76122be\n",
            "  Stored in directory: /root/.cache/pip/wheels/43/07/ac/7c5a9d708d65247ac1f94066cf1db075540b85716c30255459\n",
            "  Building wheel for tangled-up-in-unicode (setup.py) ... \u001b[?25l\u001b[?25hdone\n",
            "  Created wheel for tangled-up-in-unicode: filename=tangled_up_in_unicode-0.0.3-cp36-none-any.whl size=1554154 sha256=7b2a99ad93946d2ddbfe114ae90a953f9d17756bde4e595d89aea6d13066e7b3\n",
            "  Stored in directory: /root/.cache/pip/wheels/c4/57/cc/5f58206efb00418d4dcae8d08a3cb40627778ea29622f664c6\n",
            "  Building wheel for attr (setup.py) ... \u001b[?25l\u001b[?25hdone\n",
            "  Created wheel for attr: filename=attr-0.3.1-cp36-none-any.whl size=2459 sha256=7c25fbb5b34c5ecc1dce9ef33431bbd78ec83bacefffa8b109855a6b616ffb1b\n",
            "  Stored in directory: /root/.cache/pip/wheels/f0/96/9b/1f8892a707d17095b5a6eab0275da9d39e68e03a26aee2e726\n",
            "  Building wheel for wrapt (setup.py) ... \u001b[?25l\u001b[?25hdone\n",
            "  Created wheel for wrapt: filename=wrapt-1.11.2-cp36-cp36m-linux_x86_64.whl size=67519 sha256=12b47dda43d7ec0e4212a70dd5c55f569cdef1fb0a35b1052f03b86106cbfe9d\n",
            "  Stored in directory: /root/.cache/pip/wheels/d7/de/2e/efa132238792efb6459a96e85916ef8597fcb3d2ae51590dfd\n",
            "Successfully built pandas-profiling confuse visions htmlmin tangled-up-in-unicode attr wrapt\n",
            "\u001b[31mERROR: tensorflow-federated 0.12.0 has requirement tensorflow~=2.1.0, but you'll have tensorflow 1.15.0 which is incompatible.\u001b[0m\n",
            "\u001b[31mERROR: tensorflow-federated 0.12.0 has requirement tensorflow-addons~=0.7.0, but you'll have tensorflow-addons 0.8.3 which is incompatible.\u001b[0m\n",
            "\u001b[31mERROR: google-colab 1.0.0 has requirement requests~=2.21.0, but you'll have requests 2.22.0 which is incompatible.\u001b[0m\n",
            "\u001b[31mERROR: datascience 0.10.6 has requirement folium==0.2.1, but you'll have folium 0.8.3 which is incompatible.\u001b[0m\n",
            "Installing collected packages: confuse, tangled-up-in-unicode, attr, visions, htmlmin, pluggy, pytest, wrapt, lazy-object-proxy, typed-ast, astroid, mccabe, isort, pylint, pytest-pylint, phik, tqdm, requests, pandas-profiling\n",
            "  Found existing installation: pluggy 0.7.1\n",
            "    Uninstalling pluggy-0.7.1:\n",
            "      Successfully uninstalled pluggy-0.7.1\n",
            "  Found existing installation: pytest 3.6.4\n",
            "    Uninstalling pytest-3.6.4:\n",
            "      Successfully uninstalled pytest-3.6.4\n",
            "  Found existing installation: wrapt 1.12.1\n",
            "    Uninstalling wrapt-1.12.1:\n",
            "      Successfully uninstalled wrapt-1.12.1\n",
            "  Found existing installation: tqdm 4.38.0\n",
            "    Uninstalling tqdm-4.38.0:\n",
            "      Successfully uninstalled tqdm-4.38.0\n",
            "  Found existing installation: requests 2.21.0\n",
            "    Uninstalling requests-2.21.0:\n",
            "      Successfully uninstalled requests-2.21.0\n",
            "  Found existing installation: pandas-profiling 1.4.1\n",
            "    Uninstalling pandas-profiling-1.4.1:\n",
            "      Successfully uninstalled pandas-profiling-1.4.1\n",
            "Successfully installed astroid-2.3.3 attr-0.3.1 confuse-1.0.0 htmlmin-0.1.12 isort-4.3.21 lazy-object-proxy-1.4.3 mccabe-0.6.1 pandas-profiling-2.5.0 phik-0.9.9 pluggy-0.13.1 pylint-2.4.4 pytest-5.4.1 pytest-pylint-0.15.1 requests-2.22.0 tangled-up-in-unicode-0.0.3 tqdm-4.42.0 typed-ast-1.4.1 visions-0.2.2 wrapt-1.11.2\n"
          ],
          "name": "stdout"
        },
        {
          "output_type": "display_data",
          "data": {
            "application/vnd.colab-display-data+json": {
              "pip_warning": {
                "packages": [
                  "requests",
                  "tqdm"
                ]
              }
            }
          },
          "metadata": {
            "tags": []
          }
        }
      ]
    },
    {
      "cell_type": "markdown",
      "metadata": {
        "id": "qfIVIX2XsmdH",
        "colab_type": "text"
      },
      "source": [
        "[link text](https://)**Importing all required Package**"
      ]
    },
    {
      "cell_type": "code",
      "metadata": {
        "id": "9duzDWk3uSbZ",
        "colab_type": "code",
        "outputId": "c7b397f0-71b1-4f95-e24b-842eef604cc5",
        "colab": {
          "base_uri": "https://localhost:8080/",
          "height": 17
        }
      },
      "source": [
        "import numpy as np\n",
        "import pandas as pd\n",
        "import matplotlib.pyplot as plt\n",
        "%matplotlib inline\n",
        "import seaborn as sns\n",
        "import pandas_profiling\n",
        "\n",
        "import plotly.offline as py\n",
        "import plotly.graph_objs as go\n",
        "from plotly.offline import init_notebook_mode\n",
        "init_notebook_mode(connected=True)\n",
        "from plotly import tools\n",
        "\n",
        "#importing Google Drive packages\n",
        "from pydrive.auth import GoogleAuth\n",
        "from pydrive.drive import GoogleDrive\n",
        "from google.colab import auth\n",
        "from google.colab import drive\n",
        "from oauth2client.client import GoogleCredentials\n",
        "\n",
        "#importing mysql connector\n",
        "import mysql.connector as ms\n",
        "\n",
        "#importing folium related packages\n",
        "import folium\n",
        "from folium import plugins \n",
        "\n",
        "import warnings\n",
        "warnings.filterwarnings(\"ignore\")\n",
        "warnings.filterwarnings(\"ignore\",category=DeprecationWarning)"
      ],
      "execution_count": 0,
      "outputs": [
        {
          "output_type": "display_data",
          "data": {
            "text/html": [
              "        <script type=\"text/javascript\">\n",
              "        window.PlotlyConfig = {MathJaxConfig: 'local'};\n",
              "        if (window.MathJax) {MathJax.Hub.Config({SVG: {font: \"STIX-Web\"}});}\n",
              "        if (typeof require !== 'undefined') {\n",
              "        require.undef(\"plotly\");\n",
              "        requirejs.config({\n",
              "            paths: {\n",
              "                'plotly': ['https://cdn.plot.ly/plotly-latest.min']\n",
              "            }\n",
              "        });\n",
              "        require(['plotly'], function(Plotly) {\n",
              "            window._Plotly = Plotly;\n",
              "        });\n",
              "        }\n",
              "        </script>\n",
              "        "
            ]
          },
          "metadata": {
            "tags": []
          }
        }
      ]
    },
    {
      "cell_type": "markdown",
      "metadata": {
        "id": "lkmq_SXe6-Q-",
        "colab_type": "text"
      },
      "source": [
        "**Mounting Google Drive to Read Event Data .csv file 'event_data.csv'**"
      ]
    },
    {
      "cell_type": "code",
      "metadata": {
        "id": "w5B4jwEi6NAQ",
        "colab_type": "code",
        "outputId": "5e1132c5-3935-46c7-c95c-7e0d1d6a187d",
        "colab": {
          "base_uri": "https://localhost:8080/",
          "height": 122
        }
      },
      "source": [
        "drive.mount('/content/drive')\n",
        "# Authenticate and create the PyDrive client.\n",
        "auth.authenticate_user()\n",
        "gauth = GoogleAuth()\n",
        "gauth.credentials = GoogleCredentials.get_application_default()\n",
        "drive = GoogleDrive(gauth)"
      ],
      "execution_count": 0,
      "outputs": [
        {
          "output_type": "stream",
          "text": [
            "Go to this URL in a browser: https://accounts.google.com/o/oauth2/auth?client_id=947318989803-6bn6qk8qdgf4n4g3pfee6491hc0brc4i.apps.googleusercontent.com&redirect_uri=urn%3aietf%3awg%3aoauth%3a2.0%3aoob&response_type=code&scope=email%20https%3a%2f%2fwww.googleapis.com%2fauth%2fdocs.test%20https%3a%2f%2fwww.googleapis.com%2fauth%2fdrive%20https%3a%2f%2fwww.googleapis.com%2fauth%2fdrive.photos.readonly%20https%3a%2f%2fwww.googleapis.com%2fauth%2fpeopleapi.readonly\n",
            "\n",
            "Enter your authorization code:\n",
            "··········\n",
            "Mounted at /content/drive\n"
          ],
          "name": "stdout"
        }
      ]
    },
    {
      "cell_type": "markdown",
      "metadata": {
        "id": "xLSqOIh27Qyo",
        "colab_type": "text"
      },
      "source": [
        "**Connecting Capstone1 database and reading tables**\n",
        "\n",
        "1.   List item\n",
        "2.   List item\n",
        "\n",
        "\n",
        "\n",
        "1.   List item\n",
        "2.   List item\n",
        "\n"
      ]
    },
    {
      "cell_type": "code",
      "metadata": {
        "id": "zZymDujTmQJy",
        "colab_type": "code",
        "outputId": "6dc43e39-3cff-429b-85ca-acb8c92806d6",
        "colab": {
          "base_uri": "https://localhost:8080/",
          "height": 68
        }
      },
      "source": [
        "cnx = ms.connect(host='cpanel.insaid.co',user='student', password='student',database='Capstone1')\n",
        "cursor = cnx.cursor()\n",
        "\n",
        "cursor.execute(\"SHOW TABLES\")\n",
        "\n",
        "tables = cursor.fetchall() ## it returns list of tables present in the database\n",
        "\n",
        "## showing all the tables one by one\n",
        "for table in tables:\n",
        "    print(table)"
      ],
      "execution_count": 0,
      "outputs": [
        {
          "output_type": "stream",
          "text": [
            "('events_data',)\n",
            "('gender_age_train',)\n",
            "('phone_brand_device_model',)\n"
          ],
          "name": "stdout"
        }
      ]
    },
    {
      "cell_type": "markdown",
      "metadata": {
        "id": "JPZtX9gwE5rf",
        "colab_type": "text"
      },
      "source": [
        "**Gender Age Table**"
      ]
    },
    {
      "cell_type": "code",
      "metadata": {
        "id": "I1_HAoRjEyP_",
        "colab_type": "code",
        "outputId": "5aa1b31b-8589-4308-fbbf-7b54294ebd6f",
        "colab": {
          "base_uri": "https://localhost:8080/",
          "height": 51
        }
      },
      "source": [
        "sql_select_Query = (\"select * from gender_age_train\")\n",
        "cursor.execute(sql_select_Query)\n",
        "print(cursor)\n",
        "gender_age_data=cursor.fetchall()\n",
        "print(gender_age_data[0])"
      ],
      "execution_count": 0,
      "outputs": [
        {
          "output_type": "stream",
          "text": [
            "CMySQLCursor: select * from gender_age_train\n",
            "(-8076087639492063270, 'M', 35, 'M32-38')\n"
          ],
          "name": "stdout"
        }
      ]
    },
    {
      "cell_type": "code",
      "metadata": {
        "id": "smTY16SVuGL3",
        "colab_type": "code",
        "outputId": "31a33852-b707-4ee3-b649-76ad3d08a7cc",
        "colab": {
          "base_uri": "https://localhost:8080/",
          "height": 34
        }
      },
      "source": [
        "#storing geneder age data in dataframe\n",
        "gender_age_df = pd.DataFrame(gender_age_data)\n",
        "column_names = [i[0] for i in cursor.description]\n",
        "\n",
        "gender_age_df.columns = column_names\n",
        "len(gender_age_df)"
      ],
      "execution_count": 0,
      "outputs": [
        {
          "output_type": "execute_result",
          "data": {
            "text/plain": [
              "74645"
            ]
          },
          "metadata": {
            "tags": []
          },
          "execution_count": 5
        }
      ]
    },
    {
      "cell_type": "code",
      "metadata": {
        "id": "1H-EjarQvFJP",
        "colab_type": "code",
        "outputId": "789dab0e-f1f3-41a1-a0f6-dd30c0b27499",
        "colab": {
          "base_uri": "https://localhost:8080/",
          "height": 34
        }
      },
      "source": [
        "gender_age_df.to_csv(\"gender_age.csv\")\n",
        "gender_age_df.columns"
      ],
      "execution_count": 0,
      "outputs": [
        {
          "output_type": "execute_result",
          "data": {
            "text/plain": [
              "Index(['device_id', 'gender', 'age', 'group'], dtype='object')"
            ]
          },
          "metadata": {
            "tags": []
          },
          "execution_count": 6
        }
      ]
    },
    {
      "cell_type": "code",
      "metadata": {
        "id": "zaJLBfsYvsb7",
        "colab_type": "code",
        "outputId": "a9542cf6-8bf8-4af6-8872-15fe5b21acf7",
        "colab": {
          "base_uri": "https://localhost:8080/",
          "height": 204
        }
      },
      "source": [
        "gender_age_df.head()"
      ],
      "execution_count": 0,
      "outputs": [
        {
          "output_type": "execute_result",
          "data": {
            "text/html": [
              "<div>\n",
              "<style scoped>\n",
              "    .dataframe tbody tr th:only-of-type {\n",
              "        vertical-align: middle;\n",
              "    }\n",
              "\n",
              "    .dataframe tbody tr th {\n",
              "        vertical-align: top;\n",
              "    }\n",
              "\n",
              "    .dataframe thead th {\n",
              "        text-align: right;\n",
              "    }\n",
              "</style>\n",
              "<table border=\"1\" class=\"dataframe\">\n",
              "  <thead>\n",
              "    <tr style=\"text-align: right;\">\n",
              "      <th></th>\n",
              "      <th>device_id</th>\n",
              "      <th>gender</th>\n",
              "      <th>age</th>\n",
              "      <th>group</th>\n",
              "    </tr>\n",
              "  </thead>\n",
              "  <tbody>\n",
              "    <tr>\n",
              "      <th>0</th>\n",
              "      <td>-8076087639492063270</td>\n",
              "      <td>M</td>\n",
              "      <td>35</td>\n",
              "      <td>M32-38</td>\n",
              "    </tr>\n",
              "    <tr>\n",
              "      <th>1</th>\n",
              "      <td>-2897161552818060146</td>\n",
              "      <td>M</td>\n",
              "      <td>35</td>\n",
              "      <td>M32-38</td>\n",
              "    </tr>\n",
              "    <tr>\n",
              "      <th>2</th>\n",
              "      <td>-8260683887967679142</td>\n",
              "      <td>M</td>\n",
              "      <td>35</td>\n",
              "      <td>M32-38</td>\n",
              "    </tr>\n",
              "    <tr>\n",
              "      <th>3</th>\n",
              "      <td>-4938849341048082022</td>\n",
              "      <td>M</td>\n",
              "      <td>30</td>\n",
              "      <td>M29-31</td>\n",
              "    </tr>\n",
              "    <tr>\n",
              "      <th>4</th>\n",
              "      <td>245133531816851882</td>\n",
              "      <td>M</td>\n",
              "      <td>30</td>\n",
              "      <td>M29-31</td>\n",
              "    </tr>\n",
              "  </tbody>\n",
              "</table>\n",
              "</div>"
            ],
            "text/plain": [
              "             device_id gender  age   group\n",
              "0 -8076087639492063270      M   35  M32-38\n",
              "1 -2897161552818060146      M   35  M32-38\n",
              "2 -8260683887967679142      M   35  M32-38\n",
              "3 -4938849341048082022      M   30  M29-31\n",
              "4   245133531816851882      M   30  M29-31"
            ]
          },
          "metadata": {
            "tags": []
          },
          "execution_count": 7
        }
      ]
    },
    {
      "cell_type": "code",
      "metadata": {
        "id": "ZrYeZfEYwHRa",
        "colab_type": "code",
        "outputId": "431bdb11-37ca-4241-b287-5b1c364f603b",
        "colab": {
          "base_uri": "https://localhost:8080/",
          "height": 102
        }
      },
      "source": [
        "gender_age_df.dtypes"
      ],
      "execution_count": 0,
      "outputs": [
        {
          "output_type": "execute_result",
          "data": {
            "text/plain": [
              "device_id     int64\n",
              "gender       object\n",
              "age           int64\n",
              "group        object\n",
              "dtype: object"
            ]
          },
          "metadata": {
            "tags": []
          },
          "execution_count": 8
        }
      ]
    },
    {
      "cell_type": "code",
      "metadata": {
        "id": "1zfWg2rPwyf-",
        "colab_type": "code",
        "outputId": "4b8572f5-59bd-46b3-b482-8efdb186fe08",
        "colab": {
          "base_uri": "https://localhost:8080/",
          "height": 170
        }
      },
      "source": [
        "gender_age_df.info()"
      ],
      "execution_count": 0,
      "outputs": [
        {
          "output_type": "stream",
          "text": [
            "<class 'pandas.core.frame.DataFrame'>\n",
            "RangeIndex: 74645 entries, 0 to 74644\n",
            "Data columns (total 4 columns):\n",
            "device_id    74645 non-null int64\n",
            "gender       74645 non-null object\n",
            "age          74645 non-null int64\n",
            "group        74645 non-null object\n",
            "dtypes: int64(2), object(2)\n",
            "memory usage: 2.3+ MB\n"
          ],
          "name": "stdout"
        }
      ]
    },
    {
      "cell_type": "code",
      "metadata": {
        "id": "ZzQU5z1IxXr7",
        "colab_type": "code",
        "outputId": "018fed6e-5e2c-4406-f1f5-65086bb28938",
        "colab": {
          "base_uri": "https://localhost:8080/",
          "height": 297
        }
      },
      "source": [
        "gender_age_df.describe()"
      ],
      "execution_count": 0,
      "outputs": [
        {
          "output_type": "execute_result",
          "data": {
            "text/html": [
              "<div>\n",
              "<style scoped>\n",
              "    .dataframe tbody tr th:only-of-type {\n",
              "        vertical-align: middle;\n",
              "    }\n",
              "\n",
              "    .dataframe tbody tr th {\n",
              "        vertical-align: top;\n",
              "    }\n",
              "\n",
              "    .dataframe thead th {\n",
              "        text-align: right;\n",
              "    }\n",
              "</style>\n",
              "<table border=\"1\" class=\"dataframe\">\n",
              "  <thead>\n",
              "    <tr style=\"text-align: right;\">\n",
              "      <th></th>\n",
              "      <th>device_id</th>\n",
              "      <th>age</th>\n",
              "    </tr>\n",
              "  </thead>\n",
              "  <tbody>\n",
              "    <tr>\n",
              "      <th>count</th>\n",
              "      <td>7.464500e+04</td>\n",
              "      <td>74645.000000</td>\n",
              "    </tr>\n",
              "    <tr>\n",
              "      <th>mean</th>\n",
              "      <td>-7.491354e+14</td>\n",
              "      <td>31.410342</td>\n",
              "    </tr>\n",
              "    <tr>\n",
              "      <th>std</th>\n",
              "      <td>5.327150e+18</td>\n",
              "      <td>9.868735</td>\n",
              "    </tr>\n",
              "    <tr>\n",
              "      <th>min</th>\n",
              "      <td>-9.223067e+18</td>\n",
              "      <td>1.000000</td>\n",
              "    </tr>\n",
              "    <tr>\n",
              "      <th>25%</th>\n",
              "      <td>-4.617367e+18</td>\n",
              "      <td>25.000000</td>\n",
              "    </tr>\n",
              "    <tr>\n",
              "      <th>50%</th>\n",
              "      <td>-1.841362e+16</td>\n",
              "      <td>29.000000</td>\n",
              "    </tr>\n",
              "    <tr>\n",
              "      <th>75%</th>\n",
              "      <td>4.636656e+18</td>\n",
              "      <td>36.000000</td>\n",
              "    </tr>\n",
              "    <tr>\n",
              "      <th>max</th>\n",
              "      <td>9.222849e+18</td>\n",
              "      <td>96.000000</td>\n",
              "    </tr>\n",
              "  </tbody>\n",
              "</table>\n",
              "</div>"
            ],
            "text/plain": [
              "          device_id           age\n",
              "count  7.464500e+04  74645.000000\n",
              "mean  -7.491354e+14     31.410342\n",
              "std    5.327150e+18      9.868735\n",
              "min   -9.223067e+18      1.000000\n",
              "25%   -4.617367e+18     25.000000\n",
              "50%   -1.841362e+16     29.000000\n",
              "75%    4.636656e+18     36.000000\n",
              "max    9.222849e+18     96.000000"
            ]
          },
          "metadata": {
            "tags": []
          },
          "execution_count": 10
        }
      ]
    },
    {
      "cell_type": "code",
      "metadata": {
        "id": "tJK_s-0tLZzZ",
        "colab_type": "code",
        "outputId": "f4d54ae8-9f63-4c92-d386-96cfd12108c7",
        "colab": {
          "base_uri": "https://localhost:8080/",
          "height": 51
        }
      },
      "source": [
        "gender_age_df.group.unique()"
      ],
      "execution_count": 0,
      "outputs": [
        {
          "output_type": "execute_result",
          "data": {
            "text/plain": [
              "array(['M32-38', 'M29-31', 'F24-26', 'F33-42', 'F27-28', 'M39+', 'M23-26',\n",
              "       'M27-28', 'M22-', 'F43+', 'F23-', 'F29-32'], dtype=object)"
            ]
          },
          "metadata": {
            "tags": []
          },
          "execution_count": 11
        }
      ]
    },
    {
      "cell_type": "code",
      "metadata": {
        "id": "J0pDEyNLMCJD",
        "colab_type": "code",
        "outputId": "3b963c57-a1d2-4262-a0ce-4388a38a0627",
        "colab": {
          "base_uri": "https://localhost:8080/",
          "height": 238
        }
      },
      "source": [
        "gender_age_df.group.value_counts()"
      ],
      "execution_count": 0,
      "outputs": [
        {
          "output_type": "execute_result",
          "data": {
            "text/plain": [
              "M23-26    9605\n",
              "M32-38    9476\n",
              "M39+      8581\n",
              "M22-      7488\n",
              "M29-31    7309\n",
              "F33-42    5561\n",
              "M27-28    5445\n",
              "F23-      5050\n",
              "F29-32    4628\n",
              "F43+      4194\n",
              "F24-26    4190\n",
              "F27-28    3118\n",
              "Name: group, dtype: int64"
            ]
          },
          "metadata": {
            "tags": []
          },
          "execution_count": 12
        }
      ]
    },
    {
      "cell_type": "code",
      "metadata": {
        "id": "RBOfc625FSv0",
        "colab_type": "code",
        "outputId": "1821d89d-6c94-4312-e1b2-6ded68f394c2",
        "colab": {
          "base_uri": "https://localhost:8080/",
          "height": 102
        }
      },
      "source": [
        "gender_age_df.nunique(axis=0) #returns the number of unique values for each variable."
      ],
      "execution_count": 0,
      "outputs": [
        {
          "output_type": "execute_result",
          "data": {
            "text/plain": [
              "device_id    74645\n",
              "gender           2\n",
              "age             85\n",
              "group           12\n",
              "dtype: int64"
            ]
          },
          "metadata": {
            "tags": []
          },
          "execution_count": 13
        }
      ]
    },
    {
      "cell_type": "code",
      "metadata": {
        "id": "V8FOy4jm6Pwi",
        "colab_type": "code",
        "colab": {}
      },
      "source": [
        "####gender_age_df['group'].value_counts().plot.bar(title='Freq dist of group Type')"
      ],
      "execution_count": 0,
      "outputs": []
    },
    {
      "cell_type": "code",
      "metadata": {
        "id": "1_VniKGNu9Gu",
        "colab_type": "code",
        "colab": {}
      },
      "source": [
        "####gender_age_df['gender'].value_counts().plot.bar(title='Gender wise device distribution')"
      ],
      "execution_count": 0,
      "outputs": []
    },
    {
      "cell_type": "markdown",
      "metadata": {
        "id": "bK_qyK1bEc14",
        "colab_type": "text"
      },
      "source": [
        "\n",
        "\n",
        "**Phone brand device Table**\n",
        "\n"
      ]
    },
    {
      "cell_type": "code",
      "metadata": {
        "id": "rU5LxdD2C65n",
        "colab_type": "code",
        "outputId": "37460270-2289-4497-c7af-49f88445d065",
        "colab": {
          "base_uri": "https://localhost:8080/",
          "height": 51
        }
      },
      "source": [
        "device_select_Query = (\"select * from phone_brand_device_model\")\n",
        "cursor.execute(device_select_Query)\n",
        "print(cursor)\n",
        "phone_brand_device=cursor.fetchall()\n",
        "print(phone_brand_device[0])"
      ],
      "execution_count": 0,
      "outputs": [
        {
          "output_type": "stream",
          "text": [
            "CMySQLCursor: select * from phone_brand_device_model\n",
            "(1877775838486905855, 'vivo', 'Y13')\n"
          ],
          "name": "stdout"
        }
      ]
    },
    {
      "cell_type": "code",
      "metadata": {
        "id": "5nqZty5WDti2",
        "colab_type": "code",
        "outputId": "598603a1-cf10-40e6-8b2a-c92574acc636",
        "colab": {
          "base_uri": "https://localhost:8080/",
          "height": 34
        }
      },
      "source": [
        "#storing phone brand data in dataframe\n",
        "phone_brand_df = pd.DataFrame(phone_brand_device)\n",
        "column_names = [i[0] for i in cursor.description]\n",
        "\n",
        "phone_brand_df.columns = column_names\n",
        "len(phone_brand_df)"
      ],
      "execution_count": 0,
      "outputs": [
        {
          "output_type": "execute_result",
          "data": {
            "text/plain": [
              "87726"
            ]
          },
          "metadata": {
            "tags": []
          },
          "execution_count": 17
        }
      ]
    },
    {
      "cell_type": "code",
      "metadata": {
        "id": "xSrm3dc-EFG4",
        "colab_type": "code",
        "outputId": "81d1478f-12d4-418b-bb4d-a93e598753cf",
        "colab": {
          "base_uri": "https://localhost:8080/",
          "height": 34
        }
      },
      "source": [
        "phone_brand_df.to_csv(\"phone_brand.csv\")\n",
        "phone_brand_df.columns"
      ],
      "execution_count": 0,
      "outputs": [
        {
          "output_type": "execute_result",
          "data": {
            "text/plain": [
              "Index(['device_id', 'phone_brand', 'device_model'], dtype='object')"
            ]
          },
          "metadata": {
            "tags": []
          },
          "execution_count": 18
        }
      ]
    },
    {
      "cell_type": "code",
      "metadata": {
        "id": "jhwwWaEBGFQo",
        "colab_type": "code",
        "outputId": "1f5d758d-ad0f-43bf-b5c5-91fee6e4e32b",
        "colab": {
          "base_uri": "https://localhost:8080/",
          "height": 204
        }
      },
      "source": [
        "phone_brand_df.head()"
      ],
      "execution_count": 0,
      "outputs": [
        {
          "output_type": "execute_result",
          "data": {
            "text/html": [
              "<div>\n",
              "<style scoped>\n",
              "    .dataframe tbody tr th:only-of-type {\n",
              "        vertical-align: middle;\n",
              "    }\n",
              "\n",
              "    .dataframe tbody tr th {\n",
              "        vertical-align: top;\n",
              "    }\n",
              "\n",
              "    .dataframe thead th {\n",
              "        text-align: right;\n",
              "    }\n",
              "</style>\n",
              "<table border=\"1\" class=\"dataframe\">\n",
              "  <thead>\n",
              "    <tr style=\"text-align: right;\">\n",
              "      <th></th>\n",
              "      <th>device_id</th>\n",
              "      <th>phone_brand</th>\n",
              "      <th>device_model</th>\n",
              "    </tr>\n",
              "  </thead>\n",
              "  <tbody>\n",
              "    <tr>\n",
              "      <th>0</th>\n",
              "      <td>1877775838486905855</td>\n",
              "      <td>vivo</td>\n",
              "      <td>Y13</td>\n",
              "    </tr>\n",
              "    <tr>\n",
              "      <th>1</th>\n",
              "      <td>-3766087376657242966</td>\n",
              "      <td>小米</td>\n",
              "      <td>V183</td>\n",
              "    </tr>\n",
              "    <tr>\n",
              "      <th>2</th>\n",
              "      <td>-6238937574958215831</td>\n",
              "      <td>OPPO</td>\n",
              "      <td>R7s</td>\n",
              "    </tr>\n",
              "    <tr>\n",
              "      <th>3</th>\n",
              "      <td>8973197758510677470</td>\n",
              "      <td>三星</td>\n",
              "      <td>A368t</td>\n",
              "    </tr>\n",
              "    <tr>\n",
              "      <th>4</th>\n",
              "      <td>-2015528097870762664</td>\n",
              "      <td>小米</td>\n",
              "      <td>红米Note2</td>\n",
              "    </tr>\n",
              "  </tbody>\n",
              "</table>\n",
              "</div>"
            ],
            "text/plain": [
              "             device_id phone_brand device_model\n",
              "0  1877775838486905855        vivo          Y13\n",
              "1 -3766087376657242966          小米         V183\n",
              "2 -6238937574958215831        OPPO          R7s\n",
              "3  8973197758510677470          三星        A368t\n",
              "4 -2015528097870762664          小米      红米Note2"
            ]
          },
          "metadata": {
            "tags": []
          },
          "execution_count": 19
        }
      ]
    },
    {
      "cell_type": "code",
      "metadata": {
        "id": "wtpHQjxMGiaN",
        "colab_type": "code",
        "outputId": "fa51cfc2-c255-4d18-b772-72ffa145deb4",
        "colab": {
          "base_uri": "https://localhost:8080/",
          "height": 153
        }
      },
      "source": [
        "phone_brand_df.info()"
      ],
      "execution_count": 0,
      "outputs": [
        {
          "output_type": "stream",
          "text": [
            "<class 'pandas.core.frame.DataFrame'>\n",
            "RangeIndex: 87726 entries, 0 to 87725\n",
            "Data columns (total 3 columns):\n",
            "device_id       87726 non-null int64\n",
            "phone_brand     87726 non-null object\n",
            "device_model    87726 non-null object\n",
            "dtypes: int64(1), object(2)\n",
            "memory usage: 2.0+ MB\n"
          ],
          "name": "stdout"
        }
      ]
    },
    {
      "cell_type": "code",
      "metadata": {
        "id": "AJL8kXZmGnvs",
        "colab_type": "code",
        "outputId": "a361859d-6521-4cb9-bef3-7baebe66fccd",
        "colab": {
          "base_uri": "https://localhost:8080/",
          "height": 297
        }
      },
      "source": [
        "phone_brand_df.describe()"
      ],
      "execution_count": 0,
      "outputs": [
        {
          "output_type": "execute_result",
          "data": {
            "text/html": [
              "<div>\n",
              "<style scoped>\n",
              "    .dataframe tbody tr th:only-of-type {\n",
              "        vertical-align: middle;\n",
              "    }\n",
              "\n",
              "    .dataframe tbody tr th {\n",
              "        vertical-align: top;\n",
              "    }\n",
              "\n",
              "    .dataframe thead th {\n",
              "        text-align: right;\n",
              "    }\n",
              "</style>\n",
              "<table border=\"1\" class=\"dataframe\">\n",
              "  <thead>\n",
              "    <tr style=\"text-align: right;\">\n",
              "      <th></th>\n",
              "      <th>device_id</th>\n",
              "    </tr>\n",
              "  </thead>\n",
              "  <tbody>\n",
              "    <tr>\n",
              "      <th>count</th>\n",
              "      <td>8.772600e+04</td>\n",
              "    </tr>\n",
              "    <tr>\n",
              "      <th>mean</th>\n",
              "      <td>-5.212557e+15</td>\n",
              "    </tr>\n",
              "    <tr>\n",
              "      <th>std</th>\n",
              "      <td>5.330157e+18</td>\n",
              "    </tr>\n",
              "    <tr>\n",
              "      <th>min</th>\n",
              "      <td>-9.223322e+18</td>\n",
              "    </tr>\n",
              "    <tr>\n",
              "      <th>25%</th>\n",
              "      <td>-4.623331e+18</td>\n",
              "    </tr>\n",
              "    <tr>\n",
              "      <th>50%</th>\n",
              "      <td>-3.109802e+16</td>\n",
              "    </tr>\n",
              "    <tr>\n",
              "      <th>75%</th>\n",
              "      <td>4.635194e+18</td>\n",
              "    </tr>\n",
              "    <tr>\n",
              "      <th>max</th>\n",
              "      <td>9.222849e+18</td>\n",
              "    </tr>\n",
              "  </tbody>\n",
              "</table>\n",
              "</div>"
            ],
            "text/plain": [
              "          device_id\n",
              "count  8.772600e+04\n",
              "mean  -5.212557e+15\n",
              "std    5.330157e+18\n",
              "min   -9.223322e+18\n",
              "25%   -4.623331e+18\n",
              "50%   -3.109802e+16\n",
              "75%    4.635194e+18\n",
              "max    9.222849e+18"
            ]
          },
          "metadata": {
            "tags": []
          },
          "execution_count": 21
        }
      ]
    },
    {
      "cell_type": "code",
      "metadata": {
        "id": "94PmzLrZFKgu",
        "colab_type": "code",
        "outputId": "9491e998-0eb8-46b2-eb06-7cef635573ae",
        "colab": {
          "base_uri": "https://localhost:8080/",
          "height": 85
        }
      },
      "source": [
        "phone_brand_df.nunique(axis=0) #returns the number of unique values for each variable."
      ],
      "execution_count": 0,
      "outputs": [
        {
          "output_type": "execute_result",
          "data": {
            "text/plain": [
              "device_id       87726\n",
              "phone_brand       116\n",
              "device_model     1467\n",
              "dtype: int64"
            ]
          },
          "metadata": {
            "tags": []
          },
          "execution_count": 22
        }
      ]
    },
    {
      "cell_type": "code",
      "metadata": {
        "id": "oaia19m2Kz0T",
        "colab_type": "code",
        "outputId": "e3731ed4-1f51-4cba-f4c6-446fcd8ff717",
        "colab": {
          "base_uri": "https://localhost:8080/",
          "height": 51
        }
      },
      "source": [
        "phone_brand_df.device_model.unique()"
      ],
      "execution_count": 0,
      "outputs": [
        {
          "output_type": "execute_result",
          "data": {
            "text/plain": [
              "array(['Y13', 'V183', 'R7s', ..., 'Galaxy Tab S T705', 'IVO 8800',\n",
              "       'U59GT'], dtype=object)"
            ]
          },
          "metadata": {
            "tags": []
          },
          "execution_count": 23
        }
      ]
    },
    {
      "cell_type": "code",
      "metadata": {
        "id": "ZSOhgaXbLmrQ",
        "colab_type": "code",
        "colab": {}
      },
      "source": [
        "#converting Chinese data in Phoneto English data in Phone Brand column\n",
        "phone_brand_df.replace(to_replace=['联想 ', 'Huawei','小米','三星' '酷派', '华为','魅族','酷派','奇酷', 'Meizu', '斐讯', '中国移动', 'HTC', '天语', '至尊宝', 'LG', '欧博信', '优米',\n",
        "       'ZUK', '努比亚', '惠普', '尼比鲁', '美图', '乡米', '摩托罗拉', '梦米', '锤子', '富可视','LeEco', '海信', '百立丰', '一加', '语信', '海尔', '酷比', '纽曼', '波导', '朵唯',\n",
        "       '聆韵', 'TCL', '酷珀', '爱派尔', 'LOGO', '青葱', '果米', '华硕', '昂达', '艾优尼', '康佳', '优购', '邦华', '赛博宇华', '黑米', 'Lovme', '先锋', 'E派', '神舟', '诺基亚',\n",
        "       '普耐尔', '糖葫芦', '亿通', '欧新', '米奇', '酷比魔方', '蓝魔', '小杨树', '贝尔丰', '糯米', '米歌', 'E人E本', '西米', '大Q', '台电', '飞利浦', '唯米', '大显', '长虹', '维图',\n",
        "       '青橙', '本为', '虾米', '夏新', '帷幄', '百加', '三星', '欧奇', '世纪星', '智镁','欧比', '基伍', '飞秒', '德赛', '易派', '谷歌', '金星数码', '广信', '诺亚信', 'MIL',\n",
        "       '白米', '大可乐', '宝捷讯', '优语', '首云', '瑞米', '瑞高', '沃普丰', '摩乐', '鲜米','凯利通', '唯比', '欧沃', '丰米', '恒宇丰', '奥克斯', '西门子', '欧乐迪'], \n",
        "       value=['Lenovo', 'Huawei', 'Xiaomi', 'Samsung' 'Cool', 'Huawei', 'Meizu', 'Cool','Qiku', 'Meizu', 'Fixun', 'China Mobile', 'HTC', 'Tianyu', 'Extreme Treasure', 'LG', 'European', 'Youmi',\n",
        "       'ZUK', 'Nubia', 'HP', 'Nibiru', 'Meitu', 'Romi', 'Motorola', 'Dream', 'Hammer', 'Focus','LeEco', 'Hisense', 'Bai Li Fung', 'One Plus', 'Language', 'Haier', 'Coolness', 'Newman', 'Flyer', 'Duo Wei',\n",
        "       'Ling Yun', 'TCL', 'Cool', 'Ipaire', 'LOGO', 'Scallion', 'Fruit', 'ASUS', 'Onda', 'Ayuni','KONKA', 'U-Shop', 'Bangwa', 'Syberyuhua', 'Black Rice', 'Lovme', 'Pioneer', 'E Pie', 'Shenzhou', 'Nokia',\n",
        "       'Punell', 'Candied Squash', 'Eton', 'Ocean', 'Mickey', 'Cubei Cube', 'Blue Devils', 'Little Poplar', 'Bell Feng', 'Glutinous Rice',\n",
        "       'Mi Ge', 'E People E Ben', 'Ximi', 'DaQ', 'Taipower', 'Philips', 'Weimi', 'Daxian', 'Changhong', 'Vito','Green Orange', 'Ben Wei', 'Shrimp', 'Xiaxin', 'Village', 'Bega', 'Samsung', 'Occhi', 'Century Star', 'Chi Magnesium',\n",
        "       'Obi', 'Kivu', 'Femtosecond', 'Desai', 'Yipai', 'Google', 'Venus Digital', 'Guangxin', 'Noahin', 'MIL','White Rice', 'Big Cola', 'Pojet', 'Yuyu', 'Shouyun', 'Rimi', 'Rigao', 'Wopfung', 'Mo Le', 'Fresh Rice' ,\n",
        "       'Kelly Link', 'Weiby', 'Owo', 'Fengmi', 'Hengyufeng', 'Oaks', 'Siemens', 'Oledi'], inplace=True)"
      ],
      "execution_count": 0,
      "outputs": []
    },
    {
      "cell_type": "code",
      "metadata": {
        "id": "RCXEfRHoLwr0",
        "colab_type": "code",
        "outputId": "9bafb5d0-b20e-4a3c-d797-935e6878d5f7",
        "colab": {
          "base_uri": "https://localhost:8080/",
          "height": 51
        }
      },
      "source": [
        "phone_brand_df.device_model.unique()"
      ],
      "execution_count": 0,
      "outputs": [
        {
          "output_type": "execute_result",
          "data": {
            "text/plain": [
              "array(['Y13', 'V183', 'R7s', ..., 'Galaxy Tab S T705', 'IVO 8800',\n",
              "       'U59GT'], dtype=object)"
            ]
          },
          "metadata": {
            "tags": []
          },
          "execution_count": 25
        }
      ]
    },
    {
      "cell_type": "markdown",
      "metadata": {
        "id": "6JV8yPyhAC_F",
        "colab_type": "text"
      },
      "source": [
        "**Reading Event Data from csv file to Dataframe**"
      ]
    },
    {
      "cell_type": "code",
      "metadata": {
        "id": "eRT25Z-zAKKg",
        "colab_type": "code",
        "outputId": "02dd4726-4075-4544-b0ff-565d19526659",
        "colab": {
          "base_uri": "https://localhost:8080/",
          "height": 34
        }
      },
      "source": [
        "link = 'https://drive.google.com/open?id=1nlZw1xzY3tW8TlKJL18yMCfi3T6Eo9o_' # The shareable link\n",
        "fluff, id = link.split('=')\n",
        "print (id) # Verify that you have everything after '='"
      ],
      "execution_count": 0,
      "outputs": [
        {
          "output_type": "stream",
          "text": [
            "1nlZw1xzY3tW8TlKJL18yMCfi3T6Eo9o_\n"
          ],
          "name": "stdout"
        }
      ]
    },
    {
      "cell_type": "code",
      "metadata": {
        "id": "Mr1ry5_nIzLK",
        "colab_type": "code",
        "colab": {}
      },
      "source": [
        "downloaded = drive.CreateFile({'id':id}) \n",
        "downloaded.GetContentFile('events_data_file.csv')  \n",
        "\n",
        "#loading Event dataframe from CSV file\n",
        "event_data_df = pd.read_csv('events_data_file.csv')\n"
      ],
      "execution_count": 0,
      "outputs": []
    },
    {
      "cell_type": "code",
      "metadata": {
        "id": "vOZ4BYFoL2Sx",
        "colab_type": "code",
        "outputId": "92588175-1f59-4876-966a-541251bade3e",
        "colab": {
          "base_uri": "https://localhost:8080/",
          "height": 204
        }
      },
      "source": [
        "event_data_df.head()"
      ],
      "execution_count": 0,
      "outputs": [
        {
          "output_type": "execute_result",
          "data": {
            "text/html": [
              "<div>\n",
              "<style scoped>\n",
              "    .dataframe tbody tr th:only-of-type {\n",
              "        vertical-align: middle;\n",
              "    }\n",
              "\n",
              "    .dataframe tbody tr th {\n",
              "        vertical-align: top;\n",
              "    }\n",
              "\n",
              "    .dataframe thead th {\n",
              "        text-align: right;\n",
              "    }\n",
              "</style>\n",
              "<table border=\"1\" class=\"dataframe\">\n",
              "  <thead>\n",
              "    <tr style=\"text-align: right;\">\n",
              "      <th></th>\n",
              "      <th>event_id</th>\n",
              "      <th>device_id</th>\n",
              "      <th>timestamp</th>\n",
              "      <th>longitude</th>\n",
              "      <th>latitude</th>\n",
              "      <th>city</th>\n",
              "      <th>state</th>\n",
              "    </tr>\n",
              "  </thead>\n",
              "  <tbody>\n",
              "    <tr>\n",
              "      <th>0</th>\n",
              "      <td>1.0</td>\n",
              "      <td>2.918269e+16</td>\n",
              "      <td>2016-05-01 00:55:25</td>\n",
              "      <td>77.266049</td>\n",
              "      <td>28.68161</td>\n",
              "      <td>Delhi</td>\n",
              "      <td>Delhi</td>\n",
              "    </tr>\n",
              "    <tr>\n",
              "      <th>1</th>\n",
              "      <td>7104.0</td>\n",
              "      <td>2.918269e+16</td>\n",
              "      <td>2016-05-02 09:37:02</td>\n",
              "      <td>77.266049</td>\n",
              "      <td>28.68161</td>\n",
              "      <td>Delhi</td>\n",
              "      <td>Delhi</td>\n",
              "    </tr>\n",
              "    <tr>\n",
              "      <th>2</th>\n",
              "      <td>29661.0</td>\n",
              "      <td>2.918269e+16</td>\n",
              "      <td>2016-05-04 00:56:04</td>\n",
              "      <td>77.266049</td>\n",
              "      <td>28.68161</td>\n",
              "      <td>Delhi</td>\n",
              "      <td>Delhi</td>\n",
              "    </tr>\n",
              "    <tr>\n",
              "      <th>3</th>\n",
              "      <td>33133.0</td>\n",
              "      <td>2.918269e+16</td>\n",
              "      <td>2016-05-06 05:01:15</td>\n",
              "      <td>77.266049</td>\n",
              "      <td>28.68161</td>\n",
              "      <td>Delhi</td>\n",
              "      <td>Delhi</td>\n",
              "    </tr>\n",
              "    <tr>\n",
              "      <th>4</th>\n",
              "      <td>38980.0</td>\n",
              "      <td>2.918269e+16</td>\n",
              "      <td>2016-05-06 09:55:04</td>\n",
              "      <td>77.266049</td>\n",
              "      <td>28.68161</td>\n",
              "      <td>Delhi</td>\n",
              "      <td>Delhi</td>\n",
              "    </tr>\n",
              "  </tbody>\n",
              "</table>\n",
              "</div>"
            ],
            "text/plain": [
              "   event_id     device_id            timestamp  ...  latitude   city  state\n",
              "0       1.0  2.918269e+16  2016-05-01 00:55:25  ...  28.68161  Delhi  Delhi\n",
              "1    7104.0  2.918269e+16  2016-05-02 09:37:02  ...  28.68161  Delhi  Delhi\n",
              "2   29661.0  2.918269e+16  2016-05-04 00:56:04  ...  28.68161  Delhi  Delhi\n",
              "3   33133.0  2.918269e+16  2016-05-06 05:01:15  ...  28.68161  Delhi  Delhi\n",
              "4   38980.0  2.918269e+16  2016-05-06 09:55:04  ...  28.68161  Delhi  Delhi\n",
              "\n",
              "[5 rows x 7 columns]"
            ]
          },
          "metadata": {
            "tags": []
          },
          "execution_count": 29
        }
      ]
    },
    {
      "cell_type": "code",
      "metadata": {
        "id": "W4fWrblWJs5i",
        "colab_type": "code",
        "outputId": "321e58a7-009e-40d9-dca3-f2befe23fdd9",
        "colab": {
          "base_uri": "https://localhost:8080/",
          "height": 221
        }
      },
      "source": [
        "event_data_df.info()"
      ],
      "execution_count": 0,
      "outputs": [
        {
          "output_type": "stream",
          "text": [
            "<class 'pandas.core.frame.DataFrame'>\n",
            "RangeIndex: 3252950 entries, 0 to 3252949\n",
            "Data columns (total 7 columns):\n",
            "event_id     float64\n",
            "device_id    float64\n",
            "timestamp    object\n",
            "longitude    float64\n",
            "latitude     float64\n",
            "city         object\n",
            "state        object\n",
            "dtypes: float64(4), object(3)\n",
            "memory usage: 173.7+ MB\n"
          ],
          "name": "stdout"
        }
      ]
    },
    {
      "cell_type": "code",
      "metadata": {
        "id": "VeF3eFLoJ3h9",
        "colab_type": "code",
        "outputId": "e64eacbf-5c8a-4ea7-a102-465506bcd507",
        "colab": {
          "base_uri": "https://localhost:8080/",
          "height": 297
        }
      },
      "source": [
        "event_data_df.describe()"
      ],
      "execution_count": 0,
      "outputs": [
        {
          "output_type": "execute_result",
          "data": {
            "text/html": [
              "<div>\n",
              "<style scoped>\n",
              "    .dataframe tbody tr th:only-of-type {\n",
              "        vertical-align: middle;\n",
              "    }\n",
              "\n",
              "    .dataframe tbody tr th {\n",
              "        vertical-align: top;\n",
              "    }\n",
              "\n",
              "    .dataframe thead th {\n",
              "        text-align: right;\n",
              "    }\n",
              "</style>\n",
              "<table border=\"1\" class=\"dataframe\">\n",
              "  <thead>\n",
              "    <tr style=\"text-align: right;\">\n",
              "      <th></th>\n",
              "      <th>event_id</th>\n",
              "      <th>device_id</th>\n",
              "      <th>longitude</th>\n",
              "      <th>latitude</th>\n",
              "    </tr>\n",
              "  </thead>\n",
              "  <tbody>\n",
              "    <tr>\n",
              "      <th>count</th>\n",
              "      <td>3.252950e+06</td>\n",
              "      <td>3.252497e+06</td>\n",
              "      <td>3.252527e+06</td>\n",
              "      <td>3.252527e+06</td>\n",
              "    </tr>\n",
              "    <tr>\n",
              "      <th>mean</th>\n",
              "      <td>1.626476e+06</td>\n",
              "      <td>1.012200e+17</td>\n",
              "      <td>7.815868e+01</td>\n",
              "      <td>2.168851e+01</td>\n",
              "    </tr>\n",
              "    <tr>\n",
              "      <th>std</th>\n",
              "      <td>9.390459e+05</td>\n",
              "      <td>5.316758e+18</td>\n",
              "      <td>4.235570e+00</td>\n",
              "      <td>5.789111e+00</td>\n",
              "    </tr>\n",
              "    <tr>\n",
              "      <th>min</th>\n",
              "      <td>1.000000e+00</td>\n",
              "      <td>-9.222957e+18</td>\n",
              "      <td>1.256700e+01</td>\n",
              "      <td>8.190110e+00</td>\n",
              "    </tr>\n",
              "    <tr>\n",
              "      <th>25%</th>\n",
              "      <td>8.132382e+05</td>\n",
              "      <td>-4.540611e+18</td>\n",
              "      <td>7.583543e+01</td>\n",
              "      <td>1.780171e+01</td>\n",
              "    </tr>\n",
              "    <tr>\n",
              "      <th>50%</th>\n",
              "      <td>1.626476e+06</td>\n",
              "      <td>1.726820e+17</td>\n",
              "      <td>7.726814e+01</td>\n",
              "      <td>2.216454e+01</td>\n",
              "    </tr>\n",
              "    <tr>\n",
              "      <th>75%</th>\n",
              "      <td>2.439713e+06</td>\n",
              "      <td>4.861813e+18</td>\n",
              "      <td>8.031916e+01</td>\n",
              "      <td>2.868278e+01</td>\n",
              "    </tr>\n",
              "    <tr>\n",
              "      <th>max</th>\n",
              "      <td>3.252950e+06</td>\n",
              "      <td>9.222849e+18</td>\n",
              "      <td>9.545946e+01</td>\n",
              "      <td>4.187190e+01</td>\n",
              "    </tr>\n",
              "  </tbody>\n",
              "</table>\n",
              "</div>"
            ],
            "text/plain": [
              "           event_id     device_id     longitude      latitude\n",
              "count  3.252950e+06  3.252497e+06  3.252527e+06  3.252527e+06\n",
              "mean   1.626476e+06  1.012200e+17  7.815868e+01  2.168851e+01\n",
              "std    9.390459e+05  5.316758e+18  4.235570e+00  5.789111e+00\n",
              "min    1.000000e+00 -9.222957e+18  1.256700e+01  8.190110e+00\n",
              "25%    8.132382e+05 -4.540611e+18  7.583543e+01  1.780171e+01\n",
              "50%    1.626476e+06  1.726820e+17  7.726814e+01  2.216454e+01\n",
              "75%    2.439713e+06  4.861813e+18  8.031916e+01  2.868278e+01\n",
              "max    3.252950e+06  9.222849e+18  9.545946e+01  4.187190e+01"
            ]
          },
          "metadata": {
            "tags": []
          },
          "execution_count": 31
        }
      ]
    },
    {
      "cell_type": "code",
      "metadata": {
        "id": "KA05AV8WNfDL",
        "colab_type": "code",
        "outputId": "08fab943-29e9-4c7c-ed21-87a330ffa43d",
        "colab": {
          "base_uri": "https://localhost:8080/",
          "height": 153
        }
      },
      "source": [
        "#returns the number of unique values for each variable.\n",
        "event_data_df.nunique(axis=0) "
      ],
      "execution_count": 0,
      "outputs": [
        {
          "output_type": "execute_result",
          "data": {
            "text/plain": [
              "event_id     3252950\n",
              "device_id      60865\n",
              "timestamp     588126\n",
              "longitude      60095\n",
              "latitude       60185\n",
              "city             933\n",
              "state             32\n",
              "dtype: int64"
            ]
          },
          "metadata": {
            "tags": []
          },
          "execution_count": 32
        }
      ]
    },
    {
      "cell_type": "code",
      "metadata": {
        "id": "d7L7IVOLNuj5",
        "colab_type": "code",
        "outputId": "ec570b51-bc7f-461f-9f39-77d9f5802661",
        "colab": {
          "base_uri": "https://localhost:8080/",
          "height": 34
        }
      },
      "source": [
        "sum(pd.isnull(event_data_df['longitude']))"
      ],
      "execution_count": 0,
      "outputs": [
        {
          "output_type": "execute_result",
          "data": {
            "text/plain": [
              "423"
            ]
          },
          "metadata": {
            "tags": []
          },
          "execution_count": 33
        }
      ]
    },
    {
      "cell_type": "code",
      "metadata": {
        "id": "CB3hbzUkO13F",
        "colab_type": "code",
        "colab": {}
      },
      "source": [
        "#Correcting the null values present in 'longitude' column\n",
        "event_data_df['longitude'] = np.where(((event_data_df['longitude'].isnull()) & (event_data_df['city'] ==\"BhalswaJahangirpur\")),\"77.247696\",event_data_df['longitude']) \n",
        "event_data_df['longitude'] = np.where(((event_data_df['longitude'].isnull()) & (event_data_df['city'] ==\"Delhi\")),\"77.266049\",event_data_df['longitude']) \n",
        "event_data_df['longitude'] = np.where(((event_data_df['longitude'].isnull()) & (event_data_df['city'] ==\"Deoli\")),\"77.302223\",event_data_df['longitude']) \n",
        "event_data_df['longitude'] = np.where(((event_data_df['longitude'].isnull()) & (event_data_df['city'] ==\"DilliCantonment\")),\"77.217069\",event_data_df['longitude']) \n",
        "event_data_df['longitude'] = np.where(((event_data_df['longitude'].isnull()) & (event_data_df['city'] ==\"Gokalpur\")),\"77.331379\",event_data_df['longitude']) \n",
        "event_data_df['longitude'] = np.where(((event_data_df['longitude'].isnull()) & (event_data_df['city'] ==\"NangloiJat\")),\"77.126448\",event_data_df['longitude']) \n",
        "event_data_df['longitude'] = np.where(((event_data_df['longitude'].isnull()) & (event_data_df['city'] ==\"NiDilli\")),\"77.307839\",event_data_df['longitude']) \n",
        "event_data_df['longitude'] = np.where(((event_data_df['longitude'].isnull()) & (event_data_df['city'] ==\"RoshanPura\")),\"77.08055\",event_data_df['longitude']) \n",
        "event_data_df['longitude'] = np.where(((event_data_df['longitude'].isnull()) & (event_data_df['city'] ==\"SultanpurMajra\")),\"77.10988\",event_data_df['longitude']) \n",
        "event_data_df['longitude'] = np.where(((event_data_df['longitude'].isnull()) & (event_data_df['city'] ==\"Tigri\")),\"77.230918\",event_data_df['longitude']) \n",
        "event_data_df['longitude'] = np.where(((event_data_df['longitude'].isnull()) & (event_data_df['city'] ==\"Mumbai\")),\"72.83738\",event_data_df['longitude']) \n",
        "event_data_df['longitude'] = np.where(((event_data_df['longitude'].isnull()) & (event_data_df['city'] ==\"Pune\")),\"73.859134\",event_data_df['longitude']) "
      ],
      "execution_count": 0,
      "outputs": []
    },
    {
      "cell_type": "code",
      "metadata": {
        "id": "BpHlDub9O7Lb",
        "colab_type": "code",
        "outputId": "0fc78c83-743d-4b41-f277-3b90f4c8fc68",
        "colab": {
          "base_uri": "https://localhost:8080/",
          "height": 34
        }
      },
      "source": [
        "sum(pd.isnull(event_data_df['longitude']))"
      ],
      "execution_count": 0,
      "outputs": [
        {
          "output_type": "execute_result",
          "data": {
            "text/plain": [
              "0"
            ]
          },
          "metadata": {
            "tags": []
          },
          "execution_count": 35
        }
      ]
    },
    {
      "cell_type": "code",
      "metadata": {
        "id": "tOd6hInoNvtK",
        "colab_type": "code",
        "outputId": "9617d992-37f0-4452-d4cb-81427ac01710",
        "colab": {
          "base_uri": "https://localhost:8080/",
          "height": 34
        }
      },
      "source": [
        "sum(pd.isnull(event_data_df['latitude']))"
      ],
      "execution_count": 0,
      "outputs": [
        {
          "output_type": "execute_result",
          "data": {
            "text/plain": [
              "423"
            ]
          },
          "metadata": {
            "tags": []
          },
          "execution_count": 36
        }
      ]
    },
    {
      "cell_type": "code",
      "metadata": {
        "id": "61kexsXvPChy",
        "colab_type": "code",
        "colab": {}
      },
      "source": [
        "#Correcting the null values present in 'latitude' column\n",
        "event_data_df['latitude'] = np.where(((event_data_df['latitude'].isnull()) & (event_data_df['city'] ==\"BhalswaJahangirpur\")),\"28.787158\",event_data_df['latitude']) \n",
        "event_data_df['latitude'] = np.where(((event_data_df['latitude'].isnull()) & (event_data_df['city'] ==\"Delhi\")),\"28.712135\",event_data_df['latitude']) \n",
        "event_data_df['latitude'] = np.where(((event_data_df['latitude'].isnull()) & (event_data_df['city'] ==\"Deoli\")),\"28.579339\",event_data_df['latitude']) \n",
        "event_data_df['latitude'] = np.where(((event_data_df['latitude'].isnull()) & (event_data_df['city'] ==\"DilliCantonment\")),\"28.639109\",event_data_df['latitude']) \n",
        "event_data_df['latitude'] = np.where(((event_data_df['latitude'].isnull()) & (event_data_df['city'] ==\"Gokalpur\")),\"28.780808\",event_data_df['latitude']) \n",
        "event_data_df['latitude'] = np.where(((event_data_df['latitude'].isnull()) & (event_data_df['city'] ==\"NangloiJat\")),\"28.726816\",event_data_df['latitude']) \n",
        "event_data_df['latitude'] = np.where(((event_data_df['latitude'].isnull()) & (event_data_df['city'] ==\"NiDilli\")),\"28.631404\",event_data_df['latitude']) \n",
        "event_data_df['latitude'] = np.where(((event_data_df['latitude'].isnull()) & (event_data_df['city'] ==\"RoshanPura\")),\"28.646277\",event_data_df['latitude']) \n",
        "event_data_df['latitude'] = np.where(((event_data_df['latitude'].isnull()) & (event_data_df['city'] ==\"SultanpurMajra\")),\"28.799271\",event_data_df['latitude']) \n",
        "event_data_df['latitude'] = np.where(((event_data_df['latitude'].isnull()) & (event_data_df['city'] ==\"Tigri\")),\"28.559426\",event_data_df['latitude']) \n",
        "event_data_df['latitude'] = np.where(((event_data_df['latitude'].isnull()) & (event_data_df['city'] ==\"Mumbai\")),\"18.981604\",event_data_df['latitude']) \n",
        "event_data_df['latitude'] = np.where(((event_data_df['latitude'].isnull()) & (event_data_df['city'] ==\"Pune\")),\"18.575338\",event_data_df['latitude']) \n"
      ],
      "execution_count": 0,
      "outputs": []
    },
    {
      "cell_type": "code",
      "metadata": {
        "id": "I_EbHe_oPG-Y",
        "colab_type": "code",
        "outputId": "b6a032aa-c83f-4fef-e682-8ad276d33f15",
        "colab": {
          "base_uri": "https://localhost:8080/",
          "height": 34
        }
      },
      "source": [
        "sum(pd.isnull(event_data_df['latitude']))"
      ],
      "execution_count": 0,
      "outputs": [
        {
          "output_type": "execute_result",
          "data": {
            "text/plain": [
              "0"
            ]
          },
          "metadata": {
            "tags": []
          },
          "execution_count": 38
        }
      ]
    },
    {
      "cell_type": "code",
      "metadata": {
        "id": "pEjSq2vQN44z",
        "colab_type": "code",
        "outputId": "459f644a-aab1-4143-fc41-10d971cabc6d",
        "colab": {
          "base_uri": "https://localhost:8080/",
          "height": 34
        }
      },
      "source": [
        "sum(pd.isnull(event_data_df['state']))"
      ],
      "execution_count": 0,
      "outputs": [
        {
          "output_type": "execute_result",
          "data": {
            "text/plain": [
              "377"
            ]
          },
          "metadata": {
            "tags": []
          },
          "execution_count": 39
        }
      ]
    },
    {
      "cell_type": "code",
      "metadata": {
        "id": "tNxljAesU3TA",
        "colab_type": "code",
        "outputId": "9b9096f0-5058-4769-b9b4-8bae97ceb12d",
        "colab": {
          "base_uri": "https://localhost:8080/",
          "height": 153
        }
      },
      "source": [
        "event_data_df.state.unique()"
      ],
      "execution_count": 0,
      "outputs": [
        {
          "output_type": "execute_result",
          "data": {
            "text/plain": [
              "array(['Delhi', nan, 'Maharashtra', 'TamilNadu', 'Chandigarh', 'Tripura',\n",
              "       'Manipur', 'ArunachalPradesh', 'AndhraPradesh', 'Pondicherry',\n",
              "       'HimachalPradesh', 'Mizoram', 'AndamanandNicobarIslands',\n",
              "       'Meghalaya', 'MadhyaPradesh', 'Goa', 'Uttaranchal',\n",
              "       'JammuandKashmir', 'Chhattisgarh', 'Nagaland', 'Telangana',\n",
              "       'Rajasthan', 'UttarPradesh', 'Orissa', 'Haryana', 'Jharkhand',\n",
              "       'Assam', 'WestBengal', 'Karnataka', 'Bihar', 'Gujarat', 'Kerala',\n",
              "       'Punjab'], dtype=object)"
            ]
          },
          "metadata": {
            "tags": []
          },
          "execution_count": 40
        }
      ]
    },
    {
      "cell_type": "code",
      "metadata": {
        "id": "9Uu3P2NrWOxE",
        "colab_type": "code",
        "outputId": "09980e8e-423e-43f8-fd42-5ca294f93d06",
        "colab": {
          "base_uri": "https://localhost:8080/",
          "height": 1000
        }
      },
      "source": [
        "event_data_df.city.unique()"
      ],
      "execution_count": 0,
      "outputs": [
        {
          "output_type": "execute_result",
          "data": {
            "text/plain": [
              "array(['Delhi', 'RoshanPura', 'DilliCantonment', 'BhalswaJahangirpur',\n",
              "       'Tigri', 'Deoli', 'SultanpurMajra', 'NangloiJat', 'NiDilli',\n",
              "       'Gokalpur', 'Mumbai', 'Pune', 'Diglur', 'Pusad', 'Wardha',\n",
              "       'Palghar', 'Bhadravati', 'Shrirampur', 'Ulhasnagar', 'Khopoli',\n",
              "       'Badlapur', 'Chiplun', 'Karanja', 'Buldana', 'Aurangabad', 'Warud',\n",
              "       'Sholapur', 'Anjangaon', 'Ballarpur', 'Akot', 'NaviMumbai',\n",
              "       'Navghar', 'Nagpur', 'Parbhani', 'Dhule', 'Dahanu', 'Pimpri',\n",
              "       'Jalgaon', 'Achalpur', 'Ratnagiri', 'Nashik', 'Latur', 'Kolhapur',\n",
              "       'Malegaon', 'Bhandara', 'Washim', 'Nanded', 'Amravati', 'Akola',\n",
              "       'Bhusawal', 'MiraBhayandar', 'Ahmadnagar', 'Chikhli', 'Ambajogai',\n",
              "       'Amalner', 'Thana', 'Nalasopara', 'Hingoli', 'Khadki', 'Gondiya',\n",
              "       'Barsi', 'Chalisgaon', 'Shirpur', 'Basmat', 'Chopda',\n",
              "       'SangliMiraj', 'Satara', 'Wani', 'Nandurbar', 'UranIslampur',\n",
              "       'Bhiwandi', 'Kamthi', 'Deolali', 'Shegaon', 'Pandharpur',\n",
              "       'Khamgaon', 'Lonavale', 'Sillod', 'Gadchiroli', 'Manmad', 'Kalyan',\n",
              "       'Yavatmal', 'Osmanabad', 'Virar', 'Baramati', 'Chandrapur',\n",
              "       'Shahada', 'Bid', 'Vasai', 'Malkapur', 'Phaltan', 'Hinganghat',\n",
              "       'Jalna', 'PuneCantonment', 'Kopargaon', 'Udgir', 'Ichalkaranji',\n",
              "       'Chennai', 'Udagamandalam', 'Koyampattur', 'Nagercoil',\n",
              "       'Nerkunram', 'Chandigarh', 'Sankarankoil', 'Srivilliputtur',\n",
              "       'Hosur', 'Velluru', 'Avaniapuram', 'Punamalli', 'Vaniyambadi',\n",
              "       'Tiruchchirappalli', 'Namakkal', 'Gopichettipalaiyam',\n",
              "       'Tiruchengode', 'Agartala', 'Mannargudi', 'Virudunagar',\n",
              "       'Dharapuram', 'Neyveli', 'Arakonam', 'Attur', 'Mayiladuthurai',\n",
              "       'Tiruppur', 'Kumbakonam', 'Virudhachalam', 'Avadi', 'Pammal',\n",
              "       'Salem', 'Ramanathapuram', 'Kuniyamuthur', 'Dindigul', 'Pollachi',\n",
              "       'Tiruvottiyur', 'Aruppukkottai', 'Chengalpattu', 'Imphal',\n",
              "       'Kanchipuram', 'Pudukkottai', 'Sivakasi', 'Udumalaipettai',\n",
              "       'Ambattur', 'Pannuratti', 'Madhavaram', 'Kavundampalaiyam',\n",
              "       'Pattukkottai', 'Thiruthangal', 'Kadayanallur', 'Mettur',\n",
              "       'Alandur', 'Gudiyattam', 'Valparai', 'Tindivanam', 'Dharmapuri',\n",
              "       'Krishnagiri', 'Pallavaram', 'Nagapattinam', 'Thiruvarur',\n",
              "       'Idappadi', 'Rajapalaiyam', 'Thuthukkudi', 'TheniAllinagaram',\n",
              "       'Puliyankudi', 'Erode', 'Karur', 'Tiruvannamalai', 'Arani',\n",
              "       'Paramakkudi', 'Itanagar', 'Kambam', 'Virappanchatram', 'Ambur',\n",
              "       'Tenkasi', 'Tirupathur', 'Thanjavur', 'Tambaram', 'Mettupalayam',\n",
              "       'Bodinayakkanur', 'Madurai', 'Gudalur', 'Kumarapalaiyam',\n",
              "       'Kurichi', 'Tirunelveli', 'Viluppuram', 'Kovilpatti',\n",
              "       'Visakhapatnam', 'Nirmal', 'Rajamahendri', 'Ongole', 'Tirupati',\n",
              "       'Ponnur', 'Kapra', 'Tenali', 'Mahbubnagar', 'Pondicherry',\n",
              "       'Samalkot', 'Hyderabad', 'Jagtial', 'Bhimavaram', 'Sattenapalle',\n",
              "       'Patancheru', 'Bapatla', 'Adoni', 'Kagaznagar', 'Srikakulam',\n",
              "       'Tuni', 'Rajendranagar', 'Rayachoti', 'Adilabad', 'Piduguralla',\n",
              "       'Nuzvid', 'Palwancha', 'Sikandarabad', 'Tandur', 'Hindupur',\n",
              "       'Yemmiganur', 'Cuddapah', 'Nalgonda', 'Mangalagiri', 'Wanparti',\n",
              "       'Gaddiannaram', 'Kamareddi', 'Machilipatnam', 'Ramagundam',\n",
              "       'Anakapalle', 'Mandamarri', 'Gadwal', 'Rayadrug', 'Srikalahasti',\n",
              "       'Koratla', 'Bobbili', 'Suriapet', 'Vijayawada', 'Qutubullapur',\n",
              "       'Shimla', 'Tadepalle', 'Guntur', 'Palasa', 'Aizawl', 'UppalKalan',\n",
              "       'Palakollu', 'Chirala', 'Kadiri', 'ChinnaChawk', 'Markapur',\n",
              "       'Kodar', 'Kondukur', 'Alwal', 'Narasapur', 'Khammam', 'Karaikal',\n",
              "       'Guntakal', 'Vuyyuru', 'PortBlair', 'Warangal', 'Bhongir',\n",
              "       'Narasaraopet', 'Nandyal', 'Anantapur', 'Tanuku', 'Kottagudem',\n",
              "       'Gudur', 'Malkajgiri', 'Belampalli', 'Dhone', 'Eluru', 'Shillong',\n",
              "       'Gudivada', 'Vinukonda', 'Tadpatri', 'Sirsilla', 'Kakinada',\n",
              "       'Kukatpalle', 'Sangareddi', 'Miryalaguda', 'Lunglei', 'Chittur',\n",
              "       'Tura', 'LalbahadurNagar', 'Karnul', 'Vizianagaram', 'Ozhukarai',\n",
              "       'Bodhan', 'Siddipet', 'Nellur', 'Kavali', 'Karimnagar',\n",
              "       'Dharmavaram', 'Gajuwaka', 'Nizamabad', 'Proddatur',\n",
              "       'Chilakalurupet', 'Mancheral', 'Serilungampalle', 'Kallur',\n",
              "       'Ramachandrapuram', 'Tadepallegudem', 'Rajampet', 'Indore',\n",
              "       'Raghogarh', 'Sheopur', 'Madgaon', 'Sidhi', 'Sarni', 'Betul',\n",
              "       'Pithoragarh', 'Sehore', 'Kashipur', 'DehraDun', 'Datia', 'Rurki',\n",
              "       'Dabra', 'Guna', 'Rewa', 'Ratlam', 'Anantnag', 'Bhind', 'Raipur',\n",
              "       'Itarsi', 'Dhar', 'Dewas', 'Wokha', 'Nagda', 'Mandidip', 'Damoh',\n",
              "       'Kathua', 'Murwara', 'JabalpurCantonment', 'Gwalior', 'Tikamgarh',\n",
              "       'Chhindwara', 'Jammu', 'Sopur', 'Udhampur', 'Hoshangabad',\n",
              "       'Shahdol', 'Harda', 'Korba', 'DehraDunCantonment', 'Raigarh',\n",
              "       'Haldwani', 'Jabalpur', 'Jagdalpur', 'Bilaspur', 'Mormugao',\n",
              "       'Bhilai', 'Shivapuri', 'Nimach', 'Shajapur', 'Bhopal', 'Chirmiri',\n",
              "       'Dimapur', 'Sagar', 'Baramula', 'Kohima', 'Rajnandgaon', 'Morena',\n",
              "       'Chhatarpur', 'Ashoknagar', 'Seoni', 'Singrauli', 'Rishikesh',\n",
              "       'Balaghat', 'Srinagar', 'Vidisha', 'Jaora', 'Charoda', 'Mandsaur',\n",
              "       'Khandwa', 'Satna', 'Panaji', 'Durg', 'Burhanpur', 'Basoda',\n",
              "       'Ambikapur', 'Khargone', 'Sendhwa', 'Haridwar', 'Gohad', 'Ujjain',\n",
              "       'Dhamtari', 'Mau', 'BinaEtawa', 'Jaipur', 'Hathras', 'Farrukhabad',\n",
              "       'Ayodhya', 'Brahmapur', 'Agra', 'Nokha', 'Basti', 'Mubarakpur',\n",
              "       'Hanumangarh', 'Bahadurgarh', 'Katras', 'Pilkhuwa', 'Faizabad',\n",
              "       'Sitapur', 'Rayagada', 'Ghaziabad', 'Obra', 'Banswara', 'Bikaner',\n",
              "       'Hardoi', 'Sardarshahr', 'Dhanbad', 'Jhalawar', 'Baripada',\n",
              "       'Nagaur', 'Shahabad', 'Puri', 'Baleshwar', 'Jorhat', 'Narnaul',\n",
              "       'Bhilwara', 'Balrampur', 'Mirzapur', 'Shikohabad', 'Ranchi',\n",
              "       'Mainpuri', 'Aonla', 'Balangir', 'Fatehpur', 'Moradabad',\n",
              "       'Chittaurgarh', 'Mawana', 'Kendujhar', 'Sunabeda', 'Devghar',\n",
              "       'Nawalgarh', 'Laharpur', 'Chaibasa', 'Ghazipur', 'Sultanpur',\n",
              "       'Bhadrak', 'Lalitpur', 'Etawah', 'Bari', 'Bagbahra', 'Daosa',\n",
              "       'Baran', 'Kiratpur', 'Lakhnau', 'Churu', 'Banda', 'Ganganagar',\n",
              "       'Jalor', 'Karnal', 'Sherkot', 'Baheri', 'Bhubaneswar', 'Pilibhit',\n",
              "       'Firozabad', 'Bargarh', 'Deoria', 'Hasanpur', 'Kota', 'GangaGhat',\n",
              "       'Amroha', 'Mathura', 'AmbalaCantonment', 'Kadi', 'Paradwip',\n",
              "       'Suratgarh', 'CharkhiDadri', 'Noida', 'Tanda', 'Bulandshahr',\n",
              "       'Bhawanipatna', 'Bisalpur', 'Khatauli', 'Jodhpur', 'Orai',\n",
              "       'Karauli', 'Kataka', 'Bhuli', 'Dhaulpur', 'JhumriTilaiya',\n",
              "       'Saunda', 'Makrana', 'Beawar', 'Gonda', 'Chandpur', 'Najibabad',\n",
              "       'Renukut', 'RaeBareli', 'Jaisalmer', 'Auraiya', 'Allahabad',\n",
              "       'Nagina', 'Azamgarh', 'Barpeta', 'Sirsa', 'Tezpur', 'Biswan',\n",
              "       'Phusro', 'Kasganj', 'Guwahati', 'Budaun', 'Dabwali', 'Jorapokhar',\n",
              "       'Jamshedpur', 'Jagadhri', 'Rajsamand', 'MughalSarai', 'Ambala',\n",
              "       'Gangapur', 'Ladnun', 'Modinagar', 'Rohtak', 'Yamunanagar',\n",
              "       'Kanpur', 'Rath', 'Chandausi', 'Varanasi', 'Palwal', 'Rewari',\n",
              "       'Jahangirabad', 'Tohana', 'Bela', 'Ajmer', 'Sindari', 'Tonk',\n",
              "       'Ratangarh', 'Nawabganj', 'Balotra', 'Shamli', 'Thanesar', 'Lanka',\n",
              "       'Hisar', 'Etah', 'Chhibramau', 'Silchar', 'MiratCantonment',\n",
              "       'Gorakhpur', 'Hindaun', 'Tilhar', 'Kishangarh', 'Panchkula',\n",
              "       'GolaGokarannath', 'Gohana', 'SawaiMadhopur', 'Gajraula',\n",
              "       'KanpurCantonment', 'Sikar', 'Jaypur', 'Kuchaman', 'Sahibganj',\n",
              "       'Bhadohi', 'Saharanpur', 'Jharia', 'Sonipat', 'Alwar',\n",
              "       'AmbalaSadar', 'Tundla', 'Shahjahanpur', 'Bareli', 'Hapur',\n",
              "       'Dibrugarh', 'Daltenganj', 'Sambalpur', 'KosiKalan', 'Chomun',\n",
              "       'Diphu', 'Pali', 'Khurja', 'Sambhal', 'Jhunjhunun', 'Barbil',\n",
              "       'Bhiwani', 'Raurkela', 'Dhenkanal', 'Chas', 'Lakhimpur', 'Unnao',\n",
              "       'Gangoh', 'Lohardaga', 'Kaithal', 'Sibsagar', 'Loni', 'Bahraich',\n",
              "       'Aligarh', 'Hazaribag', 'Narwana', 'Bongaigaon', 'Jharsuguda',\n",
              "       'Nimbahera', 'Baraut', 'Dadri', 'Muradnagar', 'Faridabad',\n",
              "       'Dhuburi', 'Kairana', 'Vrindavan', 'Faridpur', 'Ujhani', 'Barmer',\n",
              "       'ChitrakutDham', 'Ballia', 'Mirat', 'Bijnor', 'Sahaswan',\n",
              "       'Tinsukia', 'Jind', 'LakhnauCantonment', 'Panipat', 'Ramgarh',\n",
              "       'Nagaon', 'Karimganj', 'Mahoba', 'Jhansi', 'Jalaun', 'Udaipur',\n",
              "       'Bokaro', 'Bharatpur', 'Sujangarh', 'Kannauj', 'Rampur', 'Bundi',\n",
              "       'Deoband', 'Didwana', 'Brajrajnagar', 'Mango', 'Mauranipur',\n",
              "       'Jaunpur', 'Muzaffarnagar', 'Adityapur', 'Sandila', 'Calcutta',\n",
              "       'Bangalore', 'Barddhaman', 'Karsiyang', 'Gangawati', 'Begusarai',\n",
              "       'Chandkheda', 'Mandya', 'Godhra', 'SouthDumDum', 'Ghatal',\n",
              "       'Cheruvannur', 'Karwar', 'Abohar', 'Veraval', 'Kanakapura',\n",
              "       'Sangrur', 'Fazilka', 'Alappuzha', 'Dinapur', 'Champdani',\n",
              "       'Kalamassery', 'Ramanagaram', 'UttarparaKotrung', 'Gadag',\n",
              "       'Manjeri', 'Dabhoi', 'Shorapur', 'Habra', 'HugliChunchura',\n",
              "       'Muzaffarpur', 'Supaul', 'Bally', 'Samana', 'Borsad', 'Kaliyaganj',\n",
              "       'Keshod', 'Mangaluru', 'Disa', 'Darbhanga', 'Bijapur',\n",
              "       'Krishnarajapura', 'Porbandar', 'Arrah', 'Kottayam', 'Basirhat',\n",
              "       'Gobindgarh', 'IngrajBazar', 'Darjiling', 'Upleta', 'Kapurthala',\n",
              "       'Sira', 'Jahanabad', 'Anand', 'Jalpaiguri', 'Dumraon', 'Baranagar',\n",
              "       'Bagalkot', 'Phulwari', 'Hassan', 'Jamui', 'Navsari', 'Khanna',\n",
              "       'Haora', 'Bettiah', 'Arambagh', 'Kulti', 'Thiruvananthapuram',\n",
              "       'Kanchrapara', 'Kannur', 'Shahpur', 'Bankura', 'NorthBarakpur',\n",
              "       'Ahmadabad', 'Shimoga', 'Bhabua', 'Dasarahalli', 'Bolpur',\n",
              "       'Davanagere', 'Maisuru', 'Memari', 'Titagarh', 'Tiruvalla',\n",
              "       'Surat', 'Jetpur', 'Kunnamkulam', 'Morvi', 'Nawada', 'Sirhind',\n",
              "       'Moga', 'Dahod', 'Sihor', 'Asansol', 'Kundla', 'Harihar',\n",
              "       'Kalyani', 'Siwan', 'Challakere', 'Tiptur', 'Ponnani', 'Bansbaria',\n",
              "       'Dholka', 'Channapatna', 'Jamkhandi', 'Madhyamgram', 'Bankra',\n",
              "       'Konnagar', 'Kolar', 'Thrissur', 'Sunam', 'Bihar', 'Katihar',\n",
              "       'Bardoli', 'Siuri', 'Panihati', 'Kharagpur', 'Amritsar',\n",
              "       'Shantipur', 'Chintamani', 'Saharsa', 'Naihati', 'Bharuch',\n",
              "       'Himatnagar', 'Mohali', 'Haveri', 'BallyCantonment', 'Barnala',\n",
              "       'Khagaul', 'Chamrajnagar', 'Gopalganj', 'Jamuria', 'Hubli',\n",
              "       'Chhapra', 'Ullal', 'Kannangad', 'Purnia', 'Patiala',\n",
              "       'Robertsonpet', 'Gayespur', 'Kollam', 'Kalol', 'Jamnagar',\n",
              "       'Firozpur', 'Nedumangad', 'Motihari', 'Gondal', 'Junagadh',\n",
              "       'Thrippunithura', 'Madhipura', 'Batala', 'Chitradurga',\n",
              "       'Malappuram', 'Yelahanka', 'Botad', 'Chandannagar', 'Talipparamba',\n",
              "       'Visnagar', 'Baidyabati', 'Bathinda', 'DodBallapur', 'Bangaon',\n",
              "       'Araria', 'Garulia', 'Palitana', 'Kochi', 'Sidlaghatta', 'Pujali',\n",
              "       'Rajpura', 'Durgapur', 'Mahuva', 'Phagwara', 'Gokak', 'Bagaha',\n",
              "       'Chikmagalur', 'TarnTaran', 'Nadiad', 'Vadodara', 'Udupi',\n",
              "       'Balurghat', 'Baharampur', 'Puttur', 'Kishanganj', 'Maheshtala',\n",
              "       'Buxar', 'Hoshiarpur', 'Ranip', 'RampurHat', 'Samastipur',\n",
              "       'Jagraon', 'Bhatpara', 'ChikBallapur', 'Pathankot', 'KotKapura',\n",
              "       'Dinhata', 'Chakdaha', 'MalerKotla', 'Bellary', 'Gaya',\n",
              "       'NiBarakpur', 'Jhargram', 'Khagaria', 'Chandlodiya', 'Gurdaspur',\n",
              "       'Siddhapur', 'Rabkavi', 'Palakkad', 'AlipurDuar', 'Yadgir',\n",
              "       'Hiriyur', 'Raniganj', 'Rajkot', 'Puruliya', 'BajBaj',\n",
              "       'Gandhinagar', 'Masaurhi', 'Kayankulam', 'Basavakalyan', 'Raxaul',\n",
              "       'Rupnagar', 'Madhubani', 'Sirsi', 'Modasa', 'Halisahar',\n",
              "       'AshoknagarKalyangarh', 'Kozhikkod', 'Amreli', 'Malaut',\n",
              "       'Islampur', 'Tumkur', 'Patna', 'Binnaguri', 'KochBihar', 'Contai',\n",
              "       'Kalna', 'Dhrangadhra', 'NorthDumDum', 'Bommanahalli', 'Ludhiana',\n",
              "       'Mangrol', 'Patan', 'Neyyattinkara', 'Gandhidham', 'Jalandhar',\n",
              "       'Una', 'Ranaghat', 'Ulubaria', 'Krishnanagar', 'Phulia', 'Nipani',\n",
              "       'Dhoraji', 'KharagpurRailwaySettlement', 'Wadhwan', 'Midnapur',\n",
              "       'Dhulian', 'Ghatlodiya', 'Bishnupur', 'Hospet', 'Edathala',\n",
              "       'Faridkot', 'Gangarampur', 'Raichur', 'Valsad', 'Ranibennur',\n",
              "       'Rishra', 'Kamarhati', 'Dhuri', 'Khambhat', 'Belgaum', 'Tirur',\n",
              "       'Beypur', 'Rajpur', 'Bidar', 'Shiliguri', 'Jangipur', 'Navadwip',\n",
              "       'Koppal', 'Jamalpur', 'Bhavnagar', 'Bhagalpur', 'Ilkal', 'Mansa',\n",
              "       'Kollegal', 'Anjar', 'Katwa', 'Surendranagar',\n",
              "       'FirozpurCantonment', 'Bidhannagar', 'Gulbarga', 'Kandi',\n",
              "       'Sasaram', 'Raiganj', 'Bhadreswar', 'Mokama', 'Sitamarhi',\n",
              "       'Thalassery', 'Unjha', 'Bhuj', 'Dehri', 'DumDum', 'Vapi',\n",
              "       'Payyannur', 'Koyilandi', 'Munger', 'Khardaha', 'Vadakara',\n",
              "       'Lakhisarai'], dtype=object)"
            ]
          },
          "metadata": {
            "tags": []
          },
          "execution_count": 41
        }
      ]
    },
    {
      "cell_type": "code",
      "metadata": {
        "id": "d0eBaSj1PUoQ",
        "colab_type": "code",
        "colab": {}
      },
      "source": [
        "#Correcting the null values present in 'state' column\n",
        "event_data_df['state'] = np.where(((event_data_df['state'].isnull()) & (event_data_df['city'] ==\"BhalswaJahangirpur\")),\"Delhi\",event_data_df['state']) \n",
        "event_data_df['state'] = np.where(((event_data_df['state'].isnull()) & (event_data_df['city'] ==\"Delhi\")),\"Delhi\",event_data_df['state']) \n",
        "event_data_df['state'] = np.where(((event_data_df['state'].isnull()) & (event_data_df['city'] ==\"Deoli\")),\"Delhi\",event_data_df['state']) \n",
        "event_data_df['state'] = np.where(((event_data_df['state'].isnull()) & (event_data_df['city'] ==\"DilliCantonment\")),\"Delhi\",event_data_df['state']) \n",
        "event_data_df['state'] = np.where(((event_data_df['state'].isnull()) & (event_data_df['city'] ==\"Gokalpur\")),\"Delhi\",event_data_df['state']) \n",
        "event_data_df['state'] = np.where(((event_data_df['state'].isnull()) & (event_data_df['city'] ==\"NangloiJat\")),\"Delhi\",event_data_df['state']) \n",
        "event_data_df['state'] = np.where(((event_data_df['state'].isnull()) & (event_data_df['city'] ==\"NiDilli\")),\"Delhi\",event_data_df['state']) \n",
        "event_data_df['state'] = np.where(((event_data_df['state'].isnull()) & (event_data_df['city'] ==\"RoshanPura\")),\"Delhi\",event_data_df['state']) \n",
        "event_data_df['state'] = np.where(((event_data_df['state'].isnull()) & (event_data_df['city'] ==\"SultanpurMajra\")),\"Delhi\",event_data_df['state']) \n",
        "event_data_df['state'] = np.where(((event_data_df['state'].isnull()) & (event_data_df['city'] ==\"Tigri\")),\"Delhi\",event_data_df['state']) \n",
        "event_data_df['state'] = np.where(((event_data_df['state'].isnull()) & (event_data_df['city'] ==\"Mumbai\")),\"Maharashtra\",event_data_df['state']) \n",
        "event_data_df['state'] = np.where(((event_data_df['state'].isnull()) & (event_data_df['city'] ==\"Pune\")),\"Maharashtra\",event_data_df['state']) "
      ],
      "execution_count": 0,
      "outputs": []
    },
    {
      "cell_type": "code",
      "metadata": {
        "id": "lwLx972HPZlA",
        "colab_type": "code",
        "outputId": "4ab5b8c0-f540-4ec2-ffe8-5d2df80c5798",
        "colab": {
          "base_uri": "https://localhost:8080/",
          "height": 34
        }
      },
      "source": [
        "sum(pd.isnull(event_data_df['state']))"
      ],
      "execution_count": 0,
      "outputs": [
        {
          "output_type": "execute_result",
          "data": {
            "text/plain": [
              "250"
            ]
          },
          "metadata": {
            "tags": []
          },
          "execution_count": 43
        }
      ]
    },
    {
      "cell_type": "code",
      "metadata": {
        "id": "Ozyo0qZxN8fc",
        "colab_type": "code",
        "outputId": "b694763c-8dbc-48de-f797-9f8e14bc130c",
        "colab": {
          "base_uri": "https://localhost:8080/",
          "height": 34
        }
      },
      "source": [
        "sum(pd.isnull(event_data_df['city']))"
      ],
      "execution_count": 0,
      "outputs": [
        {
          "output_type": "execute_result",
          "data": {
            "text/plain": [
              "0"
            ]
          },
          "metadata": {
            "tags": []
          },
          "execution_count": 44
        }
      ]
    },
    {
      "cell_type": "code",
      "metadata": {
        "id": "6yVR1tYUN_7v",
        "colab_type": "code",
        "outputId": "89986e1e-3c7b-424f-d2ee-94e3cf99c87f",
        "colab": {
          "base_uri": "https://localhost:8080/",
          "height": 34
        }
      },
      "source": [
        "sum(pd.isnull(event_data_df['device_id']))"
      ],
      "execution_count": 0,
      "outputs": [
        {
          "output_type": "execute_result",
          "data": {
            "text/plain": [
              "453"
            ]
          },
          "metadata": {
            "tags": []
          },
          "execution_count": 45
        }
      ]
    },
    {
      "cell_type": "markdown",
      "metadata": {
        "id": "ZV514degeAYc",
        "colab_type": "text"
      },
      "source": [
        "**Now we targeting to particualr state data where we need to figure it out**"
      ]
    },
    {
      "cell_type": "code",
      "metadata": {
        "id": "CcXPmMCpeFjL",
        "colab_type": "code",
        "colab": {}
      },
      "source": [
        "#Creating New Data frame for particualr state for which we need to gather info\n",
        "options = ['AndhraPradesh', 'Pondicherry', 'Mizoram', 'AndamanandNicobarIslands', 'Meghalaya', 'HimachalPradesh'] \n",
        "  \n",
        "# selecting rows based on condition \n",
        "#new_event_data_df is only target particualr 6 state that are present in options\n",
        "new_event_data_df = event_data_df[event_data_df['state'].isin(options)] "
      ],
      "execution_count": 0,
      "outputs": []
    },
    {
      "cell_type": "code",
      "metadata": {
        "id": "kKrJ3KKqeVGL",
        "colab_type": "code",
        "outputId": "8d76f5ad-1f30-4552-a875-b59506ea096b",
        "colab": {
          "base_uri": "https://localhost:8080/",
          "height": 204
        }
      },
      "source": [
        "new_event_data_df.head()"
      ],
      "execution_count": 0,
      "outputs": [
        {
          "output_type": "execute_result",
          "data": {
            "text/html": [
              "<div>\n",
              "<style scoped>\n",
              "    .dataframe tbody tr th:only-of-type {\n",
              "        vertical-align: middle;\n",
              "    }\n",
              "\n",
              "    .dataframe tbody tr th {\n",
              "        vertical-align: top;\n",
              "    }\n",
              "\n",
              "    .dataframe thead th {\n",
              "        text-align: right;\n",
              "    }\n",
              "</style>\n",
              "<table border=\"1\" class=\"dataframe\">\n",
              "  <thead>\n",
              "    <tr style=\"text-align: right;\">\n",
              "      <th></th>\n",
              "      <th>event_id</th>\n",
              "      <th>device_id</th>\n",
              "      <th>timestamp</th>\n",
              "      <th>longitude</th>\n",
              "      <th>latitude</th>\n",
              "      <th>city</th>\n",
              "      <th>state</th>\n",
              "    </tr>\n",
              "  </thead>\n",
              "  <tbody>\n",
              "    <tr>\n",
              "      <th>1868677</th>\n",
              "      <td>5985.0</td>\n",
              "      <td>-7.971778e+18</td>\n",
              "      <td>2016-05-07 07:54:51</td>\n",
              "      <td>83.368899</td>\n",
              "      <td>17.798818</td>\n",
              "      <td>Visakhapatnam</td>\n",
              "      <td>AndhraPradesh</td>\n",
              "    </tr>\n",
              "    <tr>\n",
              "      <th>1868678</th>\n",
              "      <td>56595.0</td>\n",
              "      <td>-7.971778e+18</td>\n",
              "      <td>2016-05-02 20:47:57</td>\n",
              "      <td>83.368899</td>\n",
              "      <td>17.798818</td>\n",
              "      <td>Visakhapatnam</td>\n",
              "      <td>AndhraPradesh</td>\n",
              "    </tr>\n",
              "    <tr>\n",
              "      <th>1868679</th>\n",
              "      <td>75863.0</td>\n",
              "      <td>-7.971778e+18</td>\n",
              "      <td>2016-05-07 08:02:09</td>\n",
              "      <td>83.368899</td>\n",
              "      <td>17.798818</td>\n",
              "      <td>Visakhapatnam</td>\n",
              "      <td>AndhraPradesh</td>\n",
              "    </tr>\n",
              "    <tr>\n",
              "      <th>1868680</th>\n",
              "      <td>81849.0</td>\n",
              "      <td>-7.971778e+18</td>\n",
              "      <td>2016-05-05 06:05:14</td>\n",
              "      <td>83.368899</td>\n",
              "      <td>17.798818</td>\n",
              "      <td>Visakhapatnam</td>\n",
              "      <td>AndhraPradesh</td>\n",
              "    </tr>\n",
              "    <tr>\n",
              "      <th>1868681</th>\n",
              "      <td>97846.0</td>\n",
              "      <td>-7.971778e+18</td>\n",
              "      <td>2016-05-06 12:19:21</td>\n",
              "      <td>83.368899</td>\n",
              "      <td>17.798818</td>\n",
              "      <td>Visakhapatnam</td>\n",
              "      <td>AndhraPradesh</td>\n",
              "    </tr>\n",
              "  </tbody>\n",
              "</table>\n",
              "</div>"
            ],
            "text/plain": [
              "         event_id     device_id  ...           city          state\n",
              "1868677    5985.0 -7.971778e+18  ...  Visakhapatnam  AndhraPradesh\n",
              "1868678   56595.0 -7.971778e+18  ...  Visakhapatnam  AndhraPradesh\n",
              "1868679   75863.0 -7.971778e+18  ...  Visakhapatnam  AndhraPradesh\n",
              "1868680   81849.0 -7.971778e+18  ...  Visakhapatnam  AndhraPradesh\n",
              "1868681   97846.0 -7.971778e+18  ...  Visakhapatnam  AndhraPradesh\n",
              "\n",
              "[5 rows x 7 columns]"
            ]
          },
          "metadata": {
            "tags": []
          },
          "execution_count": 47
        }
      ]
    },
    {
      "cell_type": "code",
      "metadata": {
        "id": "gbIAGN-Feavu",
        "colab_type": "code",
        "outputId": "4a987971-92cb-44fb-fbdb-51da042d07ee",
        "colab": {
          "base_uri": "https://localhost:8080/",
          "height": 153
        }
      },
      "source": [
        "new_event_data_df.nunique(axis=0) #returns the number of unique values for each variable."
      ],
      "execution_count": 0,
      "outputs": [
        {
          "output_type": "execute_result",
          "data": {
            "text/plain": [
              "event_id     329125\n",
              "device_id      5223\n",
              "timestamp    240657\n",
              "longitude      5204\n",
              "latitude       5211\n",
              "city            113\n",
              "state             6\n",
              "dtype: int64"
            ]
          },
          "metadata": {
            "tags": []
          },
          "execution_count": 48
        }
      ]
    },
    {
      "cell_type": "code",
      "metadata": {
        "id": "aCIzt_vhekik",
        "colab_type": "code",
        "outputId": "c772355c-8782-4e2b-e450-eb398653500f",
        "colab": {
          "base_uri": "https://localhost:8080/",
          "height": 136
        }
      },
      "source": [
        "# Group By state\n",
        "df_size_by_state = new_event_data_df.groupby(['state']).size().reset_index()\n",
        "df_size_by_state.columns.values[1] = 'Count'  # renaming the size column\n",
        "print(df_size_by_state)"
      ],
      "execution_count": 0,
      "outputs": [
        {
          "output_type": "stream",
          "text": [
            "                      state   Count\n",
            "0  AndamanandNicobarIslands    1515\n",
            "1             AndhraPradesh  321332\n",
            "2           HimachalPradesh    1409\n",
            "3                 Meghalaya    1515\n",
            "4                   Mizoram    1613\n",
            "5               Pondicherry    1741\n"
          ],
          "name": "stdout"
        }
      ]
    },
    {
      "cell_type": "code",
      "metadata": {
        "id": "zC73PPHoexmX",
        "colab_type": "code",
        "outputId": "6418f7eb-0927-4309-a4d9-3181c2242640",
        "colab": {
          "base_uri": "https://localhost:8080/",
          "height": 221
        }
      },
      "source": [
        "new_event_data_df.info()"
      ],
      "execution_count": 0,
      "outputs": [
        {
          "output_type": "stream",
          "text": [
            "<class 'pandas.core.frame.DataFrame'>\n",
            "Int64Index: 329125 entries, 1868677 to 2197848\n",
            "Data columns (total 7 columns):\n",
            "event_id     329125 non-null float64\n",
            "device_id    329056 non-null float64\n",
            "timestamp    329125 non-null object\n",
            "longitude    329125 non-null object\n",
            "latitude     329125 non-null object\n",
            "city         329125 non-null object\n",
            "state        329125 non-null object\n",
            "dtypes: float64(2), object(5)\n",
            "memory usage: 20.1+ MB\n"
          ],
          "name": "stdout"
        }
      ]
    },
    {
      "cell_type": "code",
      "metadata": {
        "id": "CAluSgxhfFiP",
        "colab_type": "code",
        "outputId": "a3660e72-6927-4ff2-fb1c-6e2e799f17b4",
        "colab": {
          "base_uri": "https://localhost:8080/",
          "height": 51
        }
      },
      "source": [
        "new_event_data_df.device_id.unique()"
      ],
      "execution_count": 0,
      "outputs": [
        {
          "output_type": "execute_result",
          "data": {
            "text/plain": [
              "array([-7.97177847e+18, -2.45720187e+18, -1.35449895e+18, ...,\n",
              "       -2.42700765e+18,  1.59138181e+18,  9.71676291e+17])"
            ]
          },
          "metadata": {
            "tags": []
          },
          "execution_count": 51
        }
      ]
    },
    {
      "cell_type": "code",
      "metadata": {
        "id": "oicv_OHGfeLk",
        "colab_type": "code",
        "outputId": "c8864b6c-8e0a-4236-94b8-9473aaad1eb8",
        "colab": {
          "base_uri": "https://localhost:8080/",
          "height": 34
        }
      },
      "source": [
        "sum(pd.isnull(new_event_data_df['longitude'])) "
      ],
      "execution_count": 0,
      "outputs": [
        {
          "output_type": "execute_result",
          "data": {
            "text/plain": [
              "0"
            ]
          },
          "metadata": {
            "tags": []
          },
          "execution_count": 52
        }
      ]
    },
    {
      "cell_type": "code",
      "metadata": {
        "id": "Pp-V1Spaficd",
        "colab_type": "code",
        "outputId": "bb8cc184-6a7c-4b3f-f8a3-bbc365c841a0",
        "colab": {
          "base_uri": "https://localhost:8080/",
          "height": 34
        }
      },
      "source": [
        "sum(pd.isnull(new_event_data_df['latitude']))"
      ],
      "execution_count": 0,
      "outputs": [
        {
          "output_type": "execute_result",
          "data": {
            "text/plain": [
              "0"
            ]
          },
          "metadata": {
            "tags": []
          },
          "execution_count": 53
        }
      ]
    },
    {
      "cell_type": "code",
      "metadata": {
        "id": "19-EENr4fmTV",
        "colab_type": "code",
        "outputId": "a72142de-07e0-4bbd-c87f-e995f302ffc2",
        "colab": {
          "base_uri": "https://localhost:8080/",
          "height": 34
        }
      },
      "source": [
        "sum(pd.isnull(new_event_data_df['state'])) # Now null count reduce from 250 to 0 so we can say that we managed to eliminate null values in state column since we already targeted particualr states"
      ],
      "execution_count": 0,
      "outputs": [
        {
          "output_type": "execute_result",
          "data": {
            "text/plain": [
              "0"
            ]
          },
          "metadata": {
            "tags": []
          },
          "execution_count": 54
        }
      ]
    },
    {
      "cell_type": "code",
      "metadata": {
        "id": "oLoWO2v3fr7J",
        "colab_type": "code",
        "outputId": "4ceef6b4-8e3a-4844-c599-b674ae78313e",
        "colab": {
          "base_uri": "https://localhost:8080/",
          "height": 34
        }
      },
      "source": [
        "sum(pd.isnull(new_event_data_df['device_id'])) # Now we 've fond only 69 device id have null values which is earlier 453"
      ],
      "execution_count": 0,
      "outputs": [
        {
          "output_type": "execute_result",
          "data": {
            "text/plain": [
              "69"
            ]
          },
          "metadata": {
            "tags": []
          },
          "execution_count": 55
        }
      ]
    },
    {
      "cell_type": "code",
      "metadata": {
        "id": "3e5VudZ8f8Oh",
        "colab_type": "code",
        "colab": {}
      },
      "source": [
        "#dropping records with devide_id = NULL\n",
        "new_event_data_df.dropna(subset=['device_id'], inplace=True)"
      ],
      "execution_count": 0,
      "outputs": []
    },
    {
      "cell_type": "code",
      "metadata": {
        "id": "3j-Hn3MNgKgQ",
        "colab_type": "code",
        "outputId": "23f65d29-a88b-41ed-f2f9-94deb6b56ff3",
        "colab": {
          "base_uri": "https://localhost:8080/",
          "height": 34
        }
      },
      "source": [
        "sum(pd.isnull(new_event_data_df['device_id']))"
      ],
      "execution_count": 0,
      "outputs": [
        {
          "output_type": "execute_result",
          "data": {
            "text/plain": [
              "0"
            ]
          },
          "metadata": {
            "tags": []
          },
          "execution_count": 57
        }
      ]
    },
    {
      "cell_type": "code",
      "metadata": {
        "id": "x5Q6K64HgP-w",
        "colab_type": "code",
        "colab": {}
      },
      "source": [
        "# Convert device _id from float to int64\n",
        "new_event_data_df['device_id']=new_event_data_df['device_id'].astype(np.int64)"
      ],
      "execution_count": 0,
      "outputs": []
    },
    {
      "cell_type": "code",
      "metadata": {
        "id": "BsbVW4XYgzca",
        "colab_type": "code",
        "outputId": "703101c7-0af7-4f91-e8d5-7514504b641b",
        "colab": {
          "base_uri": "https://localhost:8080/",
          "height": 255
        }
      },
      "source": [
        "# Group By Device ID\n",
        "df_size_by_devID = new_event_data_df.groupby(['device_id']).size().reset_index()\n",
        "df_size_by_devID.columns.values[1] = 'Count'  # renaming the size column\n",
        "print(df_size_by_devID)"
      ],
      "execution_count": 0,
      "outputs": [
        {
          "output_type": "stream",
          "text": [
            "                device_id  Count\n",
            "0    -9222173362545970176     20\n",
            "1    -9215269475645635584     53\n",
            "2    -9213181390285349888      2\n",
            "3    -9211311018136103936     89\n",
            "4    -9206855930900386816    156\n",
            "...                   ...    ...\n",
            "5218  9216831296958913536     44\n",
            "5219  9217996670111389696      2\n",
            "5220  9219479903879164928      2\n",
            "5221  9219926280825641984     40\n",
            "5222  9220807070557263872     27\n",
            "\n",
            "[5223 rows x 2 columns]\n"
          ],
          "name": "stdout"
        }
      ]
    },
    {
      "cell_type": "code",
      "metadata": {
        "id": "_-hnNio4hGO9",
        "colab_type": "code",
        "colab": {}
      },
      "source": [
        "#Performing Pandas profiling on event data frame with specific states data\n",
        "profile_new_event_data_df = pandas_profiling.ProfileReport(new_event_data_df)\n",
        "profile_new_event_data_df.to_file(outputfile=\"Capstone1_Event_data_specific_States_preprocessing.html\")"
      ],
      "execution_count": 0,
      "outputs": []
    },
    {
      "cell_type": "markdown",
      "metadata": {
        "id": "sboocgzJsuYr",
        "colab_type": "text"
      },
      "source": [
        "**Merging Gender & Phone data frame**"
      ]
    },
    {
      "cell_type": "code",
      "metadata": {
        "id": "rrRv5i-E67a2",
        "colab_type": "code",
        "outputId": "9a687fe6-cc18-4a41-b02f-156b78c58d9f",
        "colab": {
          "base_uri": "https://localhost:8080/",
          "height": 204
        }
      },
      "source": [
        "phone_gender_combined = pd.merge(gender_age_df, phone_brand_df)\n",
        "phone_gender_combined.info()"
      ],
      "execution_count": 0,
      "outputs": [
        {
          "output_type": "stream",
          "text": [
            "<class 'pandas.core.frame.DataFrame'>\n",
            "Int64Index: 74617 entries, 0 to 74616\n",
            "Data columns (total 6 columns):\n",
            "device_id       74617 non-null int64\n",
            "gender          74617 non-null object\n",
            "age             74617 non-null int64\n",
            "group           74617 non-null object\n",
            "phone_brand     74617 non-null object\n",
            "device_model    74617 non-null object\n",
            "dtypes: int64(2), object(4)\n",
            "memory usage: 4.0+ MB\n"
          ],
          "name": "stdout"
        }
      ]
    },
    {
      "cell_type": "code",
      "metadata": {
        "id": "VzCuvQ_oaNQt",
        "colab_type": "code",
        "outputId": "eb7bdbc1-ab99-40de-be02-50d87ff917d1",
        "colab": {
          "base_uri": "https://localhost:8080/",
          "height": 204
        }
      },
      "source": [
        "phone_gender_combined.head()"
      ],
      "execution_count": 0,
      "outputs": [
        {
          "output_type": "execute_result",
          "data": {
            "text/html": [
              "<div>\n",
              "<style scoped>\n",
              "    .dataframe tbody tr th:only-of-type {\n",
              "        vertical-align: middle;\n",
              "    }\n",
              "\n",
              "    .dataframe tbody tr th {\n",
              "        vertical-align: top;\n",
              "    }\n",
              "\n",
              "    .dataframe thead th {\n",
              "        text-align: right;\n",
              "    }\n",
              "</style>\n",
              "<table border=\"1\" class=\"dataframe\">\n",
              "  <thead>\n",
              "    <tr style=\"text-align: right;\">\n",
              "      <th></th>\n",
              "      <th>device_id</th>\n",
              "      <th>gender</th>\n",
              "      <th>age</th>\n",
              "      <th>group</th>\n",
              "      <th>phone_brand</th>\n",
              "      <th>device_model</th>\n",
              "    </tr>\n",
              "  </thead>\n",
              "  <tbody>\n",
              "    <tr>\n",
              "      <th>0</th>\n",
              "      <td>-8076087639492063270</td>\n",
              "      <td>M</td>\n",
              "      <td>35</td>\n",
              "      <td>M32-38</td>\n",
              "      <td>Xiaomi</td>\n",
              "      <td>MI 2</td>\n",
              "    </tr>\n",
              "    <tr>\n",
              "      <th>1</th>\n",
              "      <td>-2897161552818060146</td>\n",
              "      <td>M</td>\n",
              "      <td>35</td>\n",
              "      <td>M32-38</td>\n",
              "      <td>Xiaomi</td>\n",
              "      <td>MI 2</td>\n",
              "    </tr>\n",
              "    <tr>\n",
              "      <th>2</th>\n",
              "      <td>-8260683887967679142</td>\n",
              "      <td>M</td>\n",
              "      <td>35</td>\n",
              "      <td>M32-38</td>\n",
              "      <td>Xiaomi</td>\n",
              "      <td>MI 2</td>\n",
              "    </tr>\n",
              "    <tr>\n",
              "      <th>3</th>\n",
              "      <td>-4938849341048082022</td>\n",
              "      <td>M</td>\n",
              "      <td>30</td>\n",
              "      <td>M29-31</td>\n",
              "      <td>Samsung</td>\n",
              "      <td>Galaxy S4</td>\n",
              "    </tr>\n",
              "    <tr>\n",
              "      <th>4</th>\n",
              "      <td>245133531816851882</td>\n",
              "      <td>M</td>\n",
              "      <td>30</td>\n",
              "      <td>M29-31</td>\n",
              "      <td>SUGAR</td>\n",
              "      <td>时尚手机</td>\n",
              "    </tr>\n",
              "  </tbody>\n",
              "</table>\n",
              "</div>"
            ],
            "text/plain": [
              "             device_id gender  age   group phone_brand device_model\n",
              "0 -8076087639492063270      M   35  M32-38      Xiaomi         MI 2\n",
              "1 -2897161552818060146      M   35  M32-38      Xiaomi         MI 2\n",
              "2 -8260683887967679142      M   35  M32-38      Xiaomi         MI 2\n",
              "3 -4938849341048082022      M   30  M29-31     Samsung    Galaxy S4\n",
              "4   245133531816851882      M   30  M29-31       SUGAR         时尚手机"
            ]
          },
          "metadata": {
            "tags": []
          },
          "execution_count": 63
        }
      ]
    },
    {
      "cell_type": "code",
      "metadata": {
        "id": "mOVKTYqPNrnb",
        "colab_type": "code",
        "outputId": "eed76e22-730d-4698-986c-0724ae73e026",
        "colab": {
          "base_uri": "https://localhost:8080/",
          "height": 34
        }
      },
      "source": [
        "sum(pd.isnull(phone_gender_combined['device_id']))"
      ],
      "execution_count": 0,
      "outputs": [
        {
          "output_type": "execute_result",
          "data": {
            "text/plain": [
              "0"
            ]
          },
          "metadata": {
            "tags": []
          },
          "execution_count": 64
        }
      ]
    },
    {
      "cell_type": "code",
      "metadata": {
        "id": "yqkdV-GhE10V",
        "colab_type": "code",
        "outputId": "3a1d7dc4-a79f-4765-8c8f-58f606beb90f",
        "colab": {
          "base_uri": "https://localhost:8080/",
          "height": 136
        }
      },
      "source": [
        "phone_gender_combined.nunique(axis=0) #returns the number of unique values for each variable"
      ],
      "execution_count": 0,
      "outputs": [
        {
          "output_type": "execute_result",
          "data": {
            "text/plain": [
              "device_id       74617\n",
              "gender              2\n",
              "age                85\n",
              "group              12\n",
              "phone_brand       110\n",
              "device_model     1427\n",
              "dtype: int64"
            ]
          },
          "metadata": {
            "tags": []
          },
          "execution_count": 65
        }
      ]
    },
    {
      "cell_type": "code",
      "metadata": {
        "id": "YeoEarm_hxNJ",
        "colab_type": "code",
        "colab": {}
      },
      "source": [
        "#Performing Pandas profiling on phone_gender combined dataframe\n",
        "profile_combined_phone_gender_df = pandas_profiling.ProfileReport(phone_gender_combined)\n",
        "profile_combined_phone_gender_df.to_file(outputfile=\"Capstone1_Phone_Gender_combined_preprocessing.html\")"
      ],
      "execution_count": 0,
      "outputs": []
    },
    {
      "cell_type": "markdown",
      "metadata": {
        "id": "z-G4QZYE_M0_",
        "colab_type": "text"
      },
      "source": [
        "**Now we are trying to merge New dataframe with phone & age brand with condtion**"
      ]
    },
    {
      "cell_type": "code",
      "metadata": {
        "id": "rNLFapHD_oSh",
        "colab_type": "code",
        "outputId": "a7163018-da23-4e2d-8eaf-50bc323b389f",
        "colab": {
          "base_uri": "https://localhost:8080/",
          "height": 493
        }
      },
      "source": [
        "dfnew_total = pd.merge(phone_gender_combined, new_event_data_df, on='device_id', how='right') #Right Join on device_id ( phone & gender on left & event data frame on right)\n",
        "dfnew_total.info()\n",
        "dfnew_total.head()\n"
      ],
      "execution_count": 0,
      "outputs": [
        {
          "output_type": "stream",
          "text": [
            "<class 'pandas.core.frame.DataFrame'>\n",
            "Int64Index: 329056 entries, 0 to 329055\n",
            "Data columns (total 12 columns):\n",
            "device_id       329056 non-null int64\n",
            "gender          669 non-null object\n",
            "age             669 non-null float64\n",
            "group           669 non-null object\n",
            "phone_brand     669 non-null object\n",
            "device_model    669 non-null object\n",
            "event_id        329056 non-null float64\n",
            "timestamp       329056 non-null object\n",
            "longitude       329056 non-null object\n",
            "latitude        329056 non-null object\n",
            "city            329056 non-null object\n",
            "state           329056 non-null object\n",
            "dtypes: float64(2), int64(1), object(9)\n",
            "memory usage: 32.6+ MB\n"
          ],
          "name": "stdout"
        },
        {
          "output_type": "execute_result",
          "data": {
            "text/html": [
              "<div>\n",
              "<style scoped>\n",
              "    .dataframe tbody tr th:only-of-type {\n",
              "        vertical-align: middle;\n",
              "    }\n",
              "\n",
              "    .dataframe tbody tr th {\n",
              "        vertical-align: top;\n",
              "    }\n",
              "\n",
              "    .dataframe thead th {\n",
              "        text-align: right;\n",
              "    }\n",
              "</style>\n",
              "<table border=\"1\" class=\"dataframe\">\n",
              "  <thead>\n",
              "    <tr style=\"text-align: right;\">\n",
              "      <th></th>\n",
              "      <th>device_id</th>\n",
              "      <th>gender</th>\n",
              "      <th>age</th>\n",
              "      <th>group</th>\n",
              "      <th>phone_brand</th>\n",
              "      <th>device_model</th>\n",
              "      <th>event_id</th>\n",
              "      <th>timestamp</th>\n",
              "      <th>longitude</th>\n",
              "      <th>latitude</th>\n",
              "      <th>city</th>\n",
              "      <th>state</th>\n",
              "    </tr>\n",
              "  </thead>\n",
              "  <tbody>\n",
              "    <tr>\n",
              "      <th>0</th>\n",
              "      <td>-6552729385743211</td>\n",
              "      <td>M</td>\n",
              "      <td>28.0</td>\n",
              "      <td>M27-28</td>\n",
              "      <td>vivo</td>\n",
              "      <td>X3T</td>\n",
              "      <td>189757.0</td>\n",
              "      <td>2016-05-07 21:40:38</td>\n",
              "      <td>78.487472</td>\n",
              "      <td>17.338946999999994</td>\n",
              "      <td>Rajendranagar</td>\n",
              "      <td>AndhraPradesh</td>\n",
              "    </tr>\n",
              "    <tr>\n",
              "      <th>1</th>\n",
              "      <td>-6552729385743211</td>\n",
              "      <td>M</td>\n",
              "      <td>28.0</td>\n",
              "      <td>M27-28</td>\n",
              "      <td>vivo</td>\n",
              "      <td>X3T</td>\n",
              "      <td>190875.0</td>\n",
              "      <td>2016-05-04 22:31:06</td>\n",
              "      <td>78.487472</td>\n",
              "      <td>17.338946999999994</td>\n",
              "      <td>Rajendranagar</td>\n",
              "      <td>AndhraPradesh</td>\n",
              "    </tr>\n",
              "    <tr>\n",
              "      <th>2</th>\n",
              "      <td>-6552729385743211</td>\n",
              "      <td>M</td>\n",
              "      <td>28.0</td>\n",
              "      <td>M27-28</td>\n",
              "      <td>vivo</td>\n",
              "      <td>X3T</td>\n",
              "      <td>236452.0</td>\n",
              "      <td>2016-05-04 21:45:10</td>\n",
              "      <td>78.487472</td>\n",
              "      <td>17.338946999999994</td>\n",
              "      <td>Rajendranagar</td>\n",
              "      <td>AndhraPradesh</td>\n",
              "    </tr>\n",
              "    <tr>\n",
              "      <th>3</th>\n",
              "      <td>-6552729385743211</td>\n",
              "      <td>M</td>\n",
              "      <td>28.0</td>\n",
              "      <td>M27-28</td>\n",
              "      <td>vivo</td>\n",
              "      <td>X3T</td>\n",
              "      <td>237777.0</td>\n",
              "      <td>2016-05-04 22:33:57</td>\n",
              "      <td>78.487472</td>\n",
              "      <td>17.338946999999994</td>\n",
              "      <td>Rajendranagar</td>\n",
              "      <td>AndhraPradesh</td>\n",
              "    </tr>\n",
              "    <tr>\n",
              "      <th>4</th>\n",
              "      <td>-6552729385743211</td>\n",
              "      <td>M</td>\n",
              "      <td>28.0</td>\n",
              "      <td>M27-28</td>\n",
              "      <td>vivo</td>\n",
              "      <td>X3T</td>\n",
              "      <td>289077.0</td>\n",
              "      <td>2016-05-04 21:14:14</td>\n",
              "      <td>78.487472</td>\n",
              "      <td>17.338946999999994</td>\n",
              "      <td>Rajendranagar</td>\n",
              "      <td>AndhraPradesh</td>\n",
              "    </tr>\n",
              "  </tbody>\n",
              "</table>\n",
              "</div>"
            ],
            "text/plain": [
              "          device_id gender  ...           city          state\n",
              "0 -6552729385743211      M  ...  Rajendranagar  AndhraPradesh\n",
              "1 -6552729385743211      M  ...  Rajendranagar  AndhraPradesh\n",
              "2 -6552729385743211      M  ...  Rajendranagar  AndhraPradesh\n",
              "3 -6552729385743211      M  ...  Rajendranagar  AndhraPradesh\n",
              "4 -6552729385743211      M  ...  Rajendranagar  AndhraPradesh\n",
              "\n",
              "[5 rows x 12 columns]"
            ]
          },
          "metadata": {
            "tags": []
          },
          "execution_count": 67
        }
      ]
    },
    {
      "cell_type": "code",
      "metadata": {
        "id": "RjaSV8Y1Aa3Q",
        "colab_type": "code",
        "outputId": "31dd2dc4-73be-4a0d-f80b-64ab84221f7f",
        "colab": {
          "base_uri": "https://localhost:8080/",
          "height": 34
        }
      },
      "source": [
        "#Phone brand null count in new dataframe\n",
        "sum(pd.isnull(dfnew_total['phone_brand']))"
      ],
      "execution_count": 0,
      "outputs": [
        {
          "output_type": "execute_result",
          "data": {
            "text/plain": [
              "328387"
            ]
          },
          "metadata": {
            "tags": []
          },
          "execution_count": 68
        }
      ]
    },
    {
      "cell_type": "code",
      "metadata": {
        "id": "fe_rtI2tIQIh",
        "colab_type": "code",
        "outputId": "c6dd2064-9c94-4ea1-f852-7a8c3a26fa41",
        "colab": {
          "base_uri": "https://localhost:8080/",
          "height": 238
        }
      },
      "source": [
        "dfnew_total.nunique(axis=0)#returns the number of unique values for each variable."
      ],
      "execution_count": 0,
      "outputs": [
        {
          "output_type": "execute_result",
          "data": {
            "text/plain": [
              "device_id         5223\n",
              "gender               2\n",
              "age                 16\n",
              "group               11\n",
              "phone_brand          7\n",
              "device_model        27\n",
              "event_id        329056\n",
              "timestamp       240626\n",
              "longitude         5204\n",
              "latitude          5211\n",
              "city               113\n",
              "state                6\n",
              "dtype: int64"
            ]
          },
          "metadata": {
            "tags": []
          },
          "execution_count": 69
        }
      ]
    },
    {
      "cell_type": "markdown",
      "metadata": {
        "id": "bJ4IV-fNZMXo",
        "colab_type": "text"
      },
      "source": [
        "**dfnew dataframe Profiling**"
      ]
    },
    {
      "cell_type": "code",
      "metadata": {
        "id": "4aa0mw0uZEcf",
        "colab_type": "code",
        "colab": {}
      },
      "source": [
        "profile = pandas_profiling.ProfileReport(dfnew_total)\n",
        "profile.to_file(outputfile=\"Dfnew_total_preprocessing.html\")"
      ],
      "execution_count": 0,
      "outputs": []
    },
    {
      "cell_type": "code",
      "metadata": {
        "id": "mzaUXPlWz1RY",
        "colab_type": "code",
        "outputId": "e6bd2621-4457-4dda-acec-bf742360f00f",
        "colab": {
          "base_uri": "https://localhost:8080/",
          "height": 646
        }
      },
      "source": [
        "dfnew_total.groupby('phone_brand')['group'].nunique().plot(kind='bar',figsize = (10, 10))\n",
        "plt.show()"
      ],
      "execution_count": 0,
      "outputs": [
        {
          "output_type": "display_data",
          "data": {
            "image/png": "[encoded data removed]",
            "text/plain": [
              "<Figure size 720x720 with 1 Axes>"
            ]
          },
          "metadata": {
            "tags": []
          }
        }
      ]
    },
    {
      "cell_type": "code",
      "metadata": {
        "id": "qPq6SCUU0zMu",
        "colab_type": "code",
        "outputId": "fabe5107-4b13-4a1f-83fb-2cf74a18ba6b",
        "colab": {
          "base_uri": "https://localhost:8080/",
          "height": 646
        }
      },
      "source": [
        "dfnew_total.groupby(['phone_brand','group']).size().unstack().plot(kind='bar',stacked=True,figsize = (20, 10),legend='true')\n",
        "plt.show()"
      ],
      "execution_count": 0,
      "outputs": [
        {
          "output_type": "display_data",
          "data": {
            "image/png": "[encoded data removed]",
            "text/plain": [
              "<Figure size 1440x720 with 1 Axes>"
            ]
          },
          "metadata": {
            "tags": []
          }
        }
      ]
    },
    {
      "cell_type": "code",
      "metadata": {
        "id": "khCIASyo9umv",
        "colab_type": "code",
        "outputId": "5ccb22e9-6330-4d2d-dc14-a983d4c59da6",
        "colab": {
          "base_uri": "https://localhost:8080/",
          "height": 646
        }
      },
      "source": [
        "dfnew_total.groupby(['phone_brand','city']).size().unstack().plot(kind='bar',stacked=True,figsize = (20, 10),legend='true')\n",
        "plt.show()"
      ],
      "execution_count": 0,
      "outputs": [
        {
          "output_type": "display_data",
          "data": {
            "image/png": "[encoded data removed]",
            "text/plain": [
              "<Figure size 1440x720 with 1 Axes>"
            ]
          },
          "metadata": {
            "tags": []
          }
        }
      ]
    },
    {
      "cell_type": "code",
      "metadata": {
        "id": "8UQlcvTP99Tl",
        "colab_type": "code",
        "outputId": "507dc367-ef14-41f0-d4cd-fcc6dad1b5f6",
        "colab": {
          "base_uri": "https://localhost:8080/",
          "height": 637
        }
      },
      "source": [
        "dfnew_total.groupby(['group','city']).size().unstack().plot(kind='bar',stacked=True,figsize = (20, 10),legend='true')\n",
        "plt.show()"
      ],
      "execution_count": 0,
      "outputs": [
        {
          "output_type": "display_data",
          "data": {
            "image/png": "[encoded data removed]",
            "text/plain": [
              "<Figure size 1440x720 with 1 Axes>"
            ]
          },
          "metadata": {
            "tags": []
          }
        }
      ]
    },
    {
      "cell_type": "code",
      "metadata": {
        "id": "MKwAX3zr86eT",
        "colab_type": "code",
        "colab": {}
      },
      "source": [
        "space = np.ones(21)/20\n",
        "dfnew_total.groupby['phone_brand'].value_counts().plot(kind='pie',fontsize=14, explode=space, startangle=160, figsize=(11,11), legend=True ,autopct='%3.1f%%',\n",
        "                                         wedgeprops=dict(width=0.15))"
      ],
      "execution_count": 0,
      "outputs": []
    },
    {
      "cell_type": "code",
      "metadata": {
        "id": "cK7BIqyV9EHq",
        "colab_type": "code",
        "outputId": "5d57bd74-8c73-4b84-9ecc-a1e606ce4325",
        "colab": {
          "base_uri": "https://localhost:8080/",
          "height": 500
        }
      },
      "source": [
        "dfnew_total['state'].value_counts().plot.bar(figsize=(10,5))\n",
        "plt.xlabel('state')\n",
        "plt.ylabel('device_id')\n",
        "plt.title('Statewise distribution of device_ids')"
      ],
      "execution_count": 0,
      "outputs": [
        {
          "output_type": "execute_result",
          "data": {
            "text/plain": [
              "Text(0.5, 1.0, 'Statewise distribution of device_ids')"
            ]
          },
          "metadata": {
            "tags": []
          },
          "execution_count": 75
        },
        {
          "output_type": "display_data",
          "data": {
            "image/png": "[encoded data removed]",
            "text/plain": [
              "<Figure size 720x360 with 1 Axes>"
            ]
          },
          "metadata": {
            "tags": []
          }
        }
      ]
    },
    {
      "cell_type": "code",
      "metadata": {
        "id": "19qbhE_Kn8TG",
        "colab_type": "code",
        "outputId": "96996f15-b2a0-4640-d6c9-6e07592584d5",
        "colab": {
          "base_uri": "https://localhost:8080/",
          "height": 68
        }
      },
      "source": [
        "dfnew_total.to_csv(\"final_data.csv\")\n",
        "dfnew_total.columns"
      ],
      "execution_count": 0,
      "outputs": [
        {
          "output_type": "execute_result",
          "data": {
            "text/plain": [
              "Index(['device_id', 'gender', 'age', 'group', 'phone_brand', 'device_model',\n",
              "       'event_id', 'timestamp', 'longitude', 'latitude', 'city', 'state'],\n",
              "      dtype='object')"
            ]
          },
          "metadata": {
            "tags": []
          },
          "execution_count": 76
        }
      ]
    },
    {
      "cell_type": "markdown",
      "metadata": {
        "id": "DVkyJnjO8nMH",
        "colab_type": "text"
      },
      "source": [
        "**Map realted code** "
      ]
    },
    {
      "cell_type": "code",
      "metadata": {
        "id": "_nDUbpDEHnwG",
        "colab_type": "code",
        "colab": {}
      },
      "source": [
        " \n",
        "latitude = 37.0902\n",
        "longitude = -95.7129\n",
        "\n",
        "#m = folium.Map([17.338947, 78.487472], zoom_start=5,width=500,height=500)\n",
        "traffic_map = folium.Map(location=[latitude, longitude], zoom_start=5)\n",
        "#stationArr = dfnew[['latitude', 'longitude']].as_matrix()\n",
        "\n",
        "# plot heatmap\n",
        "#m.add_children(plugins.HeatMap(stationArr, radius=15))\n",
        "#traffic_map"
      ],
      "execution_count": 0,
      "outputs": []
    },
    {
      "cell_type": "code",
      "metadata": {
        "id": "taBMrHDZJcG-",
        "colab_type": "code",
        "outputId": "62d12292-fbf0-4173-9de7-5a8756ef526f",
        "colab": {
          "base_uri": "https://localhost:8080/",
          "height": 34
        }
      },
      "source": [
        "locations = dfnew_total[['latitude', 'longitude']]\n",
        "locationlist = locations.values.tolist()\n",
        "len(locationlist)\n",
        "locationlist[7]"
      ],
      "execution_count": 0,
      "outputs": [
        {
          "output_type": "execute_result",
          "data": {
            "text/plain": [
              "['17.338946999999994', '78.487472']"
            ]
          },
          "metadata": {
            "tags": []
          },
          "execution_count": 82
        }
      ]
    },
    {
      "cell_type": "code",
      "metadata": {
        "id": "_cLLwnYdK3fl",
        "colab_type": "code",
        "outputId": "2b93993c-71e0-404a-bb74-076f245ef8af",
        "colab": {
          "base_uri": "https://localhost:8080/",
          "height": 34
        }
      },
      "source": [
        "len(locationlist)"
      ],
      "execution_count": 0,
      "outputs": [
        {
          "output_type": "execute_result",
          "data": {
            "text/plain": [
              "329056"
            ]
          },
          "metadata": {
            "tags": []
          },
          "execution_count": 83
        }
      ]
    },
    {
      "cell_type": "code",
      "metadata": {
        "id": "4jJsigw3Kc97",
        "colab_type": "code",
        "colab": {}
      },
      "source": [
        "import sys\n",
        "sys.setrecursionlimit(329056)"
      ],
      "execution_count": 0,
      "outputs": []
    },
    {
      "cell_type": "code",
      "metadata": {
        "id": "UVfbLkUFKpvy",
        "colab_type": "code",
        "outputId": "14cf83fe-3897-4b86-85de-b621e5084226",
        "colab": {
          "base_uri": "https://localhost:8080/",
          "height": 34
        }
      },
      "source": [
        "sys.getrecursionlimit()"
      ],
      "execution_count": 0,
      "outputs": [
        {
          "output_type": "execute_result",
          "data": {
            "text/plain": [
              "329056"
            ]
          },
          "metadata": {
            "tags": []
          },
          "execution_count": 85
        }
      ]
    },
    {
      "cell_type": "code",
      "metadata": {
        "id": "szFiTES9Jx0t",
        "colab_type": "code",
        "colab": {}
      },
      "source": [
        "map = folium.Map(location=[17.338946999999994, 78.487472], zoom_start=12)\n",
        "for point in range(0, 1000):\n",
        "    folium.Marker(locationlist[point], popup=dfnew_total['event_id'][point]).add_to(map)\n",
        "map"
      ],
      "execution_count": 0,
      "outputs": []
    }
  ]
}
