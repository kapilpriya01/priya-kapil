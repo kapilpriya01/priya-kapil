{
  "nbformat": 4,
  "nbformat_minor": 0,
  "metadata": {
    "kernelspec": {
      "display_name": "Python 3",
      "language": "python",
      "name": "python3"
    },
    "language_info": {
      "codemirror_mode": {
        "name": "ipython",
        "version": 3
      },
      "file_extension": ".py",
      "mimetype": "text/x-python",
      "name": "python",
      "nbconvert_exporter": "python",
      "pygments_lexer": "ipython3",
      "version": "3.6.5"
    },
    "colab": {
      "name": "KmeansclusteringAssignment_Questions-1548931585592.ipynb",
      "provenance": [],
      "collapsed_sections": [],
      "include_colab_link": true
    }
  },
  "cells": [
    {
      "cell_type": "markdown",
      "metadata": {
        "id": "view-in-github",
        "colab_type": "text"
      },
      "source": [
        "<a href=\"https://colab.research.google.com/github/kapilpriya01/priya-kapil/blob/master/K_means/KmeansclusteringAssignment.ipynb\" target=\"_parent\"><img src=\"https://colab.research.google.com/assets/colab-badge.svg\" alt=\"Open In Colab\"/></a>"
      ]
    },
    {
      "cell_type": "markdown",
      "metadata": {
        "id": "ORSptfPJIMbH",
        "colab_type": "text"
      },
      "source": [
        "<img src=\"https://github.com/insaid2018/Term-1/blob/master/Images/INSAID_Full%20Logo.png?raw=true\" width=\"240\" height=\"360\" />\n",
        "\n",
        "# ASSIGNMENT\n",
        "## Customer Segmentation Dataset"
      ]
    },
    {
      "cell_type": "markdown",
      "metadata": {
        "id": "MiijURcBIMbL",
        "colab_type": "text"
      },
      "source": [
        "__Context__<br/>\n",
        "- In today's competitive world, it is crucial to understand customer bahaviour and categorise customers based on their demography and buying behaviour. This is broadly one aspect of customer segmentation that allows marketers to better tailor their marketing efforts to various audience subsets in terms of promotional, marketing and product development strategies.\n",
        "\n",
        "__Objective__<br/>\n",
        "- This assignment demonstrates the concept of segmentation of a customer dataset from an e-commerce site using k-means clustering in python. You will use the kmeans and the hierarchical clustering algorithms to derive the optimum number of clusters and understand the underlying customer segments based on the data provided.\n",
        "\n",
        "__About the dataset__<br/>\n",
        "- The dataset consists of Annual income (in `$`000) and their annual spend (in `$`000) on an e-commerce site for a period of one year. Let us explore the data using numpy and pandas libraries in python."
      ]
    },
    {
      "cell_type": "markdown",
      "metadata": {
        "id": "__BjzyEYIMbP",
        "colab_type": "text"
      },
      "source": [
        "### Import the dataset"
      ]
    },
    {
      "cell_type": "code",
      "metadata": {
        "id": "-VC-oJi1IMbS",
        "colab_type": "code",
        "outputId": "b1d84ccf-5f53-42a2-ca35-77b86ff0ce3c",
        "colab": {
          "base_uri": "https://localhost:8080/",
          "height": 204
        }
      },
      "source": [
        "import pandas as pd\n",
        "dataset= pd.read_csv('https://raw.githubusercontent.com/insaid2018/Term-3/master/Data/Assignment/CLV.csv')\n",
        "dataset.head()"
      ],
      "execution_count": 1,
      "outputs": [
        {
          "output_type": "execute_result",
          "data": {
            "text/html": [
              "<div>\n",
              "<style scoped>\n",
              "    .dataframe tbody tr th:only-of-type {\n",
              "        vertical-align: middle;\n",
              "    }\n",
              "\n",
              "    .dataframe tbody tr th {\n",
              "        vertical-align: top;\n",
              "    }\n",
              "\n",
              "    .dataframe thead th {\n",
              "        text-align: right;\n",
              "    }\n",
              "</style>\n",
              "<table border=\"1\" class=\"dataframe\">\n",
              "  <thead>\n",
              "    <tr style=\"text-align: right;\">\n",
              "      <th></th>\n",
              "      <th>INCOME</th>\n",
              "      <th>SPEND</th>\n",
              "    </tr>\n",
              "  </thead>\n",
              "  <tbody>\n",
              "    <tr>\n",
              "      <th>0</th>\n",
              "      <td>233</td>\n",
              "      <td>150</td>\n",
              "    </tr>\n",
              "    <tr>\n",
              "      <th>1</th>\n",
              "      <td>250</td>\n",
              "      <td>187</td>\n",
              "    </tr>\n",
              "    <tr>\n",
              "      <th>2</th>\n",
              "      <td>204</td>\n",
              "      <td>172</td>\n",
              "    </tr>\n",
              "    <tr>\n",
              "      <th>3</th>\n",
              "      <td>236</td>\n",
              "      <td>178</td>\n",
              "    </tr>\n",
              "    <tr>\n",
              "      <th>4</th>\n",
              "      <td>354</td>\n",
              "      <td>163</td>\n",
              "    </tr>\n",
              "  </tbody>\n",
              "</table>\n",
              "</div>"
            ],
            "text/plain": [
              "   INCOME  SPEND\n",
              "0     233    150\n",
              "1     250    187\n",
              "2     204    172\n",
              "3     236    178\n",
              "4     354    163"
            ]
          },
          "metadata": {
            "tags": []
          },
          "execution_count": 1
        }
      ]
    },
    {
      "cell_type": "code",
      "metadata": {
        "id": "40NbIkU1IMbm",
        "colab_type": "code",
        "outputId": "0456208c-32c9-4bf2-a0d4-26daf7f93046",
        "colab": {
          "base_uri": "https://localhost:8080/",
          "height": 312
        }
      },
      "source": [
        "import matplotlib.pyplot as plt\n",
        "% matplotlib inline\n",
        "dataset.mean().plot(kind='bar')\n"
      ],
      "execution_count": 2,
      "outputs": [
        {
          "output_type": "execute_result",
          "data": {
            "text/plain": [
              "<matplotlib.axes._subplots.AxesSubplot at 0x7fbb2c6f4e48>"
            ]
          },
          "metadata": {
            "tags": []
          },
          "execution_count": 2
        },
        {
          "output_type": "display_data",
          "data": {
            "image/png": "[encoded data removed]",
            "text/plain": [
              "<Figure size 432x288 with 1 Axes>"
            ]
          },
          "metadata": {
            "tags": [],
            "needs_background": "light"
          }
        }
      ]
    },
    {
      "cell_type": "markdown",
      "metadata": {
        "id": "xEyxR_GRIMb2",
        "colab_type": "text"
      },
      "source": [
        "### Check the shape of the dataset"
      ]
    },
    {
      "cell_type": "code",
      "metadata": {
        "colab_type": "code",
        "id": "r-NdDTW3ylAu",
        "outputId": "7970ff89-6d55-4c49-9c04-fcf3a129d6d5",
        "colab": {
          "base_uri": "https://localhost:8080/",
          "height": 34
        }
      },
      "source": [
        "dataset.shape"
      ],
      "execution_count": 3,
      "outputs": [
        {
          "output_type": "execute_result",
          "data": {
            "text/plain": [
              "(303, 2)"
            ]
          },
          "metadata": {
            "tags": []
          },
          "execution_count": 3
        }
      ]
    },
    {
      "cell_type": "markdown",
      "metadata": {
        "id": "JXdgGxjpIMcG",
        "colab_type": "text"
      },
      "source": [
        "### Check the columns present in the dataset"
      ]
    },
    {
      "cell_type": "code",
      "metadata": {
        "colab_type": "code",
        "id": "fzrXmgB6yrnK",
        "outputId": "e2e50f3c-56f2-496e-f494-6b539f17e299",
        "colab": {
          "base_uri": "https://localhost:8080/",
          "height": 34
        }
      },
      "source": [
        "dataset.columns"
      ],
      "execution_count": 4,
      "outputs": [
        {
          "output_type": "execute_result",
          "data": {
            "text/plain": [
              "Index(['INCOME', 'SPEND'], dtype='object')"
            ]
          },
          "metadata": {
            "tags": []
          },
          "execution_count": 4
        }
      ]
    },
    {
      "cell_type": "markdown",
      "metadata": {
        "id": "QfkxJ8QYIMcW",
        "colab_type": "text"
      },
      "source": [
        "### Check the descriptive statistics of the dataset"
      ]
    },
    {
      "cell_type": "code",
      "metadata": {
        "id": "Wmim_UOFIMcZ",
        "colab_type": "code",
        "outputId": "6ab78e49-4396-4cf2-feec-b9e016d3e8d5",
        "colab": {
          "base_uri": "https://localhost:8080/",
          "height": 111
        }
      },
      "source": [
        "dataset.describe().transpose()"
      ],
      "execution_count": 5,
      "outputs": [
        {
          "output_type": "execute_result",
          "data": {
            "text/html": [
              "<div>\n",
              "<style scoped>\n",
              "    .dataframe tbody tr th:only-of-type {\n",
              "        vertical-align: middle;\n",
              "    }\n",
              "\n",
              "    .dataframe tbody tr th {\n",
              "        vertical-align: top;\n",
              "    }\n",
              "\n",
              "    .dataframe thead th {\n",
              "        text-align: right;\n",
              "    }\n",
              "</style>\n",
              "<table border=\"1\" class=\"dataframe\">\n",
              "  <thead>\n",
              "    <tr style=\"text-align: right;\">\n",
              "      <th></th>\n",
              "      <th>count</th>\n",
              "      <th>mean</th>\n",
              "      <th>std</th>\n",
              "      <th>min</th>\n",
              "      <th>25%</th>\n",
              "      <th>50%</th>\n",
              "      <th>75%</th>\n",
              "      <th>max</th>\n",
              "    </tr>\n",
              "  </thead>\n",
              "  <tbody>\n",
              "    <tr>\n",
              "      <th>INCOME</th>\n",
              "      <td>303.0</td>\n",
              "      <td>245.273927</td>\n",
              "      <td>48.499412</td>\n",
              "      <td>126.0</td>\n",
              "      <td>211.0</td>\n",
              "      <td>240.0</td>\n",
              "      <td>274.0</td>\n",
              "      <td>417.0</td>\n",
              "    </tr>\n",
              "    <tr>\n",
              "      <th>SPEND</th>\n",
              "      <td>303.0</td>\n",
              "      <td>149.646865</td>\n",
              "      <td>22.905161</td>\n",
              "      <td>71.0</td>\n",
              "      <td>133.5</td>\n",
              "      <td>153.0</td>\n",
              "      <td>166.0</td>\n",
              "      <td>202.0</td>\n",
              "    </tr>\n",
              "  </tbody>\n",
              "</table>\n",
              "</div>"
            ],
            "text/plain": [
              "        count        mean        std    min    25%    50%    75%    max\n",
              "INCOME  303.0  245.273927  48.499412  126.0  211.0  240.0  274.0  417.0\n",
              "SPEND   303.0  149.646865  22.905161   71.0  133.5  153.0  166.0  202.0"
            ]
          },
          "metadata": {
            "tags": []
          },
          "execution_count": 5
        }
      ]
    },
    {
      "cell_type": "markdown",
      "metadata": {
        "id": "Q7m1Y8KuIMcm",
        "colab_type": "text"
      },
      "source": [
        "The mean annual income is `$`245000 and the mean annual spend is `$`149000. "
      ]
    },
    {
      "cell_type": "markdown",
      "metadata": {
        "id": "JICx-joQIMco",
        "colab_type": "text"
      },
      "source": [
        "### Check the info of the dataset"
      ]
    },
    {
      "cell_type": "code",
      "metadata": {
        "id": "JwXbCZS2IMcr",
        "colab_type": "code",
        "outputId": "cf058ff5-c1ff-4372-d6f3-177cb405c3d4",
        "colab": {
          "base_uri": "https://localhost:8080/",
          "height": 170
        }
      },
      "source": [
        "dataset.info()"
      ],
      "execution_count": 6,
      "outputs": [
        {
          "output_type": "stream",
          "text": [
            "<class 'pandas.core.frame.DataFrame'>\n",
            "RangeIndex: 303 entries, 0 to 302\n",
            "Data columns (total 2 columns):\n",
            " #   Column  Non-Null Count  Dtype\n",
            "---  ------  --------------  -----\n",
            " 0   INCOME  303 non-null    int64\n",
            " 1   SPEND   303 non-null    int64\n",
            "dtypes: int64(2)\n",
            "memory usage: 4.9 KB\n"
          ],
          "name": "stdout"
        }
      ]
    },
    {
      "cell_type": "markdown",
      "metadata": {
        "id": "Sq6nr224IMc1",
        "colab_type": "text"
      },
      "source": [
        "### Q 1. Write a code to check the missing values present in the dataset. "
      ]
    },
    {
      "cell_type": "code",
      "metadata": {
        "id": "iLxubbb5IMc2",
        "colab_type": "code",
        "outputId": "7e898014-4b3b-47b5-c405-242d3c482bea",
        "colab": {
          "base_uri": "https://localhost:8080/",
          "height": 68
        }
      },
      "source": [
        "def generate():\n",
        "    return dataset.isnull().sum()  # Your variable to return\n",
        "generate()"
      ],
      "execution_count": 7,
      "outputs": [
        {
          "output_type": "execute_result",
          "data": {
            "text/plain": [
              "INCOME    0\n",
              "SPEND     0\n",
              "dtype: int64"
            ]
          },
          "metadata": {
            "tags": []
          },
          "execution_count": 7
        }
      ]
    },
    {
      "cell_type": "markdown",
      "metadata": {
        "id": "Iv_WAnIiIMc6",
        "colab_type": "text"
      },
      "source": [
        "### Q 2. Illustrate the distribution of the annual income and annual spend with a distplot."
      ]
    },
    {
      "cell_type": "code",
      "metadata": {
        "id": "1Cz4VoJILIyD",
        "colab_type": "code",
        "outputId": "74239fe8-62a6-471e-f309-b15cd7ced75a",
        "colab": {
          "base_uri": "https://localhost:8080/",
          "height": 71
        }
      },
      "source": [
        "import seaborn as sns\n",
        "import matplotlib.pyplot as plt"
      ],
      "execution_count": 8,
      "outputs": [
        {
          "output_type": "stream",
          "text": [
            "/usr/local/lib/python3.6/dist-packages/statsmodels/tools/_testing.py:19: FutureWarning: pandas.util.testing is deprecated. Use the functions in the public API at pandas.testing instead.\n",
            "  import pandas.util.testing as tm\n"
          ],
          "name": "stderr"
        }
      ]
    },
    {
      "cell_type": "code",
      "metadata": {
        "id": "KdpiHV75IMc7",
        "colab_type": "code",
        "outputId": "4dbe843f-3544-4397-d560-3425b21d4c41",
        "colab": {
          "base_uri": "https://localhost:8080/",
          "height": 279
        }
      },
      "source": [
        "def generate():\n",
        "    # Your code here\n",
        "    income = sns.distplot(dataset['INCOME'],label='income')\n",
        "    spend = sns.distplot(dataset['SPEND'],label='spend')\n",
        "    plt.xlabel('income/spend')\n",
        "    plt.legend()\n",
        "    plt.show()\n",
        "    return\n",
        "generate()"
      ],
      "execution_count": 9,
      "outputs": [
        {
          "output_type": "display_data",
          "data": {
            "image/png": "[encoded data removed]",
            "text/plain": [
              "<Figure size 432x288 with 1 Axes>"
            ]
          },
          "metadata": {
            "tags": [],
            "needs_background": "light"
          }
        }
      ]
    },
    {
      "cell_type": "markdown",
      "metadata": {
        "id": "SgQZIyv6IMc_",
        "colab_type": "text"
      },
      "source": [
        "### Q 3. Illustrate the distribution of the annual income and annual spend with Violinplot."
      ]
    },
    {
      "cell_type": "code",
      "metadata": {
        "id": "z-J62wQVIMdA",
        "colab_type": "code",
        "outputId": "62fec8db-c705-4e1f-f7f1-26293510ce91",
        "colab": {
          "base_uri": "https://localhost:8080/",
          "height": 279
        }
      },
      "source": [
        "def generate():\n",
        "    # Your code here\n",
        "    plt.subplot(1,2,1)\n",
        "    sns.violinplot(data=dataset,x='INCOME',color='skyblue')\n",
        "\n",
        "    plt.subplot(1,2,2)\n",
        "    sns.violinplot(data=dataset,x='SPEND',colour='lightgreen')\n",
        "    return\n",
        "    plt.show()\n",
        "generate()"
      ],
      "execution_count": 10,
      "outputs": [
        {
          "output_type": "display_data",
          "data": {
            "image/png": "[encoded data removed]",
            "text/plain": [
              "<Figure size 432x288 with 2 Axes>"
            ]
          },
          "metadata": {
            "tags": [],
            "needs_background": "light"
          }
        }
      ]
    },
    {
      "cell_type": "markdown",
      "metadata": {
        "id": "DGRRDUWjIMdF",
        "colab_type": "text"
      },
      "source": [
        "### Q 4. Draw scatter plot of Spend versus Income to understand the spread, use color as black and size of marker as 100."
      ]
    },
    {
      "cell_type": "code",
      "metadata": {
        "id": "bbIw0thZIMdG",
        "colab_type": "code",
        "outputId": "a361a877-b665-429d-d5cd-04282546844a",
        "colab": {
          "base_uri": "https://localhost:8080/",
          "height": 265
        }
      },
      "source": [
        "def generate():\n",
        "    # Your code here\n",
        "    plt.scatter(dataset['INCOME'],dataset['SPEND'],c='black',s=100)\n",
        "    return\n",
        "generate()"
      ],
      "execution_count": 11,
      "outputs": [
        {
          "output_type": "display_data",
          "data": {
            "image/png": "[encoded data removed]",
            "text/plain": [
              "<Figure size 432x288 with 1 Axes>"
            ]
          },
          "metadata": {
            "tags": [],
            "needs_background": "light"
          }
        }
      ]
    },
    {
      "cell_type": "markdown",
      "metadata": {
        "id": "0zAalPMYIMdK",
        "colab_type": "text"
      },
      "source": [
        "__Plotting in 3D space__"
      ]
    },
    {
      "cell_type": "code",
      "metadata": {
        "id": "XEM2Xbe5wSOx",
        "colab_type": "code",
        "colab": {}
      },
      "source": [
        "from mpl_toolkits.mplot3d import Axes3D\n",
        "import numpy as np"
      ],
      "execution_count": 0,
      "outputs": []
    },
    {
      "cell_type": "code",
      "metadata": {
        "id": "MkUoXpnwIMdK",
        "colab_type": "code",
        "outputId": "f05764e0-0891-4f09-988b-44d152c1d2e1",
        "colab": {
          "base_uri": "https://localhost:8080/",
          "height": 336
        }
      },
      "source": [
        "fig = plt.figure()\n",
        "ax = Axes3D(fig)\n",
        "\n",
        "X = np.array(list(zip(dataset['INCOME'], dataset['SPEND'])))\n",
        "ax.scatter(X[:, 0], X[:, 1])"
      ],
      "execution_count": 13,
      "outputs": [
        {
          "output_type": "execute_result",
          "data": {
            "text/plain": [
              "<mpl_toolkits.mplot3d.art3d.Path3DCollection at 0x7fbb1edbafd0>"
            ]
          },
          "metadata": {
            "tags": []
          },
          "execution_count": 13
        },
        {
          "output_type": "display_data",
          "data": {
            "image/png": "[encoded data removed]",
            "text/plain": [
              "<Figure size 432x288 with 1 Axes>"
            ]
          },
          "metadata": {
            "tags": [],
            "needs_background": "light"
          }
        }
      ]
    },
    {
      "cell_type": "markdown",
      "metadata": {
        "id": "J8TFLLiHIMdO",
        "colab_type": "text"
      },
      "source": [
        "### Q 5 . Make a kmeans model to cluster the samples in 4 clusters taking the below parameters:\n",
        "- init='k-means++',\n",
        "- max_iter=300, \n",
        "- n_init=10,\n",
        "- random_state=0\n",
        "\n",
        "### Return the model.\n",
        "\n",
        "\n",
        "### Also Compute cluster centers and predict cluster index for each sample using fit_predict method(Return this variable also)"
      ]
    },
    {
      "cell_type": "code",
      "metadata": {
        "id": "OOvyf4Lmy4_V",
        "colab_type": "code",
        "colab": {}
      },
      "source": [
        "from sklearn.cluster import KMeans"
      ],
      "execution_count": 0,
      "outputs": []
    },
    {
      "cell_type": "code",
      "metadata": {
        "id": "g0O5A4oaIMdP",
        "colab_type": "code",
        "colab": {}
      },
      "source": [
        "def generate():\n",
        "    # Your code here\n",
        "    km4 = KMeans(n_init=10,init= 'k-means++',max_iter=300,random_state=0,n_clusters=4)\n",
        "    return km4, km4.fit_predict(X) # your variables here\n",
        "km4, y_means = generate()"
      ],
      "execution_count": 0,
      "outputs": []
    },
    {
      "cell_type": "code",
      "metadata": {
        "id": "LlHWy5S01uXH",
        "colab_type": "code",
        "outputId": "93018868-d888-4124-fe0b-ff7027242f2a",
        "colab": {
          "base_uri": "https://localhost:8080/",
          "height": 68
        }
      },
      "source": [
        "km4"
      ],
      "execution_count": 16,
      "outputs": [
        {
          "output_type": "execute_result",
          "data": {
            "text/plain": [
              "KMeans(algorithm='auto', copy_x=True, init='k-means++', max_iter=300,\n",
              "       n_clusters=4, n_init=10, n_jobs=None, precompute_distances='auto',\n",
              "       random_state=0, tol=0.0001, verbose=0)"
            ]
          },
          "metadata": {
            "tags": []
          },
          "execution_count": 16
        }
      ]
    },
    {
      "cell_type": "code",
      "metadata": {
        "id": "5hEH9gaL1wJk",
        "colab_type": "code",
        "outputId": "59a27377-c1c9-4232-ac10-87084d144d2a",
        "colab": {
          "base_uri": "https://localhost:8080/",
          "height": 255
        }
      },
      "source": [
        "y_means"
      ],
      "execution_count": 17,
      "outputs": [
        {
          "output_type": "execute_result",
          "data": {
            "text/plain": [
              "array([1, 1, 2, 1, 3, 2, 3, 1, 2, 2, 1, 0, 1, 2, 1, 2, 3, 0, 1, 1, 1, 1,\n",
              "       1, 0, 2, 3, 2, 2, 3, 2, 2, 2, 1, 1, 2, 2, 3, 1, 1, 3, 3, 1, 2, 0,\n",
              "       3, 3, 1, 1, 2, 1, 1, 3, 1, 2, 1, 2, 1, 1, 2, 3, 0, 3, 2, 2, 2, 2,\n",
              "       2, 1, 1, 2, 1, 1, 2, 1, 2, 1, 1, 1, 2, 1, 1, 3, 3, 3, 0, 1, 1, 2,\n",
              "       2, 0, 1, 2, 1, 3, 2, 0, 3, 1, 3, 1, 1, 0, 2, 1, 2, 2, 0, 1, 1, 1,\n",
              "       3, 2, 3, 2, 1, 2, 2, 2, 2, 1, 3, 1, 1, 1, 2, 2, 2, 1, 2, 0, 2, 1,\n",
              "       3, 1, 3, 1, 2, 2, 2, 0, 3, 3, 2, 2, 2, 1, 1, 1, 1, 2, 1, 2, 1, 1,\n",
              "       2, 2, 1, 2, 2, 1, 1, 3, 2, 2, 2, 0, 0, 1, 1, 2, 1, 1, 3, 1, 2, 2,\n",
              "       1, 3, 2, 0, 3, 0, 3, 1, 0, 3, 1, 0, 1, 2, 3, 2, 2, 0, 2, 3, 1, 1,\n",
              "       0, 1, 2, 0, 0, 1, 2, 1, 1, 1, 2, 2, 1, 0, 2, 3, 1, 3, 0, 3, 0, 1,\n",
              "       3, 0, 1, 0, 0, 2, 0, 2, 3, 3, 1, 0, 3, 0, 3, 3, 3, 3, 3, 1, 0, 1,\n",
              "       2, 0, 2, 1, 3, 0, 1, 1, 3, 1, 0, 3, 0, 3, 0, 2, 1, 1, 1, 1, 0, 1,\n",
              "       2, 2, 3, 2, 0, 0, 1, 1, 0, 1, 0, 2, 0, 0, 3, 2, 3, 2, 2, 1, 2, 3,\n",
              "       2, 1, 3, 2, 2, 3, 1, 2, 2, 2, 2, 2, 0, 0, 2, 2, 1], dtype=int32)"
            ]
          },
          "metadata": {
            "tags": []
          },
          "execution_count": 17
        }
      ]
    },
    {
      "cell_type": "code",
      "metadata": {
        "id": "hzLuEz5G3Yqa",
        "colab_type": "code",
        "outputId": "56428621-a067-4c14-a4fe-0c6a87deb622",
        "colab": {
          "base_uri": "https://localhost:8080/",
          "height": 187
        }
      },
      "source": [
        "X[:10]"
      ],
      "execution_count": 18,
      "outputs": [
        {
          "output_type": "execute_result",
          "data": {
            "text/plain": [
              "array([[233, 150],\n",
              "       [250, 187],\n",
              "       [204, 172],\n",
              "       [236, 178],\n",
              "       [354, 163],\n",
              "       [192, 148],\n",
              "       [294, 153],\n",
              "       [263, 173],\n",
              "       [199, 162],\n",
              "       [168, 174]])"
            ]
          },
          "metadata": {
            "tags": []
          },
          "execution_count": 18
        }
      ]
    },
    {
      "cell_type": "code",
      "metadata": {
        "id": "agKaMo97fG8F",
        "colab_type": "code",
        "outputId": "88fce58a-bedd-4c0b-944e-60d6f2023b73",
        "colab": {
          "base_uri": "https://localhost:8080/",
          "height": 153
        }
      },
      "source": [
        "X[y_means==1,0] # thus the first element of X belongs to cluster 2"
      ],
      "execution_count": 19,
      "outputs": [
        {
          "output_type": "execute_result",
          "data": {
            "text/plain": [
              "array([233, 250, 236, 263, 239, 266, 283, 247, 239, 234, 233, 226, 219,\n",
              "       273, 232, 269, 245, 235, 257, 234, 256, 231, 252, 222, 260, 234,\n",
              "       220, 258, 227, 261, 250, 245, 221, 240, 250, 264, 277, 255, 223,\n",
              "       233, 246, 244, 240, 236, 244, 254, 262, 243, 271, 268, 267, 277,\n",
              "       271, 235, 269, 245, 242, 240, 226, 228, 227, 278, 253, 221, 240,\n",
              "       268, 254, 256, 229, 224, 230, 230, 253, 233, 231, 254, 248, 274,\n",
              "       255, 239, 258, 229, 249, 256, 282, 243, 282, 249, 274, 283, 254,\n",
              "       247, 244, 231, 228, 230, 269, 249, 234, 234, 223, 232, 225, 236])"
            ]
          },
          "metadata": {
            "tags": []
          },
          "execution_count": 19
        }
      ]
    },
    {
      "cell_type": "code",
      "metadata": {
        "id": "K2K9nixLbxy2",
        "colab_type": "code",
        "outputId": "adaa591b-8118-4288-d6de-1465698c3963",
        "colab": {
          "base_uri": "https://localhost:8080/",
          "height": 595
        }
      },
      "source": [
        "y_means==1,0"
      ],
      "execution_count": 20,
      "outputs": [
        {
          "output_type": "execute_result",
          "data": {
            "text/plain": [
              "(array([ True,  True, False,  True, False, False, False,  True, False,\n",
              "        False,  True, False,  True, False,  True, False, False, False,\n",
              "         True,  True,  True,  True,  True, False, False, False, False,\n",
              "        False, False, False, False, False,  True,  True, False, False,\n",
              "        False,  True,  True, False, False,  True, False, False, False,\n",
              "        False,  True,  True, False,  True,  True, False,  True, False,\n",
              "         True, False,  True,  True, False, False, False, False, False,\n",
              "        False, False, False, False,  True,  True, False,  True,  True,\n",
              "        False,  True, False,  True,  True,  True, False,  True,  True,\n",
              "        False, False, False, False,  True,  True, False, False, False,\n",
              "         True, False,  True, False, False, False, False,  True, False,\n",
              "         True,  True, False, False,  True, False, False, False,  True,\n",
              "         True,  True, False, False, False, False,  True, False, False,\n",
              "        False, False,  True, False,  True,  True,  True, False, False,\n",
              "        False,  True, False, False, False,  True, False,  True, False,\n",
              "         True, False, False, False, False, False, False, False, False,\n",
              "        False,  True,  True,  True,  True, False,  True, False,  True,\n",
              "         True, False, False,  True, False, False,  True,  True, False,\n",
              "        False, False, False, False, False,  True,  True, False,  True,\n",
              "         True, False,  True, False, False,  True, False, False, False,\n",
              "        False, False, False,  True, False, False,  True, False,  True,\n",
              "        False, False, False, False, False, False, False,  True,  True,\n",
              "        False,  True, False, False, False,  True, False,  True,  True,\n",
              "         True, False, False,  True, False, False, False,  True, False,\n",
              "        False, False, False,  True, False, False,  True, False, False,\n",
              "        False, False, False, False, False,  True, False, False, False,\n",
              "        False, False, False, False, False,  True, False,  True, False,\n",
              "        False, False,  True, False, False,  True,  True, False,  True,\n",
              "        False, False, False, False, False, False,  True,  True,  True,\n",
              "         True, False,  True, False, False, False, False, False, False,\n",
              "         True,  True, False,  True, False, False, False, False, False,\n",
              "        False, False, False, False,  True, False, False, False,  True,\n",
              "        False, False, False, False,  True, False, False, False, False,\n",
              "        False, False, False, False, False,  True]), 0)"
            ]
          },
          "metadata": {
            "tags": []
          },
          "execution_count": 20
        }
      ]
    },
    {
      "cell_type": "markdown",
      "metadata": {
        "id": "49zfx-rBIMdU",
        "colab_type": "text"
      },
      "source": [
        "### Q 6. Visulaize the clusters using scatter plot (Spend Vs Income). Taking marker size as 50, color for clusters 1 to 4 as purple, blue, green & cyan, label for various clusters as 'Cluster1', 'Cluster2', 'Cluster3', 'Cluster4'. For the cluster centres use marker = 's', marker size as 200 and color as red, alpha blending value as 0.7 and label as 'Centroids'. Title of the plot should be ' Customer segments '.Set \"Annual income of customer\" as label of x axis and \"Annual spend from customer on site\" as label of y axis. "
      ]
    },
    {
      "cell_type": "code",
      "metadata": {
        "id": "-B13RuYaYlWj",
        "colab_type": "code",
        "outputId": "3197b010-f18a-4a98-e25e-631dce2330f4",
        "colab": {
          "base_uri": "https://localhost:8080/",
          "height": 282
        }
      },
      "source": [
        "plt.scatter(X[y_means==0,0],X[y_means==0,1],s=20, c='purple',label='Cluster3')"
      ],
      "execution_count": 21,
      "outputs": [
        {
          "output_type": "execute_result",
          "data": {
            "text/plain": [
              "<matplotlib.collections.PathCollection at 0x7fbb17908eb8>"
            ]
          },
          "metadata": {
            "tags": []
          },
          "execution_count": 21
        },
        {
          "output_type": "display_data",
          "data": {
            "image/png": "[encoded data removed]",
            "text/plain": [
              "<Figure size 432x288 with 1 Axes>"
            ]
          },
          "metadata": {
            "tags": [],
            "needs_background": "light"
          }
        }
      ]
    },
    {
      "cell_type": "code",
      "metadata": {
        "id": "_ZXqk3EXgxhC",
        "colab_type": "code",
        "outputId": "5ce7220d-dcdf-40ce-adfe-07043354461a",
        "colab": {
          "base_uri": "https://localhost:8080/",
          "height": 85
        }
      },
      "source": [
        "km4.cluster_centers_"
      ],
      "execution_count": 22,
      "outputs": [
        {
          "output_type": "execute_result",
          "data": {
            "text/plain": [
              "array([[259.76086957, 118.58695652],\n",
              "       [246.51923077, 162.39423077],\n",
              "       [194.19587629, 149.50515464],\n",
              "       [319.53571429, 151.73214286]])"
            ]
          },
          "metadata": {
            "tags": []
          },
          "execution_count": 22
        }
      ]
    },
    {
      "cell_type": "code",
      "metadata": {
        "id": "EF5IWJkghZux",
        "colab_type": "code",
        "outputId": "6d263c6b-d66f-460b-e016-458b97849e4c",
        "colab": {
          "base_uri": "https://localhost:8080/",
          "height": 255
        }
      },
      "source": [
        "km4.labels_"
      ],
      "execution_count": 23,
      "outputs": [
        {
          "output_type": "execute_result",
          "data": {
            "text/plain": [
              "array([1, 1, 2, 1, 3, 2, 3, 1, 2, 2, 1, 0, 1, 2, 1, 2, 3, 0, 1, 1, 1, 1,\n",
              "       1, 0, 2, 3, 2, 2, 3, 2, 2, 2, 1, 1, 2, 2, 3, 1, 1, 3, 3, 1, 2, 0,\n",
              "       3, 3, 1, 1, 2, 1, 1, 3, 1, 2, 1, 2, 1, 1, 2, 3, 0, 3, 2, 2, 2, 2,\n",
              "       2, 1, 1, 2, 1, 1, 2, 1, 2, 1, 1, 1, 2, 1, 1, 3, 3, 3, 0, 1, 1, 2,\n",
              "       2, 0, 1, 2, 1, 3, 2, 0, 3, 1, 3, 1, 1, 0, 2, 1, 2, 2, 0, 1, 1, 1,\n",
              "       3, 2, 3, 2, 1, 2, 2, 2, 2, 1, 3, 1, 1, 1, 2, 2, 2, 1, 2, 0, 2, 1,\n",
              "       3, 1, 3, 1, 2, 2, 2, 0, 3, 3, 2, 2, 2, 1, 1, 1, 1, 2, 1, 2, 1, 1,\n",
              "       2, 2, 1, 2, 2, 1, 1, 3, 2, 2, 2, 0, 0, 1, 1, 2, 1, 1, 3, 1, 2, 2,\n",
              "       1, 3, 2, 0, 3, 0, 3, 1, 0, 3, 1, 0, 1, 2, 3, 2, 2, 0, 2, 3, 1, 1,\n",
              "       0, 1, 2, 0, 0, 1, 2, 1, 1, 1, 2, 2, 1, 0, 2, 3, 1, 3, 0, 3, 0, 1,\n",
              "       3, 0, 1, 0, 0, 2, 0, 2, 3, 3, 1, 0, 3, 0, 3, 3, 3, 3, 3, 1, 0, 1,\n",
              "       2, 0, 2, 1, 3, 0, 1, 1, 3, 1, 0, 3, 0, 3, 0, 2, 1, 1, 1, 1, 0, 1,\n",
              "       2, 2, 3, 2, 0, 0, 1, 1, 0, 1, 0, 2, 0, 0, 3, 2, 3, 2, 2, 1, 2, 3,\n",
              "       2, 1, 3, 2, 2, 3, 1, 2, 2, 2, 2, 2, 0, 0, 2, 2, 1], dtype=int32)"
            ]
          },
          "metadata": {
            "tags": []
          },
          "execution_count": 23
        }
      ]
    },
    {
      "cell_type": "code",
      "metadata": {
        "id": "rUxaHiukhkwA",
        "colab_type": "code",
        "outputId": "53cdbd10-3d96-4009-c6f2-c013b3126090",
        "colab": {
          "base_uri": "https://localhost:8080/",
          "height": 255
        }
      },
      "source": [
        "y_means"
      ],
      "execution_count": 24,
      "outputs": [
        {
          "output_type": "execute_result",
          "data": {
            "text/plain": [
              "array([1, 1, 2, 1, 3, 2, 3, 1, 2, 2, 1, 0, 1, 2, 1, 2, 3, 0, 1, 1, 1, 1,\n",
              "       1, 0, 2, 3, 2, 2, 3, 2, 2, 2, 1, 1, 2, 2, 3, 1, 1, 3, 3, 1, 2, 0,\n",
              "       3, 3, 1, 1, 2, 1, 1, 3, 1, 2, 1, 2, 1, 1, 2, 3, 0, 3, 2, 2, 2, 2,\n",
              "       2, 1, 1, 2, 1, 1, 2, 1, 2, 1, 1, 1, 2, 1, 1, 3, 3, 3, 0, 1, 1, 2,\n",
              "       2, 0, 1, 2, 1, 3, 2, 0, 3, 1, 3, 1, 1, 0, 2, 1, 2, 2, 0, 1, 1, 1,\n",
              "       3, 2, 3, 2, 1, 2, 2, 2, 2, 1, 3, 1, 1, 1, 2, 2, 2, 1, 2, 0, 2, 1,\n",
              "       3, 1, 3, 1, 2, 2, 2, 0, 3, 3, 2, 2, 2, 1, 1, 1, 1, 2, 1, 2, 1, 1,\n",
              "       2, 2, 1, 2, 2, 1, 1, 3, 2, 2, 2, 0, 0, 1, 1, 2, 1, 1, 3, 1, 2, 2,\n",
              "       1, 3, 2, 0, 3, 0, 3, 1, 0, 3, 1, 0, 1, 2, 3, 2, 2, 0, 2, 3, 1, 1,\n",
              "       0, 1, 2, 0, 0, 1, 2, 1, 1, 1, 2, 2, 1, 0, 2, 3, 1, 3, 0, 3, 0, 1,\n",
              "       3, 0, 1, 0, 0, 2, 0, 2, 3, 3, 1, 0, 3, 0, 3, 3, 3, 3, 3, 1, 0, 1,\n",
              "       2, 0, 2, 1, 3, 0, 1, 1, 3, 1, 0, 3, 0, 3, 0, 2, 1, 1, 1, 1, 0, 1,\n",
              "       2, 2, 3, 2, 0, 0, 1, 1, 0, 1, 0, 2, 0, 0, 3, 2, 3, 2, 2, 1, 2, 3,\n",
              "       2, 1, 3, 2, 2, 3, 1, 2, 2, 2, 2, 2, 0, 0, 2, 2, 1], dtype=int32)"
            ]
          },
          "metadata": {
            "tags": []
          },
          "execution_count": 24
        }
      ]
    },
    {
      "cell_type": "code",
      "metadata": {
        "id": "vFRvcHvTIMdU",
        "colab_type": "code",
        "outputId": "c0eac49e-55c5-4afa-e8af-73e28f7c05b8",
        "colab": {
          "base_uri": "https://localhost:8080/",
          "height": 295
        }
      },
      "source": [
        "def generate():\n",
        "    # your code here\n",
        "    plt.scatter(X[y_means==0,0],X[y_means==0,1],s=50, c='purple',label='Cluster1')\n",
        "    plt.scatter(X[y_means==1,0],X[y_means==1,1],s=50, c='blue',label='Cluster2')\n",
        "    plt.scatter(X[y_means==2,0],X[y_means==2,1],s=50, c='green',label='Cluster3')\n",
        "    plt.scatter(X[y_means==3,0],X[y_means==3,1],s=50, c='cyan',label='Cluster4')\n",
        "    \n",
        "    plt.scatter(km4.cluster_centers_[:,0], km4.cluster_centers_[:,1],s=200,marker='d', c='red', alpha=0.7, label='Centroids')\n",
        "    \n",
        "    plt.title('Customer segments')\n",
        "    plt.xlabel('Annual income of customer')\n",
        "    plt.ylabel('Annual spend from customer on site')\n",
        "    \n",
        "    plt.legend()\n",
        "    plt.show()\n",
        "    return \n",
        "generate()"
      ],
      "execution_count": 25,
      "outputs": [
        {
          "output_type": "display_data",
          "data": {
            "image/png": "[encoded data removed]",
            "text/plain": [
              "<Figure size 432x288 with 1 Axes>"
            ]
          },
          "metadata": {
            "tags": [],
            "needs_background": "light"
          }
        }
      ]
    },
    {
      "cell_type": "markdown",
      "metadata": {
        "id": "tImx3kD-IMdX",
        "colab_type": "text"
      },
      "source": [
        ""
      ]
    },
    {
      "cell_type": "markdown",
      "metadata": {
        "id": "i-zm9xA5IMdY",
        "colab_type": "text"
      },
      "source": [
        "__Interpretation of the 4 segments created__<br/>\n",
        "\n",
        "The plot shows the distribution of the 4 clusters. We could interpret them as the following customer segments:\n",
        "\n",
        "- __Cluster 1__: Customers with medium annual income and low annual spend\n",
        "- __Cluster 2__: Customers with high annual income and medium to high annual spend\n",
        "- __Cluster 3__: Customers with low annual income\n",
        "- __Cluster 4__: Customers with medium annual income but high annual spend\n",
        "\n",
        "__Cluster 4__ straight away is one __potential customer segment__. However, Cluster 2 and 3 can be segmented further to arrive at a more specific target customer group. Let us now look at how the clusters are created when k=6:"
      ]
    },
    {
      "cell_type": "markdown",
      "metadata": {
        "id": "fSp_6x00IMdZ",
        "colab_type": "text"
      },
      "source": [
        "### Q 7. Make a kmeans model to cluster the samples in 6 clusters taking the below parameters:\n",
        "- init = 'k-means++',\n",
        "- max_iter = 300, \n",
        "- n_init = 10,\n",
        "- random_state = 0\n",
        "\n",
        "### Return the model.\n",
        "\n",
        "\n",
        "### Also Compute cluster centers and predict cluster index for each sample using fit_predict method(Return this variable also)"
      ]
    },
    {
      "cell_type": "code",
      "metadata": {
        "id": "PBc2-ttCIMda",
        "colab_type": "code",
        "colab": {}
      },
      "source": [
        "def generate():\n",
        "    # your code here\n",
        "    km6 = KMeans(init= 'k-means++',max_iter=300, n_init=10, random_state=0)\n",
        "    return km6,km6.fit_predict(X) # your variables here\n",
        "km6, y_means6 = generate()"
      ],
      "execution_count": 0,
      "outputs": []
    },
    {
      "cell_type": "markdown",
      "metadata": {
        "id": "g9tXrOC-IMdd",
        "colab_type": "text"
      },
      "source": [
        "### Q 8. Visulaize the clusters using scatter plot (Spend Vs Income). Taking marker size as 50, color for clusters 1 to 6 as purple, blue, green, cyan, magenta, orange respectively, label for various clusters as 'Cluster1', 'Cluster2', 'Cluster3', 'Cluster4','Cluster5','Cluster6'. For the cluster centres use marker = 's', marker size as 200 and color as red, alpha blending value as 0.7 and label as 'Centroids'. Title of the plot should be ' Customer segments '.Set \"Annual income of customer\" as label of x axis and \"Annual spend from customer on site\" as label of y axis. "
      ]
    },
    {
      "cell_type": "code",
      "metadata": {
        "id": "eceD6uysjyCB",
        "colab_type": "code",
        "outputId": "5dcd067c-4b16-4f86-a439-7f18ea7dbed9",
        "colab": {
          "base_uri": "https://localhost:8080/",
          "height": 51
        }
      },
      "source": [
        "km6.cluster_centers_[:,0]"
      ],
      "execution_count": 27,
      "outputs": [
        {
          "output_type": "execute_result",
          "data": {
            "text/plain": [
              "array([241.44444444, 324.89655172, 198.23076923, 272.28125   ,\n",
              "       283.24444444, 406.75      , 214.7804878 , 165.21052632])"
            ]
          },
          "metadata": {
            "tags": []
          },
          "execution_count": 27
        }
      ]
    },
    {
      "cell_type": "code",
      "metadata": {
        "id": "qGH5OJqpj66D",
        "colab_type": "code",
        "outputId": "7898de8e-7c9b-43e4-b7d1-272c84e74e18",
        "colab": {
          "base_uri": "https://localhost:8080/",
          "height": 51
        }
      },
      "source": [
        "km6.cluster_centers_[:,0]"
      ],
      "execution_count": 28,
      "outputs": [
        {
          "output_type": "execute_result",
          "data": {
            "text/plain": [
              "array([241.44444444, 324.89655172, 198.23076923, 272.28125   ,\n",
              "       283.24444444, 406.75      , 214.7804878 , 165.21052632])"
            ]
          },
          "metadata": {
            "tags": []
          },
          "execution_count": 28
        }
      ]
    },
    {
      "cell_type": "code",
      "metadata": {
        "id": "1Qq4B47iIMde",
        "colab_type": "code",
        "outputId": "5a9cdfcc-30ec-48d2-a4c3-ea9c13dd15ee",
        "colab": {
          "base_uri": "https://localhost:8080/",
          "height": 295
        }
      },
      "source": [
        "def generate():\n",
        "    # your code here\n",
        "    plt.scatter(X[y_means6 == 0,0], X[y_means6 == 0,1],c = 'purple',s=50,label = 'Cluster 1')\n",
        "    plt.scatter(X[y_means6 == 1,0], X[y_means6 == 1,1],c = 'blue',s=50,label = 'Cluster 2')\n",
        "    plt.scatter(X[y_means6== 2,0], X[y_means6 == 2,1],c = 'green',s=50,label = 'Cluster 3')\n",
        "    plt.scatter(X[y_means6 == 3,0], X[y_means6 == 3,1],c = 'cyan',s=50,label = 'Cluster 4')\n",
        "    plt.scatter(X[y_means6 == 4,0], X[y_means6 == 4,1],c = 'magenta',s=50,label = 'Cluster 5')\n",
        "    plt.scatter(X[y_means6 == 5,0], X[y_means6 == 5,1],c = 'orange',s=50,label = 'Cluster 6')\n",
        "\n",
        "    plt.scatter(km6.cluster_centers_[:,0], km6.cluster_centers_[:,1],c = 'red',s = 200, marker='p',label = 'Centroid',alpha=0.7)\n",
        "\n",
        "    plt.title ('Customer Segments')\n",
        "    plt.xlabel('Annual Income of Customer')\n",
        "    plt.ylabel('Annual Spend of Customer')\n",
        "    plt.legend()\n",
        "    return \n",
        "generate()"
      ],
      "execution_count": 29,
      "outputs": [
        {
          "output_type": "display_data",
          "data": {
            "image/png": "[encoded data removed]",
            "text/plain": [
              "<Figure size 432x288 with 1 Axes>"
            ]
          },
          "metadata": {
            "tags": [],
            "needs_background": "light"
          }
        }
      ]
    },
    {
      "cell_type": "markdown",
      "metadata": {
        "id": "oqb4R_BKIMdh",
        "colab_type": "text"
      },
      "source": [
        "__Interpretation of the 6 segments created__<br/>\n",
        "\n",
        "Setting the number of clusters to 6 seems to provide a more meaningful customer segmentation.\n",
        "\n",
        "- <span style=\"color:purple\">**__Cluster 1__:** </span>:: Medium income, low annual spend\n",
        "- <span style=\"color:blue\">**__Cluster 2__:** </span>:: Low income, low annual spend\n",
        "- <span style=\"color:green\">**__Cluster 3__:** </span>:: High income, high annual spend\n",
        "- <span style=\"color:cyan\">**__Cluster 4__:** </span>:: Low income, high annual spend\n",
        "- <span style=\"color:magenta\">**__Cluster 5__:** </span>:: Medium income, low annual spend\n",
        "- <span style=\"color:orange\">**__Cluster 6__:** </span>:: Very high income, high annual spend<br/>\n",
        "Thus it is evident that 6 clusters provides a more meaningful segmentation of the customers."
      ]
    },
    {
      "cell_type": "markdown",
      "metadata": {
        "id": "oU5ZiofgIMdh",
        "colab_type": "text"
      },
      "source": [
        "### Q 9. Use Elbow method to find the optimal number of cluster for our dataset. Use the below parameters for the kmeans model.\n",
        "- init='k-means++',\n",
        "- max_iter=300, \n",
        "- n_init=10,\n",
        "- random_state=0\n",
        "### Plot the graph between \" Sum of squared distances of samples to their closest cluster center for number of clusters ranging between 1 to 11\" Versus the number of clusters."
      ]
    },
    {
      "cell_type": "code",
      "metadata": {
        "id": "3G1F9DyhlELz",
        "colab_type": "code",
        "colab": {}
      },
      "source": [
        "import pylab as pl"
      ],
      "execution_count": 0,
      "outputs": []
    },
    {
      "cell_type": "code",
      "metadata": {
        "id": "zJTqOW0uIMdi",
        "colab_type": "code",
        "outputId": "9915bebc-d7f8-48e1-d182-0284ebf6d665",
        "colab": {
          "base_uri": "https://localhost:8080/",
          "height": 295
        }
      },
      "source": [
        "def generate():\n",
        "    # your code here\n",
        "    sse = {}\n",
        "    for k in range(1,11):\n",
        "      kmeans = KMeans(n_clusters = k,max_iter=300,init='k-means++',random_state=0).fit(X)\n",
        "      sse[k] = kmeans.inertia_\n",
        "    \n",
        "    plt.plot(list(sse.keys()),list(sse.values()))\n",
        "    plt.title('Elbow Curve')\n",
        "    plt.xlabel('number of clusters')\n",
        "    plt.ylabel('Sum of Squared errors')\n",
        "    plt.show()\n",
        "\n",
        "    return\n",
        "generate()"
      ],
      "execution_count": 31,
      "outputs": [
        {
          "output_type": "display_data",
          "data": {
            "image/png": "[encoded data removed]",
            "text/plain": [
              "<Figure size 432x288 with 1 Axes>"
            ]
          },
          "metadata": {
            "tags": [],
            "needs_background": "light"
          }
        }
      ]
    },
    {
      "cell_type": "markdown",
      "metadata": {
        "id": "qeVWl5kIIMdl",
        "colab_type": "text"
      },
      "source": [
        "### Q10. Plot dendrogram to find the optimal number of clusters. Set  \"Hierarchical Clustering Dendrogram (truncated) \" as title, \"sample index or (cluster size)\" as  xlabel and \"distance\" as ylabel. For linkage use the 'ward' method, Also show only the last 12 merged clusters in the dendrogram, keep leaf_font_size as 12. In the plot also draw a line to select a Distance Cut-Off at 400 to Determine the Number of Clusters.\n",
        "   "
      ]
    },
    {
      "cell_type": "code",
      "metadata": {
        "id": "WvY7dID--F-p",
        "colab_type": "code",
        "colab": {}
      },
      "source": [
        "import scipy.cluster.hierarchy as sch"
      ],
      "execution_count": 0,
      "outputs": []
    },
    {
      "cell_type": "code",
      "metadata": {
        "id": "GYgWD6PqIMdm",
        "colab_type": "code",
        "outputId": "22137bb3-99d9-41fb-fdad-c6d1e3a86c45",
        "colab": {
          "base_uri": "https://localhost:8080/",
          "height": 298
        }
      },
      "source": [
        "def generate():\n",
        "    # your code here\n",
        "    plt.title('Hierarchical Clustering Dendrogram (truncated)')\n",
        "    plt.xlabel('sample index or (cluster size)')\n",
        "    plt.ylabel('distance')\n",
        "\n",
        "    Z = sch.linkage(X,'ward')\n",
        "    sch.dendrogram(\n",
        "        Z,\n",
        "        truncate_mode='lastp',  # show only the last p merged clusters\n",
        "        p=12 ,                 # show only the last p merged clusters\n",
        "        leaf_font_size=12,\n",
        "        )\n",
        "    plt.axhline(y=400, c = 'k')\n",
        "    plt.show()\n",
        "    return\n",
        "generate()"
      ],
      "execution_count": 68,
      "outputs": [
        {
          "output_type": "display_data",
          "data": {
            "image/png": "[encoded data removed]",
            "text/plain": [
              "<Figure size 432x288 with 1 Axes>"
            ]
          },
          "metadata": {
            "tags": [],
            "needs_background": "light"
          }
        }
      ]
    },
    {
      "cell_type": "markdown",
      "metadata": {
        "id": "7hWlRATpIMdp",
        "colab_type": "text"
      },
      "source": [
        "You can see the best choice for the number of cluster is 3.  "
      ]
    },
    {
      "cell_type": "markdown",
      "metadata": {
        "id": "sUA9yCdCIMdp",
        "colab_type": "text"
      },
      "source": [
        "### Q 11. Make a hierarical clustering model to cluster the samples in 3 clusters using Agglomerative Clustering object and by taking the below parameters:\n",
        "- affinity = 'euclidean',\n",
        "- compute_full_tree = 'auto',\n",
        "- connectivity = None,\n",
        "- linkage = 'ward',\n",
        "- memory = None,\n",
        "- pooling_func = 'deprecated'\n",
        "\n",
        "### Return the model.\n",
        "\n",
        "\n",
        "### Also Compute cluster centers and predict cluster index for each sample using fit_predict method(Return this variable also)"
      ]
    },
    {
      "cell_type": "code",
      "metadata": {
        "id": "r4xqC7XbflVD",
        "colab_type": "code",
        "colab": {}
      },
      "source": [
        "from sklearn.cluster import AgglomerativeClustering"
      ],
      "execution_count": 0,
      "outputs": []
    },
    {
      "cell_type": "code",
      "metadata": {
        "id": "Hh5eulwAIMdq",
        "colab_type": "code",
        "colab": {}
      },
      "source": [
        "from sklearn.cluster import AgglomerativeClustering\n",
        "def generate():\n",
        "    \n",
        "    hc = AgglomerativeClustering(  n_clusters = 3,\n",
        "                                   affinity = 'euclidean',\n",
        "                                   compute_full_tree = 'auto',\n",
        "                                   connectivity = None,\n",
        "                                   linkage = 'ward',\n",
        "                                   memory = None ) #,pooling_func = 'deprecated')\n",
        "    \n",
        "    return hc, hc.fit_predict(X)\n",
        "hc, y_hc = generate()"
      ],
      "execution_count": 0,
      "outputs": []
    },
    {
      "cell_type": "markdown",
      "metadata": {
        "id": "e4ifGSbcIMdt",
        "colab_type": "text"
      },
      "source": [
        "### Q 12. Visulaize the clusters using scatter plot (Spend Vs Income). Take :\n",
        "- marker size as 50,\n",
        "- color for clusters 1 to 3 as red, blue, green respectively,\n",
        "- label for various clusters as 'Cluster1', 'Cluster2', 'Cluster3'.\n",
        "- Title of the plot should be ' Clusters of customers '.\n",
        "- Set \"Annual income of customer in `$`000\" as label of x axis and\n",
        "- \"Annual spend in`$`000\" as label of y axis. "
      ]
    },
    {
      "cell_type": "code",
      "metadata": {
        "id": "DRLdOl2lIMdt",
        "colab_type": "code",
        "colab": {
          "base_uri": "https://localhost:8080/",
          "height": 295
        },
        "outputId": "5da7948d-aa11-448b-d83f-6ac89fd3ab5e"
      },
      "source": [
        "def generate():  \n",
        "    # your code here\n",
        "    plt.scatter (X[y_hc == 0,0], X[y_hc == 0,1], s = 50, c = 'red', label = 'Cluster 1')\n",
        "    plt.scatter (X[y_hc == 1,0], X[y_hc == 1,1], s = 50, c = 'blue', label = 'Cluster 2')\n",
        "    plt.scatter (X[y_hc == 2,0], X[y_hc == 2,1], s = 50, c = 'green', label = 'Cluster 3')\n",
        "\n",
        "    plt.title('Cluster of customers')\n",
        "    plt.xlabel('Annual income of customer in $000')\n",
        "    plt.ylabel('Annual spend in$000')\n",
        "\n",
        "    plt.legend()\n",
        "    plt.show()\n",
        "    return\n",
        "generate()"
      ],
      "execution_count": 83,
      "outputs": [
        {
          "output_type": "display_data",
          "data": {
            "image/png": "[encoded data removed]",
            "text/plain": [
              "<Figure size 432x288 with 1 Axes>"
            ]
          },
          "metadata": {
            "tags": [],
            "needs_background": "light"
          }
        }
      ]
    },
    {
      "cell_type": "markdown",
      "metadata": {
        "id": "kkp_WHrtIMdw",
        "colab_type": "text"
      },
      "source": [
        "__Interpretation of the 3 segments created__<br/>\n",
        "\n",
        "The plot shows the distribution of the 3 clusters. We could interpret them as the following customer segments:\n",
        "\n",
        "- <span style=\"color:red\">**__Cluster 1__:** </span>: Customers with medium annual income and low to high annual spend\n",
        "- <span style=\"color:blue\">**__Cluster 2__:** </span>: Customers with low annual income and low to high annual spend\n",
        "- <span style=\"color:green\">**__Cluster 3__:** </span>: Customers with high annual income and medium to high annual spend"
      ]
    }
  ]
}