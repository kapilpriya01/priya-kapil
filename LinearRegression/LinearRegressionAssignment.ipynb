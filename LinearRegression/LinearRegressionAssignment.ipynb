{
  "nbformat": 4,
  "nbformat_minor": 0,
  "metadata": {
    "kernelspec": {
      "display_name": "Python 3",
      "language": "python",
      "name": "python3"
    },
    "language_info": {
      "codemirror_mode": {
        "name": "ipython",
        "version": 3
      },
      "file_extension": ".py",
      "mimetype": "text/x-python",
      "name": "python",
      "nbconvert_exporter": "python",
      "pygments_lexer": "ipython3",
      "version": "3.7.3"
    },
    "colab": {
      "name": "LinearRegressionAssignmentQuestions-1543832506191 (1).ipynb",
      "provenance": [],
      "include_colab_link": true
    }
  },
  "cells": [
    {
      "cell_type": "markdown",
      "metadata": {
        "id": "view-in-github",
        "colab_type": "text"
      },
      "source": [
        "<a href=\"https://colab.research.google.com/github/kapilpriya01/priya-kapil/blob/master/LinearRegression/LinearRegressionAssignment.ipynb\" target=\"_parent\"><img src=\"https://colab.research.google.com/assets/colab-badge.svg\" alt=\"Open In Colab\"/></a>"
      ]
    },
    {
      "cell_type": "markdown",
      "metadata": {
        "id": "J9ccoNUWbPZ8",
        "colab_type": "text"
      },
      "source": [
        "<img src=\"https://github.com/insaid2018/Term-1/blob/master/Images/INSAID_Full%20Logo.png?raw=true\" width=\"240\" height=\"360\" />\n",
        "\n",
        "# ASSIGNMENT\n",
        "\n",
        "###  This is a cars dataset having 156 observation and 16 different variables. You have to create a linear regression model using the provided predictor variables for the prediction of sales value of cars.\n",
        "\n",
        "#### Note: Please run your code step by step as provided in the sheet or else you may face challenges with the code."
      ]
    },
    {
      "cell_type": "markdown",
      "metadata": {
        "id": "oEC96Sp1bPaC",
        "colab_type": "text"
      },
      "source": [
        "### Import the dataset."
      ]
    },
    {
      "cell_type": "code",
      "metadata": {
        "id": "jHftFIuUbPaF",
        "colab_type": "code",
        "colab": {}
      },
      "source": [
        "import seaborn as sns\n",
        "import pandas as pd"
      ],
      "execution_count": 0,
      "outputs": []
    },
    {
      "cell_type": "code",
      "metadata": {
        "id": "oXlXm-vDbPaX",
        "colab_type": "code",
        "colab": {},
        "outputId": "2b2d02bb-0971-48c8-e46e-f888a927efb6"
      },
      "source": [
        "!pip install sklearn"
      ],
      "execution_count": 0,
      "outputs": [
        {
          "output_type": "stream",
          "text": [
            "Requirement already satisfied: sklearn in c:\\priykapi\\personal\\insaid\\softfiles\\anaconda\\lib\\site-packages (0.0)\n",
            "Requirement already satisfied: scikit-learn in c:\\priykapi\\personal\\insaid\\softfiles\\anaconda\\lib\\site-packages (from sklearn) (0.21.2)\n",
            "Requirement already satisfied: numpy>=1.11.0 in c:\\priykapi\\personal\\insaid\\softfiles\\anaconda\\lib\\site-packages (from scikit-learn->sklearn) (1.16.4)\n",
            "Requirement already satisfied: scipy>=0.17.0 in c:\\priykapi\\personal\\insaid\\softfiles\\anaconda\\lib\\site-packages (from scikit-learn->sklearn) (1.2.1)\n",
            "Requirement already satisfied: joblib>=0.11 in c:\\priykapi\\personal\\insaid\\softfiles\\anaconda\\lib\\site-packages (from scikit-learn->sklearn) (0.13.2)\n"
          ],
          "name": "stdout"
        }
      ]
    },
    {
      "cell_type": "code",
      "metadata": {
        "id": "k6QE6MB-bPas",
        "colab_type": "code",
        "colab": {}
      },
      "source": [
        "import warnings\n",
        "\n",
        "def fxn():\n",
        "    warnings.warn(\"deprecated\", DeprecationWarning)\n",
        "\n",
        "with warnings.catch_warnings():\n",
        "    warnings.simplefilter(\"ignore\")\n",
        "    fxn()"
      ],
      "execution_count": 0,
      "outputs": []
    },
    {
      "cell_type": "code",
      "metadata": {
        "scrolled": true,
        "id": "sdgehMAJbPa6",
        "colab_type": "code",
        "colab": {},
        "outputId": "8cbc046d-f392-457d-e5ee-9c3eac0ff889"
      },
      "source": [
        "car = pd.read_csv(\"https://raw.githubusercontent.com/insaid2018/Term-2/master/Data/car_sales.csv\")\n",
        "car.head()"
      ],
      "execution_count": 0,
      "outputs": [
        {
          "output_type": "execute_result",
          "data": {
            "text/html": [
              "<div>\n",
              "<style scoped>\n",
              "    .dataframe tbody tr th:only-of-type {\n",
              "        vertical-align: middle;\n",
              "    }\n",
              "\n",
              "    .dataframe tbody tr th {\n",
              "        vertical-align: top;\n",
              "    }\n",
              "\n",
              "    .dataframe thead th {\n",
              "        text-align: right;\n",
              "    }\n",
              "</style>\n",
              "<table border=\"1\" class=\"dataframe\">\n",
              "  <thead>\n",
              "    <tr style=\"text-align: right;\">\n",
              "      <th></th>\n",
              "      <th>Manufacturer</th>\n",
              "      <th>Model</th>\n",
              "      <th>Sales_in_thousands</th>\n",
              "      <th>_year_resale_value</th>\n",
              "      <th>Vehicle_type</th>\n",
              "      <th>Price_in_thousands</th>\n",
              "      <th>Engine_size</th>\n",
              "      <th>Horsepower</th>\n",
              "      <th>Wheelbase</th>\n",
              "      <th>Width</th>\n",
              "      <th>Length</th>\n",
              "      <th>Curb_weight</th>\n",
              "      <th>Fuel_capacity</th>\n",
              "      <th>Fuel_efficiency</th>\n",
              "      <th>Latest_Launch</th>\n",
              "      <th>Power_perf_factor</th>\n",
              "    </tr>\n",
              "  </thead>\n",
              "  <tbody>\n",
              "    <tr>\n",
              "      <th>0</th>\n",
              "      <td>Acura</td>\n",
              "      <td>Integra</td>\n",
              "      <td>16.919</td>\n",
              "      <td>16.360</td>\n",
              "      <td>Passenger</td>\n",
              "      <td>21.50</td>\n",
              "      <td>1.8</td>\n",
              "      <td>140</td>\n",
              "      <td>101.2</td>\n",
              "      <td>67.3</td>\n",
              "      <td>172.4</td>\n",
              "      <td>2.639</td>\n",
              "      <td>13.2</td>\n",
              "      <td>28</td>\n",
              "      <td>2/2/2012</td>\n",
              "      <td>58.280150</td>\n",
              "    </tr>\n",
              "    <tr>\n",
              "      <th>1</th>\n",
              "      <td>Acura</td>\n",
              "      <td>TL</td>\n",
              "      <td>39.384</td>\n",
              "      <td>19.875</td>\n",
              "      <td>Passenger</td>\n",
              "      <td>28.40</td>\n",
              "      <td>3.2</td>\n",
              "      <td>225</td>\n",
              "      <td>108.1</td>\n",
              "      <td>70.3</td>\n",
              "      <td>192.9</td>\n",
              "      <td>3.517</td>\n",
              "      <td>17.2</td>\n",
              "      <td>25</td>\n",
              "      <td>6/3/2011</td>\n",
              "      <td>91.370778</td>\n",
              "    </tr>\n",
              "    <tr>\n",
              "      <th>2</th>\n",
              "      <td>Acura</td>\n",
              "      <td>CL</td>\n",
              "      <td>14.114</td>\n",
              "      <td>18.225</td>\n",
              "      <td>Passenger</td>\n",
              "      <td>29.00</td>\n",
              "      <td>3.2</td>\n",
              "      <td>225</td>\n",
              "      <td>106.9</td>\n",
              "      <td>70.6</td>\n",
              "      <td>192.0</td>\n",
              "      <td>3.470</td>\n",
              "      <td>17.2</td>\n",
              "      <td>26</td>\n",
              "      <td>1/4/2012</td>\n",
              "      <td>90.345000</td>\n",
              "    </tr>\n",
              "    <tr>\n",
              "      <th>3</th>\n",
              "      <td>Acura</td>\n",
              "      <td>RL</td>\n",
              "      <td>8.588</td>\n",
              "      <td>29.725</td>\n",
              "      <td>Passenger</td>\n",
              "      <td>42.00</td>\n",
              "      <td>3.5</td>\n",
              "      <td>210</td>\n",
              "      <td>114.6</td>\n",
              "      <td>71.4</td>\n",
              "      <td>196.6</td>\n",
              "      <td>3.850</td>\n",
              "      <td>18.0</td>\n",
              "      <td>22</td>\n",
              "      <td>3/10/2011</td>\n",
              "      <td>91.389779</td>\n",
              "    </tr>\n",
              "    <tr>\n",
              "      <th>4</th>\n",
              "      <td>Audi</td>\n",
              "      <td>A4</td>\n",
              "      <td>20.397</td>\n",
              "      <td>22.255</td>\n",
              "      <td>Passenger</td>\n",
              "      <td>23.99</td>\n",
              "      <td>1.8</td>\n",
              "      <td>150</td>\n",
              "      <td>102.6</td>\n",
              "      <td>68.2</td>\n",
              "      <td>178.0</td>\n",
              "      <td>2.998</td>\n",
              "      <td>16.4</td>\n",
              "      <td>27</td>\n",
              "      <td>10/8/2011</td>\n",
              "      <td>62.777639</td>\n",
              "    </tr>\n",
              "  </tbody>\n",
              "</table>\n",
              "</div>"
            ],
            "text/plain": [
              "  Manufacturer    Model  Sales_in_thousands  _year_resale_value Vehicle_type  \\\n",
              "0        Acura  Integra              16.919              16.360    Passenger   \n",
              "1        Acura       TL              39.384              19.875    Passenger   \n",
              "2        Acura       CL              14.114              18.225    Passenger   \n",
              "3        Acura       RL               8.588              29.725    Passenger   \n",
              "4         Audi       A4              20.397              22.255    Passenger   \n",
              "\n",
              "   Price_in_thousands  Engine_size  Horsepower  Wheelbase  Width  Length  \\\n",
              "0               21.50          1.8         140      101.2   67.3   172.4   \n",
              "1               28.40          3.2         225      108.1   70.3   192.9   \n",
              "2               29.00          3.2         225      106.9   70.6   192.0   \n",
              "3               42.00          3.5         210      114.6   71.4   196.6   \n",
              "4               23.99          1.8         150      102.6   68.2   178.0   \n",
              "\n",
              "   Curb_weight  Fuel_capacity  Fuel_efficiency Latest_Launch  \\\n",
              "0        2.639           13.2               28      2/2/2012   \n",
              "1        3.517           17.2               25      6/3/2011   \n",
              "2        3.470           17.2               26      1/4/2012   \n",
              "3        3.850           18.0               22     3/10/2011   \n",
              "4        2.998           16.4               27     10/8/2011   \n",
              "\n",
              "   Power_perf_factor  \n",
              "0          58.280150  \n",
              "1          91.370778  \n",
              "2          90.345000  \n",
              "3          91.389779  \n",
              "4          62.777639  "
            ]
          },
          "metadata": {
            "tags": []
          },
          "execution_count": 5
        }
      ]
    },
    {
      "cell_type": "markdown",
      "metadata": {
        "id": "O-Qlew5SbPbK",
        "colab_type": "text"
      },
      "source": [
        "### Check the shape of the dataset."
      ]
    },
    {
      "cell_type": "code",
      "metadata": {
        "id": "7UB6CIUZbPbN",
        "colab_type": "code",
        "colab": {},
        "outputId": "00a747f0-fbc5-4dd0-bd6b-2a4d1513628a"
      },
      "source": [
        "car.shape"
      ],
      "execution_count": 0,
      "outputs": [
        {
          "output_type": "execute_result",
          "data": {
            "text/plain": [
              "(156, 16)"
            ]
          },
          "metadata": {
            "tags": []
          },
          "execution_count": 6
        }
      ]
    },
    {
      "cell_type": "code",
      "metadata": {
        "id": "Jd_no6rrbPbd",
        "colab_type": "code",
        "colab": {},
        "outputId": "d255fb2a-7ff4-46b9-836e-ea0b83625175"
      },
      "source": [
        "car.info()"
      ],
      "execution_count": 0,
      "outputs": [
        {
          "output_type": "stream",
          "text": [
            "<class 'pandas.core.frame.DataFrame'>\n",
            "RangeIndex: 156 entries, 0 to 155\n",
            "Data columns (total 16 columns):\n",
            "Manufacturer          156 non-null object\n",
            "Model                 156 non-null object\n",
            "Sales_in_thousands    151 non-null float64\n",
            "_year_resale_value    156 non-null float64\n",
            "Vehicle_type          156 non-null object\n",
            "Price_in_thousands    156 non-null float64\n",
            "Engine_size           156 non-null float64\n",
            "Horsepower            156 non-null int64\n",
            "Wheelbase             156 non-null float64\n",
            "Width                 156 non-null float64\n",
            "Length                156 non-null float64\n",
            "Curb_weight           156 non-null float64\n",
            "Fuel_capacity         156 non-null float64\n",
            "Fuel_efficiency       156 non-null int64\n",
            "Latest_Launch         156 non-null object\n",
            "Power_perf_factor     156 non-null float64\n",
            "dtypes: float64(10), int64(2), object(4)\n",
            "memory usage: 19.6+ KB\n"
          ],
          "name": "stdout"
        }
      ]
    },
    {
      "cell_type": "markdown",
      "metadata": {
        "id": "6sYn84b9bPbu",
        "colab_type": "text"
      },
      "source": [
        "### Check the descriptive stats of the dataset."
      ]
    },
    {
      "cell_type": "code",
      "metadata": {
        "id": "2QI_bzstbPbx",
        "colab_type": "code",
        "colab": {},
        "outputId": "0e1bfef3-842d-4b51-98c6-c1a35478526f"
      },
      "source": [
        "car.describe()"
      ],
      "execution_count": 0,
      "outputs": [
        {
          "output_type": "execute_result",
          "data": {
            "text/html": [
              "<div>\n",
              "<style scoped>\n",
              "    .dataframe tbody tr th:only-of-type {\n",
              "        vertical-align: middle;\n",
              "    }\n",
              "\n",
              "    .dataframe tbody tr th {\n",
              "        vertical-align: top;\n",
              "    }\n",
              "\n",
              "    .dataframe thead th {\n",
              "        text-align: right;\n",
              "    }\n",
              "</style>\n",
              "<table border=\"1\" class=\"dataframe\">\n",
              "  <thead>\n",
              "    <tr style=\"text-align: right;\">\n",
              "      <th></th>\n",
              "      <th>Sales_in_thousands</th>\n",
              "      <th>_year_resale_value</th>\n",
              "      <th>Price_in_thousands</th>\n",
              "      <th>Engine_size</th>\n",
              "      <th>Horsepower</th>\n",
              "      <th>Wheelbase</th>\n",
              "      <th>Width</th>\n",
              "      <th>Length</th>\n",
              "      <th>Curb_weight</th>\n",
              "      <th>Fuel_capacity</th>\n",
              "      <th>Fuel_efficiency</th>\n",
              "      <th>Power_perf_factor</th>\n",
              "    </tr>\n",
              "  </thead>\n",
              "  <tbody>\n",
              "    <tr>\n",
              "      <th>count</th>\n",
              "      <td>151.000000</td>\n",
              "      <td>156.000000</td>\n",
              "      <td>156.000000</td>\n",
              "      <td>156.000000</td>\n",
              "      <td>156.000000</td>\n",
              "      <td>156.000000</td>\n",
              "      <td>156.000000</td>\n",
              "      <td>156.000000</td>\n",
              "      <td>156.000000</td>\n",
              "      <td>156.000000</td>\n",
              "      <td>156.000000</td>\n",
              "      <td>156.000000</td>\n",
              "    </tr>\n",
              "    <tr>\n",
              "      <th>mean</th>\n",
              "      <td>52.051742</td>\n",
              "      <td>18.063571</td>\n",
              "      <td>27.401071</td>\n",
              "      <td>3.060897</td>\n",
              "      <td>185.948718</td>\n",
              "      <td>107.487179</td>\n",
              "      <td>71.150000</td>\n",
              "      <td>187.343590</td>\n",
              "      <td>3.380462</td>\n",
              "      <td>17.951923</td>\n",
              "      <td>23.833333</td>\n",
              "      <td>77.128857</td>\n",
              "    </tr>\n",
              "    <tr>\n",
              "      <th>std</th>\n",
              "      <td>68.907116</td>\n",
              "      <td>10.076941</td>\n",
              "      <td>14.305863</td>\n",
              "      <td>1.044653</td>\n",
              "      <td>56.700321</td>\n",
              "      <td>7.641303</td>\n",
              "      <td>3.451872</td>\n",
              "      <td>13.431754</td>\n",
              "      <td>0.629200</td>\n",
              "      <td>3.887921</td>\n",
              "      <td>4.256052</td>\n",
              "      <td>25.084045</td>\n",
              "    </tr>\n",
              "    <tr>\n",
              "      <th>min</th>\n",
              "      <td>0.110000</td>\n",
              "      <td>5.160000</td>\n",
              "      <td>9.235000</td>\n",
              "      <td>1.000000</td>\n",
              "      <td>55.000000</td>\n",
              "      <td>92.600000</td>\n",
              "      <td>62.600000</td>\n",
              "      <td>149.400000</td>\n",
              "      <td>1.895000</td>\n",
              "      <td>10.300000</td>\n",
              "      <td>15.000000</td>\n",
              "      <td>23.276272</td>\n",
              "    </tr>\n",
              "    <tr>\n",
              "      <th>25%</th>\n",
              "      <td>13.630000</td>\n",
              "      <td>12.527500</td>\n",
              "      <td>18.081250</td>\n",
              "      <td>2.300000</td>\n",
              "      <td>149.500000</td>\n",
              "      <td>103.000000</td>\n",
              "      <td>68.400000</td>\n",
              "      <td>177.575000</td>\n",
              "      <td>2.973000</td>\n",
              "      <td>15.800000</td>\n",
              "      <td>21.000000</td>\n",
              "      <td>60.567577</td>\n",
              "    </tr>\n",
              "    <tr>\n",
              "      <th>50%</th>\n",
              "      <td>27.609000</td>\n",
              "      <td>17.617500</td>\n",
              "      <td>23.099500</td>\n",
              "      <td>3.000000</td>\n",
              "      <td>177.500000</td>\n",
              "      <td>107.000000</td>\n",
              "      <td>70.550000</td>\n",
              "      <td>187.900000</td>\n",
              "      <td>3.355000</td>\n",
              "      <td>17.200000</td>\n",
              "      <td>24.000000</td>\n",
              "      <td>72.160636</td>\n",
              "    </tr>\n",
              "    <tr>\n",
              "      <th>75%</th>\n",
              "      <td>65.905500</td>\n",
              "      <td>18.089731</td>\n",
              "      <td>31.938750</td>\n",
              "      <td>3.575000</td>\n",
              "      <td>215.000000</td>\n",
              "      <td>112.200000</td>\n",
              "      <td>73.425000</td>\n",
              "      <td>196.125000</td>\n",
              "      <td>3.788750</td>\n",
              "      <td>19.575000</td>\n",
              "      <td>26.000000</td>\n",
              "      <td>89.623790</td>\n",
              "    </tr>\n",
              "    <tr>\n",
              "      <th>max</th>\n",
              "      <td>540.561000</td>\n",
              "      <td>67.550000</td>\n",
              "      <td>85.500000</td>\n",
              "      <td>8.000000</td>\n",
              "      <td>450.000000</td>\n",
              "      <td>138.700000</td>\n",
              "      <td>79.900000</td>\n",
              "      <td>224.500000</td>\n",
              "      <td>5.572000</td>\n",
              "      <td>32.000000</td>\n",
              "      <td>45.000000</td>\n",
              "      <td>188.144323</td>\n",
              "    </tr>\n",
              "  </tbody>\n",
              "</table>\n",
              "</div>"
            ],
            "text/plain": [
              "       Sales_in_thousands  _year_resale_value  Price_in_thousands  \\\n",
              "count          151.000000          156.000000          156.000000   \n",
              "mean            52.051742           18.063571           27.401071   \n",
              "std             68.907116           10.076941           14.305863   \n",
              "min              0.110000            5.160000            9.235000   \n",
              "25%             13.630000           12.527500           18.081250   \n",
              "50%             27.609000           17.617500           23.099500   \n",
              "75%             65.905500           18.089731           31.938750   \n",
              "max            540.561000           67.550000           85.500000   \n",
              "\n",
              "       Engine_size  Horsepower   Wheelbase       Width      Length  \\\n",
              "count   156.000000  156.000000  156.000000  156.000000  156.000000   \n",
              "mean      3.060897  185.948718  107.487179   71.150000  187.343590   \n",
              "std       1.044653   56.700321    7.641303    3.451872   13.431754   \n",
              "min       1.000000   55.000000   92.600000   62.600000  149.400000   \n",
              "25%       2.300000  149.500000  103.000000   68.400000  177.575000   \n",
              "50%       3.000000  177.500000  107.000000   70.550000  187.900000   \n",
              "75%       3.575000  215.000000  112.200000   73.425000  196.125000   \n",
              "max       8.000000  450.000000  138.700000   79.900000  224.500000   \n",
              "\n",
              "       Curb_weight  Fuel_capacity  Fuel_efficiency  Power_perf_factor  \n",
              "count   156.000000     156.000000       156.000000         156.000000  \n",
              "mean      3.380462      17.951923        23.833333          77.128857  \n",
              "std       0.629200       3.887921         4.256052          25.084045  \n",
              "min       1.895000      10.300000        15.000000          23.276272  \n",
              "25%       2.973000      15.800000        21.000000          60.567577  \n",
              "50%       3.355000      17.200000        24.000000          72.160636  \n",
              "75%       3.788750      19.575000        26.000000          89.623790  \n",
              "max       5.572000      32.000000        45.000000         188.144323  "
            ]
          },
          "metadata": {
            "tags": []
          },
          "execution_count": 8
        }
      ]
    },
    {
      "cell_type": "markdown",
      "metadata": {
        "id": "Rt1pF1tMbPb_",
        "colab_type": "text"
      },
      "source": [
        "### Q 1. Write a code to understand the total count and percentage of missing values."
      ]
    },
    {
      "cell_type": "code",
      "metadata": {
        "id": "hIkjt2zhbPcC",
        "colab_type": "code",
        "colab": {},
        "outputId": "89494364-ae9e-41d0-c1e5-f53d59f368af"
      },
      "source": [
        "car.shape"
      ],
      "execution_count": 0,
      "outputs": [
        {
          "output_type": "execute_result",
          "data": {
            "text/plain": [
              "(156, 16)"
            ]
          },
          "metadata": {
            "tags": []
          },
          "execution_count": 9
        }
      ]
    },
    {
      "cell_type": "code",
      "metadata": {
        "id": "grm9g82ibPcQ",
        "colab_type": "code",
        "colab": {},
        "outputId": "9b4b4512-e03c-46e6-8602-1db4b2374a0a"
      },
      "source": [
        "# Count total missing and sort it \n",
        "# Calucalte percent \n",
        "# concatenate total and percent \n",
        "# print missing data assigning a varibale\n",
        "# return using your created variable\n",
        "def lr():\n",
        "    total_Pct = (car.isnull().sum()/car.shape[0])*100\n",
        "    return total_Pct\n",
        "lr()"
      ],
      "execution_count": 0,
      "outputs": [
        {
          "output_type": "execute_result",
          "data": {
            "text/plain": [
              "Manufacturer          0.000000\n",
              "Model                 0.000000\n",
              "Sales_in_thousands    3.205128\n",
              "_year_resale_value    0.000000\n",
              "Vehicle_type          0.000000\n",
              "Price_in_thousands    0.000000\n",
              "Engine_size           0.000000\n",
              "Horsepower            0.000000\n",
              "Wheelbase             0.000000\n",
              "Width                 0.000000\n",
              "Length                0.000000\n",
              "Curb_weight           0.000000\n",
              "Fuel_capacity         0.000000\n",
              "Fuel_efficiency       0.000000\n",
              "Latest_Launch         0.000000\n",
              "Power_perf_factor     0.000000\n",
              "dtype: float64"
            ]
          },
          "metadata": {
            "tags": []
          },
          "execution_count": 10
        }
      ]
    },
    {
      "cell_type": "markdown",
      "metadata": {
        "id": "2VQcrhrabPce",
        "colab_type": "text"
      },
      "source": [
        "### Q 2. Impute the missing value using \"median\" groupby Manufacturer. "
      ]
    },
    {
      "cell_type": "code",
      "metadata": {
        "id": "rfPhw_MvbPch",
        "colab_type": "code",
        "colab": {},
        "outputId": "9bde27e2-8159-4c86-a2ea-d4124d1bb6ea"
      },
      "source": [
        "car['Sales_in_thousands'].median()"
      ],
      "execution_count": 0,
      "outputs": [
        {
          "output_type": "execute_result",
          "data": {
            "text/plain": [
              "27.609"
            ]
          },
          "metadata": {
            "tags": []
          },
          "execution_count": 11
        }
      ]
    },
    {
      "cell_type": "code",
      "metadata": {
        "id": "bqwwLlUXbPc0",
        "colab_type": "code",
        "colab": {},
        "outputId": "ca8abe37-923f-4f2a-9a9a-78f895bb05d7"
      },
      "source": [
        "\n",
        "def lr():\n",
        "    # your code here to impute missing value using median and groupby\n",
        "    car[\"Sales_in_thousands\"].fillna(car.groupby(\"Manufacturer\")[\"Sales_in_thousands\"].transform(\"median\"), inplace=True)\n",
        "    # car = car.groupby([\"Manufacturer\"])\n",
        "    return car\n",
        "lr()\n",
        "print (car.isnull().sum())"
      ],
      "execution_count": 0,
      "outputs": [
        {
          "output_type": "stream",
          "text": [
            "Manufacturer          0\n",
            "Model                 0\n",
            "Sales_in_thousands    0\n",
            "_year_resale_value    0\n",
            "Vehicle_type          0\n",
            "Price_in_thousands    0\n",
            "Engine_size           0\n",
            "Horsepower            0\n",
            "Wheelbase             0\n",
            "Width                 0\n",
            "Length                0\n",
            "Curb_weight           0\n",
            "Fuel_capacity         0\n",
            "Fuel_efficiency       0\n",
            "Latest_Launch         0\n",
            "Power_perf_factor     0\n",
            "dtype: int64\n"
          ],
          "name": "stdout"
        }
      ]
    },
    {
      "cell_type": "markdown",
      "metadata": {
        "id": "NJopk0dGbPdB",
        "colab_type": "text"
      },
      "source": [
        "### Q 3. Create a dummy variable for \"Vehicle_type\"  and  drop the original variable."
      ]
    },
    {
      "cell_type": "code",
      "metadata": {
        "id": "l89AVerZbPdE",
        "colab_type": "code",
        "colab": {},
        "outputId": "39adecf8-9519-403f-97d8-c9efce61bebb"
      },
      "source": [
        "car.Vehicle_type.value_counts()"
      ],
      "execution_count": 0,
      "outputs": [
        {
          "output_type": "execute_result",
          "data": {
            "text/plain": [
              "Passenger    116\n",
              "Car           40\n",
              "Name: Vehicle_type, dtype: int64"
            ]
          },
          "metadata": {
            "tags": []
          },
          "execution_count": 13
        }
      ]
    },
    {
      "cell_type": "code",
      "metadata": {
        "id": "vHPIw1A_bPdQ",
        "colab_type": "code",
        "colab": {},
        "outputId": "fe837b3a-e2f7-4f4c-eb04-24fb1ff0da79"
      },
      "source": [
        "car_dummy =pd.DataFrame()                                             # Creating an empty data frame\n",
        "def lr(car):\n",
        "    car_dummy = pd.get_dummies(car,columns=['Vehicle_type'],drop_first= True)\n",
        "    return car_dummy\n",
        "car_dummy = lr(car)\n",
        "print(car_dummy)"
      ],
      "execution_count": 0,
      "outputs": [
        {
          "output_type": "stream",
          "text": [
            "    Manufacturer          Model  Sales_in_thousands  _year_resale_value  \\\n",
            "0          Acura        Integra              16.919           16.360000   \n",
            "1          Acura             TL              39.384           19.875000   \n",
            "2          Acura             CL              14.114           18.225000   \n",
            "3          Acura             RL               8.588           29.725000   \n",
            "4           Audi             A4              20.397           22.255000   \n",
            "5           Audi             A6              18.780           23.555000   \n",
            "6           Audi             A8               1.380           39.000000   \n",
            "7            BMW           323i              19.747           18.072975   \n",
            "8            BMW           328i               9.231           28.675000   \n",
            "9            BMW           528i              17.527           36.125000   \n",
            "10         Buick        Century              91.561           12.475000   \n",
            "11         Buick          Regal              39.350           13.740000   \n",
            "12         Buick    Park Avenue              27.851           20.190000   \n",
            "13         Buick        LeSabre              83.257           13.360000   \n",
            "14      Cadillac        DeVille              63.729           22.525000   \n",
            "15      Cadillac        Seville              15.943           27.100000   \n",
            "16      Cadillac       Eldorado               6.536           25.725000   \n",
            "17      Cadillac         Catera              11.185           18.225000   \n",
            "18      Cadillac       Escalade              14.785           18.072975   \n",
            "19     Chevrolet       Cavalier             145.519            9.250000   \n",
            "20     Chevrolet         Malibu             135.126           11.225000   \n",
            "21     Chevrolet         Lumina              24.629           10.310000   \n",
            "22     Chevrolet    Monte Carlo              42.593           11.525000   \n",
            "23     Chevrolet         Camaro              26.402           13.025000   \n",
            "24     Chevrolet       Corvette              17.947           36.225000   \n",
            "25     Chevrolet          Prizm              32.299            9.125000   \n",
            "26     Chevrolet          Metro              21.855            5.160000   \n",
            "27     Chevrolet         Impala             107.995           18.072975   \n",
            "28      Chrysler  Sebring Coupe               7.854           12.360000   \n",
            "29      Chrysler  Sebring Conv.              32.775           14.180000   \n",
            "..           ...            ...                 ...                 ...   \n",
            "126         Saab          5-Sep               9.191           18.072975   \n",
            "127         Saab          3-Sep              12.115           18.072975   \n",
            "128       Saturn             SL              80.620            9.200000   \n",
            "129       Saturn             SC              24.546           10.590000   \n",
            "130       Saturn             SW               5.223           10.790000   \n",
            "131       Saturn             LW               8.472           18.072975   \n",
            "132       Saturn             LS              49.989           18.072975   \n",
            "133       Subaru        Outback              47.107           18.072975   \n",
            "134       Subaru       Forester              33.028           18.072975   \n",
            "135       Toyota        Corolla             142.535           10.025000   \n",
            "136       Toyota          Camry             247.994           13.245000   \n",
            "137       Toyota         Avalon              63.849           18.140000   \n",
            "138       Toyota         Celica              33.269           15.445000   \n",
            "139       Toyota         Tacoma              84.087            9.575000   \n",
            "140       Toyota         Sienna              65.119           18.072975   \n",
            "141       Toyota           RAV4              25.106           13.325000   \n",
            "142       Toyota        4Runner              68.411           19.425000   \n",
            "143       Toyota   Land Cruiser               9.835           34.080000   \n",
            "144   Volkswagen           Golf               9.761           11.425000   \n",
            "145   Volkswagen          Jetta              83.721           13.240000   \n",
            "146   Volkswagen         Passat              51.102           16.725000   \n",
            "147   Volkswagen         Cabrio               9.569           16.575000   \n",
            "148   Volkswagen            GTI               5.596           13.760000   \n",
            "149   Volkswagen         Beetle              49.463           18.072975   \n",
            "150        Volvo            S40              16.957           18.072975   \n",
            "151        Volvo            V40               3.545           18.072975   \n",
            "152        Volvo            S70              15.245           18.072975   \n",
            "153        Volvo            V70              17.531           18.072975   \n",
            "154        Volvo            C70               3.493           18.072975   \n",
            "155        Volvo            S80              18.969           18.072975   \n",
            "\n",
            "     Price_in_thousands  Engine_size  Horsepower  Wheelbase  Width  Length  \\\n",
            "0                21.500          1.8         140      101.2   67.3   172.4   \n",
            "1                28.400          3.2         225      108.1   70.3   192.9   \n",
            "2                29.000          3.2         225      106.9   70.6   192.0   \n",
            "3                42.000          3.5         210      114.6   71.4   196.6   \n",
            "4                23.990          1.8         150      102.6   68.2   178.0   \n",
            "5                33.950          2.8         200      108.7   76.1   192.0   \n",
            "6                62.000          4.2         310      113.0   74.0   198.2   \n",
            "7                26.990          2.5         170      107.3   68.4   176.0   \n",
            "8                33.400          2.8         193      107.3   68.5   176.0   \n",
            "9                38.900          2.8         193      111.4   70.9   188.0   \n",
            "10               21.975          3.1         175      109.0   72.7   194.6   \n",
            "11               25.300          3.8         240      109.0   72.7   196.2   \n",
            "12               31.965          3.8         205      113.8   74.7   206.8   \n",
            "13               27.885          3.8         205      112.2   73.5   200.0   \n",
            "14               39.895          4.6         275      115.3   74.5   207.2   \n",
            "15               44.475          4.6         275      112.2   75.0   201.0   \n",
            "16               39.665          4.6         275      108.0   75.5   200.6   \n",
            "17               31.010          3.0         200      107.4   70.3   194.8   \n",
            "18               46.225          5.7         255      117.5   77.0   201.2   \n",
            "19               13.260          2.2         115      104.1   67.9   180.9   \n",
            "20               16.535          3.1         170      107.0   69.4   190.4   \n",
            "21               18.890          3.1         175      107.5   72.5   200.9   \n",
            "22               19.390          3.4         180      110.5   72.7   197.9   \n",
            "23               24.340          3.8         200      101.1   74.1   193.2   \n",
            "24               45.705          5.7         345      104.5   73.6   179.7   \n",
            "25               13.960          1.8         120       97.1   66.7   174.3   \n",
            "26                9.235          1.0          55       93.1   62.6   149.4   \n",
            "27               18.890          3.4         180      110.5   73.0   200.0   \n",
            "28               19.840          2.5         163      103.7   69.7   190.9   \n",
            "29               24.495          2.5         168      106.0   69.2   193.0   \n",
            "..                  ...          ...         ...        ...    ...     ...   \n",
            "126              33.120          2.3         170      106.4   70.6   189.2   \n",
            "127              26.100          2.0         185      102.6   67.4   182.2   \n",
            "128              10.685          1.9         100      102.4   66.4   176.9   \n",
            "129              12.535          1.9         100      102.4   66.4   180.0   \n",
            "130              14.290          1.9         124      102.4   66.4   176.9   \n",
            "131              18.835          2.2         137      106.5   69.0   190.4   \n",
            "132              15.010          2.2         137      106.5   69.0   190.4   \n",
            "133              22.695          2.5         165      103.5   67.5   185.8   \n",
            "134              20.095          2.5         165       99.4   68.3   175.2   \n",
            "135              13.108          1.8         120       97.0   66.7   174.0   \n",
            "136              17.518          2.2         133      105.2   70.1   188.5   \n",
            "137              25.545          3.0         210      107.1   71.7   191.9   \n",
            "138              16.875          1.8         140      102.4   68.3   170.5   \n",
            "139              11.528          2.4         142      103.3   66.5   178.7   \n",
            "140              22.368          3.0         194      114.2   73.4   193.5   \n",
            "141              16.888          2.0         127       94.9   66.7   163.8   \n",
            "142              22.288          2.7         150      105.3   66.5   183.3   \n",
            "143              51.728          4.7         230      112.2   76.4   192.5   \n",
            "144              14.900          2.0         115       98.9   68.3   163.3   \n",
            "145              16.700          2.0         115       98.9   68.3   172.3   \n",
            "146              21.200          1.8         150      106.4   68.5   184.1   \n",
            "147              19.990          2.0         115       97.4   66.7   160.4   \n",
            "148              17.500          2.0         115       98.9   68.3   163.3   \n",
            "149              15.900          2.0         115       98.9   67.9   161.1   \n",
            "150              23.400          1.9         160      100.5   67.6   176.6   \n",
            "151              24.400          1.9         160      100.5   67.6   176.6   \n",
            "152              27.500          2.4         168      104.9   69.3   185.9   \n",
            "153              28.800          2.4         168      104.9   69.3   186.2   \n",
            "154              45.500          2.3         236      104.9   71.5   185.7   \n",
            "155              36.000          2.9         201      109.9   72.1   189.8   \n",
            "\n",
            "     Curb_weight  Fuel_capacity  Fuel_efficiency Latest_Launch  \\\n",
            "0          2.639           13.2               28      2/2/2012   \n",
            "1          3.517           17.2               25      6/3/2011   \n",
            "2          3.470           17.2               26      1/4/2012   \n",
            "3          3.850           18.0               22     3/10/2011   \n",
            "4          2.998           16.4               27     10/8/2011   \n",
            "5          3.561           18.5               22      8/9/2011   \n",
            "6          3.902           23.7               21     2/27/2012   \n",
            "7          3.179           16.6               26     6/28/2011   \n",
            "8          3.197           16.6               24     1/29/2012   \n",
            "9          3.472           18.5               25      4/4/2011   \n",
            "10         3.368           17.5               25     11/2/2011   \n",
            "11         3.543           17.5               23      9/3/2011   \n",
            "12         3.778           18.5               24     3/23/2012   \n",
            "13         3.591           17.5               25     7/23/2011   \n",
            "14         3.978           18.5               22     2/23/2012   \n",
            "15         3.758           18.5               22     4/29/2011   \n",
            "16         3.843           19.0               22    11/27/2011   \n",
            "17         3.770           18.0               22     9/28/2011   \n",
            "18         5.572           30.0               15     4/17/2012   \n",
            "19         2.676           14.3               27     8/17/2011   \n",
            "20         3.051           15.0               25     3/19/2012   \n",
            "21         3.330           16.6               25     5/24/2011   \n",
            "22         3.340           17.0               27    12/22/2011   \n",
            "23         3.500           16.8               25    10/23/2011   \n",
            "24         3.210           19.1               22     5/12/2012   \n",
            "25         2.398           13.2               33     9/11/2011   \n",
            "26         1.895           10.3               45     4/13/2012   \n",
            "27         3.389           17.0               27     6/18/2011   \n",
            "28         2.967           15.9               24     1/16/2012   \n",
            "29         3.332           16.0               24    11/17/2011   \n",
            "..           ...            ...              ...           ...   \n",
            "126        3.280           18.5               23     11/9/2012   \n",
            "127        2.990           16.9               23     6/12/2011   \n",
            "128        2.332           12.1               33     8/16/2012   \n",
            "129        2.367           12.1               33     3/16/2011   \n",
            "130        2.452           12.1               31     1/15/2011   \n",
            "131        3.075           13.1               27      8/5/2011   \n",
            "132        2.910           13.1               28     12/4/2012   \n",
            "133        3.415           16.9               25      7/7/2011   \n",
            "134        3.125           15.9               24     9/10/2012   \n",
            "135        2.420           13.2               33     4/11/2011   \n",
            "136        2.998           18.5               27     2/10/2011   \n",
            "137        3.417           18.5               26     8/31/2011   \n",
            "138        2.425           14.5               31    12/29/2012   \n",
            "139        2.580           15.1               23      8/1/2011   \n",
            "140        3.759           20.9               22     10/5/2012   \n",
            "141        2.668           15.3               27      5/6/2011   \n",
            "142        3.440           18.5               23      3/7/2011   \n",
            "143        5.115           25.4               15     9/25/2011   \n",
            "144        2.767           14.5               26     1/24/2011   \n",
            "145        2.853           14.5               26     8/27/2011   \n",
            "146        3.043           16.4               27    10/30/2012   \n",
            "147        3.079           13.7               26     5/31/2011   \n",
            "148        2.762           14.6               26      4/1/2011   \n",
            "149        2.769           14.5               26    10/20/2011   \n",
            "150        2.998           15.8               25     2/18/2011   \n",
            "151        3.042           15.8               25     9/21/2011   \n",
            "152        3.208           17.9               25    11/24/2012   \n",
            "153        3.259           17.9               25     6/25/2011   \n",
            "154        3.601           18.5               23     4/26/2011   \n",
            "155        3.600           21.1               24    11/14/2011   \n",
            "\n",
            "     Power_perf_factor  Vehicle_type_Passenger  \n",
            "0            58.280150                       1  \n",
            "1            91.370778                       1  \n",
            "2            90.345000                       1  \n",
            "3            91.389779                       1  \n",
            "4            62.777639                       1  \n",
            "5            84.565105                       1  \n",
            "6           134.656858                       1  \n",
            "7            71.191207                       1  \n",
            "8            81.877069                       1  \n",
            "9            83.998724                       1  \n",
            "10           71.181451                       1  \n",
            "11           95.636703                       1  \n",
            "12           85.828408                       1  \n",
            "13           84.254526                       1  \n",
            "14          113.854598                       1  \n",
            "15          115.621358                       1  \n",
            "16          113.765874                       1  \n",
            "17           83.483094                       1  \n",
            "18          109.509117                       0  \n",
            "19           46.363347                       1  \n",
            "20           67.314462                       1  \n",
            "21           69.991396                       1  \n",
            "22           72.030917                       1  \n",
            "23           81.118543                       1  \n",
            "24          141.141150                       1  \n",
            "25           48.297636                       1  \n",
            "26           23.276272                       1  \n",
            "27           71.838039                       1  \n",
            "28           65.957184                       1  \n",
            "29           69.521355                       1  \n",
            "..                 ...                     ...  \n",
            "126          73.503778                       1  \n",
            "127          76.023048                       1  \n",
            "128          39.986425                       1  \n",
            "129          40.700072                       1  \n",
            "130          49.865774                       1  \n",
            "131          56.295243                       1  \n",
            "132          54.819728                       1  \n",
            "133          67.765908                       1  \n",
            "134          66.762943                       0  \n",
            "135          47.968972                       1  \n",
            "136          54.372420                       1  \n",
            "137          84.911898                       1  \n",
            "138          56.496030                       1  \n",
            "139          55.297117                       0  \n",
            "140          78.027219                       0  \n",
            "141          51.955109                       0  \n",
            "142          62.355577                       0  \n",
            "143         102.528984                       0  \n",
            "144          46.943877                       1  \n",
            "145          47.638237                       1  \n",
            "146          61.701381                       1  \n",
            "147          48.907372                       1  \n",
            "148          47.946841                       1  \n",
            "149          47.329632                       1  \n",
            "150          66.113057                       1  \n",
            "151          66.498812                       1  \n",
            "152          70.654495                       1  \n",
            "153          71.155978                       1  \n",
            "154         101.623357                       1  \n",
            "155          85.735655                       1  \n",
            "\n",
            "[156 rows x 16 columns]\n"
          ],
          "name": "stdout"
        }
      ]
    },
    {
      "cell_type": "code",
      "metadata": {
        "id": "ZX4FZxMbbPdl",
        "colab_type": "code",
        "colab": {},
        "outputId": "db5d14df-56cf-4d68-dbb2-607d1792350d"
      },
      "source": [
        "car_dummy.shape"
      ],
      "execution_count": 0,
      "outputs": [
        {
          "output_type": "execute_result",
          "data": {
            "text/plain": [
              "(156, 16)"
            ]
          },
          "metadata": {
            "tags": []
          },
          "execution_count": 15
        }
      ]
    },
    {
      "cell_type": "markdown",
      "metadata": {
        "id": "s-P9STDzbPdy",
        "colab_type": "text"
      },
      "source": [
        "### Q 4. Drop the below mentioned variables which will not help in prediction of sales.\n",
        "``` ['Manufacturer', 'Model', 'Latest_Launch'] ```"
      ]
    },
    {
      "cell_type": "code",
      "metadata": {
        "id": "CYXjNIk2bPd0",
        "colab_type": "code",
        "colab": {},
        "outputId": "a67e5968-0c5c-4e5c-8ad5-08384d9f9289"
      },
      "source": [
        "def lr(column_name):\n",
        "    car_dummy.drop(column_name,axis = 1,inplace = True)\n",
        "    return car_dummy\n",
        "\n",
        "drop_Coumns = ['Manufacturer', 'Model', 'Latest_Launch']\n",
        "\n",
        "for i in drop_Coumns:\n",
        "    lr(i)\n",
        "car_dummy.info()"
      ],
      "execution_count": 0,
      "outputs": [
        {
          "output_type": "stream",
          "text": [
            "<class 'pandas.core.frame.DataFrame'>\n",
            "RangeIndex: 156 entries, 0 to 155\n",
            "Data columns (total 13 columns):\n",
            "Sales_in_thousands        156 non-null float64\n",
            "_year_resale_value        156 non-null float64\n",
            "Price_in_thousands        156 non-null float64\n",
            "Engine_size               156 non-null float64\n",
            "Horsepower                156 non-null int64\n",
            "Wheelbase                 156 non-null float64\n",
            "Width                     156 non-null float64\n",
            "Length                    156 non-null float64\n",
            "Curb_weight               156 non-null float64\n",
            "Fuel_capacity             156 non-null float64\n",
            "Fuel_efficiency           156 non-null int64\n",
            "Power_perf_factor         156 non-null float64\n",
            "Vehicle_type_Passenger    156 non-null uint8\n",
            "dtypes: float64(10), int64(2), uint8(1)\n",
            "memory usage: 14.9 KB\n"
          ],
          "name": "stdout"
        }
      ]
    },
    {
      "cell_type": "markdown",
      "metadata": {
        "id": "ak1AlrCWbPeC",
        "colab_type": "text"
      },
      "source": [
        "### Check for outliers using Box Plot"
      ]
    },
    {
      "cell_type": "code",
      "metadata": {
        "id": "SWcbLc7ubPeE",
        "colab_type": "code",
        "colab": {},
        "outputId": "11ff65fb-b14a-4436-9c58-4c5624199989"
      },
      "source": [
        "def lr():\n",
        "    sns.boxplot(data=car_dummy, orient=\"h\", palette=\"Set2\")\n",
        "    return None \n",
        "lr()"
      ],
      "execution_count": 0,
      "outputs": [
        {
          "output_type": "display_data",
          "data": {
            "image/png": "[encoded data removed]",
            "text/plain": [
              "<Figure size 432x288 with 1 Axes>"
            ]
          },
          "metadata": {
            "tags": [],
            "needs_background": "light"
          }
        }
      ]
    },
    {
      "cell_type": "markdown",
      "metadata": {
        "id": "fuEXXZ1MbPeW",
        "colab_type": "text"
      },
      "source": [
        "### Q 5. Calculate the Inter quantile range and then drop off outliers for quantile values outside 5 to 95 range."
      ]
    },
    {
      "cell_type": "code",
      "metadata": {
        "id": "MRhj_WURbPeZ",
        "colab_type": "code",
        "colab": {},
        "outputId": "57846585-b7e9-462b-b59d-8643554dbe8c"
      },
      "source": [
        "# Calculate Q1 value using quantile(0.05)\n",
        "# Calculate Q3 value using quantile value (0.95)\n",
        "# Calculate Inter Quartile Range\n",
        "# create a variable and check for outliers and drop them off\n",
        "def lr(car_dummy):\n",
        "    q1 = car_dummy.quantile(0.05)\n",
        "    q3= car_dummy.quantile(0.95)\n",
        "    iqr = q3-q1\n",
        "    car_dummy_qntl = car_dummy[~((car_dummy < (q1 - iqr)) |(car_dummy > (q3 + iqr))).any(axis=1)]\n",
        "    return car_dummy_qntl\n",
        "car_dummy = lr(car_dummy)\n",
        "print (car_dummy)"
      ],
      "execution_count": 0,
      "outputs": [
        {
          "output_type": "stream",
          "text": [
            "     Sales_in_thousands  _year_resale_value  Price_in_thousands  Engine_size  \\\n",
            "0                16.919           16.360000              21.500          1.8   \n",
            "1                39.384           19.875000              28.400          3.2   \n",
            "2                14.114           18.225000              29.000          3.2   \n",
            "3                 8.588           29.725000              42.000          3.5   \n",
            "4                20.397           22.255000              23.990          1.8   \n",
            "5                18.780           23.555000              33.950          2.8   \n",
            "6                 1.380           39.000000              62.000          4.2   \n",
            "7                19.747           18.072975              26.990          2.5   \n",
            "8                 9.231           28.675000              33.400          2.8   \n",
            "9                17.527           36.125000              38.900          2.8   \n",
            "10               91.561           12.475000              21.975          3.1   \n",
            "11               39.350           13.740000              25.300          3.8   \n",
            "12               27.851           20.190000              31.965          3.8   \n",
            "13               83.257           13.360000              27.885          3.8   \n",
            "14               63.729           22.525000              39.895          4.6   \n",
            "15               15.943           27.100000              44.475          4.6   \n",
            "16                6.536           25.725000              39.665          4.6   \n",
            "17               11.185           18.225000              31.010          3.0   \n",
            "18               14.785           18.072975              46.225          5.7   \n",
            "19              145.519            9.250000              13.260          2.2   \n",
            "20              135.126           11.225000              16.535          3.1   \n",
            "21               24.629           10.310000              18.890          3.1   \n",
            "22               42.593           11.525000              19.390          3.4   \n",
            "23               26.402           13.025000              24.340          3.8   \n",
            "24               17.947           36.225000              45.705          5.7   \n",
            "25               32.299            9.125000              13.960          1.8   \n",
            "26               21.855            5.160000               9.235          1.0   \n",
            "27              107.995           18.072975              18.890          3.4   \n",
            "28                7.854           12.360000              19.840          2.5   \n",
            "29               32.775           14.180000              24.495          2.5   \n",
            "..                  ...                 ...                 ...          ...   \n",
            "126               9.191           18.072975              33.120          2.3   \n",
            "127              12.115           18.072975              26.100          2.0   \n",
            "128              80.620            9.200000              10.685          1.9   \n",
            "129              24.546           10.590000              12.535          1.9   \n",
            "130               5.223           10.790000              14.290          1.9   \n",
            "131               8.472           18.072975              18.835          2.2   \n",
            "132              49.989           18.072975              15.010          2.2   \n",
            "133              47.107           18.072975              22.695          2.5   \n",
            "134              33.028           18.072975              20.095          2.5   \n",
            "135             142.535           10.025000              13.108          1.8   \n",
            "136             247.994           13.245000              17.518          2.2   \n",
            "137              63.849           18.140000              25.545          3.0   \n",
            "138              33.269           15.445000              16.875          1.8   \n",
            "139              84.087            9.575000              11.528          2.4   \n",
            "140              65.119           18.072975              22.368          3.0   \n",
            "141              25.106           13.325000              16.888          2.0   \n",
            "142              68.411           19.425000              22.288          2.7   \n",
            "143               9.835           34.080000              51.728          4.7   \n",
            "144               9.761           11.425000              14.900          2.0   \n",
            "145              83.721           13.240000              16.700          2.0   \n",
            "146              51.102           16.725000              21.200          1.8   \n",
            "147               9.569           16.575000              19.990          2.0   \n",
            "148               5.596           13.760000              17.500          2.0   \n",
            "149              49.463           18.072975              15.900          2.0   \n",
            "150              16.957           18.072975              23.400          1.9   \n",
            "151               3.545           18.072975              24.400          1.9   \n",
            "152              15.245           18.072975              27.500          2.4   \n",
            "153              17.531           18.072975              28.800          2.4   \n",
            "154               3.493           18.072975              45.500          2.3   \n",
            "155              18.969           18.072975              36.000          2.9   \n",
            "\n",
            "     Horsepower  Wheelbase  Width  Length  Curb_weight  Fuel_capacity  \\\n",
            "0           140      101.2   67.3   172.4        2.639           13.2   \n",
            "1           225      108.1   70.3   192.9        3.517           17.2   \n",
            "2           225      106.9   70.6   192.0        3.470           17.2   \n",
            "3           210      114.6   71.4   196.6        3.850           18.0   \n",
            "4           150      102.6   68.2   178.0        2.998           16.4   \n",
            "5           200      108.7   76.1   192.0        3.561           18.5   \n",
            "6           310      113.0   74.0   198.2        3.902           23.7   \n",
            "7           170      107.3   68.4   176.0        3.179           16.6   \n",
            "8           193      107.3   68.5   176.0        3.197           16.6   \n",
            "9           193      111.4   70.9   188.0        3.472           18.5   \n",
            "10          175      109.0   72.7   194.6        3.368           17.5   \n",
            "11          240      109.0   72.7   196.2        3.543           17.5   \n",
            "12          205      113.8   74.7   206.8        3.778           18.5   \n",
            "13          205      112.2   73.5   200.0        3.591           17.5   \n",
            "14          275      115.3   74.5   207.2        3.978           18.5   \n",
            "15          275      112.2   75.0   201.0        3.758           18.5   \n",
            "16          275      108.0   75.5   200.6        3.843           19.0   \n",
            "17          200      107.4   70.3   194.8        3.770           18.0   \n",
            "18          255      117.5   77.0   201.2        5.572           30.0   \n",
            "19          115      104.1   67.9   180.9        2.676           14.3   \n",
            "20          170      107.0   69.4   190.4        3.051           15.0   \n",
            "21          175      107.5   72.5   200.9        3.330           16.6   \n",
            "22          180      110.5   72.7   197.9        3.340           17.0   \n",
            "23          200      101.1   74.1   193.2        3.500           16.8   \n",
            "24          345      104.5   73.6   179.7        3.210           19.1   \n",
            "25          120       97.1   66.7   174.3        2.398           13.2   \n",
            "26           55       93.1   62.6   149.4        1.895           10.3   \n",
            "27          180      110.5   73.0   200.0        3.389           17.0   \n",
            "28          163      103.7   69.7   190.9        2.967           15.9   \n",
            "29          168      106.0   69.2   193.0        3.332           16.0   \n",
            "..          ...        ...    ...     ...          ...            ...   \n",
            "126         170      106.4   70.6   189.2        3.280           18.5   \n",
            "127         185      102.6   67.4   182.2        2.990           16.9   \n",
            "128         100      102.4   66.4   176.9        2.332           12.1   \n",
            "129         100      102.4   66.4   180.0        2.367           12.1   \n",
            "130         124      102.4   66.4   176.9        2.452           12.1   \n",
            "131         137      106.5   69.0   190.4        3.075           13.1   \n",
            "132         137      106.5   69.0   190.4        2.910           13.1   \n",
            "133         165      103.5   67.5   185.8        3.415           16.9   \n",
            "134         165       99.4   68.3   175.2        3.125           15.9   \n",
            "135         120       97.0   66.7   174.0        2.420           13.2   \n",
            "136         133      105.2   70.1   188.5        2.998           18.5   \n",
            "137         210      107.1   71.7   191.9        3.417           18.5   \n",
            "138         140      102.4   68.3   170.5        2.425           14.5   \n",
            "139         142      103.3   66.5   178.7        2.580           15.1   \n",
            "140         194      114.2   73.4   193.5        3.759           20.9   \n",
            "141         127       94.9   66.7   163.8        2.668           15.3   \n",
            "142         150      105.3   66.5   183.3        3.440           18.5   \n",
            "143         230      112.2   76.4   192.5        5.115           25.4   \n",
            "144         115       98.9   68.3   163.3        2.767           14.5   \n",
            "145         115       98.9   68.3   172.3        2.853           14.5   \n",
            "146         150      106.4   68.5   184.1        3.043           16.4   \n",
            "147         115       97.4   66.7   160.4        3.079           13.7   \n",
            "148         115       98.9   68.3   163.3        2.762           14.6   \n",
            "149         115       98.9   67.9   161.1        2.769           14.5   \n",
            "150         160      100.5   67.6   176.6        2.998           15.8   \n",
            "151         160      100.5   67.6   176.6        3.042           15.8   \n",
            "152         168      104.9   69.3   185.9        3.208           17.9   \n",
            "153         168      104.9   69.3   186.2        3.259           17.9   \n",
            "154         236      104.9   71.5   185.7        3.601           18.5   \n",
            "155         201      109.9   72.1   189.8        3.600           21.1   \n",
            "\n",
            "     Fuel_efficiency  Power_perf_factor  Vehicle_type_Passenger  \n",
            "0                 28          58.280150                       1  \n",
            "1                 25          91.370778                       1  \n",
            "2                 26          90.345000                       1  \n",
            "3                 22          91.389779                       1  \n",
            "4                 27          62.777639                       1  \n",
            "5                 22          84.565105                       1  \n",
            "6                 21         134.656858                       1  \n",
            "7                 26          71.191207                       1  \n",
            "8                 24          81.877069                       1  \n",
            "9                 25          83.998724                       1  \n",
            "10                25          71.181451                       1  \n",
            "11                23          95.636703                       1  \n",
            "12                24          85.828408                       1  \n",
            "13                25          84.254526                       1  \n",
            "14                22         113.854598                       1  \n",
            "15                22         115.621358                       1  \n",
            "16                22         113.765874                       1  \n",
            "17                22          83.483094                       1  \n",
            "18                15         109.509117                       0  \n",
            "19                27          46.363347                       1  \n",
            "20                25          67.314462                       1  \n",
            "21                25          69.991396                       1  \n",
            "22                27          72.030917                       1  \n",
            "23                25          81.118543                       1  \n",
            "24                22         141.141150                       1  \n",
            "25                33          48.297636                       1  \n",
            "26                45          23.276272                       1  \n",
            "27                27          71.838039                       1  \n",
            "28                24          65.957184                       1  \n",
            "29                24          69.521355                       1  \n",
            "..               ...                ...                     ...  \n",
            "126               23          73.503778                       1  \n",
            "127               23          76.023048                       1  \n",
            "128               33          39.986425                       1  \n",
            "129               33          40.700072                       1  \n",
            "130               31          49.865774                       1  \n",
            "131               27          56.295243                       1  \n",
            "132               28          54.819728                       1  \n",
            "133               25          67.765908                       1  \n",
            "134               24          66.762943                       0  \n",
            "135               33          47.968972                       1  \n",
            "136               27          54.372420                       1  \n",
            "137               26          84.911898                       1  \n",
            "138               31          56.496030                       1  \n",
            "139               23          55.297117                       0  \n",
            "140               22          78.027219                       0  \n",
            "141               27          51.955109                       0  \n",
            "142               23          62.355577                       0  \n",
            "143               15         102.528984                       0  \n",
            "144               26          46.943877                       1  \n",
            "145               26          47.638237                       1  \n",
            "146               27          61.701381                       1  \n",
            "147               26          48.907372                       1  \n",
            "148               26          47.946841                       1  \n",
            "149               26          47.329632                       1  \n",
            "150               25          66.113057                       1  \n",
            "151               25          66.498812                       1  \n",
            "152               25          70.654495                       1  \n",
            "153               25          71.155978                       1  \n",
            "154               23         101.623357                       1  \n",
            "155               24          85.735655                       1  \n",
            "\n",
            "[154 rows x 13 columns]\n"
          ],
          "name": "stdout"
        }
      ]
    },
    {
      "cell_type": "markdown",
      "metadata": {
        "id": "Mle6TlXtbPel",
        "colab_type": "text"
      },
      "source": [
        "### Q 6. Write code to standardize the variable for model building (return value will be numpy.ndarray)."
      ]
    },
    {
      "cell_type": "code",
      "metadata": {
        "scrolled": true,
        "id": "YM5Avv0jbPen",
        "colab_type": "code",
        "colab": {},
        "outputId": "7c8f9456-14a4-47ef-f7e4-3fb972f28293"
      },
      "source": [
        "std = pd.DataFrame()\n",
        "car_modify = car_dummy\n",
        "car_modify = car_modify.drop(car_dummy[['Sales_in_thousands']], axis=1)\n",
        "def lr(car_modify):\n",
        "    from sklearn.preprocessing import StandardScaler\n",
        "    scaler = StandardScaler().fit(car_modify)\n",
        "    car_modify1 = scaler.transform(car_modify)\n",
        "    return car_modify1\n",
        "std = lr(car_modify)\n",
        "print(std[1])\n",
        "std"
      ],
      "execution_count": 0,
      "outputs": [
        {
          "output_type": "stream",
          "text": [
            "[ 0.2147879   0.09116773  0.18859201  0.77851497  0.10306365 -0.22729613\n",
            "  0.43698582  0.22647767 -0.18117654  0.25690808  0.64045582  0.58234907]\n"
          ],
          "name": "stdout"
        },
        {
          "output_type": "execute_result",
          "data": {
            "text/plain": [
              "array([[-0.15270566, -0.40386698, -1.26877133, ...,  0.97191732,\n",
              "        -0.76842508,  0.58234907],\n",
              "       [ 0.2147879 ,  0.09116773,  0.18859201, ...,  0.25690808,\n",
              "         0.64045582,  0.58234907],\n",
              "       [ 0.04228025,  0.13421423,  0.18859201, ...,  0.4952445 ,\n",
              "         0.59678186,  0.58234907],\n",
              "       ...,\n",
              "       [ 0.02638605,  0.11986539, -0.64418704, ...,  0.25690808,\n",
              "        -0.22021826,  0.58234907],\n",
              "       [ 0.02638605,  1.31799289, -0.74828442, ..., -0.21976475,\n",
              "         1.07697408,  0.58234907],\n",
              "       [ 0.02638605,  0.63642335, -0.12370014, ...,  0.01857167,\n",
              "         0.40053237,  0.58234907]])"
            ]
          },
          "metadata": {
            "tags": []
          },
          "execution_count": 19
        }
      ]
    },
    {
      "cell_type": "markdown",
      "metadata": {
        "id": "T61Z5eBTbPez",
        "colab_type": "text"
      },
      "source": [
        "### Q 7. Write a code to create a DataFrame from the standardized value calculated above"
      ]
    },
    {
      "cell_type": "markdown",
      "metadata": {
        "id": "BH0TeCQ7bPe1",
        "colab_type": "text"
      },
      "source": [
        "### Since the standardized value is a numpy array, add the data to a dataframe with column header as mentioned below in the same order\n",
        "\n",
        "```['_year_resale_value','Price_in_thousands','Engine_size','Horsepower','Wheelbase','Width','Length','Curb_weight','Fuel_capacity','Fuel_efficiency','Power_perf_factor','Vehicle_type_Passenger'] ```"
      ]
    },
    {
      "cell_type": "code",
      "metadata": {
        "id": "GdwLDb_vbPe3",
        "colab_type": "code",
        "colab": {}
      },
      "source": [
        "columns = ['_year_resale_value','Price_in_thousands','Engine_size','Horsepower','Wheelbase','Width','Length','Curb_weight','Fuel_capacity','Fuel_efficiency','Power_perf_factor','Vehicle_type_Passenger']\n",
        "def lr(std):\n",
        "    # create a dataframe cars for the numpy array\n",
        "    cars = pd.DataFrame(std)\n",
        "    cars.columns = columns\n",
        "    # assign the column headers with the columns mentioned above\n",
        "    return cars\n",
        "cars = lr(std)"
      ],
      "execution_count": 0,
      "outputs": []
    },
    {
      "cell_type": "code",
      "metadata": {
        "id": "S6b7xPLXbPfD",
        "colab_type": "code",
        "colab": {},
        "outputId": "f675cd2b-89aa-4295-a4cd-b95d56510f16"
      },
      "source": [
        "cars.head() # scaled data"
      ],
      "execution_count": 0,
      "outputs": [
        {
          "output_type": "execute_result",
          "data": {
            "text/html": [
              "<div>\n",
              "<style scoped>\n",
              "    .dataframe tbody tr th:only-of-type {\n",
              "        vertical-align: middle;\n",
              "    }\n",
              "\n",
              "    .dataframe tbody tr th {\n",
              "        vertical-align: top;\n",
              "    }\n",
              "\n",
              "    .dataframe thead th {\n",
              "        text-align: right;\n",
              "    }\n",
              "</style>\n",
              "<table border=\"1\" class=\"dataframe\">\n",
              "  <thead>\n",
              "    <tr style=\"text-align: right;\">\n",
              "      <th></th>\n",
              "      <th>_year_resale_value</th>\n",
              "      <th>Price_in_thousands</th>\n",
              "      <th>Engine_size</th>\n",
              "      <th>Horsepower</th>\n",
              "      <th>Wheelbase</th>\n",
              "      <th>Width</th>\n",
              "      <th>Length</th>\n",
              "      <th>Curb_weight</th>\n",
              "      <th>Fuel_capacity</th>\n",
              "      <th>Fuel_efficiency</th>\n",
              "      <th>Power_perf_factor</th>\n",
              "      <th>Vehicle_type_Passenger</th>\n",
              "    </tr>\n",
              "  </thead>\n",
              "  <tbody>\n",
              "    <tr>\n",
              "      <th>0</th>\n",
              "      <td>-0.152706</td>\n",
              "      <td>-0.403867</td>\n",
              "      <td>-1.268771</td>\n",
              "      <td>-0.835991</td>\n",
              "      <td>-0.856756</td>\n",
              "      <td>-1.114212</td>\n",
              "      <td>-1.126791</td>\n",
              "      <td>-1.172960</td>\n",
              "      <td>-1.218395</td>\n",
              "      <td>0.971917</td>\n",
              "      <td>-0.768425</td>\n",
              "      <td>0.582349</td>\n",
              "    </tr>\n",
              "    <tr>\n",
              "      <th>1</th>\n",
              "      <td>0.214788</td>\n",
              "      <td>0.091168</td>\n",
              "      <td>0.188592</td>\n",
              "      <td>0.778515</td>\n",
              "      <td>0.103064</td>\n",
              "      <td>-0.227296</td>\n",
              "      <td>0.436986</td>\n",
              "      <td>0.226478</td>\n",
              "      <td>-0.181177</td>\n",
              "      <td>0.256908</td>\n",
              "      <td>0.640456</td>\n",
              "      <td>0.582349</td>\n",
              "    </tr>\n",
              "    <tr>\n",
              "      <th>2</th>\n",
              "      <td>0.042280</td>\n",
              "      <td>0.134214</td>\n",
              "      <td>0.188592</td>\n",
              "      <td>0.778515</td>\n",
              "      <td>-0.063862</td>\n",
              "      <td>-0.138605</td>\n",
              "      <td>0.368332</td>\n",
              "      <td>0.151565</td>\n",
              "      <td>-0.181177</td>\n",
              "      <td>0.495244</td>\n",
              "      <td>0.596782</td>\n",
              "      <td>0.582349</td>\n",
              "    </tr>\n",
              "    <tr>\n",
              "      <th>3</th>\n",
              "      <td>1.244606</td>\n",
              "      <td>1.066888</td>\n",
              "      <td>0.500884</td>\n",
              "      <td>0.493602</td>\n",
              "      <td>1.007242</td>\n",
              "      <td>0.097906</td>\n",
              "      <td>0.719229</td>\n",
              "      <td>0.757244</td>\n",
              "      <td>0.026267</td>\n",
              "      <td>-0.458101</td>\n",
              "      <td>0.641265</td>\n",
              "      <td>0.582349</td>\n",
              "    </tr>\n",
              "    <tr>\n",
              "      <th>4</th>\n",
              "      <td>0.463617</td>\n",
              "      <td>-0.225224</td>\n",
              "      <td>-1.268771</td>\n",
              "      <td>-0.646049</td>\n",
              "      <td>-0.662010</td>\n",
              "      <td>-0.848137</td>\n",
              "      <td>-0.699613</td>\n",
              "      <td>-0.600753</td>\n",
              "      <td>-0.388620</td>\n",
              "      <td>0.733581</td>\n",
              "      <td>-0.576938</td>\n",
              "      <td>0.582349</td>\n",
              "    </tr>\n",
              "  </tbody>\n",
              "</table>\n",
              "</div>"
            ],
            "text/plain": [
              "   _year_resale_value  Price_in_thousands  Engine_size  Horsepower  Wheelbase  \\\n",
              "0           -0.152706           -0.403867    -1.268771   -0.835991  -0.856756   \n",
              "1            0.214788            0.091168     0.188592    0.778515   0.103064   \n",
              "2            0.042280            0.134214     0.188592    0.778515  -0.063862   \n",
              "3            1.244606            1.066888     0.500884    0.493602   1.007242   \n",
              "4            0.463617           -0.225224    -1.268771   -0.646049  -0.662010   \n",
              "\n",
              "      Width    Length  Curb_weight  Fuel_capacity  Fuel_efficiency  \\\n",
              "0 -1.114212 -1.126791    -1.172960      -1.218395         0.971917   \n",
              "1 -0.227296  0.436986     0.226478      -0.181177         0.256908   \n",
              "2 -0.138605  0.368332     0.151565      -0.181177         0.495244   \n",
              "3  0.097906  0.719229     0.757244       0.026267        -0.458101   \n",
              "4 -0.848137 -0.699613    -0.600753      -0.388620         0.733581   \n",
              "\n",
              "   Power_perf_factor  Vehicle_type_Passenger  \n",
              "0          -0.768425                0.582349  \n",
              "1           0.640456                0.582349  \n",
              "2           0.596782                0.582349  \n",
              "3           0.641265                0.582349  \n",
              "4          -0.576938                0.582349  "
            ]
          },
          "metadata": {
            "tags": []
          },
          "execution_count": 21
        }
      ]
    },
    {
      "cell_type": "markdown",
      "metadata": {
        "id": "3L67op0qbPfP",
        "colab_type": "text"
      },
      "source": [
        "### Q 8: Now since all variable may not be of use, please extract only the following variables for training. Preparing X (independent features) for the model building.\n",
        "\n",
        "```['Price_in_thousands','Engine_size','Wheelbase','Fuel_efficiency','Vehicle_type_Passenger']```"
      ]
    },
    {
      "cell_type": "code",
      "metadata": {
        "id": "EEHmW1Y3bPfR",
        "colab_type": "code",
        "colab": {},
        "outputId": "dc807eda-3e2b-4881-b0fb-524c903e8b65"
      },
      "source": [
        "X = pd.DataFrame()\n",
        "feature_cols = ['Price_in_thousands','Engine_size','Wheelbase','Fuel_efficiency','Vehicle_type_Passenger']\n",
        "def lr(cars):\n",
        "    X = cars\n",
        "    return X\n",
        "X = lr(cars)\n",
        "print(X)"
      ],
      "execution_count": 0,
      "outputs": [
        {
          "output_type": "stream",
          "text": [
            "     _year_resale_value  Price_in_thousands  Engine_size  Horsepower  \\\n",
            "0             -0.152706           -0.403867    -1.268771   -0.835991   \n",
            "1              0.214788            0.091168     0.188592    0.778515   \n",
            "2              0.042280            0.134214     0.188592    0.778515   \n",
            "3              1.244606            1.066888     0.500884    0.493602   \n",
            "4              0.463617           -0.225224    -1.268771   -0.646049   \n",
            "5              0.599532            0.489348    -0.227798    0.303660   \n",
            "6              2.214308            2.501772     1.229566    2.393021   \n",
            "7              0.026386           -0.009992    -0.540090   -0.266165   \n",
            "8              1.134829            0.449889    -0.227798    0.170701   \n",
            "9              1.913727            0.844481    -0.227798    0.170701   \n",
            "10            -0.558883           -0.369789     0.084495   -0.171194   \n",
            "11            -0.426627           -0.131239     0.813176    1.063428   \n",
            "12             0.247721            0.346936     0.813176    0.398631   \n",
            "13            -0.466356            0.054219     0.813176    0.398631   \n",
            "14             0.491846            0.915867     1.645955    1.728224   \n",
            "15             0.970162            1.244455     1.645955    1.728224   \n",
            "16             0.826406            0.899366     1.645955    1.728224   \n",
            "17             0.042280            0.278420    -0.019603    0.303660   \n",
            "18             0.026386            1.370007     2.791027    1.348341   \n",
            "19            -0.896057           -0.995039    -0.852382   -1.310846   \n",
            "20            -0.689570           -0.760077     0.084495   -0.266165   \n",
            "21            -0.785234           -0.591119     0.084495   -0.171194   \n",
            "22            -0.658205           -0.555247     0.396787   -0.076223   \n",
            "23            -0.501380           -0.200114     0.813176    0.303660   \n",
            "24             1.924182            1.332700     2.791027    3.057817   \n",
            "25            -0.909126           -0.944818    -1.268771   -1.215875   \n",
            "26            -1.323667           -1.283809    -2.101550   -2.450497   \n",
            "27             0.026386           -0.591119     0.396787   -0.076223   \n",
            "28            -0.570906           -0.522962    -0.540090   -0.399125   \n",
            "29            -0.380625           -0.188993    -0.540090   -0.304154   \n",
            "..                  ...                 ...          ...         ...   \n",
            "124            0.026386            0.429800    -0.748284   -0.266165   \n",
            "125            0.026386           -0.073844    -1.060577    0.018748   \n",
            "126           -0.901284           -1.179780    -1.164674   -1.595758   \n",
            "127           -0.755960           -1.047053    -1.164674   -1.595758   \n",
            "128           -0.735050           -0.921142    -1.164674   -1.139898   \n",
            "129            0.026386           -0.595065    -0.852382   -0.892973   \n",
            "130            0.026386           -0.869487    -0.852382   -0.892973   \n",
            "131            0.026386           -0.318133    -0.540090   -0.361136   \n",
            "132            0.026386           -0.504668    -0.540090   -0.361136   \n",
            "133           -0.815030           -1.005944    -1.268771   -1.215875   \n",
            "134           -0.478379           -0.689552    -0.852382   -0.968950   \n",
            "135            0.033393           -0.113662    -0.019603    0.493602   \n",
            "136           -0.248369           -0.735684    -1.268771   -0.835991   \n",
            "137           -0.862078           -1.119300    -0.644187   -0.798003   \n",
            "138            0.026386           -0.341593    -0.019603    0.189695   \n",
            "139           -0.470015           -0.734751    -1.060577   -1.082915   \n",
            "140            0.167740           -0.347333    -0.331895   -0.646049   \n",
            "141            1.699922            1.764816     1.750053    0.873486   \n",
            "142           -0.668660           -0.877378    -1.060577   -1.310846   \n",
            "143           -0.478902           -0.748239    -1.060577   -1.310846   \n",
            "144           -0.114545           -0.425390    -1.268771   -0.646049   \n",
            "145           -0.130227           -0.512201    -1.060577   -1.310846   \n",
            "146           -0.424536           -0.690844    -1.060577   -1.310846   \n",
            "147            0.026386           -0.805634    -1.060577   -1.310846   \n",
            "148            0.026386           -0.267553    -1.164674   -0.456107   \n",
            "149            0.026386           -0.195809    -1.164674   -0.456107   \n",
            "150            0.026386            0.026598    -0.644187   -0.304154   \n",
            "151            0.026386            0.119865    -0.644187   -0.304154   \n",
            "152            0.026386            1.317993    -0.748284    0.987451   \n",
            "153            0.026386            0.636423    -0.123700    0.322654   \n",
            "\n",
            "     Wheelbase     Width    Length  Curb_weight  Fuel_capacity  \\\n",
            "0    -0.856756 -1.114212 -1.126791    -1.172960      -1.218395   \n",
            "1     0.103064 -0.227296  0.436986     0.226478      -0.181177   \n",
            "2    -0.063862 -0.138605  0.368332     0.151565      -0.181177   \n",
            "3     1.007242  0.097906  0.719229     0.757244       0.026267   \n",
            "4    -0.662010 -0.848137 -0.699613    -0.600753      -0.388620   \n",
            "5     0.186526  1.487407  0.368332     0.296609       0.155920   \n",
            "6     0.784675  0.866566  0.841279     0.840126       1.504304   \n",
            "7    -0.008220 -0.789009 -0.852177    -0.312258      -0.336759   \n",
            "8    -0.008220 -0.759446 -0.852177    -0.283568      -0.336759   \n",
            "9     0.562108 -0.049913  0.063205     0.154752       0.155920   \n",
            "10    0.228258  0.482236  0.566665    -0.011012      -0.103385   \n",
            "11    0.228258  0.482236  0.688716     0.267919      -0.103385   \n",
            "12    0.895958  1.073513  1.497303     0.642484       0.155920   \n",
            "13    0.673391  0.718747  0.978587     0.344426      -0.103385   \n",
            "14    1.104615  1.014386  1.527816     0.961262       0.155920   \n",
            "15    0.673391  1.162205  1.054869     0.610606       0.155920   \n",
            "16    0.089153  1.310024  1.024356     0.746087       0.285572   \n",
            "17    0.005691 -0.227296  0.581921     0.629733       0.026267   \n",
            "18    1.410644  1.753482  1.070125     3.501927       3.137924   \n",
            "19   -0.453354 -0.936829 -0.478396    -1.113986      -0.933160   \n",
            "20   -0.049951 -0.493371  0.246281    -0.516276      -0.751647   \n",
            "21    0.019601  0.423109  1.047240    -0.071580      -0.336759   \n",
            "22    0.436914  0.482236  0.818395    -0.055641      -0.233037   \n",
            "23   -0.870667  0.896130  0.459870     0.199381      -0.284898   \n",
            "24   -0.397712  0.748311 -0.569934    -0.262847       0.311502   \n",
            "25   -1.427084 -1.291595 -0.981856    -1.557088      -1.218395   \n",
            "26   -1.983501 -2.503713 -2.881273    -2.358816      -1.970379   \n",
            "27    0.436914  0.570928  0.978587     0.022459      -0.233037   \n",
            "28   -0.508995 -0.404679  0.284422    -0.650163      -0.518273   \n",
            "29   -0.189055 -0.552499  0.444614    -0.068392      -0.492342   \n",
            "..         ...       ...       ...          ...            ...   \n",
            "124  -0.133414 -0.138605  0.154743    -0.151275       0.155920   \n",
            "125  -0.662010 -1.084648 -0.379230    -0.613504      -0.258968   \n",
            "126  -0.689831 -1.380286 -0.783523    -1.662285      -1.503631   \n",
            "127  -0.689831 -1.380286 -0.547050    -1.606499      -1.503631   \n",
            "128  -0.689831 -1.380286 -0.783523    -1.471018      -1.503631   \n",
            "129  -0.119503 -0.611626  0.246281    -0.478023      -1.244326   \n",
            "130  -0.119503 -0.611626  0.246281    -0.741015      -1.244326   \n",
            "131  -0.536816 -1.055084 -0.104615     0.063901      -0.258968   \n",
            "132  -1.107144 -0.818573 -0.913202    -0.398328      -0.518273   \n",
            "133  -1.440994 -1.291595 -1.004740    -1.522023      -1.218395   \n",
            "134  -0.300339 -0.286424  0.101346    -0.600753       0.155920   \n",
            "135  -0.036041  0.186598  0.360704     0.067088       0.155920   \n",
            "136  -0.689831 -0.818573 -1.271727    -1.514053      -0.881299   \n",
            "137  -0.564637 -1.350723 -0.646216    -1.267000      -0.725716   \n",
            "138   0.951600  0.689183  0.482755     0.612200       0.778251   \n",
            "139  -1.733113 -1.291595 -1.782815    -1.126737      -0.673855   \n",
            "140  -0.286428 -1.350723 -0.295320     0.103748       0.155920   \n",
            "141   0.673391  1.576099  0.406473     2.773518       1.945122   \n",
            "142  -1.176696 -0.818573 -1.820956    -0.968942      -0.881299   \n",
            "143  -1.176696 -0.818573 -1.134420    -0.831867      -0.881299   \n",
            "144  -0.133414 -0.759446 -0.234294    -0.529028      -0.388620   \n",
            "145  -1.385352 -1.291595 -2.042173    -0.471647      -1.088743   \n",
            "146  -1.176696 -0.818573 -1.820956    -0.976911      -0.855369   \n",
            "147  -1.176696 -0.936829 -1.988776    -0.965754      -0.881299   \n",
            "148  -0.954129 -1.025520 -0.806408    -0.600753      -0.544203   \n",
            "149  -0.954129 -1.025520 -0.806408    -0.530621      -0.544203   \n",
            "150  -0.342070 -0.522935 -0.096987    -0.266035       0.000337   \n",
            "151  -0.342070 -0.522935 -0.074102    -0.184747       0.000337   \n",
            "152  -0.342070  0.127470 -0.112243     0.360365       0.155920   \n",
            "153   0.353451  0.304853  0.200512     0.358771       0.830112   \n",
            "\n",
            "     Fuel_efficiency  Power_perf_factor  Vehicle_type_Passenger  \n",
            "0           0.971917          -0.768425                0.582349  \n",
            "1           0.256908           0.640456                0.582349  \n",
            "2           0.495244           0.596782                0.582349  \n",
            "3          -0.458101           0.641265                0.582349  \n",
            "4           0.733581          -0.576938                0.582349  \n",
            "5          -0.458101           0.350695                0.582349  \n",
            "6          -0.696438           2.483423                0.582349  \n",
            "7           0.495244          -0.218718                0.582349  \n",
            "8           0.018572           0.236248                0.582349  \n",
            "9           0.256908           0.326580                0.582349  \n",
            "10          0.256908          -0.219134                0.582349  \n",
            "11         -0.219765           0.822084                0.582349  \n",
            "12          0.018572           0.404481                0.582349  \n",
            "13          0.256908           0.337471                0.582349  \n",
            "14         -0.458101           1.597737                0.582349  \n",
            "15         -0.458101           1.672959                0.582349  \n",
            "16         -0.458101           1.593959                0.582349  \n",
            "17         -0.458101           0.304626                0.582349  \n",
            "18         -2.126456           1.412722               -1.717183  \n",
            "19          0.733581          -1.275800                0.582349  \n",
            "20          0.256908          -0.383776                0.582349  \n",
            "21          0.256908          -0.269802                0.582349  \n",
            "22          0.733581          -0.182966                0.582349  \n",
            "23          0.256908           0.203952                0.582349  \n",
            "24         -0.458101           2.759501                0.582349  \n",
            "25          2.163599          -1.193445                0.582349  \n",
            "26          5.023636          -2.258765                0.582349  \n",
            "27          0.733581          -0.191178                0.582349  \n",
            "28          0.018572          -0.441564                0.582349  \n",
            "29          0.018572          -0.289815                0.582349  \n",
            "..               ...                ...                     ...  \n",
            "124        -0.219765          -0.120257                0.582349  \n",
            "125        -0.219765          -0.012996                0.582349  \n",
            "126         2.163599          -1.547307                0.582349  \n",
            "127         2.163599          -1.516922                0.582349  \n",
            "128         1.686927          -1.126679                0.582349  \n",
            "129         0.733581          -0.852935                0.582349  \n",
            "130         0.971917          -0.915757                0.582349  \n",
            "131         0.256908          -0.364555                0.582349  \n",
            "132         0.018572          -0.407258               -1.717183  \n",
            "133         2.163599          -1.207438                0.582349  \n",
            "134         0.733581          -0.934802                0.582349  \n",
            "135         0.495244           0.365460                0.582349  \n",
            "136         1.686927          -0.844387                0.582349  \n",
            "137        -0.219765          -0.895432               -1.717183  \n",
            "138        -0.458101           0.072335               -1.717183  \n",
            "139         0.733581          -1.037723               -1.717183  \n",
            "140        -0.219765          -0.594908               -1.717183  \n",
            "141        -2.126456           1.115532               -1.717183  \n",
            "142         0.495244          -1.251083                0.582349  \n",
            "143         0.495244          -1.221520                0.582349  \n",
            "144         0.733581          -0.622761                0.582349  \n",
            "145         0.495244          -1.167485                0.582349  \n",
            "146         0.495244          -1.208380                0.582349  \n",
            "147         0.495244          -1.234659                0.582349  \n",
            "148         0.256908          -0.434928                0.582349  \n",
            "149         0.256908          -0.418504                0.582349  \n",
            "150         0.256908          -0.241570                0.582349  \n",
            "151         0.256908          -0.220218                0.582349  \n",
            "152        -0.219765           1.076974                0.582349  \n",
            "153         0.018572           0.400532                0.582349  \n",
            "\n",
            "[154 rows x 12 columns]\n"
          ],
          "name": "stdout"
        }
      ]
    },
    {
      "cell_type": "markdown",
      "metadata": {
        "id": "t1031xbwbPfd",
        "colab_type": "text"
      },
      "source": [
        "### Check for the type and shape of X."
      ]
    },
    {
      "cell_type": "code",
      "metadata": {
        "id": "eEaUIPQ5bPff",
        "colab_type": "code",
        "colab": {},
        "outputId": "f94bde2d-9281-4ce2-c85b-07fb6a10e382"
      },
      "source": [
        "def lr():\n",
        "    print(type(X))\n",
        "    print(X.shape)\n",
        "lr()\n",
        "print(X.head())"
      ],
      "execution_count": 0,
      "outputs": [
        {
          "output_type": "stream",
          "text": [
            "<class 'pandas.core.frame.DataFrame'>\n",
            "(154, 12)\n",
            "   _year_resale_value  Price_in_thousands  Engine_size  Horsepower  Wheelbase  \\\n",
            "0           -0.152706           -0.403867    -1.268771   -0.835991  -0.856756   \n",
            "1            0.214788            0.091168     0.188592    0.778515   0.103064   \n",
            "2            0.042280            0.134214     0.188592    0.778515  -0.063862   \n",
            "3            1.244606            1.066888     0.500884    0.493602   1.007242   \n",
            "4            0.463617           -0.225224    -1.268771   -0.646049  -0.662010   \n",
            "\n",
            "      Width    Length  Curb_weight  Fuel_capacity  Fuel_efficiency  \\\n",
            "0 -1.114212 -1.126791    -1.172960      -1.218395         0.971917   \n",
            "1 -0.227296  0.436986     0.226478      -0.181177         0.256908   \n",
            "2 -0.138605  0.368332     0.151565      -0.181177         0.495244   \n",
            "3  0.097906  0.719229     0.757244       0.026267        -0.458101   \n",
            "4 -0.848137 -0.699613    -0.600753      -0.388620         0.733581   \n",
            "\n",
            "   Power_perf_factor  Vehicle_type_Passenger  \n",
            "0          -0.768425                0.582349  \n",
            "1           0.640456                0.582349  \n",
            "2           0.596782                0.582349  \n",
            "3           0.641265                0.582349  \n",
            "4          -0.576938                0.582349  \n"
          ],
          "name": "stdout"
        }
      ]
    },
    {
      "cell_type": "markdown",
      "metadata": {
        "id": "sghgf3N6bPfw",
        "colab_type": "text"
      },
      "source": [
        "### Q 9. Extract y (dependent variable) for model building.\n",
        "```['Sales_in_thousands']```"
      ]
    },
    {
      "cell_type": "code",
      "metadata": {
        "id": "FjJ4_-NEbPfy",
        "colab_type": "code",
        "colab": {},
        "outputId": "0dce5fa3-aadd-4721-f9f4-82b6ee5cfccb"
      },
      "source": [
        "y = pd.DataFrame()\n",
        "def lr(car_dummy):\n",
        "    # assign the dependent variable to y dataframe\n",
        "    y = car_dummy['Sales_in_thousands']\n",
        "    return y\n",
        "y = lr(car_dummy)\n",
        "print(y.head())"
      ],
      "execution_count": 0,
      "outputs": [
        {
          "output_type": "stream",
          "text": [
            "0    16.919\n",
            "1    39.384\n",
            "2    14.114\n",
            "3     8.588\n",
            "4    20.397\n",
            "Name: Sales_in_thousands, dtype: float64\n"
          ],
          "name": "stdout"
        }
      ]
    },
    {
      "cell_type": "markdown",
      "metadata": {
        "id": "tqMpurbJbPf-",
        "colab_type": "text"
      },
      "source": [
        "### Check for the type and shape of y. "
      ]
    },
    {
      "cell_type": "code",
      "metadata": {
        "id": "rrgIabnHbPgA",
        "colab_type": "code",
        "colab": {},
        "outputId": "632c55c6-7b9b-4eb3-f2da-0013a531a334"
      },
      "source": [
        "def lr():\n",
        "    print(type(y))\n",
        "    print(y.shape)\n",
        "lr()"
      ],
      "execution_count": 0,
      "outputs": [
        {
          "output_type": "stream",
          "text": [
            "<class 'pandas.core.series.Series'>\n",
            "(154,)\n"
          ],
          "name": "stdout"
        }
      ]
    },
    {
      "cell_type": "markdown",
      "metadata": {
        "id": "8YFP1uYNbPgM",
        "colab_type": "text"
      },
      "source": [
        "### Q 10. Split the value of X and y into train and test datasets."
      ]
    },
    {
      "cell_type": "code",
      "metadata": {
        "id": "pMcLu70ibPgO",
        "colab_type": "code",
        "colab": {}
      },
      "source": [
        "from sklearn.model_selection import train_test_split\n",
        "def lr():\n",
        "    return train_test_split(X, y, test_size=0.30, random_state=1)\n",
        "X_train, X_test, y_train, y_test = lr()"
      ],
      "execution_count": 0,
      "outputs": []
    },
    {
      "cell_type": "markdown",
      "metadata": {
        "id": "LL6A_i95bPgZ",
        "colab_type": "text"
      },
      "source": [
        "### Check the shape of  X and y of train dataset."
      ]
    },
    {
      "cell_type": "code",
      "metadata": {
        "id": "3FWXxZacbPgb",
        "colab_type": "code",
        "colab": {},
        "outputId": "d088f8bc-ff8e-486f-996c-e9e5c01b1bea"
      },
      "source": [
        "def lr():\n",
        "    print(X_train.shape)\n",
        "    print(y_train.shape)\n",
        "lr()"
      ],
      "execution_count": 0,
      "outputs": [
        {
          "output_type": "stream",
          "text": [
            "(107, 12)\n",
            "(107,)\n"
          ],
          "name": "stdout"
        }
      ]
    },
    {
      "cell_type": "markdown",
      "metadata": {
        "id": "GeLiFcFNbPgp",
        "colab_type": "text"
      },
      "source": [
        "### Check the shape of X and y of test dataset."
      ]
    },
    {
      "cell_type": "code",
      "metadata": {
        "id": "9dG9t87MbPgr",
        "colab_type": "code",
        "colab": {},
        "outputId": "eb5487bc-e8aa-4c65-9d31-1ded4eeecb20"
      },
      "source": [
        "def lr():\n",
        "    print(X_test.shape)\n",
        "    print(y_test.shape)\n",
        "lr()"
      ],
      "execution_count": 0,
      "outputs": [
        {
          "output_type": "stream",
          "text": [
            "(47, 12)\n",
            "(47,)\n"
          ],
          "name": "stdout"
        }
      ]
    },
    {
      "cell_type": "markdown",
      "metadata": {
        "id": "Co5nXd6BbPg3",
        "colab_type": "text"
      },
      "source": [
        "<a id=section404></a>"
      ]
    },
    {
      "cell_type": "markdown",
      "metadata": {
        "id": "S6aHCIeHbPg5",
        "colab_type": "text"
      },
      "source": [
        "### Q 11. Instantiate Linear regression model using scikit-learn"
      ]
    },
    {
      "cell_type": "code",
      "metadata": {
        "id": "dxmmL5dIbPg7",
        "colab_type": "code",
        "colab": {}
      },
      "source": [
        "from sklearn.linear_model import LinearRegression\n",
        "def lr():\n",
        "    #initiate the linear regression model to new variable linreg\n",
        "    linreg = LinearRegression()\n",
        "    return linreg\n",
        "linreg = lr()"
      ],
      "execution_count": 0,
      "outputs": []
    },
    {
      "cell_type": "markdown",
      "metadata": {
        "id": "81sy31SzbPhH",
        "colab_type": "text"
      },
      "source": [
        "### Q12. Fit the linear model on X_train and y_train."
      ]
    },
    {
      "cell_type": "code",
      "metadata": {
        "id": "7xMs8BBabPhK",
        "colab_type": "code",
        "colab": {}
      },
      "source": [
        "def lr():\n",
        "    # fit the X_train and y_train\n",
        "    linreg.fit(X_train,y_train)\n",
        "    # We don't expect any return from your side.\n",
        "lr()"
      ],
      "execution_count": 0,
      "outputs": []
    },
    {
      "cell_type": "markdown",
      "metadata": {
        "id": "qpTN1o8qbPhV",
        "colab_type": "text"
      },
      "source": [
        "<a id=section405></a>"
      ]
    },
    {
      "cell_type": "markdown",
      "metadata": {
        "id": "58ZS1tzybPhX",
        "colab_type": "text"
      },
      "source": [
        "### Q 13. Interpret the Model Coefficients."
      ]
    },
    {
      "cell_type": "code",
      "metadata": {
        "id": "tZ5IlMlzbPhZ",
        "colab_type": "code",
        "colab": {},
        "outputId": "e1935be8-82c6-4290-b8a3-2be2e50fb990"
      },
      "source": [
        "def lr():\n",
        "    # print the linreg.intercet\n",
        "    print(\"intercept_\", linreg.intercept_)\n",
        "    # print the linreg.coefficient\n",
        "    print(\"coef_\",linreg.coef_)\n",
        "lr()"
      ],
      "execution_count": 0,
      "outputs": [
        {
          "output_type": "stream",
          "text": [
            "intercept_ 55.0223402492293\n",
            "coef_ [   3.33059398  -77.77163182   30.39608215 -242.00329328   15.9631727\n",
            "    6.31479901    8.36397199  -33.70608081   -0.66771323   -6.46148691\n",
            "  273.42361295   -7.06270712]\n"
          ],
          "name": "stdout"
        }
      ]
    },
    {
      "cell_type": "markdown",
      "metadata": {
        "id": "dadULDn3bPhl",
        "colab_type": "text"
      },
      "source": [
        "### Q.14 Zip the features to pair the feature names with the coefficients."
      ]
    },
    {
      "cell_type": "code",
      "metadata": {
        "id": "e3LWet_abPhn",
        "colab_type": "code",
        "colab": {},
        "outputId": "6612aa59-0831-4e1b-effe-4f3d96b7aa57"
      },
      "source": [
        "def lr():\n",
        "    \n",
        "    # insert Intercept variable with the feature_cols\n",
        "    feature_cols.insert(0,'Intercept') # insert intercept at 0th index\n",
        "    print (\"feature_cols\", feature_cols)\n",
        "    \n",
        "    # make a list using linreg.coef\n",
        "    coef = linreg.coef_.tolist()\n",
        "    print (\"coef\", coef)\n",
        "    \n",
        "    # insert the intercept value respectively\n",
        "    coef.insert(0,linreg.intercept_)\n",
        "    print (\"coef\", coef)\n",
        "    \n",
        "    # creating a variable to zip feature_cols and their coef.\n",
        "    eq1 = zip (feature_cols,coef)\n",
        "    print(eq1)\n",
        "    \n",
        "    # use for loop the get the value of feature_cols and their coef\n",
        "    for c1,c2 in eq1:\n",
        "        print(c1,c2)\n",
        "        # print the above values\n",
        "lr()"
      ],
      "execution_count": 0,
      "outputs": [
        {
          "output_type": "stream",
          "text": [
            "feature_cols ['Intercept', 'Price_in_thousands', 'Engine_size', 'Wheelbase', 'Fuel_efficiency', 'Vehicle_type_Passenger']\n",
            "coef [3.3305939842965233, -77.77163182420243, 30.396082145894162, -242.00329328329272, 15.96317269774989, 6.31479901494831, 8.363971986394168, -33.70608081077878, -0.6677132325841517, -6.461486905442813, 273.4236129539959, -7.062707121015297]\n",
            "coef [55.0223402492293, 3.3305939842965233, -77.77163182420243, 30.396082145894162, -242.00329328329272, 15.96317269774989, 6.31479901494831, 8.363971986394168, -33.70608081077878, -0.6677132325841517, -6.461486905442813, 273.4236129539959, -7.062707121015297]\n",
            "<zip object at 0x0000028FD01D5B08>\n",
            "Intercept 55.0223402492293\n",
            "Price_in_thousands 3.3305939842965233\n",
            "Engine_size -77.77163182420243\n",
            "Wheelbase 30.396082145894162\n",
            "Fuel_efficiency -242.00329328329272\n",
            "Vehicle_type_Passenger 15.96317269774989\n"
          ],
          "name": "stdout"
        }
      ]
    },
    {
      "cell_type": "markdown",
      "metadata": {
        "id": "Act84G5RbPhz",
        "colab_type": "text"
      },
      "source": [
        "###  Q 15. Predict the train value using the built model."
      ]
    },
    {
      "cell_type": "code",
      "metadata": {
        "id": "UCZ5NZHybPh2",
        "colab_type": "code",
        "colab": {},
        "outputId": "e135b657-4e49-45f2-ea8a-d58ca760a898"
      },
      "source": [
        "y_pred_train = linreg.predict(X_train)\n",
        "pred = pd.DataFrame(y_pred_train)\n",
        "def lr():  \n",
        "    # provide column header as sales for pred\n",
        "    pred.column = [\"sales\"]\n",
        "    print (pred)\n",
        "    # check for head\n",
        "    head1 = pred.head()\n",
        "    return head1\n",
        "lr()"
      ],
      "execution_count": 0,
      "outputs": [
        {
          "output_type": "stream",
          "text": [
            "              0\n",
            "0     48.246277\n",
            "1     41.645653\n",
            "2     78.459426\n",
            "3     23.994715\n",
            "4     76.824879\n",
            "5     34.222231\n",
            "6     95.071561\n",
            "7     63.322148\n",
            "8     81.890980\n",
            "9     50.697714\n",
            "10    64.371201\n",
            "11    75.319820\n",
            "12    49.665857\n",
            "13    64.769670\n",
            "14    31.061864\n",
            "15    34.636114\n",
            "16    56.744468\n",
            "17   -52.230053\n",
            "18    14.113997\n",
            "19    12.787335\n",
            "20     1.211701\n",
            "21    39.383858\n",
            "22    69.422185\n",
            "23    89.485511\n",
            "24    78.561895\n",
            "25    90.244437\n",
            "26    54.072644\n",
            "27    71.761079\n",
            "28    32.498714\n",
            "29    93.150625\n",
            "..          ...\n",
            "77    75.932155\n",
            "78    83.953110\n",
            "79    33.670051\n",
            "80    15.445308\n",
            "81    54.421424\n",
            "82    65.901500\n",
            "83    31.671625\n",
            "84    35.968672\n",
            "85    86.535200\n",
            "86    69.152167\n",
            "87    15.666186\n",
            "88    35.276437\n",
            "89   120.510337\n",
            "90   -11.277590\n",
            "91    18.295428\n",
            "92    73.345828\n",
            "93    51.775709\n",
            "94    77.460763\n",
            "95    84.163298\n",
            "96    50.893107\n",
            "97    65.576216\n",
            "98    -4.621375\n",
            "99    62.750291\n",
            "100   35.579681\n",
            "101   58.646650\n",
            "102   50.538878\n",
            "103  101.697369\n",
            "104    4.321673\n",
            "105   60.564481\n",
            "106   59.731844\n",
            "\n",
            "[107 rows x 1 columns]\n"
          ],
          "name": "stdout"
        },
        {
          "output_type": "stream",
          "text": [
            "C:\\PRIYKAPI\\Personal\\INSAID\\SoftFiles\\Anaconda\\lib\\site-packages\\ipykernel_launcher.py:5: UserWarning: Pandas doesn't allow columns to be created via a new attribute name - see https://pandas.pydata.org/pandas-docs/stable/indexing.html#attribute-access\n",
            "  \"\"\"\n"
          ],
          "name": "stderr"
        },
        {
          "output_type": "execute_result",
          "data": {
            "text/html": [
              "<div>\n",
              "<style scoped>\n",
              "    .dataframe tbody tr th:only-of-type {\n",
              "        vertical-align: middle;\n",
              "    }\n",
              "\n",
              "    .dataframe tbody tr th {\n",
              "        vertical-align: top;\n",
              "    }\n",
              "\n",
              "    .dataframe thead th {\n",
              "        text-align: right;\n",
              "    }\n",
              "</style>\n",
              "<table border=\"1\" class=\"dataframe\">\n",
              "  <thead>\n",
              "    <tr style=\"text-align: right;\">\n",
              "      <th></th>\n",
              "      <th>0</th>\n",
              "    </tr>\n",
              "  </thead>\n",
              "  <tbody>\n",
              "    <tr>\n",
              "      <th>0</th>\n",
              "      <td>48.246277</td>\n",
              "    </tr>\n",
              "    <tr>\n",
              "      <th>1</th>\n",
              "      <td>41.645653</td>\n",
              "    </tr>\n",
              "    <tr>\n",
              "      <th>2</th>\n",
              "      <td>78.459426</td>\n",
              "    </tr>\n",
              "    <tr>\n",
              "      <th>3</th>\n",
              "      <td>23.994715</td>\n",
              "    </tr>\n",
              "    <tr>\n",
              "      <th>4</th>\n",
              "      <td>76.824879</td>\n",
              "    </tr>\n",
              "  </tbody>\n",
              "</table>\n",
              "</div>"
            ],
            "text/plain": [
              "           0\n",
              "0  48.246277\n",
              "1  41.645653\n",
              "2  78.459426\n",
              "3  23.994715\n",
              "4  76.824879"
            ]
          },
          "metadata": {
            "tags": []
          },
          "execution_count": 33
        }
      ]
    },
    {
      "cell_type": "markdown",
      "metadata": {
        "id": "0ColqLwibPiE",
        "colab_type": "text"
      },
      "source": [
        "### Q 16. Predict the test value using the built model."
      ]
    },
    {
      "cell_type": "code",
      "metadata": {
        "id": "wH7j03bsbPiG",
        "colab_type": "code",
        "colab": {},
        "outputId": "fda4498c-e110-41f8-c3b7-d8c3ee3c8dcc"
      },
      "source": [
        "y_pred_test = linreg.predict(X_test)    \n",
        "pred_test= pd.DataFrame(y_pred_test)\n",
        "def lr():\n",
        "    # provide column header as sales for pred\n",
        "    pred_test.column = [\"sales\"]\n",
        "    # check for head \n",
        "    head1 = pred_test.head()\n",
        "    return head1\n",
        "lr()"
      ],
      "execution_count": 0,
      "outputs": [
        {
          "output_type": "stream",
          "text": [
            "C:\\PRIYKAPI\\Personal\\INSAID\\SoftFiles\\Anaconda\\lib\\site-packages\\ipykernel_launcher.py:5: UserWarning: Pandas doesn't allow columns to be created via a new attribute name - see https://pandas.pydata.org/pandas-docs/stable/indexing.html#attribute-access\n",
            "  \"\"\"\n"
          ],
          "name": "stderr"
        },
        {
          "output_type": "execute_result",
          "data": {
            "text/html": [
              "<div>\n",
              "<style scoped>\n",
              "    .dataframe tbody tr th:only-of-type {\n",
              "        vertical-align: middle;\n",
              "    }\n",
              "\n",
              "    .dataframe tbody tr th {\n",
              "        vertical-align: top;\n",
              "    }\n",
              "\n",
              "    .dataframe thead th {\n",
              "        text-align: right;\n",
              "    }\n",
              "</style>\n",
              "<table border=\"1\" class=\"dataframe\">\n",
              "  <thead>\n",
              "    <tr style=\"text-align: right;\">\n",
              "      <th></th>\n",
              "      <th>0</th>\n",
              "    </tr>\n",
              "  </thead>\n",
              "  <tbody>\n",
              "    <tr>\n",
              "      <th>0</th>\n",
              "      <td>60.266704</td>\n",
              "    </tr>\n",
              "    <tr>\n",
              "      <th>1</th>\n",
              "      <td>49.265509</td>\n",
              "    </tr>\n",
              "    <tr>\n",
              "      <th>2</th>\n",
              "      <td>3.028231</td>\n",
              "    </tr>\n",
              "    <tr>\n",
              "      <th>3</th>\n",
              "      <td>48.930892</td>\n",
              "    </tr>\n",
              "    <tr>\n",
              "      <th>4</th>\n",
              "      <td>71.449577</td>\n",
              "    </tr>\n",
              "  </tbody>\n",
              "</table>\n",
              "</div>"
            ],
            "text/plain": [
              "           0\n",
              "0  60.266704\n",
              "1  49.265509\n",
              "2   3.028231\n",
              "3  48.930892\n",
              "4  71.449577"
            ]
          },
          "metadata": {
            "tags": []
          },
          "execution_count": 34
        }
      ]
    },
    {
      "cell_type": "markdown",
      "metadata": {
        "id": "ucAqxKPibPiQ",
        "colab_type": "text"
      },
      "source": [
        "### Q 17 Evaluate the model using Mean Absolute Error metrics for both train and test."
      ]
    },
    {
      "cell_type": "code",
      "metadata": {
        "id": "xer6lQI9bPiS",
        "colab_type": "code",
        "colab": {}
      },
      "source": [
        "from sklearn import metrics"
      ],
      "execution_count": 0,
      "outputs": []
    },
    {
      "cell_type": "code",
      "metadata": {
        "id": "VB8N9Q_2bPif",
        "colab_type": "code",
        "colab": {},
        "outputId": "07f0281f-568a-4bcf-d0ed-fa2102fa9a0a"
      },
      "source": [
        "def lr():\n",
        "    # Calculate MAE for train \n",
        "    mae_train = metrics.mean_absolute_error(y_train,y_pred_train)\n",
        "    # Calculate MAE for test \n",
        "    mae_test = metrics.mean_absolute_error(y_test,y_pred_test)\n",
        "    # print MAE for train\n",
        "    print(\"Mean abosolute error for train: \",mae_train)\n",
        "    # print MAE for test\n",
        "    print(\"Mean abosolute error for test: \",mae_test)\n",
        "lr()"
      ],
      "execution_count": 0,
      "outputs": [
        {
          "output_type": "stream",
          "text": [
            "Mean abosolute error for train:  39.169385573105814\n",
            "Mean abosolute error for test:  37.50624769885598\n"
          ],
          "name": "stdout"
        }
      ]
    },
    {
      "cell_type": "markdown",
      "metadata": {
        "id": "l7Mxmag3bPip",
        "colab_type": "text"
      },
      "source": [
        "### Q 18 Evaluate the model using Mean Squared Error for both train and test."
      ]
    },
    {
      "cell_type": "code",
      "metadata": {
        "id": "_2Wu1PvGbPir",
        "colab_type": "code",
        "colab": {},
        "outputId": "a2113a57-2164-4438-f1a2-23df2740ee8c"
      },
      "source": [
        "def lr():\n",
        "    # Calculate MSE for train \n",
        "    mse_train = metrics.mean_squared_error(y_train,y_pred_train)\n",
        "    # Calculate MSE for test \n",
        "    mse_test = metrics.mean_squared_error(y_test,y_pred_test)\n",
        "    # print MSE for train\n",
        "    print(\"Mean squared error for train: \",mse_train)\n",
        "    # print MSE for test\n",
        "    print(\"Mean squared error for test: \",mse_test)\n",
        "lr()"
      ],
      "execution_count": 0,
      "outputs": [
        {
          "output_type": "stream",
          "text": [
            "Mean squared error for train:  3263.2127772294825\n",
            "Mean squared error for test:  2579.3183284299066\n"
          ],
          "name": "stdout"
        }
      ]
    },
    {
      "cell_type": "markdown",
      "metadata": {
        "id": "MRNs__p7bPi3",
        "colab_type": "text"
      },
      "source": [
        "### Q 19 Evaluate the model using Root Mean Squared Error for both train and test."
      ]
    },
    {
      "cell_type": "code",
      "metadata": {
        "id": "LAA0P16sbPi6",
        "colab_type": "code",
        "colab": {},
        "outputId": "324a73fe-d105-4d3c-8338-c76ef109f431"
      },
      "source": [
        "import numpy as np\n",
        "def lr():\n",
        "    # Calculate RMSE for train \n",
        "    rmse_train = np.sqrt(metrics.mean_squared_error(y_train,y_pred_train))\n",
        "    # Calculate RMSE for test \n",
        "    rmse_test = np.sqrt(metrics.mean_squared_error(y_test,y_pred_test))\n",
        "    # print RMSE for train\n",
        "    print(\"Root Mean squared error for train: \",rmse_train)\n",
        "    # print RMSE for testprint(\"Root Mean squared error for train: \",rmse_train)\n",
        "    print(\"Root Mean squared error for test: \",rmse_test)\n",
        "lr()"
      ],
      "execution_count": 0,
      "outputs": [
        {
          "output_type": "stream",
          "text": [
            "Root Mean squared error for train:  57.124537435584394\n",
            "Root Mean squared error for test:  50.786989755545726\n"
          ],
          "name": "stdout"
        }
      ]
    },
    {
      "cell_type": "markdown",
      "metadata": {
        "id": "CchNntIkbPjL",
        "colab_type": "text"
      },
      "source": [
        "### Q 20. Evaluate the model using R-square value for both train and test."
      ]
    },
    {
      "cell_type": "code",
      "metadata": {
        "id": "PLHcfYH6bPjN",
        "colab_type": "code",
        "colab": {},
        "outputId": "57f83036-4d20-48af-9442-114afac61c9a"
      },
      "source": [
        "from sklearn.metrics import r2_score\n",
        "def lr():\n",
        "    # Calculate r2 for train\n",
        "    r2_train = r2_score(y_train,y_pred_train)\n",
        "    # Calculate r2 for test \n",
        "    r2_test = r2_score(y_test,y_pred_test)\n",
        "    # print r2 for train\n",
        "    print(\"R Squared for train: \",r2_train)\n",
        "    # print r2 for test\n",
        "    print(\"R Squared for test: \",r2_test)\n",
        "lr()"
      ],
      "execution_count": 0,
      "outputs": [
        {
          "output_type": "stream",
          "text": [
            "R Squared for train:  0.2516296975909943\n",
            "R Squared for test:  0.2715070011491775\n"
          ],
          "name": "stdout"
        }
      ]
    },
    {
      "cell_type": "code",
      "metadata": {
        "id": "1iL4hYXfbPjX",
        "colab_type": "code",
        "colab": {}
      },
      "source": [
        ""
      ],
      "execution_count": 0,
      "outputs": []
    }
  ]
}