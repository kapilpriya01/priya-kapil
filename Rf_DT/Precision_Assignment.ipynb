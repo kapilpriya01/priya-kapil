{
  "nbformat": 4,
  "nbformat_minor": 0,
  "metadata": {
    "kernelspec": {
      "display_name": "Python 3",
      "language": "python",
      "name": "python3"
    },
    "language_info": {
      "codemirror_mode": {
        "name": "ipython",
        "version": 3
      },
      "file_extension": ".py",
      "mimetype": "text/x-python",
      "name": "python",
      "nbconvert_exporter": "python",
      "pygments_lexer": "ipython3",
      "version": "3.6.5"
    },
    "colab": {
      "name": "Precision_Assignment.ipynb",
      "provenance": [],
      "collapsed_sections": [],
      "include_colab_link": true
    }
  },
  "cells": [
    {
      "cell_type": "markdown",
      "metadata": {
        "id": "view-in-github",
        "colab_type": "text"
      },
      "source": [
        "<a href=\"https://colab.research.google.com/github/kapilpriya01/priya-kapil/blob/master/Rf_DT/Precision_Assignment.ipynb\" target=\"_parent\"><img src=\"https://colab.research.google.com/assets/colab-badge.svg\" alt=\"Open In Colab\"/></a>"
      ]
    },
    {
      "cell_type": "markdown",
      "metadata": {
        "id": "asfQVsAHzp1V",
        "colab_type": "text"
      },
      "source": [
        "<img src=\"https://github.com/insaid2018/Term-1/blob/master/Images/INSAID_Full%20Logo.png?raw=true\" width=\"240\" height=\"360\" />\n",
        "\n",
        "# ASSIGNMENT\n",
        "## ZOMBIE OR NOT ZOMBIE (PRECISION CASE)"
      ]
    },
    {
      "cell_type": "markdown",
      "metadata": {
        "id": "IvThSNe5zp1X",
        "colab_type": "text"
      },
      "source": [
        "There has been a __virus spread__ in city of Boston in America. A lethal virus, spread through a __single bite__, is turning healthy people into something _vicious_, _unthinking_ and _feral_. They are all slowly turning into __zombie__. As the pandemic threatens to consume humanity, people of Boston are in search to find a better place, a safe house to remain healthy and alive.\n",
        "\n",
        "The data for this pandemic consists of __21 variables__ and __569 observations__.\n",
        "The target variable for this datset is __'Zombie'__ having __0__ and __1__ meaning __Not-infected__ and __infected__ respectively.![image.png](attachment:image.png)\n",
        "### FALSE POSITIVE AND FALSE NEGATIVE\n",
        "In this as you will roll over to the data and do the analysis, you will come up with very absurd figures as out 569, more than 400 people are already infected and turned into virus. Moreover the leftover people healthy and alive are very less, thus fall under the minority group.<br/><br/>\n",
        "__FALSE POSITIVE__ - In this case, we have to find those who are __infected with the zombie__ and turned into virus. So that they could be __found__ and __killed__ or kept at a __confine place__ together with other viruss in order to prevent them to take on the alive people. This need to be taken care of seriously as we _can't loose any more alive person as they are very low._<br/><br/>\n",
        "__FALSE NEGATIVE__ - In this case, the normal human are __predicted as zombie__, which also a dangerous situation, if the prediction goes true.\n",
        "\n",
        "So concluding from the above two cases, '__False positive__' is to taken care of as it is much harmful. We cannot risk on examining the normal human as there number are low rather than should __find and kill__ the viruss showing no mercy."
      ]
    },
    {
      "cell_type": "markdown",
      "metadata": {
        "id": "SV6Cndtzzp1Y",
        "colab_type": "text"
      },
      "source": [
        "### Import the dataset"
      ]
    },
    {
      "cell_type": "code",
      "metadata": {
        "colab_type": "code",
        "id": "hj8UmUJeU8tO",
        "outputId": "0d7bef87-e9f6-4e44-be8e-75ab8795e37d",
        "colab": {
          "base_uri": "https://localhost:8080/",
          "height": 241
        }
      },
      "source": [
        "import pandas as pd\n",
        "virus = pd.read_csv('https://raw.githubusercontent.com/insaid2018/Term-2/master/Data/zombie.csv')\n",
        "virus.head()"
      ],
      "execution_count": 44,
      "outputs": [
        {
          "output_type": "execute_result",
          "data": {
            "text/html": [
              "<div>\n",
              "<style scoped>\n",
              "    .dataframe tbody tr th:only-of-type {\n",
              "        vertical-align: middle;\n",
              "    }\n",
              "\n",
              "    .dataframe tbody tr th {\n",
              "        vertical-align: top;\n",
              "    }\n",
              "\n",
              "    .dataframe thead th {\n",
              "        text-align: right;\n",
              "    }\n",
              "</style>\n",
              "<table border=\"1\" class=\"dataframe\">\n",
              "  <thead>\n",
              "    <tr style=\"text-align: right;\">\n",
              "      <th></th>\n",
              "      <th>Zombie</th>\n",
              "      <th>bite_perimeter</th>\n",
              "      <th>bite_radius</th>\n",
              "      <th>bite_area</th>\n",
              "      <th>bite points_worst</th>\n",
              "      <th>bite points_mean</th>\n",
              "      <th>perimeter_mean</th>\n",
              "      <th>area_mean</th>\n",
              "      <th>radius_mean</th>\n",
              "      <th>area_se</th>\n",
              "      <th>cut_mean</th>\n",
              "      <th>cut_worst</th>\n",
              "      <th>radius_se</th>\n",
              "      <th>perimeter_se</th>\n",
              "      <th>deep_worst</th>\n",
              "      <th>deep_mean</th>\n",
              "      <th>deep_se</th>\n",
              "      <th>wound_se</th>\n",
              "      <th>wound_mean</th>\n",
              "      <th>wound_worst</th>\n",
              "      <th>cut_symmetry_worst</th>\n",
              "    </tr>\n",
              "  </thead>\n",
              "  <tbody>\n",
              "    <tr>\n",
              "      <th>0</th>\n",
              "      <td>0</td>\n",
              "      <td>2.303601</td>\n",
              "      <td>1.886690</td>\n",
              "      <td>2.001237</td>\n",
              "      <td>2.315161</td>\n",
              "      <td>-0.038729</td>\n",
              "      <td>1.269934</td>\n",
              "      <td>0.984375</td>\n",
              "      <td>1.094857</td>\n",
              "      <td>2.487306</td>\n",
              "      <td>0.106820</td>\n",
              "      <td>2.114806</td>\n",
              "      <td>2.489734</td>\n",
              "      <td>2.833031</td>\n",
              "      <td>2.616665</td>\n",
              "      <td>3.283281</td>\n",
              "      <td>0.717801</td>\n",
              "      <td>0.655834</td>\n",
              "      <td>-2.069093</td>\n",
              "      <td>-1.359293</td>\n",
              "      <td>2.750622</td>\n",
              "    </tr>\n",
              "    <tr>\n",
              "      <th>1</th>\n",
              "      <td>0</td>\n",
              "      <td>1.535126</td>\n",
              "      <td>1.805927</td>\n",
              "      <td>1.890489</td>\n",
              "      <td>1.092697</td>\n",
              "      <td>-0.068858</td>\n",
              "      <td>1.685955</td>\n",
              "      <td>1.908708</td>\n",
              "      <td>1.826337</td>\n",
              "      <td>0.742209</td>\n",
              "      <td>-0.093162</td>\n",
              "      <td>-0.152628</td>\n",
              "      <td>0.499255</td>\n",
              "      <td>0.263327</td>\n",
              "      <td>-0.430444</td>\n",
              "      <td>-0.489005</td>\n",
              "      <td>-0.456291</td>\n",
              "      <td>0.243843</td>\n",
              "      <td>-0.352221</td>\n",
              "      <td>-0.369203</td>\n",
              "      <td>-0.243890</td>\n",
              "    </tr>\n",
              "    <tr>\n",
              "      <th>2</th>\n",
              "      <td>0</td>\n",
              "      <td>1.347475</td>\n",
              "      <td>1.511870</td>\n",
              "      <td>1.456285</td>\n",
              "      <td>1.970285</td>\n",
              "      <td>-0.046249</td>\n",
              "      <td>1.566503</td>\n",
              "      <td>1.558884</td>\n",
              "      <td>1.576840</td>\n",
              "      <td>1.181123</td>\n",
              "      <td>0.010487</td>\n",
              "      <td>0.854049</td>\n",
              "      <td>1.228676</td>\n",
              "      <td>0.850928</td>\n",
              "      <td>1.082932</td>\n",
              "      <td>1.051687</td>\n",
              "      <td>0.202778</td>\n",
              "      <td>1.441453</td>\n",
              "      <td>0.456266</td>\n",
              "      <td>-0.023974</td>\n",
              "      <td>1.152255</td>\n",
              "    </tr>\n",
              "    <tr>\n",
              "      <th>3</th>\n",
              "      <td>0</td>\n",
              "      <td>-0.249939</td>\n",
              "      <td>-0.281464</td>\n",
              "      <td>-0.550021</td>\n",
              "      <td>2.193531</td>\n",
              "      <td>-0.055139</td>\n",
              "      <td>-0.592687</td>\n",
              "      <td>-0.764464</td>\n",
              "      <td>-0.767864</td>\n",
              "      <td>-0.288525</td>\n",
              "      <td>0.051759</td>\n",
              "      <td>1.994275</td>\n",
              "      <td>0.326373</td>\n",
              "      <td>0.286593</td>\n",
              "      <td>3.893397</td>\n",
              "      <td>3.402729</td>\n",
              "      <td>0.814055</td>\n",
              "      <td>1.122869</td>\n",
              "      <td>0.254144</td>\n",
              "      <td>0.133984</td>\n",
              "      <td>6.046041</td>\n",
              "    </tr>\n",
              "    <tr>\n",
              "      <th>4</th>\n",
              "      <td>0</td>\n",
              "      <td>1.338539</td>\n",
              "      <td>1.298575</td>\n",
              "      <td>1.220724</td>\n",
              "      <td>0.730884</td>\n",
              "      <td>-0.055491</td>\n",
              "      <td>1.776573</td>\n",
              "      <td>1.826229</td>\n",
              "      <td>1.746952</td>\n",
              "      <td>1.190143</td>\n",
              "      <td>0.011050</td>\n",
              "      <td>0.611058</td>\n",
              "      <td>1.270543</td>\n",
              "      <td>1.273189</td>\n",
              "      <td>-0.313395</td>\n",
              "      <td>0.537870</td>\n",
              "      <td>0.823078</td>\n",
              "      <td>1.152892</td>\n",
              "      <td>-1.149091</td>\n",
              "      <td>-1.466770</td>\n",
              "      <td>-0.868353</td>\n",
              "    </tr>\n",
              "  </tbody>\n",
              "</table>\n",
              "</div>"
            ],
            "text/plain": [
              "   Zombie  bite_perimeter  ...  wound_worst  cut_symmetry_worst\n",
              "0       0        2.303601  ...    -1.359293            2.750622\n",
              "1       0        1.535126  ...    -0.369203           -0.243890\n",
              "2       0        1.347475  ...    -0.023974            1.152255\n",
              "3       0       -0.249939  ...     0.133984            6.046041\n",
              "4       0        1.338539  ...    -1.466770           -0.868353\n",
              "\n",
              "[5 rows x 21 columns]"
            ]
          },
          "metadata": {
            "tags": []
          },
          "execution_count": 44
        }
      ]
    },
    {
      "cell_type": "markdown",
      "metadata": {
        "id": "KXiwtaLmzp1g",
        "colab_type": "text"
      },
      "source": [
        "### Check the shape of the dataset"
      ]
    },
    {
      "cell_type": "code",
      "metadata": {
        "colab_type": "code",
        "id": "r-NdDTW3ylAu",
        "outputId": "6edb599d-03e0-48ff-f4f1-d301a18d0dd1",
        "colab": {
          "base_uri": "https://localhost:8080/",
          "height": 34
        }
      },
      "source": [
        "virus.shape"
      ],
      "execution_count": 45,
      "outputs": [
        {
          "output_type": "execute_result",
          "data": {
            "text/plain": [
              "(569, 21)"
            ]
          },
          "metadata": {
            "tags": []
          },
          "execution_count": 45
        }
      ]
    },
    {
      "cell_type": "markdown",
      "metadata": {
        "id": "xr1VVQ7wzp1m",
        "colab_type": "text"
      },
      "source": [
        "### Check the columns present in the dataset"
      ]
    },
    {
      "cell_type": "code",
      "metadata": {
        "colab_type": "code",
        "id": "fzrXmgB6yrnK",
        "colab": {
          "base_uri": "https://localhost:8080/",
          "height": 119
        },
        "outputId": "8d5f35aa-2bd3-4b6a-b032-dce053d58f30"
      },
      "source": [
        "virus.columns"
      ],
      "execution_count": 46,
      "outputs": [
        {
          "output_type": "execute_result",
          "data": {
            "text/plain": [
              "Index(['Zombie', 'bite_perimeter', 'bite_radius', 'bite_area',\n",
              "       'bite points_worst', 'bite points_mean', 'perimeter_mean', 'area_mean',\n",
              "       'radius_mean', 'area_se', 'cut_mean', 'cut_worst', 'radius_se',\n",
              "       'perimeter_se', 'deep_worst', 'deep_mean', 'deep_se', 'wound_se',\n",
              "       'wound_mean', 'wound_worst', 'cut_symmetry_worst'],\n",
              "      dtype='object')"
            ]
          },
          "metadata": {
            "tags": []
          },
          "execution_count": 46
        }
      ]
    },
    {
      "cell_type": "markdown",
      "metadata": {
        "id": "gd7AzEd_zp1u",
        "colab_type": "text"
      },
      "source": [
        "### Count of 0 and 1 from the diagnosis variable."
      ]
    },
    {
      "cell_type": "code",
      "metadata": {
        "id": "hhyyKCaJzp1w",
        "colab_type": "code",
        "colab": {
          "base_uri": "https://localhost:8080/",
          "height": 68
        },
        "outputId": "b9dc32e1-3857-4bd5-c92f-ee269dc1f3c3"
      },
      "source": [
        "#virus.diagnosis.value_counts()\n",
        "virus.Zombie.value_counts()"
      ],
      "execution_count": 47,
      "outputs": [
        {
          "output_type": "execute_result",
          "data": {
            "text/plain": [
              "1    467\n",
              "0    102\n",
              "Name: Zombie, dtype: int64"
            ]
          },
          "metadata": {
            "tags": []
          },
          "execution_count": 47
        }
      ]
    },
    {
      "cell_type": "markdown",
      "metadata": {
        "id": "8yNXaaujzp12",
        "colab_type": "text"
      },
      "source": [
        "### Check the descriptive statisticss of the dataset"
      ]
    },
    {
      "cell_type": "code",
      "metadata": {
        "id": "970O0icIzp13",
        "colab_type": "code",
        "colab": {
          "base_uri": "https://localhost:8080/",
          "height": 419
        },
        "outputId": "46dd4a16-c10c-465f-daed-c04b3d308053"
      },
      "source": [
        "virus.describe()"
      ],
      "execution_count": 48,
      "outputs": [
        {
          "output_type": "execute_result",
          "data": {
            "text/html": [
              "<div>\n",
              "<style scoped>\n",
              "    .dataframe tbody tr th:only-of-type {\n",
              "        vertical-align: middle;\n",
              "    }\n",
              "\n",
              "    .dataframe tbody tr th {\n",
              "        vertical-align: top;\n",
              "    }\n",
              "\n",
              "    .dataframe thead th {\n",
              "        text-align: right;\n",
              "    }\n",
              "</style>\n",
              "<table border=\"1\" class=\"dataframe\">\n",
              "  <thead>\n",
              "    <tr style=\"text-align: right;\">\n",
              "      <th></th>\n",
              "      <th>Zombie</th>\n",
              "      <th>bite_perimeter</th>\n",
              "      <th>bite_radius</th>\n",
              "      <th>bite_area</th>\n",
              "      <th>bite points_worst</th>\n",
              "      <th>bite points_mean</th>\n",
              "      <th>perimeter_mean</th>\n",
              "      <th>area_mean</th>\n",
              "      <th>radius_mean</th>\n",
              "      <th>area_se</th>\n",
              "      <th>cut_mean</th>\n",
              "      <th>cut_worst</th>\n",
              "      <th>radius_se</th>\n",
              "      <th>perimeter_se</th>\n",
              "      <th>deep_worst</th>\n",
              "      <th>deep_mean</th>\n",
              "      <th>deep_se</th>\n",
              "      <th>wound_se</th>\n",
              "      <th>wound_mean</th>\n",
              "      <th>wound_worst</th>\n",
              "      <th>cut_symmetry_worst</th>\n",
              "    </tr>\n",
              "  </thead>\n",
              "  <tbody>\n",
              "    <tr>\n",
              "      <th>count</th>\n",
              "      <td>569.000000</td>\n",
              "      <td>5.690000e+02</td>\n",
              "      <td>5.690000e+02</td>\n",
              "      <td>5.690000e+02</td>\n",
              "      <td>5.690000e+02</td>\n",
              "      <td>5.690000e+02</td>\n",
              "      <td>5.690000e+02</td>\n",
              "      <td>5.690000e+02</td>\n",
              "      <td>5.690000e+02</td>\n",
              "      <td>5.690000e+02</td>\n",
              "      <td>5.690000e+02</td>\n",
              "      <td>5.690000e+02</td>\n",
              "      <td>5.690000e+02</td>\n",
              "      <td>5.690000e+02</td>\n",
              "      <td>5.690000e+02</td>\n",
              "      <td>5.690000e+02</td>\n",
              "      <td>5.690000e+02</td>\n",
              "      <td>5.690000e+02</td>\n",
              "      <td>5.690000e+02</td>\n",
              "      <td>5.690000e+02</td>\n",
              "      <td>5.690000e+02</td>\n",
              "    </tr>\n",
              "    <tr>\n",
              "      <th>mean</th>\n",
              "      <td>0.820738</td>\n",
              "      <td>7.029832e-12</td>\n",
              "      <td>-2.811947e-11</td>\n",
              "      <td>3.514943e-12</td>\n",
              "      <td>-3.514878e-12</td>\n",
              "      <td>-3.514956e-12</td>\n",
              "      <td>-3.514854e-12</td>\n",
              "      <td>-1.757469e-12</td>\n",
              "      <td>-8.787342e-12</td>\n",
              "      <td>-1.405975e-11</td>\n",
              "      <td>1.405971e-11</td>\n",
              "      <td>-1.054485e-11</td>\n",
              "      <td>-1.757479e-12</td>\n",
              "      <td>1.230224e-11</td>\n",
              "      <td>3.514802e-12</td>\n",
              "      <td>-2.108963e-11</td>\n",
              "      <td>-1.757512e-12</td>\n",
              "      <td>-3.514902e-12</td>\n",
              "      <td>5.272379e-12</td>\n",
              "      <td>2.811951e-11</td>\n",
              "      <td>5.272491e-12</td>\n",
              "    </tr>\n",
              "    <tr>\n",
              "      <th>std</th>\n",
              "      <td>0.383909</td>\n",
              "      <td>1.000880e+00</td>\n",
              "      <td>1.000880e+00</td>\n",
              "      <td>1.000880e+00</td>\n",
              "      <td>1.000880e+00</td>\n",
              "      <td>1.000880e+00</td>\n",
              "      <td>1.000880e+00</td>\n",
              "      <td>1.000880e+00</td>\n",
              "      <td>1.000880e+00</td>\n",
              "      <td>1.000880e+00</td>\n",
              "      <td>1.000880e+00</td>\n",
              "      <td>1.000880e+00</td>\n",
              "      <td>1.000880e+00</td>\n",
              "      <td>1.000880e+00</td>\n",
              "      <td>1.000880e+00</td>\n",
              "      <td>1.000880e+00</td>\n",
              "      <td>1.000880e+00</td>\n",
              "      <td>1.000880e+00</td>\n",
              "      <td>1.000880e+00</td>\n",
              "      <td>1.000880e+00</td>\n",
              "      <td>1.000880e+00</td>\n",
              "    </tr>\n",
              "    <tr>\n",
              "      <th>min</th>\n",
              "      <td>0.000000</td>\n",
              "      <td>-1.693361e+00</td>\n",
              "      <td>-1.726901e+00</td>\n",
              "      <td>-1.222423e+00</td>\n",
              "      <td>-1.771012e+00</td>\n",
              "      <td>-9.633860e-02</td>\n",
              "      <td>-1.984504e+00</td>\n",
              "      <td>-1.454443e+00</td>\n",
              "      <td>-2.026406e+00</td>\n",
              "      <td>-7.379562e-01</td>\n",
              "      <td>-1.746741e-01</td>\n",
              "      <td>-1.317441e+00</td>\n",
              "      <td>-1.059924e+00</td>\n",
              "      <td>-1.044049e+00</td>\n",
              "      <td>-1.443878e+00</td>\n",
              "      <td>-1.612576e+00</td>\n",
              "      <td>-1.077928e+00</td>\n",
              "      <td>-1.991249e+00</td>\n",
              "      <td>-2.224750e+00</td>\n",
              "      <td>-2.223994e+00</td>\n",
              "      <td>-2.160960e+00</td>\n",
              "    </tr>\n",
              "    <tr>\n",
              "      <th>25%</th>\n",
              "      <td>1.000000</td>\n",
              "      <td>-6.895783e-01</td>\n",
              "      <td>-6.749213e-01</td>\n",
              "      <td>-6.421359e-01</td>\n",
              "      <td>-7.705615e-01</td>\n",
              "      <td>-8.829446e-02</td>\n",
              "      <td>-6.919555e-01</td>\n",
              "      <td>-6.671955e-01</td>\n",
              "      <td>-6.913138e-01</td>\n",
              "      <td>-4.948921e-01</td>\n",
              "      <td>-1.466561e-01</td>\n",
              "      <td>-7.543195e-01</td>\n",
              "      <td>-6.235706e-01</td>\n",
              "      <td>-6.237679e-01</td>\n",
              "      <td>-6.810833e-01</td>\n",
              "      <td>-7.491364e-01</td>\n",
              "      <td>-5.578920e-01</td>\n",
              "      <td>-6.627035e-01</td>\n",
              "      <td>-7.239388e-01</td>\n",
              "      <td>-7.486293e-01</td>\n",
              "      <td>-6.418637e-01</td>\n",
              "    </tr>\n",
              "    <tr>\n",
              "      <th>50%</th>\n",
              "      <td>1.000000</td>\n",
              "      <td>-2.859802e-01</td>\n",
              "      <td>-2.690395e-01</td>\n",
              "      <td>-3.411812e-01</td>\n",
              "      <td>-2.324614e-01</td>\n",
              "      <td>-8.302309e-02</td>\n",
              "      <td>-2.359800e-01</td>\n",
              "      <td>-2.951869e-01</td>\n",
              "      <td>-2.150014e-01</td>\n",
              "      <td>-3.479273e-01</td>\n",
              "      <td>-1.139292e-01</td>\n",
              "      <td>-2.244642e-01</td>\n",
              "      <td>-2.922452e-01</td>\n",
              "      <td>-2.866520e-01</td>\n",
              "      <td>-2.695009e-01</td>\n",
              "      <td>-2.049837e-01</td>\n",
              "      <td>-2.106442e-01</td>\n",
              "      <td>-1.614756e-01</td>\n",
              "      <td>-1.036344e-01</td>\n",
              "      <td>-4.351564e-02</td>\n",
              "      <td>-1.274095e-01</td>\n",
              "    </tr>\n",
              "    <tr>\n",
              "      <th>75%</th>\n",
              "      <td>1.000000</td>\n",
              "      <td>5.402790e-01</td>\n",
              "      <td>5.220158e-01</td>\n",
              "      <td>3.575891e-01</td>\n",
              "      <td>7.139481e-01</td>\n",
              "      <td>-6.701315e-02</td>\n",
              "      <td>4.996769e-01</td>\n",
              "      <td>3.635073e-01</td>\n",
              "      <td>4.682799e-01</td>\n",
              "      <td>1.066077e-01</td>\n",
              "      <td>-4.823164e-02</td>\n",
              "      <td>5.286149e-01</td>\n",
              "      <td>2.660996e-01</td>\n",
              "      <td>2.430307e-01</td>\n",
              "      <td>5.396688e-01</td>\n",
              "      <td>4.942619e-01</td>\n",
              "      <td>3.274396e-01</td>\n",
              "      <td>4.623488e-01</td>\n",
              "      <td>5.840438e-01</td>\n",
              "      <td>6.583411e-01</td>\n",
              "      <td>4.501382e-01</td>\n",
              "    </tr>\n",
              "    <tr>\n",
              "      <th>max</th>\n",
              "      <td>1.000000</td>\n",
              "      <td>4.287337e+00</td>\n",
              "      <td>4.094189e+00</td>\n",
              "      <td>5.930172e+00</td>\n",
              "      <td>2.709306e+00</td>\n",
              "      <td>1.752713e+01</td>\n",
              "      <td>3.976130e+00</td>\n",
              "      <td>5.250529e+00</td>\n",
              "      <td>3.964072e+00</td>\n",
              "      <td>1.104119e+01</td>\n",
              "      <td>1.483334e+01</td>\n",
              "      <td>4.718763e+00</td>\n",
              "      <td>8.906909e+00</td>\n",
              "      <td>9.461986e+00</td>\n",
              "      <td>5.112877e+00</td>\n",
              "      <td>4.568771e+00</td>\n",
              "      <td>1.215693e+01</td>\n",
              "      <td>6.814015e+00</td>\n",
              "      <td>4.645063e+00</td>\n",
              "      <td>3.885905e+00</td>\n",
              "      <td>6.046041e+00</td>\n",
              "    </tr>\n",
              "  </tbody>\n",
              "</table>\n",
              "</div>"
            ],
            "text/plain": [
              "           Zombie  bite_perimeter  ...   wound_worst  cut_symmetry_worst\n",
              "count  569.000000    5.690000e+02  ...  5.690000e+02        5.690000e+02\n",
              "mean     0.820738    7.029832e-12  ...  2.811951e-11        5.272491e-12\n",
              "std      0.383909    1.000880e+00  ...  1.000880e+00        1.000880e+00\n",
              "min      0.000000   -1.693361e+00  ... -2.223994e+00       -2.160960e+00\n",
              "25%      1.000000   -6.895783e-01  ... -7.486293e-01       -6.418637e-01\n",
              "50%      1.000000   -2.859802e-01  ... -4.351564e-02       -1.274095e-01\n",
              "75%      1.000000    5.402790e-01  ...  6.583411e-01        4.501382e-01\n",
              "max      1.000000    4.287337e+00  ...  3.885905e+00        6.046041e+00\n",
              "\n",
              "[8 rows x 21 columns]"
            ]
          },
          "metadata": {
            "tags": []
          },
          "execution_count": 48
        }
      ]
    },
    {
      "cell_type": "markdown",
      "metadata": {
        "id": "mvHXd1Fpzp1-",
        "colab_type": "text"
      },
      "source": [
        "### Check the info of the dataset"
      ]
    },
    {
      "cell_type": "code",
      "metadata": {
        "id": "YTSQkV80zp2A",
        "colab_type": "code",
        "colab": {
          "base_uri": "https://localhost:8080/",
          "height": 493
        },
        "outputId": "91bd49e2-0b82-4564-e6f3-20207b612e96"
      },
      "source": [
        "virus.info()"
      ],
      "execution_count": 49,
      "outputs": [
        {
          "output_type": "stream",
          "text": [
            "<class 'pandas.core.frame.DataFrame'>\n",
            "RangeIndex: 569 entries, 0 to 568\n",
            "Data columns (total 21 columns):\n",
            " #   Column              Non-Null Count  Dtype  \n",
            "---  ------              --------------  -----  \n",
            " 0   Zombie              569 non-null    int64  \n",
            " 1   bite_perimeter      569 non-null    float64\n",
            " 2   bite_radius         569 non-null    float64\n",
            " 3   bite_area           569 non-null    float64\n",
            " 4   bite points_worst   569 non-null    float64\n",
            " 5   bite points_mean    569 non-null    float64\n",
            " 6   perimeter_mean      569 non-null    float64\n",
            " 7   area_mean           569 non-null    float64\n",
            " 8   radius_mean         569 non-null    float64\n",
            " 9   area_se             569 non-null    float64\n",
            " 10  cut_mean            569 non-null    float64\n",
            " 11  cut_worst           569 non-null    float64\n",
            " 12  radius_se           569 non-null    float64\n",
            " 13  perimeter_se        569 non-null    float64\n",
            " 14  deep_worst          569 non-null    float64\n",
            " 15  deep_mean           569 non-null    float64\n",
            " 16  deep_se             569 non-null    float64\n",
            " 17  wound_se            569 non-null    float64\n",
            " 18  wound_mean          569 non-null    float64\n",
            " 19  wound_worst         569 non-null    float64\n",
            " 20  cut_symmetry_worst  569 non-null    float64\n",
            "dtypes: float64(20), int64(1)\n",
            "memory usage: 93.5 KB\n"
          ],
          "name": "stdout"
        }
      ]
    },
    {
      "cell_type": "markdown",
      "metadata": {
        "id": "xQAHJ7R-zp2H",
        "colab_type": "text"
      },
      "source": [
        "### Q 1. Write a code to check the missing values present in the dataset. "
      ]
    },
    {
      "cell_type": "code",
      "metadata": {
        "id": "CC152mYTzp2I",
        "colab_type": "code",
        "colab": {
          "base_uri": "https://localhost:8080/",
          "height": 391
        },
        "outputId": "668b566a-9db9-4458-f684-f995c28161a2"
      },
      "source": [
        "def me():\n",
        "    return virus.isnull().sum() # your code to know if there is any missing value or not\n",
        "me()"
      ],
      "execution_count": 50,
      "outputs": [
        {
          "output_type": "execute_result",
          "data": {
            "text/plain": [
              "Zombie                0\n",
              "bite_perimeter        0\n",
              "bite_radius           0\n",
              "bite_area             0\n",
              "bite points_worst     0\n",
              "bite points_mean      0\n",
              "perimeter_mean        0\n",
              "area_mean             0\n",
              "radius_mean           0\n",
              "area_se               0\n",
              "cut_mean              0\n",
              "cut_worst             0\n",
              "radius_se             0\n",
              "perimeter_se          0\n",
              "deep_worst            0\n",
              "deep_mean             0\n",
              "deep_se               0\n",
              "wound_se              0\n",
              "wound_mean            0\n",
              "wound_worst           0\n",
              "cut_symmetry_worst    0\n",
              "dtype: int64"
            ]
          },
          "metadata": {
            "tags": []
          },
          "execution_count": 50
        }
      ]
    },
    {
      "cell_type": "markdown",
      "metadata": {
        "id": "NT_lXao-zp2O",
        "colab_type": "text"
      },
      "source": [
        "### Q 2. Extract the dependent variables to create a dataframe X"
      ]
    },
    {
      "cell_type": "code",
      "metadata": {
        "id": "Znkh3Tbhzp2P",
        "colab_type": "code",
        "colab": {}
      },
      "source": [
        "X = pd.DataFrame()\n",
        "def pre():\n",
        "    # write your code to create a dataframe of dependent variables excluding 'diagnosis' variable\n",
        "    X = virus.loc[:, virus.columns!= \"Zombie\"]\n",
        "    return X\n",
        "X = pre()"
      ],
      "execution_count": 0,
      "outputs": []
    },
    {
      "cell_type": "markdown",
      "metadata": {
        "id": "pz1YnBYBzp2V",
        "colab_type": "text"
      },
      "source": [
        "### Q 3. Extract the independent variable into a dataframe 'y' for model prediction."
      ]
    },
    {
      "cell_type": "code",
      "metadata": {
        "id": "Wf13amCvzp2W",
        "colab_type": "code",
        "colab": {}
      },
      "source": [
        "y = pd.DataFrame()\n",
        "def pre():\n",
        "    # write your code to create a dataframe which consists only of dependepent variable\n",
        "    y = virus.Zombie\n",
        "    return y\n",
        "y = pre()"
      ],
      "execution_count": 0,
      "outputs": []
    },
    {
      "cell_type": "markdown",
      "metadata": {
        "id": "Y69TDpuKzp2e",
        "colab_type": "text"
      },
      "source": [
        "### Q 4. Split X and y into train and test dataset."
      ]
    },
    {
      "cell_type": "code",
      "metadata": {
        "id": "YFI-lhQ_pqK4",
        "colab_type": "code",
        "colab": {}
      },
      "source": [
        "from sklearn.model_selection import train_test_split"
      ],
      "execution_count": 0,
      "outputs": []
    },
    {
      "cell_type": "code",
      "metadata": {
        "id": "22dUNxy_zp2f",
        "colab_type": "code",
        "colab": {}
      },
      "source": [
        "def pre():\n",
        "    return train_test_split(X,y,random_state = 1, test_size = 0.25) # train test split using train_test_split of 75:25 and random state=1\n",
        "X_train, X_test, y_train, y_test = pre()"
      ],
      "execution_count": 0,
      "outputs": []
    },
    {
      "cell_type": "markdown",
      "metadata": {
        "id": "p1xhZ8Fnzp2l",
        "colab_type": "text"
      },
      "source": [
        "### Check the shape of X and y of train dataset"
      ]
    },
    {
      "cell_type": "code",
      "metadata": {
        "id": "QbsJFFIkzp2m",
        "colab_type": "code",
        "colab": {
          "base_uri": "https://localhost:8080/",
          "height": 51
        },
        "outputId": "c888951f-5721-44a4-d795-ecb802959eaa"
      },
      "source": [
        "def pre():\n",
        "    print(X_train.shape)\n",
        "    print(y_train.shape)\n",
        "pre()"
      ],
      "execution_count": 55,
      "outputs": [
        {
          "output_type": "stream",
          "text": [
            "(426, 20)\n",
            "(426,)\n"
          ],
          "name": "stdout"
        }
      ]
    },
    {
      "cell_type": "markdown",
      "metadata": {
        "id": "WS-MgBbKzp2s",
        "colab_type": "text"
      },
      "source": [
        "### Check the shape of X and y of test dataset"
      ]
    },
    {
      "cell_type": "code",
      "metadata": {
        "id": "waOnD-56zp2t",
        "colab_type": "code",
        "colab": {
          "base_uri": "https://localhost:8080/",
          "height": 51
        },
        "outputId": "3e5dc473-dcf1-4e14-dac5-a236ba348c72"
      },
      "source": [
        "def pre():\n",
        "    print(X_test.shape)\n",
        "    print(y_test.shape)\n",
        "pre()"
      ],
      "execution_count": 56,
      "outputs": [
        {
          "output_type": "stream",
          "text": [
            "(143, 20)\n",
            "(143,)\n"
          ],
          "name": "stdout"
        }
      ]
    },
    {
      "cell_type": "markdown",
      "metadata": {
        "id": "-VDY5zO7zp2y",
        "colab_type": "text"
      },
      "source": [
        "### Q 5. Instantiate RandomForestClassifier using scikit learn"
      ]
    },
    {
      "cell_type": "code",
      "metadata": {
        "id": "gO6X0HVTp3dv",
        "colab_type": "code",
        "colab": {}
      },
      "source": [
        "from sklearn.ensemble import RandomForestClassifier"
      ],
      "execution_count": 0,
      "outputs": []
    },
    {
      "cell_type": "code",
      "metadata": {
        "id": "4psPWO1kzp2z",
        "colab_type": "code",
        "colab": {}
      },
      "source": [
        "def pre():\n",
        "    # instantiate RandomForestClassifer to new variable rfc\n",
        "    rfc = RandomForestClassifier()\n",
        "    return rfc\n",
        "rfc = pre()"
      ],
      "execution_count": 0,
      "outputs": []
    },
    {
      "cell_type": "markdown",
      "metadata": {
        "id": "KawSd4n5zp23",
        "colab_type": "text"
      },
      "source": [
        "### Q 6. Fit the model on X_train and y_train"
      ]
    },
    {
      "cell_type": "code",
      "metadata": {
        "id": "VQxQG3zEzp24",
        "colab_type": "code",
        "colab": {
          "base_uri": "https://localhost:8080/",
          "height": 153
        },
        "outputId": "006a0a61-5cd7-4134-fad2-01881ade1561"
      },
      "source": [
        "def pre():\n",
        "    return rfc.fit(X_train,y_train) # fit the X_train and y_train\n",
        "pre()"
      ],
      "execution_count": 59,
      "outputs": [
        {
          "output_type": "execute_result",
          "data": {
            "text/plain": [
              "RandomForestClassifier(bootstrap=True, ccp_alpha=0.0, class_weight=None,\n",
              "                       criterion='gini', max_depth=None, max_features='auto',\n",
              "                       max_leaf_nodes=None, max_samples=None,\n",
              "                       min_impurity_decrease=0.0, min_impurity_split=None,\n",
              "                       min_samples_leaf=1, min_samples_split=2,\n",
              "                       min_weight_fraction_leaf=0.0, n_estimators=100,\n",
              "                       n_jobs=None, oob_score=False, random_state=None,\n",
              "                       verbose=0, warm_start=False)"
            ]
          },
          "metadata": {
            "tags": []
          },
          "execution_count": 59
        }
      ]
    },
    {
      "cell_type": "markdown",
      "metadata": {
        "id": "QmM7oxsLzp28",
        "colab_type": "text"
      },
      "source": [
        "### Q 7. Using the model for predictions"
      ]
    },
    {
      "cell_type": "code",
      "metadata": {
        "id": "Ssn-CyYkzp2-",
        "colab_type": "code",
        "colab": {}
      },
      "source": [
        "predictions = pd.DataFrame()\n",
        "def pre():\n",
        "    # create the model prediction on X_test data using the above created dataframe\n",
        "    predictions = rfc.predict (X_test)\n",
        "    return predictions\n",
        "predictions = pre()"
      ],
      "execution_count": 0,
      "outputs": []
    },
    {
      "cell_type": "markdown",
      "metadata": {
        "id": "FQ-M46LWzp3B",
        "colab_type": "text"
      },
      "source": [
        "### Q 8. Model evaluation using accuracy score"
      ]
    },
    {
      "cell_type": "code",
      "metadata": {
        "id": "Eun3ndhsqOi-",
        "colab_type": "code",
        "colab": {}
      },
      "source": [
        "from sklearn.metrics import confusion_matrix, precision_score, recall_score,f1_score\n",
        "from sklearn import metrics"
      ],
      "execution_count": 0,
      "outputs": []
    },
    {
      "cell_type": "code",
      "metadata": {
        "id": "O_sfDx35zp3C",
        "colab_type": "code",
        "colab": {
          "base_uri": "https://localhost:8080/",
          "height": 34
        },
        "outputId": "a3d3b442-e820-4565-c5c1-8025a9514186"
      },
      "source": [
        "from sklearn.metrics import accuracy_score\n",
        "def pre():\n",
        "    # compute and print the accuracy score\n",
        "    print(\"Accuracy score: \", accuracy_score(y_test,predictions))\n",
        "pre()"
      ],
      "execution_count": 62,
      "outputs": [
        {
          "output_type": "stream",
          "text": [
            "Accuracy score:  0.8251748251748252\n"
          ],
          "name": "stdout"
        }
      ]
    },
    {
      "cell_type": "markdown",
      "metadata": {
        "id": "hXtNa3mbzp3F",
        "colab_type": "text"
      },
      "source": [
        "### Q 9. Model evaluation using confusion matrix"
      ]
    },
    {
      "cell_type": "code",
      "metadata": {
        "id": "cLS7y87pzp3G",
        "colab_type": "code",
        "colab": {
          "base_uri": "https://localhost:8080/",
          "height": 68
        },
        "outputId": "d936047d-0881-4bd6-fb0d-5667395cd957"
      },
      "source": [
        "confusion_matrix = pd.DataFrame(confusion_matrix(y_test, predictions))\n",
        "def pre():\n",
        "    # provide confusion matrix index name as['Actual Not_virus','Actual virus']\n",
        "    confusion_matrix.index = ['Actual Not_virus','Actual virus']\n",
        "    # provide confusion matrix index name as['Predicted Not_virus','Predicted virus']\n",
        "    confusion_matrix.columns = ['Predicted Not_virus','Predicted virus']\n",
        "    # print the confusion matrix\n",
        "    print(confusion_matrix)\n",
        "pre()"
      ],
      "execution_count": 63,
      "outputs": [
        {
          "output_type": "stream",
          "text": [
            "                  Predicted Not_virus  Predicted virus\n",
            "Actual Not_virus                    2               25\n",
            "Actual virus                        0              116\n"
          ],
          "name": "stdout"
        }
      ]
    },
    {
      "cell_type": "markdown",
      "metadata": {
        "id": "uHN8DX8gzp3P",
        "colab_type": "text"
      },
      "source": [
        "### Q 10. Model evaluation using precision score"
      ]
    },
    {
      "cell_type": "code",
      "metadata": {
        "id": "jxXS-JQ0zp3Q",
        "colab_type": "code",
        "colab": {
          "base_uri": "https://localhost:8080/",
          "height": 34
        },
        "outputId": "022380e8-45a7-4662-dd98-907c7e914b8a"
      },
      "source": [
        "def pre():\n",
        "    # compute the precision score\n",
        "    precision = precision_score(y_test,predictions)\n",
        "    # print the precision score\n",
        "    print(precision)\n",
        "    return precision\n",
        "precision = pre()"
      ],
      "execution_count": 64,
      "outputs": [
        {
          "output_type": "stream",
          "text": [
            "0.8226950354609929\n"
          ],
          "name": "stdout"
        }
      ]
    },
    {
      "cell_type": "markdown",
      "metadata": {
        "id": "K4pI4l2Kzp3U",
        "colab_type": "text"
      },
      "source": [
        "### Q 11. Model evaluation using recall score"
      ]
    },
    {
      "cell_type": "code",
      "metadata": {
        "id": "OLVTuzD6zp3V",
        "colab_type": "code",
        "colab": {
          "base_uri": "https://localhost:8080/",
          "height": 34
        },
        "outputId": "4a19d8a1-f385-4420-89ee-d628721234a2"
      },
      "source": [
        "from sklearn.metrics import recall_score\n",
        "def pre():\n",
        "    # compute and print the recall score\n",
        "    print(\"Recall Score: \",recall_score(y_test,predictions))\n",
        "pre()    "
      ],
      "execution_count": 65,
      "outputs": [
        {
          "output_type": "stream",
          "text": [
            "Recall Score:  1.0\n"
          ],
          "name": "stdout"
        }
      ]
    },
    {
      "cell_type": "markdown",
      "metadata": {
        "id": "tw-WZ0z3zp3a",
        "colab_type": "text"
      },
      "source": [
        "### Q 12. Model evaluation using f1_score"
      ]
    },
    {
      "cell_type": "code",
      "metadata": {
        "id": "8V_bWkxNzp3b",
        "colab_type": "code",
        "colab": {
          "base_uri": "https://localhost:8080/",
          "height": 34
        },
        "outputId": "f29730dc-9571-46e0-9941-8624723ff715"
      },
      "source": [
        "from sklearn.metrics import f1_score\n",
        "def pre():\n",
        "    # compute and print the f1_score\n",
        "    print(\"F1 Score: \", f1_score(y_test,predictions))\n",
        "pre()"
      ],
      "execution_count": 66,
      "outputs": [
        {
          "output_type": "stream",
          "text": [
            "F1 Score:  0.9027237354085603\n"
          ],
          "name": "stdout"
        }
      ]
    },
    {
      "cell_type": "markdown",
      "metadata": {
        "id": "n7uJ6w7xzp3h",
        "colab_type": "text"
      },
      "source": [
        "### Q 13. Model evaluation using ROC_AUC curve"
      ]
    },
    {
      "cell_type": "code",
      "metadata": {
        "id": "JPoMdg9Yrrb8",
        "colab_type": "code",
        "colab": {}
      },
      "source": [
        "import matplotlib.pyplot as plt"
      ],
      "execution_count": 0,
      "outputs": []
    },
    {
      "cell_type": "code",
      "metadata": {
        "id": "TNc0uJCmzp3k",
        "colab_type": "code",
        "colab": {
          "base_uri": "https://localhost:8080/",
          "height": 312
        },
        "outputId": "ad4037fa-88b3-4a89-c0e5-80c2c0c0a6d3"
      },
      "source": [
        "from sklearn import metrics\n",
        "def pre():\n",
        "    # predict class probabilites fro X_test\n",
        "    # return the array value as preds\n",
        "    # Compute roc_curve as fpr, tpr, threshold\n",
        "    # compute roc_auc\n",
        "\n",
        "    probs = rfc.predict_proba(X_test)\n",
        "    preds = probs[:,1]\n",
        "    fpr, tpr, threshold = metrics.roc_curve(y_test, preds)\n",
        "    roc_auc = metrics.auc(fpr, tpr)\n",
        "\n",
        "    plt.title('Receiver Operating Characteristic')\n",
        "    plt.plot(fpr, tpr, 'b', label = 'AUC = %0.2f' % roc_auc)\n",
        "    plt.legend(loc = 'lower right')\n",
        "    plt.plot([0, 1], [0, 1],'r--')\n",
        "    plt.xlim([0, 1])\n",
        "    plt.ylim([0, 1])\n",
        "    plt.ylabel('True Positive Rate')\n",
        "    plt.xlabel('False Positive Rate')\n",
        "    plt.show()\n",
        "\n",
        "    return roc_auc\n",
        "pre()"
      ],
      "execution_count": 68,
      "outputs": [
        {
          "output_type": "display_data",
          "data": {
            "image/png": "[encoded data removed]",
            "text/plain": [
              "<Figure size 432x288 with 1 Axes>"
            ]
          },
          "metadata": {
            "tags": [],
            "needs_background": "light"
          }
        },
        {
          "output_type": "execute_result",
          "data": {
            "text/plain": [
              "0.6803959131545338"
            ]
          },
          "metadata": {
            "tags": []
          },
          "execution_count": 68
        }
      ]
    },
    {
      "cell_type": "markdown",
      "metadata": {
        "id": "9pmhvUAHzp3t",
        "colab_type": "text"
      },
      "source": [
        "### Q 14.1. Instantiate RandomForestClassifier using scikit learn having (criterion='entropy',n_estimators = 100, random_state = 0, max_depth = 2, min_samples_split=4, min_samples_leaf=3, max_leaf_nodes=5, class_weight='balanced')"
      ]
    },
    {
      "cell_type": "code",
      "metadata": {
        "id": "xJxZQP4IryOg",
        "colab_type": "code",
        "colab": {}
      },
      "source": [
        "from sklearn.ensemble import RandomForestClassifier"
      ],
      "execution_count": 0,
      "outputs": []
    },
    {
      "cell_type": "code",
      "metadata": {
        "id": "PCHferH1zp3u",
        "colab_type": "code",
        "colab": {}
      },
      "source": [
        "def pre():\n",
        "    # instantiate the RandomForestClassifer as rf with above mentioned parameters.\n",
        "    rf = RandomForestClassifier(criterion='entropy',n_estimators = 100, \n",
        "                                random_state = 0, max_depth = 2, \n",
        "                                min_samples_split=4, min_samples_leaf=3, \n",
        "                                max_leaf_nodes=5, class_weight='balanced')\n",
        "    return rf\n",
        "rf = pre()"
      ],
      "execution_count": 0,
      "outputs": []
    },
    {
      "cell_type": "markdown",
      "metadata": {
        "id": "cW4WEniczp30",
        "colab_type": "text"
      },
      "source": [
        "### Q 14.2. Fit the model on X_train and y_train"
      ]
    },
    {
      "cell_type": "code",
      "metadata": {
        "id": "rrX4OrDJzp32",
        "colab_type": "code",
        "colab": {
          "base_uri": "https://localhost:8080/",
          "height": 153
        },
        "outputId": "ede00004-133e-4bd3-bbdd-b474137bbb4d"
      },
      "source": [
        "def pre():\n",
        "    return rf.fit(X_train,y_train) # fit the X_train and y_train\n",
        "pre()"
      ],
      "execution_count": 71,
      "outputs": [
        {
          "output_type": "execute_result",
          "data": {
            "text/plain": [
              "RandomForestClassifier(bootstrap=True, ccp_alpha=0.0, class_weight='balanced',\n",
              "                       criterion='entropy', max_depth=2, max_features='auto',\n",
              "                       max_leaf_nodes=5, max_samples=None,\n",
              "                       min_impurity_decrease=0.0, min_impurity_split=None,\n",
              "                       min_samples_leaf=3, min_samples_split=4,\n",
              "                       min_weight_fraction_leaf=0.0, n_estimators=100,\n",
              "                       n_jobs=None, oob_score=False, random_state=0, verbose=0,\n",
              "                       warm_start=False)"
            ]
          },
          "metadata": {
            "tags": []
          },
          "execution_count": 71
        }
      ]
    },
    {
      "cell_type": "markdown",
      "metadata": {
        "id": "vxpNiNiyzp38",
        "colab_type": "text"
      },
      "source": [
        "### Q 14.3. Using the model for predictions"
      ]
    },
    {
      "cell_type": "code",
      "metadata": {
        "id": "FFQGMZdvzp3-",
        "colab_type": "code",
        "colab": {}
      },
      "source": [
        "predictions_new = pd.DataFrame()\n",
        "def pre():\n",
        "    # create the model prediction on X_test data using the above created dataframe\n",
        "    predictions_new = rf.predict (X_test)\n",
        "    return predictions_new\n",
        "predictions_new = pre()"
      ],
      "execution_count": 0,
      "outputs": []
    },
    {
      "cell_type": "markdown",
      "metadata": {
        "id": "BFpEbrMjzp4E",
        "colab_type": "text"
      },
      "source": [
        "### Q 14.4. Model evaluation using accuracy score"
      ]
    },
    {
      "cell_type": "code",
      "metadata": {
        "id": "yoDuMsijzp4F",
        "colab_type": "code",
        "colab": {
          "base_uri": "https://localhost:8080/",
          "height": 34
        },
        "outputId": "fa6e4f85-6470-4943-c08a-551e46acfd8c"
      },
      "source": [
        "from sklearn.metrics import accuracy_score\n",
        "def pre():\n",
        "    # compute and print the accuracy score\n",
        "    print(\"Accuracy Score: \",accuracy_score(y_test,predictions_new))\n",
        "pre()"
      ],
      "execution_count": 73,
      "outputs": [
        {
          "output_type": "stream",
          "text": [
            "Accuracy Score:  0.7412587412587412\n"
          ],
          "name": "stdout"
        }
      ]
    },
    {
      "cell_type": "markdown",
      "metadata": {
        "id": "8gv2N9MXzp4M",
        "colab_type": "text"
      },
      "source": [
        "### Q 14.5. Model evaluation using confusion matrix"
      ]
    },
    {
      "cell_type": "code",
      "metadata": {
        "id": "T43p5oBZzp4O",
        "colab_type": "code",
        "colab": {
          "base_uri": "https://localhost:8080/",
          "height": 68
        },
        "outputId": "56505e73-19bf-4002-a34a-580dd53d1dc4"
      },
      "source": [
        "from sklearn.metrics import confusion_matrix\n",
        "confusion_matrix1 = pd.DataFrame(confusion_matrix(y_test, predictions_new))\n",
        "def pre():\n",
        "    # provide confusion matrix index name as['Actual Not_virus','Actual virus']\n",
        "    confusion_matrix1.index = ['Actual Not_virus','Actual virus']\n",
        "    # provide confusion matrix index name as['Predicted Not_virus','Predicted virus']\n",
        "    confusion_matrix1.columns = ['Predicted Not_virus','Predicted virus']\n",
        "    # print the confusion matrix\n",
        "    print(confusion_matrix1)\n",
        "pre()"
      ],
      "execution_count": 75,
      "outputs": [
        {
          "output_type": "stream",
          "text": [
            "                  Predicted Not_virus  Predicted virus\n",
            "Actual Not_virus                   10               17\n",
            "Actual virus                       20               96\n"
          ],
          "name": "stdout"
        }
      ]
    },
    {
      "cell_type": "markdown",
      "metadata": {
        "id": "W-jnvfslzp4U",
        "colab_type": "text"
      },
      "source": [
        "### Q 14.6.  Model evaluation using precision score"
      ]
    },
    {
      "cell_type": "code",
      "metadata": {
        "id": "xPqt196vzp4V",
        "colab_type": "code",
        "colab": {
          "base_uri": "https://localhost:8080/",
          "height": 34
        },
        "outputId": "d72b2edf-46bd-4eed-b95c-11e47887f6d4"
      },
      "source": [
        "from sklearn.metrics import recall_score\n",
        "def pre():\n",
        "    # compute the precision score\n",
        "    precision1 = precision_score(y_test,predictions_new)\n",
        "    # print the precision score\n",
        "    print(precision1)\n",
        "    return precision1\n",
        "precision1 = pre()"
      ],
      "execution_count": 76,
      "outputs": [
        {
          "output_type": "stream",
          "text": [
            "0.8495575221238938\n"
          ],
          "name": "stdout"
        }
      ]
    },
    {
      "cell_type": "markdown",
      "metadata": {
        "id": "ySEfMbwqzp4d",
        "colab_type": "text"
      },
      "source": [
        "### Q 14.7. Model evaluation using recall score"
      ]
    },
    {
      "cell_type": "code",
      "metadata": {
        "id": "4rxmstLGzp4e",
        "colab_type": "code",
        "colab": {
          "base_uri": "https://localhost:8080/",
          "height": 34
        },
        "outputId": "2b9201f8-0794-472e-ad73-ed18934642bb"
      },
      "source": [
        "from sklearn.metrics import recall_score\n",
        "def pre():\n",
        "    # compute and print the recall score\n",
        "    print(recall_score(y_test,predictions_new))\n",
        "pre()"
      ],
      "execution_count": 77,
      "outputs": [
        {
          "output_type": "stream",
          "text": [
            "0.8275862068965517\n"
          ],
          "name": "stdout"
        }
      ]
    },
    {
      "cell_type": "markdown",
      "metadata": {
        "id": "oUhwJ9Mqzp4k",
        "colab_type": "text"
      },
      "source": [
        "### Q 14.8. Model evaluation using f1_score"
      ]
    },
    {
      "cell_type": "code",
      "metadata": {
        "id": "53N3IORPzp4l",
        "colab_type": "code",
        "colab": {
          "base_uri": "https://localhost:8080/",
          "height": 34
        },
        "outputId": "250021dc-0c85-4a3c-c006-d8e84e22fc1e"
      },
      "source": [
        "from sklearn.metrics import f1_score\n",
        "def pre():\n",
        "    # compute and print the f1_score\n",
        "    print(f1_score(y_test,predictions_new))\n",
        "pre()"
      ],
      "execution_count": 78,
      "outputs": [
        {
          "output_type": "stream",
          "text": [
            "0.8384279475982533\n"
          ],
          "name": "stdout"
        }
      ]
    },
    {
      "cell_type": "markdown",
      "metadata": {
        "id": "lAsIl8YDzp4r",
        "colab_type": "text"
      },
      "source": [
        "### Q 14.9. Model evaluation using ROC_AUC score"
      ]
    },
    {
      "cell_type": "code",
      "metadata": {
        "id": "KS3pCnojzp4s",
        "colab_type": "code",
        "colab": {
          "base_uri": "https://localhost:8080/",
          "height": 312
        },
        "outputId": "42576a4a-9baa-405c-bc45-7e9694c51048"
      },
      "source": [
        "from sklearn import metrics\n",
        "def pre():\n",
        "   # predict class probabilites fro X_test\n",
        "    # return the array value as pred\n",
        "    # Compute roc_curve as fpr1, tpr1, threshold\n",
        "    # compute roc_auc as roc_auc1\n",
        "    \n",
        "    probs = rf.predict_proba(X_test)\n",
        "    preds = probs[:,1]\n",
        "    fpr1, tpr1, threshold1 = metrics.roc_curve(y_test, preds)\n",
        "    roc_auc1 = metrics.auc(fpr1, tpr1)\n",
        "\n",
        "    plt.title('Receiver Operating Characteristic')\n",
        "    plt.plot(fpr1, tpr1, 'b', label = 'AUC = %0.2f' % roc_auc1)\n",
        "    plt.legend(loc = 'lower right')\n",
        "    plt.plot([0, 1], [0, 1],'r--')\n",
        "    plt.xlim([0, 1])\n",
        "    plt.ylim([0, 1])\n",
        "    plt.ylabel('True Positive Rate')\n",
        "    plt.xlabel('False Positive Rate')\n",
        "    plt.show()\n",
        "    return roc_auc1\n",
        "pre()"
      ],
      "execution_count": 79,
      "outputs": [
        {
          "output_type": "display_data",
          "data": {
            "image/png": "[encoded data removed]",
            "text/plain": [
              "<Figure size 432x288 with 1 Axes>"
            ]
          },
          "metadata": {
            "tags": [],
            "needs_background": "light"
          }
        },
        {
          "output_type": "execute_result",
          "data": {
            "text/plain": [
              "0.6280332056194126"
            ]
          },
          "metadata": {
            "tags": []
          },
          "execution_count": 79
        }
      ]
    },
    {
      "cell_type": "markdown",
      "metadata": {
        "id": "ISj0FsXnzp4y",
        "colab_type": "text"
      },
      "source": [
        "### Q 15. What inference can you draw from 2 different models on the basis of precision score ( provide the absolute score)."
      ]
    },
    {
      "cell_type": "code",
      "metadata": {
        "id": "jmEI5YRuzp40",
        "colab_type": "code",
        "colab": {
          "base_uri": "https://localhost:8080/",
          "height": 68
        },
        "outputId": "bdfb40a5-01b9-41fd-fc14-555be5df2383"
      },
      "source": [
        "def pre():\n",
        "    # calculate teh difference between precision1 and precision created by two two different models and assign it to variable\n",
        "    print(\"precision1 : \",precision1)\n",
        "    print(\"precision : \",precision)\n",
        "    return precision1 - precision # created varibale\n",
        "pre()"
      ],
      "execution_count": 81,
      "outputs": [
        {
          "output_type": "stream",
          "text": [
            "precision1 :  0.8495575221238938\n",
            "precision :  0.8226950354609929\n"
          ],
          "name": "stdout"
        },
        {
          "output_type": "execute_result",
          "data": {
            "text/plain": [
              "0.02686248666290092"
            ]
          },
          "metadata": {
            "tags": []
          },
          "execution_count": 81
        }
      ]
    },
    {
      "cell_type": "markdown",
      "metadata": {
        "id": "tLp0TOnLzp46",
        "colab_type": "text"
      },
      "source": [
        "### Conclusion\n",
        "The two different models created and the precision value calculated for the model differ by a __very small margin__. Hence we have to be very __precise__ with classification of zombie.\n",
        "Thus in this case \"__False Positve__\" is to be treated properly in order to prevent the extinction of mankind."
      ]
    },
    {
      "cell_type": "code",
      "metadata": {
        "id": "UQ3JY3bezp47",
        "colab_type": "code",
        "colab": {}
      },
      "source": [
        ""
      ],
      "execution_count": 0,
      "outputs": []
    }
  ]
}