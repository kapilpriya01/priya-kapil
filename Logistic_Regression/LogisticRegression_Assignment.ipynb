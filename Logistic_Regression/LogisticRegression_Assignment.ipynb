{
  "nbformat": 4,
  "nbformat_minor": 0,
  "metadata": {
    "kernelspec": {
      "display_name": "Python 3",
      "language": "python",
      "name": "python3"
    },
    "language_info": {
      "codemirror_mode": {
        "name": "ipython",
        "version": 3
      },
      "file_extension": ".py",
      "mimetype": "text/x-python",
      "name": "python",
      "nbconvert_exporter": "python",
      "pygments_lexer": "ipython3",
      "version": "3.6.5"
    },
    "colab": {
      "name": "LogisticRegressionQuestion-1543832587336.ipynb",
      "provenance": [],
      "collapsed_sections": [],
      "include_colab_link": true
    }
  },
  "cells": [
    {
      "cell_type": "markdown",
      "metadata": {
        "id": "view-in-github",
        "colab_type": "text"
      },
      "source": [
        "<a href=\"https://colab.research.google.com/github/kapilpriya01/priya-kapil/blob/master/Logistic_Regression/LogisticRegression_Assignment.ipynb\" target=\"_parent\"><img src=\"https://colab.research.google.com/assets/colab-badge.svg\" alt=\"Open In Colab\"/></a>"
      ]
    },
    {
      "cell_type": "markdown",
      "metadata": {
        "id": "G047Z6I9oaYQ",
        "colab_type": "text"
      },
      "source": [
        "<img src=\"https://github.com/insaid2018/Term-1/blob/master/Images/INSAID_Full%20Logo.png?raw=true\" width=\"240\" height=\"360\" />\n",
        "\n",
        "# ASSIGNMENT\n",
        "# LOGISTIC REGRESSION"
      ]
    },
    {
      "cell_type": "markdown",
      "metadata": {
        "id": "BSS2OrFxoaYU",
        "colab_type": "text"
      },
      "source": [
        "\n",
        "##  Bank Marketing\n",
        "\n",
        "\n",
        "**Abstract:** \n",
        "The data is related with __direct marketing campaigns__ (phone calls) of a Portuguese banking institution. The classification goal is to predict if the client will subscribe a __term deposit (variable y)__.\n",
        "\n",
        "**Data Set Information:**\n",
        "The data is related with direct marketing campaigns of a Portuguese banking institution. The marketing campaigns were based on phone calls. Often, more than one contact to the same client was required, in order to access if the __product (bank term deposit)__ would be __('yes')__ or __('no')__ subscribed. \n",
        "\n",
        "###  Source:\n",
        "\n",
        " - Dataset from : http://archive.ics.uci.edu/ml/datasets/Bank+Marketing#\n",
        " "
      ]
    },
    {
      "cell_type": "markdown",
      "metadata": {
        "id": "dBRPc_BkoaYX",
        "colab_type": "text"
      },
      "source": [
        "### Import the dataset"
      ]
    },
    {
      "cell_type": "code",
      "metadata": {
        "id": "223vdDisoaYa",
        "colab_type": "code",
        "colab": {
          "base_uri": "https://localhost:8080/",
          "height": 224
        },
        "outputId": "4c1a8496-7844-49e1-89f3-ef132dbc870f"
      },
      "source": [
        "import pandas as pd\n",
        "bank = pd.read_csv('https://raw.githubusercontent.com/insaid2018/Term-2/master/Data/bank.csv')\n",
        "bank.head() "
      ],
      "execution_count": 1,
      "outputs": [
        {
          "output_type": "execute_result",
          "data": {
            "text/html": [
              "<div>\n",
              "<style scoped>\n",
              "    .dataframe tbody tr th:only-of-type {\n",
              "        vertical-align: middle;\n",
              "    }\n",
              "\n",
              "    .dataframe tbody tr th {\n",
              "        vertical-align: top;\n",
              "    }\n",
              "\n",
              "    .dataframe thead th {\n",
              "        text-align: right;\n",
              "    }\n",
              "</style>\n",
              "<table border=\"1\" class=\"dataframe\">\n",
              "  <thead>\n",
              "    <tr style=\"text-align: right;\">\n",
              "      <th></th>\n",
              "      <th>age</th>\n",
              "      <th>job</th>\n",
              "      <th>marital</th>\n",
              "      <th>education</th>\n",
              "      <th>default</th>\n",
              "      <th>housing</th>\n",
              "      <th>loan</th>\n",
              "      <th>contact</th>\n",
              "      <th>month</th>\n",
              "      <th>day_of_week</th>\n",
              "      <th>duration</th>\n",
              "      <th>campaign</th>\n",
              "      <th>pdays</th>\n",
              "      <th>previous</th>\n",
              "      <th>poutcome</th>\n",
              "      <th>emp.var.rate</th>\n",
              "      <th>cons.price.idx</th>\n",
              "      <th>cons.conf.idx</th>\n",
              "      <th>euribor3m</th>\n",
              "      <th>nr.employed</th>\n",
              "      <th>y</th>\n",
              "    </tr>\n",
              "  </thead>\n",
              "  <tbody>\n",
              "    <tr>\n",
              "      <th>0</th>\n",
              "      <td>46</td>\n",
              "      <td>blue-collar</td>\n",
              "      <td>married</td>\n",
              "      <td>basic.9y</td>\n",
              "      <td>no</td>\n",
              "      <td>no</td>\n",
              "      <td>yes</td>\n",
              "      <td>telephone</td>\n",
              "      <td>may</td>\n",
              "      <td>tue</td>\n",
              "      <td>329</td>\n",
              "      <td>3</td>\n",
              "      <td>999</td>\n",
              "      <td>0</td>\n",
              "      <td>nonexistent</td>\n",
              "      <td>1.1</td>\n",
              "      <td>93.994</td>\n",
              "      <td>-36.4</td>\n",
              "      <td>4.857</td>\n",
              "      <td>5191.0</td>\n",
              "      <td>no</td>\n",
              "    </tr>\n",
              "    <tr>\n",
              "      <th>1</th>\n",
              "      <td>29</td>\n",
              "      <td>admin.</td>\n",
              "      <td>single</td>\n",
              "      <td>university.degree</td>\n",
              "      <td>no</td>\n",
              "      <td>no</td>\n",
              "      <td>no</td>\n",
              "      <td>cellular</td>\n",
              "      <td>may</td>\n",
              "      <td>wed</td>\n",
              "      <td>132</td>\n",
              "      <td>2</td>\n",
              "      <td>999</td>\n",
              "      <td>0</td>\n",
              "      <td>nonexistent</td>\n",
              "      <td>-1.8</td>\n",
              "      <td>92.893</td>\n",
              "      <td>-46.2</td>\n",
              "      <td>1.281</td>\n",
              "      <td>5099.1</td>\n",
              "      <td>no</td>\n",
              "    </tr>\n",
              "    <tr>\n",
              "      <th>2</th>\n",
              "      <td>50</td>\n",
              "      <td>management</td>\n",
              "      <td>married</td>\n",
              "      <td>university.degree</td>\n",
              "      <td>no</td>\n",
              "      <td>yes</td>\n",
              "      <td>yes</td>\n",
              "      <td>cellular</td>\n",
              "      <td>apr</td>\n",
              "      <td>fri</td>\n",
              "      <td>206</td>\n",
              "      <td>1</td>\n",
              "      <td>999</td>\n",
              "      <td>0</td>\n",
              "      <td>nonexistent</td>\n",
              "      <td>-1.8</td>\n",
              "      <td>93.075</td>\n",
              "      <td>-47.1</td>\n",
              "      <td>1.405</td>\n",
              "      <td>5099.1</td>\n",
              "      <td>no</td>\n",
              "    </tr>\n",
              "    <tr>\n",
              "      <th>3</th>\n",
              "      <td>31</td>\n",
              "      <td>admin.</td>\n",
              "      <td>married</td>\n",
              "      <td>high.school</td>\n",
              "      <td>unknown</td>\n",
              "      <td>yes</td>\n",
              "      <td>no</td>\n",
              "      <td>telephone</td>\n",
              "      <td>may</td>\n",
              "      <td>thu</td>\n",
              "      <td>199</td>\n",
              "      <td>2</td>\n",
              "      <td>999</td>\n",
              "      <td>0</td>\n",
              "      <td>nonexistent</td>\n",
              "      <td>1.1</td>\n",
              "      <td>93.994</td>\n",
              "      <td>-36.4</td>\n",
              "      <td>4.860</td>\n",
              "      <td>5191.0</td>\n",
              "      <td>no</td>\n",
              "    </tr>\n",
              "    <tr>\n",
              "      <th>4</th>\n",
              "      <td>32</td>\n",
              "      <td>admin.</td>\n",
              "      <td>single</td>\n",
              "      <td>high.school</td>\n",
              "      <td>no</td>\n",
              "      <td>yes</td>\n",
              "      <td>no</td>\n",
              "      <td>cellular</td>\n",
              "      <td>jun</td>\n",
              "      <td>tue</td>\n",
              "      <td>350</td>\n",
              "      <td>1</td>\n",
              "      <td>999</td>\n",
              "      <td>0</td>\n",
              "      <td>nonexistent</td>\n",
              "      <td>-2.9</td>\n",
              "      <td>92.963</td>\n",
              "      <td>-40.8</td>\n",
              "      <td>1.262</td>\n",
              "      <td>5076.2</td>\n",
              "      <td>yes</td>\n",
              "    </tr>\n",
              "  </tbody>\n",
              "</table>\n",
              "</div>"
            ],
            "text/plain": [
              "   age          job  marital  ... euribor3m nr.employed    y\n",
              "0   46  blue-collar  married  ...     4.857      5191.0   no\n",
              "1   29       admin.   single  ...     1.281      5099.1   no\n",
              "2   50   management  married  ...     1.405      5099.1   no\n",
              "3   31       admin.  married  ...     4.860      5191.0   no\n",
              "4   32       admin.   single  ...     1.262      5076.2  yes\n",
              "\n",
              "[5 rows x 21 columns]"
            ]
          },
          "metadata": {
            "tags": []
          },
          "execution_count": 1
        }
      ]
    },
    {
      "cell_type": "markdown",
      "metadata": {
        "id": "IE3Vm6xboaYr",
        "colab_type": "text"
      },
      "source": [
        "### Check the columns present in the dataset"
      ]
    },
    {
      "cell_type": "code",
      "metadata": {
        "id": "uYyW9l5aoaYu",
        "colab_type": "code",
        "colab": {
          "base_uri": "https://localhost:8080/",
          "height": 102
        },
        "outputId": "d98a04a2-902a-4ab9-ec8a-891cff44a242"
      },
      "source": [
        "bank.columns"
      ],
      "execution_count": 2,
      "outputs": [
        {
          "output_type": "execute_result",
          "data": {
            "text/plain": [
              "Index(['age', 'job', 'marital', 'education', 'default', 'housing', 'loan',\n",
              "       'contact', 'month', 'day_of_week', 'duration', 'campaign', 'pdays',\n",
              "       'previous', 'poutcome', 'emp.var.rate', 'cons.price.idx',\n",
              "       'cons.conf.idx', 'euribor3m', 'nr.employed', 'y'],\n",
              "      dtype='object')"
            ]
          },
          "metadata": {
            "tags": []
          },
          "execution_count": 2
        }
      ]
    },
    {
      "cell_type": "markdown",
      "metadata": {
        "id": "gPDfpgQPoaY8",
        "colab_type": "text"
      },
      "source": [
        "### Check the shape of Dataset"
      ]
    },
    {
      "cell_type": "code",
      "metadata": {
        "id": "parrSot-oaY_",
        "colab_type": "code",
        "colab": {
          "base_uri": "https://localhost:8080/",
          "height": 34
        },
        "outputId": "61372de3-1fb0-40f8-9dcb-e71b41a3925b"
      },
      "source": [
        "bank.shape "
      ],
      "execution_count": 3,
      "outputs": [
        {
          "output_type": "execute_result",
          "data": {
            "text/plain": [
              "(10297, 21)"
            ]
          },
          "metadata": {
            "tags": []
          },
          "execution_count": 3
        }
      ]
    },
    {
      "cell_type": "markdown",
      "metadata": {
        "id": "oEyvb-V-oaZN",
        "colab_type": "text"
      },
      "source": [
        "### Check the descriptive statistics of the dataset"
      ]
    },
    {
      "cell_type": "code",
      "metadata": {
        "id": "E1O1dkpuoaZP",
        "colab_type": "code",
        "colab": {
          "base_uri": "https://localhost:8080/",
          "height": 317
        },
        "outputId": "fb59da89-4bc6-4ceb-818e-06fdd2d7b396"
      },
      "source": [
        "bank.describe() "
      ],
      "execution_count": 4,
      "outputs": [
        {
          "output_type": "execute_result",
          "data": {
            "text/html": [
              "<div>\n",
              "<style scoped>\n",
              "    .dataframe tbody tr th:only-of-type {\n",
              "        vertical-align: middle;\n",
              "    }\n",
              "\n",
              "    .dataframe tbody tr th {\n",
              "        vertical-align: top;\n",
              "    }\n",
              "\n",
              "    .dataframe thead th {\n",
              "        text-align: right;\n",
              "    }\n",
              "</style>\n",
              "<table border=\"1\" class=\"dataframe\">\n",
              "  <thead>\n",
              "    <tr style=\"text-align: right;\">\n",
              "      <th></th>\n",
              "      <th>age</th>\n",
              "      <th>duration</th>\n",
              "      <th>campaign</th>\n",
              "      <th>pdays</th>\n",
              "      <th>previous</th>\n",
              "      <th>emp.var.rate</th>\n",
              "      <th>cons.price.idx</th>\n",
              "      <th>cons.conf.idx</th>\n",
              "      <th>euribor3m</th>\n",
              "      <th>nr.employed</th>\n",
              "    </tr>\n",
              "  </thead>\n",
              "  <tbody>\n",
              "    <tr>\n",
              "      <th>count</th>\n",
              "      <td>10297.000000</td>\n",
              "      <td>10297.000000</td>\n",
              "      <td>10297.000000</td>\n",
              "      <td>10297.000000</td>\n",
              "      <td>10297.000000</td>\n",
              "      <td>10297.000000</td>\n",
              "      <td>10297.000000</td>\n",
              "      <td>10297.000000</td>\n",
              "      <td>10297.000000</td>\n",
              "      <td>10297.000000</td>\n",
              "    </tr>\n",
              "    <tr>\n",
              "      <th>mean</th>\n",
              "      <td>40.080606</td>\n",
              "      <td>261.388268</td>\n",
              "      <td>2.561134</td>\n",
              "      <td>963.609692</td>\n",
              "      <td>0.171506</td>\n",
              "      <td>0.077256</td>\n",
              "      <td>93.574206</td>\n",
              "      <td>-40.445780</td>\n",
              "      <td>3.621923</td>\n",
              "      <td>5166.850442</td>\n",
              "    </tr>\n",
              "    <tr>\n",
              "      <th>std</th>\n",
              "      <td>10.472190</td>\n",
              "      <td>263.722874</td>\n",
              "      <td>2.827084</td>\n",
              "      <td>184.098592</td>\n",
              "      <td>0.496992</td>\n",
              "      <td>1.576732</td>\n",
              "      <td>0.577502</td>\n",
              "      <td>4.622221</td>\n",
              "      <td>1.734170</td>\n",
              "      <td>72.492914</td>\n",
              "    </tr>\n",
              "    <tr>\n",
              "      <th>min</th>\n",
              "      <td>18.000000</td>\n",
              "      <td>0.000000</td>\n",
              "      <td>1.000000</td>\n",
              "      <td>0.000000</td>\n",
              "      <td>0.000000</td>\n",
              "      <td>-3.400000</td>\n",
              "      <td>92.201000</td>\n",
              "      <td>-50.800000</td>\n",
              "      <td>0.634000</td>\n",
              "      <td>4963.600000</td>\n",
              "    </tr>\n",
              "    <tr>\n",
              "      <th>25%</th>\n",
              "      <td>32.000000</td>\n",
              "      <td>103.000000</td>\n",
              "      <td>1.000000</td>\n",
              "      <td>999.000000</td>\n",
              "      <td>0.000000</td>\n",
              "      <td>-1.800000</td>\n",
              "      <td>93.075000</td>\n",
              "      <td>-42.700000</td>\n",
              "      <td>1.344000</td>\n",
              "      <td>5099.100000</td>\n",
              "    </tr>\n",
              "    <tr>\n",
              "      <th>50%</th>\n",
              "      <td>38.000000</td>\n",
              "      <td>180.000000</td>\n",
              "      <td>2.000000</td>\n",
              "      <td>999.000000</td>\n",
              "      <td>0.000000</td>\n",
              "      <td>1.100000</td>\n",
              "      <td>93.749000</td>\n",
              "      <td>-41.800000</td>\n",
              "      <td>4.857000</td>\n",
              "      <td>5191.000000</td>\n",
              "    </tr>\n",
              "    <tr>\n",
              "      <th>75%</th>\n",
              "      <td>47.000000</td>\n",
              "      <td>327.000000</td>\n",
              "      <td>3.000000</td>\n",
              "      <td>999.000000</td>\n",
              "      <td>0.000000</td>\n",
              "      <td>1.400000</td>\n",
              "      <td>93.994000</td>\n",
              "      <td>-36.400000</td>\n",
              "      <td>4.961000</td>\n",
              "      <td>5228.100000</td>\n",
              "    </tr>\n",
              "    <tr>\n",
              "      <th>max</th>\n",
              "      <td>94.000000</td>\n",
              "      <td>3643.000000</td>\n",
              "      <td>56.000000</td>\n",
              "      <td>999.000000</td>\n",
              "      <td>6.000000</td>\n",
              "      <td>1.400000</td>\n",
              "      <td>94.767000</td>\n",
              "      <td>-26.900000</td>\n",
              "      <td>5.045000</td>\n",
              "      <td>5228.100000</td>\n",
              "    </tr>\n",
              "  </tbody>\n",
              "</table>\n",
              "</div>"
            ],
            "text/plain": [
              "                age      duration  ...     euribor3m   nr.employed\n",
              "count  10297.000000  10297.000000  ...  10297.000000  10297.000000\n",
              "mean      40.080606    261.388268  ...      3.621923   5166.850442\n",
              "std       10.472190    263.722874  ...      1.734170     72.492914\n",
              "min       18.000000      0.000000  ...      0.634000   4963.600000\n",
              "25%       32.000000    103.000000  ...      1.344000   5099.100000\n",
              "50%       38.000000    180.000000  ...      4.857000   5191.000000\n",
              "75%       47.000000    327.000000  ...      4.961000   5228.100000\n",
              "max       94.000000   3643.000000  ...      5.045000   5228.100000\n",
              "\n",
              "[8 rows x 10 columns]"
            ]
          },
          "metadata": {
            "tags": []
          },
          "execution_count": 4
        }
      ]
    },
    {
      "cell_type": "markdown",
      "metadata": {
        "id": "Zectuo5KoaZd",
        "colab_type": "text"
      },
      "source": [
        "### Check the info of the dataset"
      ]
    },
    {
      "cell_type": "code",
      "metadata": {
        "id": "zoICeb7poaZf",
        "colab_type": "code",
        "colab": {
          "base_uri": "https://localhost:8080/",
          "height": 493
        },
        "outputId": "66668036-4a1c-4f36-dffa-025b4a060a18"
      },
      "source": [
        "bank.info() "
      ],
      "execution_count": 5,
      "outputs": [
        {
          "output_type": "stream",
          "text": [
            "<class 'pandas.core.frame.DataFrame'>\n",
            "RangeIndex: 10297 entries, 0 to 10296\n",
            "Data columns (total 21 columns):\n",
            " #   Column          Non-Null Count  Dtype  \n",
            "---  ------          --------------  -----  \n",
            " 0   age             10297 non-null  int64  \n",
            " 1   job             10297 non-null  object \n",
            " 2   marital         10297 non-null  object \n",
            " 3   education       10297 non-null  object \n",
            " 4   default         10297 non-null  object \n",
            " 5   housing         10297 non-null  object \n",
            " 6   loan            10297 non-null  object \n",
            " 7   contact         10297 non-null  object \n",
            " 8   month           10297 non-null  object \n",
            " 9   day_of_week     10297 non-null  object \n",
            " 10  duration        10297 non-null  int64  \n",
            " 11  campaign        10297 non-null  int64  \n",
            " 12  pdays           10297 non-null  int64  \n",
            " 13  previous        10297 non-null  int64  \n",
            " 14  poutcome        10297 non-null  object \n",
            " 15  emp.var.rate    10297 non-null  float64\n",
            " 16  cons.price.idx  10297 non-null  float64\n",
            " 17  cons.conf.idx   10297 non-null  float64\n",
            " 18  euribor3m       10297 non-null  float64\n",
            " 19  nr.employed     10297 non-null  float64\n",
            " 20  y               10297 non-null  object \n",
            "dtypes: float64(5), int64(5), object(11)\n",
            "memory usage: 1.6+ MB\n"
          ],
          "name": "stdout"
        }
      ]
    },
    {
      "cell_type": "markdown",
      "metadata": {
        "id": "Wck4DkBcoaZo",
        "colab_type": "text"
      },
      "source": [
        "### Q 1. Write a code to understand the below mentioned variables and print their 'unique' attributes.\n",
        "``` ['job', 'marital', 'education', 'housing', 'loan', 'contact', 'month', 'day_of_week', 'campaign','poutcome', 'pdays', 'emp.var.rate', 'cons.price.idx', 'cons.conf.idx', 'euribor3m'] ```"
      ]
    },
    {
      "cell_type": "code",
      "metadata": {
        "id": "lIh5YBjB0TvN",
        "colab_type": "code",
        "colab": {
          "base_uri": "https://localhost:8080/",
          "height": 102
        },
        "outputId": "75e75ae0-11c1-414c-87b0-e97bf1e12947"
      },
      "source": [
        "bank.columns"
      ],
      "execution_count": 6,
      "outputs": [
        {
          "output_type": "execute_result",
          "data": {
            "text/plain": [
              "Index(['age', 'job', 'marital', 'education', 'default', 'housing', 'loan',\n",
              "       'contact', 'month', 'day_of_week', 'duration', 'campaign', 'pdays',\n",
              "       'previous', 'poutcome', 'emp.var.rate', 'cons.price.idx',\n",
              "       'cons.conf.idx', 'euribor3m', 'nr.employed', 'y'],\n",
              "      dtype='object')"
            ]
          },
          "metadata": {
            "tags": []
          },
          "execution_count": 6
        }
      ]
    },
    {
      "cell_type": "code",
      "metadata": {
        "id": "4ilRZlWroaZq",
        "colab_type": "code",
        "colab": {
          "base_uri": "https://localhost:8080/",
          "height": 1000
        },
        "outputId": "3ca3daf7-841c-4a83-902b-749409b8ad0d"
      },
      "source": [
        "\"\"\"\n",
        "def log():\n",
        "    # write your code here to print all the unique values of the variables mentioned in question.\n",
        "    # The code output should be user-friendly.\n",
        "    # For eg- Job have these unique values: ['.........']\n",
        "log()\n",
        "\"\"\"\n",
        "bank_Columns = ['job', 'marital', 'education', 'housing', 'loan', 'contact', 'month', 'day_of_week', 'campaign','poutcome', 'pdays', 'emp.var.rate', 'cons.price.idx', 'cons.conf.idx', 'euribor3m']\n",
        "def log():\n",
        "  for c in bank_Columns:\n",
        "    print(\"{} has these unique values: {}\".format(c,bank[c].unique()))\n",
        "    print(\"**********************\")\n",
        "log()"
      ],
      "execution_count": 7,
      "outputs": [
        {
          "output_type": "stream",
          "text": [
            "job has these unique values: ['blue-collar' 'admin.' 'management' 'technician' 'retired' 'services'\n",
            " 'entrepreneur' 'self-employed' 'unemployed' 'student' 'housemaid'\n",
            " 'unknown']\n",
            "**********************\n",
            "marital has these unique values: ['married' 'single' 'divorced' 'unknown']\n",
            "**********************\n",
            "education has these unique values: ['basic.9y' 'university.degree' 'high.school' 'professional.course'\n",
            " 'basic.6y' 'basic.4y' 'unknown' 'illiterate']\n",
            "**********************\n",
            "housing has these unique values: ['no' 'yes' 'unknown']\n",
            "**********************\n",
            "loan has these unique values: ['yes' 'no' 'unknown']\n",
            "**********************\n",
            "contact has these unique values: ['telephone' 'cellular']\n",
            "**********************\n",
            "month has these unique values: ['may' 'apr' 'jun' 'aug' 'jul' 'oct' 'nov' 'dec' 'sep' 'mar']\n",
            "**********************\n",
            "day_of_week has these unique values: ['tue' 'wed' 'fri' 'thu' 'mon']\n",
            "**********************\n",
            "campaign has these unique values: [ 3  2  1  4  5  6 14  7 21  9 12  8 17 10 20 33 29 15 23 11 18 13 19 39\n",
            " 27 16 31 34 26 28 24 32 22 56 25 40]\n",
            "**********************\n",
            "poutcome has these unique values: ['nonexistent' 'failure' 'success']\n",
            "**********************\n",
            "pdays has these unique values: [999   6   9   2  16   3   7   4  12  13   0   1   5  11  26  10   8  14\n",
            "  15  20  18  17]\n",
            "**********************\n",
            "emp.var.rate has these unique values: [ 1.1 -1.8 -2.9  1.4 -3.4 -1.7 -0.1 -3.  -1.1]\n",
            "**********************\n",
            "cons.price.idx has these unique values: [93.994 92.893 93.075 92.963 93.444 94.465 93.749 93.918 92.431 94.215\n",
            " 94.027 93.2   92.649 92.713 94.199 92.843 92.201 93.876 92.379 93.369\n",
            " 93.798 94.601 94.055 94.767 92.469]\n",
            "**********************\n",
            "cons.conf.idx has these unique values: [-36.4 -46.2 -47.1 -40.8 -36.1 -41.8 -34.6 -42.7 -26.9 -40.3 -38.3 -42.\n",
            " -30.1 -33.  -37.5 -50.  -31.4 -40.  -29.8 -34.8 -40.4 -49.5 -39.8 -50.8\n",
            " -33.6]\n",
            "**********************\n",
            "euribor3m has these unique values: [4.857 1.281 1.405 4.86  1.262 4.963 4.959 1.313 4.967 0.663 1.299 4.966\n",
            " 4.958 1.25  4.96  4.856 4.961 0.728 0.899 4.858 4.964 4.855 4.866 4.864\n",
            " 1.365 1.354 4.962 4.968 1.244 0.904 1.264 4.021 1.453 1.334 4.076 4.957\n",
            " 1.266 0.72  4.191 4.153 0.896 4.859 4.965 1.26  1.291 1.215 4.12  4.865\n",
            " 1.41  0.715 1.445 1.286 0.714 1.344 0.893 1.327 0.879 1.757 1.27  4.97\n",
            " 1.268 0.835 0.645 0.699 0.854 0.849 0.781 0.73  1.423 0.773 0.635 0.643\n",
            " 1.415 1.483 0.88  0.881 4.947 1.799 0.89  0.877 0.797 0.884 0.724 0.84\n",
            " 0.744 0.638 0.695 0.75  0.639 0.821 0.77  0.843 1.372 0.905 0.861 4.918\n",
            " 0.803 0.682 0.737 0.873 0.869 4.955 0.838 1.259 0.819 0.802 0.652 0.829\n",
            " 1.    0.987 0.9   0.732 0.851 0.729 1.05  0.642 0.719 1.556 0.883 0.731\n",
            " 4.921 0.741 0.716 1.028 4.956 0.782 0.876 0.889 1.479 0.697 0.788 0.885\n",
            " 1.52  0.898 0.713 0.692 0.878 0.74  0.761 0.822 0.701 0.739 0.809 1.029\n",
            " 1.041 0.834 1.466 1.726 1.072 0.706 1.048 0.655 0.702 0.825 0.959 0.637\n",
            " 1.392 0.707 0.977 4.912 1.085 1.435 0.722 1.206 1.235 1.498 0.688 1.406\n",
            " 0.846 0.71  0.634 0.754 0.712 1.629 0.668 1.043 0.748 0.813 4.936 0.753\n",
            " 0.733 4.733 1.538 0.636 1.614 0.903 0.65  1.703 1.687 0.886 0.723 0.742\n",
            " 0.87  3.901 1.03  1.811 0.755 0.859 4.406 1.044 0.767 1.252 0.778 0.646\n",
            " 0.708 1.4   0.768 0.653 1.531 1.032 0.762 0.651 0.743 1.025 0.654 1.008\n",
            " 0.965 0.749 0.827 4.7   0.882 0.718 1.602 0.972 1.059 1.663 1.04  1.099\n",
            " 0.685 1.031 0.644 0.683 0.891 0.659 0.735 1.64  1.037 1.046 4.592 0.717\n",
            " 0.677 1.51  5.045 1.016 0.953 0.81  0.727 0.993 4.794 0.982 0.709 3.853\n",
            " 0.672 1.039 1.778 0.649 4.827 0.793 4.663 0.79  1.548 0.64  1.65  0.69\n",
            " 4.76  0.766 0.895 0.914 1.018 0.704 0.985 1.049 4.286 0.908 0.937 0.888\n",
            " 0.684 0.7   4.245 0.771 1.224 4.474]\n",
            "**********************\n"
          ],
          "name": "stdout"
        }
      ]
    },
    {
      "cell_type": "markdown",
      "metadata": {
        "id": "SDp0vehFoaZx",
        "colab_type": "text"
      },
      "source": [
        "### Q 2. Write a code to check the min and max value of age. Also check if there is any null value or not."
      ]
    },
    {
      "cell_type": "code",
      "metadata": {
        "id": "o84Pmws1oaZy",
        "colab_type": "code",
        "colab": {
          "base_uri": "https://localhost:8080/",
          "height": 68
        },
        "outputId": "a6afae89-29cc-465c-f6b6-333fb4c69e37"
      },
      "source": [
        "\"\"\"\n",
        "def log():\n",
        "    # print the max age\n",
        "    # print the min age\n",
        "    # print the missing values if any\n",
        "log()\n",
        "\"\"\"\n",
        "def log_age():\n",
        "  print(\"Min value of Age: {}\".format(bank.age.min()))\n",
        "  print(\"Max value of Age: {}\".format(bank.age.max()))\n",
        "  print(\"Age has null values: {}\".format(bank.age.isnull().sum()))\n",
        "\n",
        "log_age()"
      ],
      "execution_count": 8,
      "outputs": [
        {
          "output_type": "stream",
          "text": [
            "Min value of Age: 18\n",
            "Max value of Age: 94\n",
            "Age has null values: 0\n"
          ],
          "name": "stdout"
        }
      ]
    },
    {
      "cell_type": "markdown",
      "metadata": {
        "id": "ppM8oEDNoaZ3",
        "colab_type": "text"
      },
      "source": [
        "### Count of Yes and No for the term deposit "
      ]
    },
    {
      "cell_type": "code",
      "metadata": {
        "id": "ONpwKAr-oaZ4",
        "colab_type": "code",
        "colab": {
          "base_uri": "https://localhost:8080/",
          "height": 68
        },
        "outputId": "a29c7733-e3db-46ea-e851-7d6c9a86d487"
      },
      "source": [
        "bank.y.value_counts()"
      ],
      "execution_count": 9,
      "outputs": [
        {
          "output_type": "execute_result",
          "data": {
            "text/plain": [
              "no     9137\n",
              "yes    1160\n",
              "Name: y, dtype: int64"
            ]
          },
          "metadata": {
            "tags": []
          },
          "execution_count": 9
        }
      ]
    },
    {
      "cell_type": "markdown",
      "metadata": {
        "id": "BYbfcWQboaZ8",
        "colab_type": "text"
      },
      "source": [
        "### Q 3. Write a user defined function to calculate the Inter quartile range for quantile values outside 25 to 75 range. And do the outlier capping for lower level with min value and for upper level with 'q3=1.5*iqr' value."
      ]
    },
    {
      "cell_type": "code",
      "metadata": {
        "id": "9LEA_8EKoaZ9",
        "colab_type": "code",
        "colab": {}
      },
      "source": [
        "\"\"\"\n",
        "def remove_outlier(df_in, col_name):\n",
        "    # Calculate quantile 1 using quantile(0.25)\n",
        "    # Calculate quantile 3\n",
        "    # Calculate IQR as difference of Quantile 3 and quantile 1\n",
        "    # Find the lower bound using the min() function\n",
        "    # Find the upper bound as quantile3 + 1.5*IQR\n",
        "    # Print the lower and upper bound of the column\n",
        "    # Remove the values lying outside min and upper bound range\n",
        "    return df_out\n",
        "\"\"\"\n",
        "def remove_outlier(df_in, col_name):\n",
        "  q1 = df_in[col_name].quantile(0.25)\n",
        "  q3 = df_in[col_name].quantile(0.75)\n",
        "  iqr = q3-q1\n",
        "  lowerbound = df_in[col_name].min()\n",
        "  upperbound = q3 + 1.5*iqr\n",
        "  print(\"lower bound of {} {}\".format(col_name, lowerbound))\n",
        "  print(\"upper bound of {} {}\".format(col_name, upperbound))\n",
        "  df_out = df_in.loc[(df_in[col_name]>lowerbound) & (df_in[col_name]<upperbound)]\n",
        "  return df_out"
      ],
      "execution_count": 0,
      "outputs": []
    },
    {
      "cell_type": "markdown",
      "metadata": {
        "id": "VlFcL3LHoaaD",
        "colab_type": "text"
      },
      "source": [
        "### Q 3.1 Using the above created function , remove the outlier from 'age' variables:"
      ]
    },
    {
      "cell_type": "code",
      "metadata": {
        "id": "Q6mmTFFSoaaD",
        "colab_type": "code",
        "colab": {
          "base_uri": "https://localhost:8080/",
          "height": 51
        },
        "outputId": "42dd9fb6-028d-4667-be6e-9b9aa44e58c4"
      },
      "source": [
        "def log(bank):\n",
        "    # your code to remove the outlier from age\n",
        "    return remove_outlier(bank,'age')\n",
        "bank = log(bank)"
      ],
      "execution_count": 11,
      "outputs": [
        {
          "output_type": "stream",
          "text": [
            "lower bound of age 18\n",
            "upper bound of age 69.5\n"
          ],
          "name": "stdout"
        }
      ]
    },
    {
      "cell_type": "code",
      "metadata": {
        "id": "m60yxDymDTdQ",
        "colab_type": "code",
        "colab": {
          "base_uri": "https://localhost:8080/",
          "height": 34
        },
        "outputId": "4a2c6de4-72fe-4421-9718-1917c231b37e"
      },
      "source": [
        "bank.age.max()"
      ],
      "execution_count": 12,
      "outputs": [
        {
          "output_type": "execute_result",
          "data": {
            "text/plain": [
              "69"
            ]
          },
          "metadata": {
            "tags": []
          },
          "execution_count": 12
        }
      ]
    },
    {
      "cell_type": "markdown",
      "metadata": {
        "id": "4uNMypGGoaaH",
        "colab_type": "text"
      },
      "source": [
        "### Q 3.2 Using the above created function , remove the outlier from 'campaign' variables:"
      ]
    },
    {
      "cell_type": "code",
      "metadata": {
        "id": "oayklle0Dfwe",
        "colab_type": "code",
        "colab": {
          "base_uri": "https://localhost:8080/",
          "height": 34
        },
        "outputId": "5250408f-75e8-4ce6-dcaa-0df3b3d3c3c4"
      },
      "source": [
        "bank.campaign.min()"
      ],
      "execution_count": 13,
      "outputs": [
        {
          "output_type": "execute_result",
          "data": {
            "text/plain": [
              "1"
            ]
          },
          "metadata": {
            "tags": []
          },
          "execution_count": 13
        }
      ]
    },
    {
      "cell_type": "code",
      "metadata": {
        "id": "atXzaWI-Djd4",
        "colab_type": "code",
        "colab": {
          "base_uri": "https://localhost:8080/",
          "height": 34
        },
        "outputId": "c55493d8-9ef1-4e1a-8379-1b40b4a27812"
      },
      "source": [
        "bank.campaign.max()"
      ],
      "execution_count": 14,
      "outputs": [
        {
          "output_type": "execute_result",
          "data": {
            "text/plain": [
              "56"
            ]
          },
          "metadata": {
            "tags": []
          },
          "execution_count": 14
        }
      ]
    },
    {
      "cell_type": "code",
      "metadata": {
        "id": "dVqR0xuKoaaI",
        "colab_type": "code",
        "colab": {
          "base_uri": "https://localhost:8080/",
          "height": 51
        },
        "outputId": "fe3fe5df-0ea3-4a44-b450-38dde458f03e"
      },
      "source": [
        "def log(bank):\n",
        "    # your code to remove the outlier from campaign\n",
        "    return remove_outlier(bank,'campaign')\n",
        "bank = log(bank)"
      ],
      "execution_count": 15,
      "outputs": [
        {
          "output_type": "stream",
          "text": [
            "lower bound of campaign 1\n",
            "upper bound of campaign 6.0\n"
          ],
          "name": "stdout"
        }
      ]
    },
    {
      "cell_type": "markdown",
      "metadata": {
        "id": "83WJMhmHoaaL",
        "colab_type": "text"
      },
      "source": [
        "### Q 3.3 Using the above created function , remove the outlier from 'duration' variables:"
      ]
    },
    {
      "cell_type": "code",
      "metadata": {
        "id": "HvKZEE0ooaaM",
        "colab_type": "code",
        "colab": {
          "base_uri": "https://localhost:8080/",
          "height": 51
        },
        "outputId": "d32f09ea-bc7a-48a4-f483-c5ec7571018d"
      },
      "source": [
        "def log(bank):\n",
        "    # your code to remove the outlier from duration\n",
        "    return remove_outlier (bank,'duration')\n",
        "bank = log(bank) "
      ],
      "execution_count": 16,
      "outputs": [
        {
          "output_type": "stream",
          "text": [
            "lower bound of duration 0\n",
            "upper bound of duration 684.0\n"
          ],
          "name": "stdout"
        }
      ]
    },
    {
      "cell_type": "markdown",
      "metadata": {
        "id": "qtz_saQ9oaaP",
        "colab_type": "text"
      },
      "source": [
        "### Dividing dataset into two, on the basis of categorical and numerical."
      ]
    },
    {
      "cell_type": "code",
      "metadata": {
        "id": "2pdzfT52oaaQ",
        "colab_type": "code",
        "colab": {
          "base_uri": "https://localhost:8080/",
          "height": 323
        },
        "outputId": "03534b5e-ecbe-4104-af86-0ecc4c860e21"
      },
      "source": [
        "bank_cat=bank[['job', 'marital','default', 'education', 'loan', 'housing', 'contact', 'month', 'day_of_week', 'poutcome', 'y']]\n",
        "bank_cat.info()"
      ],
      "execution_count": 17,
      "outputs": [
        {
          "output_type": "stream",
          "text": [
            "<class 'pandas.core.frame.DataFrame'>\n",
            "Int64Index: 4621 entries, 0 to 10295\n",
            "Data columns (total 11 columns):\n",
            " #   Column       Non-Null Count  Dtype \n",
            "---  ------       --------------  ----- \n",
            " 0   job          4621 non-null   object\n",
            " 1   marital      4621 non-null   object\n",
            " 2   default      4621 non-null   object\n",
            " 3   education    4621 non-null   object\n",
            " 4   loan         4621 non-null   object\n",
            " 5   housing      4621 non-null   object\n",
            " 6   contact      4621 non-null   object\n",
            " 7   month        4621 non-null   object\n",
            " 8   day_of_week  4621 non-null   object\n",
            " 9   poutcome     4621 non-null   object\n",
            " 10  y            4621 non-null   object\n",
            "dtypes: object(11)\n",
            "memory usage: 433.2+ KB\n"
          ],
          "name": "stdout"
        }
      ]
    },
    {
      "cell_type": "code",
      "metadata": {
        "id": "dvv0YELDoaaT",
        "colab_type": "code",
        "colab": {
          "base_uri": "https://localhost:8080/",
          "height": 306
        },
        "outputId": "6703cc8e-9861-4ee0-8b34-c245b2005783"
      },
      "source": [
        "bank_cont = bank.drop(['job', 'marital','default', 'education', 'loan', 'housing', 'contact', 'month', 'day_of_week', 'poutcome', 'y'], axis=1)\n",
        "bank_cont.info()"
      ],
      "execution_count": 18,
      "outputs": [
        {
          "output_type": "stream",
          "text": [
            "<class 'pandas.core.frame.DataFrame'>\n",
            "Int64Index: 4621 entries, 0 to 10295\n",
            "Data columns (total 10 columns):\n",
            " #   Column          Non-Null Count  Dtype  \n",
            "---  ------          --------------  -----  \n",
            " 0   age             4621 non-null   int64  \n",
            " 1   duration        4621 non-null   int64  \n",
            " 2   campaign        4621 non-null   int64  \n",
            " 3   pdays           4621 non-null   int64  \n",
            " 4   previous        4621 non-null   int64  \n",
            " 5   emp.var.rate    4621 non-null   float64\n",
            " 6   cons.price.idx  4621 non-null   float64\n",
            " 7   cons.conf.idx   4621 non-null   float64\n",
            " 8   euribor3m       4621 non-null   float64\n",
            " 9   nr.employed     4621 non-null   float64\n",
            "dtypes: float64(5), int64(5)\n",
            "memory usage: 397.1 KB\n"
          ],
          "name": "stdout"
        }
      ]
    },
    {
      "cell_type": "markdown",
      "metadata": {
        "id": "5T9hz80poaaX",
        "colab_type": "text"
      },
      "source": [
        "### Q 4. Label encode the below mentioned categorical variable to numerical values.\n",
        "``` ['job', 'marital','default','education', 'loan', 'housing', 'contact', 'month', 'day_of_week', 'poutcome', 'y'] ```"
      ]
    },
    {
      "cell_type": "code",
      "metadata": {
        "id": "C_X0C6m1ULdn",
        "colab_type": "code",
        "colab": {}
      },
      "source": [
        "from sklearn.preprocessing import LabelEncoder"
      ],
      "execution_count": 0,
      "outputs": []
    },
    {
      "cell_type": "code",
      "metadata": {
        "id": "4CrCs3k2oaaY",
        "colab_type": "code",
        "colab": {
          "base_uri": "https://localhost:8080/",
          "height": 224
        },
        "outputId": "54d1420e-fd8d-4535-bfe7-11aeecb1b934"
      },
      "source": [
        "def log(bank_cat):\n",
        "    # your code to return the value applying fit_transorm\n",
        "    return bank_cat.apply(LabelEncoder().fit_transform)\n",
        "bank_cat = log(bank_cat)\n",
        "bank_cat.head()"
      ],
      "execution_count": 20,
      "outputs": [
        {
          "output_type": "execute_result",
          "data": {
            "text/html": [
              "<div>\n",
              "<style scoped>\n",
              "    .dataframe tbody tr th:only-of-type {\n",
              "        vertical-align: middle;\n",
              "    }\n",
              "\n",
              "    .dataframe tbody tr th {\n",
              "        vertical-align: top;\n",
              "    }\n",
              "\n",
              "    .dataframe thead th {\n",
              "        text-align: right;\n",
              "    }\n",
              "</style>\n",
              "<table border=\"1\" class=\"dataframe\">\n",
              "  <thead>\n",
              "    <tr style=\"text-align: right;\">\n",
              "      <th></th>\n",
              "      <th>job</th>\n",
              "      <th>marital</th>\n",
              "      <th>default</th>\n",
              "      <th>education</th>\n",
              "      <th>loan</th>\n",
              "      <th>housing</th>\n",
              "      <th>contact</th>\n",
              "      <th>month</th>\n",
              "      <th>day_of_week</th>\n",
              "      <th>poutcome</th>\n",
              "      <th>y</th>\n",
              "    </tr>\n",
              "  </thead>\n",
              "  <tbody>\n",
              "    <tr>\n",
              "      <th>0</th>\n",
              "      <td>1</td>\n",
              "      <td>1</td>\n",
              "      <td>0</td>\n",
              "      <td>2</td>\n",
              "      <td>2</td>\n",
              "      <td>0</td>\n",
              "      <td>1</td>\n",
              "      <td>6</td>\n",
              "      <td>3</td>\n",
              "      <td>1</td>\n",
              "      <td>0</td>\n",
              "    </tr>\n",
              "    <tr>\n",
              "      <th>1</th>\n",
              "      <td>0</td>\n",
              "      <td>2</td>\n",
              "      <td>0</td>\n",
              "      <td>6</td>\n",
              "      <td>0</td>\n",
              "      <td>0</td>\n",
              "      <td>0</td>\n",
              "      <td>6</td>\n",
              "      <td>4</td>\n",
              "      <td>1</td>\n",
              "      <td>0</td>\n",
              "    </tr>\n",
              "    <tr>\n",
              "      <th>3</th>\n",
              "      <td>0</td>\n",
              "      <td>1</td>\n",
              "      <td>1</td>\n",
              "      <td>3</td>\n",
              "      <td>0</td>\n",
              "      <td>2</td>\n",
              "      <td>1</td>\n",
              "      <td>6</td>\n",
              "      <td>2</td>\n",
              "      <td>1</td>\n",
              "      <td>0</td>\n",
              "    </tr>\n",
              "    <tr>\n",
              "      <th>5</th>\n",
              "      <td>0</td>\n",
              "      <td>2</td>\n",
              "      <td>0</td>\n",
              "      <td>6</td>\n",
              "      <td>2</td>\n",
              "      <td>2</td>\n",
              "      <td>0</td>\n",
              "      <td>1</td>\n",
              "      <td>1</td>\n",
              "      <td>1</td>\n",
              "      <td>0</td>\n",
              "    </tr>\n",
              "    <tr>\n",
              "      <th>8</th>\n",
              "      <td>1</td>\n",
              "      <td>1</td>\n",
              "      <td>1</td>\n",
              "      <td>5</td>\n",
              "      <td>0</td>\n",
              "      <td>0</td>\n",
              "      <td>0</td>\n",
              "      <td>6</td>\n",
              "      <td>4</td>\n",
              "      <td>0</td>\n",
              "      <td>0</td>\n",
              "    </tr>\n",
              "  </tbody>\n",
              "</table>\n",
              "</div>"
            ],
            "text/plain": [
              "   job  marital  default  education  ...  month  day_of_week  poutcome  y\n",
              "0    1        1        0          2  ...      6            3         1  0\n",
              "1    0        2        0          6  ...      6            4         1  0\n",
              "3    0        1        1          3  ...      6            2         1  0\n",
              "5    0        2        0          6  ...      1            1         1  0\n",
              "8    1        1        1          5  ...      6            4         0  0\n",
              "\n",
              "[5 rows x 11 columns]"
            ]
          },
          "metadata": {
            "tags": []
          },
          "execution_count": 20
        }
      ]
    },
    {
      "cell_type": "markdown",
      "metadata": {
        "id": "xbp0INnFoaac",
        "colab_type": "text"
      },
      "source": [
        "### Combining the numerical and categorical dataset."
      ]
    },
    {
      "cell_type": "markdown",
      "metadata": {
        "id": "yOoQjdlmVCbR",
        "colab_type": "text"
      },
      "source": [
        ""
      ]
    },
    {
      "cell_type": "code",
      "metadata": {
        "id": "x_tNOrw-oaad",
        "colab_type": "code",
        "colab": {}
      },
      "source": [
        "bank_final= pd.concat([bank_cont, bank_cat], axis = 1)"
      ],
      "execution_count": 0,
      "outputs": []
    },
    {
      "cell_type": "markdown",
      "metadata": {
        "id": "jGVBZaPPoaag",
        "colab_type": "text"
      },
      "source": [
        "### Q 6. Extract independent column to prepare X "
      ]
    },
    {
      "cell_type": "code",
      "metadata": {
        "id": "WvybcuZloaah",
        "colab_type": "code",
        "colab": {
          "base_uri": "https://localhost:8080/",
          "height": 224
        },
        "outputId": "d21af4b7-81fd-4ffc-aa99-ea74ca63a457"
      },
      "source": [
        "X = pd.DataFrame()\n",
        "def log():\n",
        "    # write your code to create a dataframe of dependent variables excluding 'y' variable\n",
        "    X = bank_final.loc[:,bank_final.columns!='y']\n",
        "    return X\n",
        "X = log()\n",
        "X.head()"
      ],
      "execution_count": 22,
      "outputs": [
        {
          "output_type": "execute_result",
          "data": {
            "text/html": [
              "<div>\n",
              "<style scoped>\n",
              "    .dataframe tbody tr th:only-of-type {\n",
              "        vertical-align: middle;\n",
              "    }\n",
              "\n",
              "    .dataframe tbody tr th {\n",
              "        vertical-align: top;\n",
              "    }\n",
              "\n",
              "    .dataframe thead th {\n",
              "        text-align: right;\n",
              "    }\n",
              "</style>\n",
              "<table border=\"1\" class=\"dataframe\">\n",
              "  <thead>\n",
              "    <tr style=\"text-align: right;\">\n",
              "      <th></th>\n",
              "      <th>age</th>\n",
              "      <th>duration</th>\n",
              "      <th>campaign</th>\n",
              "      <th>pdays</th>\n",
              "      <th>previous</th>\n",
              "      <th>emp.var.rate</th>\n",
              "      <th>cons.price.idx</th>\n",
              "      <th>cons.conf.idx</th>\n",
              "      <th>euribor3m</th>\n",
              "      <th>nr.employed</th>\n",
              "      <th>job</th>\n",
              "      <th>marital</th>\n",
              "      <th>default</th>\n",
              "      <th>education</th>\n",
              "      <th>loan</th>\n",
              "      <th>housing</th>\n",
              "      <th>contact</th>\n",
              "      <th>month</th>\n",
              "      <th>day_of_week</th>\n",
              "      <th>poutcome</th>\n",
              "    </tr>\n",
              "  </thead>\n",
              "  <tbody>\n",
              "    <tr>\n",
              "      <th>0</th>\n",
              "      <td>46</td>\n",
              "      <td>329</td>\n",
              "      <td>3</td>\n",
              "      <td>999</td>\n",
              "      <td>0</td>\n",
              "      <td>1.1</td>\n",
              "      <td>93.994</td>\n",
              "      <td>-36.4</td>\n",
              "      <td>4.857</td>\n",
              "      <td>5191.0</td>\n",
              "      <td>1</td>\n",
              "      <td>1</td>\n",
              "      <td>0</td>\n",
              "      <td>2</td>\n",
              "      <td>2</td>\n",
              "      <td>0</td>\n",
              "      <td>1</td>\n",
              "      <td>6</td>\n",
              "      <td>3</td>\n",
              "      <td>1</td>\n",
              "    </tr>\n",
              "    <tr>\n",
              "      <th>1</th>\n",
              "      <td>29</td>\n",
              "      <td>132</td>\n",
              "      <td>2</td>\n",
              "      <td>999</td>\n",
              "      <td>0</td>\n",
              "      <td>-1.8</td>\n",
              "      <td>92.893</td>\n",
              "      <td>-46.2</td>\n",
              "      <td>1.281</td>\n",
              "      <td>5099.1</td>\n",
              "      <td>0</td>\n",
              "      <td>2</td>\n",
              "      <td>0</td>\n",
              "      <td>6</td>\n",
              "      <td>0</td>\n",
              "      <td>0</td>\n",
              "      <td>0</td>\n",
              "      <td>6</td>\n",
              "      <td>4</td>\n",
              "      <td>1</td>\n",
              "    </tr>\n",
              "    <tr>\n",
              "      <th>3</th>\n",
              "      <td>31</td>\n",
              "      <td>199</td>\n",
              "      <td>2</td>\n",
              "      <td>999</td>\n",
              "      <td>0</td>\n",
              "      <td>1.1</td>\n",
              "      <td>93.994</td>\n",
              "      <td>-36.4</td>\n",
              "      <td>4.860</td>\n",
              "      <td>5191.0</td>\n",
              "      <td>0</td>\n",
              "      <td>1</td>\n",
              "      <td>1</td>\n",
              "      <td>3</td>\n",
              "      <td>0</td>\n",
              "      <td>2</td>\n",
              "      <td>1</td>\n",
              "      <td>6</td>\n",
              "      <td>2</td>\n",
              "      <td>1</td>\n",
              "    </tr>\n",
              "    <tr>\n",
              "      <th>5</th>\n",
              "      <td>33</td>\n",
              "      <td>174</td>\n",
              "      <td>4</td>\n",
              "      <td>999</td>\n",
              "      <td>0</td>\n",
              "      <td>1.4</td>\n",
              "      <td>93.444</td>\n",
              "      <td>-36.1</td>\n",
              "      <td>4.963</td>\n",
              "      <td>5228.1</td>\n",
              "      <td>0</td>\n",
              "      <td>2</td>\n",
              "      <td>0</td>\n",
              "      <td>6</td>\n",
              "      <td>2</td>\n",
              "      <td>2</td>\n",
              "      <td>0</td>\n",
              "      <td>1</td>\n",
              "      <td>1</td>\n",
              "      <td>1</td>\n",
              "    </tr>\n",
              "    <tr>\n",
              "      <th>8</th>\n",
              "      <td>34</td>\n",
              "      <td>65</td>\n",
              "      <td>2</td>\n",
              "      <td>999</td>\n",
              "      <td>1</td>\n",
              "      <td>-1.8</td>\n",
              "      <td>92.893</td>\n",
              "      <td>-46.2</td>\n",
              "      <td>1.281</td>\n",
              "      <td>5099.1</td>\n",
              "      <td>1</td>\n",
              "      <td>1</td>\n",
              "      <td>1</td>\n",
              "      <td>5</td>\n",
              "      <td>0</td>\n",
              "      <td>0</td>\n",
              "      <td>0</td>\n",
              "      <td>6</td>\n",
              "      <td>4</td>\n",
              "      <td>0</td>\n",
              "    </tr>\n",
              "  </tbody>\n",
              "</table>\n",
              "</div>"
            ],
            "text/plain": [
              "   age  duration  campaign  pdays  ...  contact  month  day_of_week  poutcome\n",
              "0   46       329         3    999  ...        1      6            3         1\n",
              "1   29       132         2    999  ...        0      6            4         1\n",
              "3   31       199         2    999  ...        1      6            2         1\n",
              "5   33       174         4    999  ...        0      1            1         1\n",
              "8   34        65         2    999  ...        0      6            4         0\n",
              "\n",
              "[5 rows x 20 columns]"
            ]
          },
          "metadata": {
            "tags": []
          },
          "execution_count": 22
        }
      ]
    },
    {
      "cell_type": "markdown",
      "metadata": {
        "id": "zjeAKdQdoaak",
        "colab_type": "text"
      },
      "source": [
        "### Q 7. Extract dependent variable into a dataframe 'y' for model predcition"
      ]
    },
    {
      "cell_type": "code",
      "metadata": {
        "id": "hmEuL-zSoaal",
        "colab_type": "code",
        "colab": {
          "base_uri": "https://localhost:8080/",
          "height": 119
        },
        "outputId": "6ca8cc78-5397-42b8-f7ce-796330c23c93"
      },
      "source": [
        "y = pd.DataFrame()\n",
        "def log():\n",
        "    # write your code to create a dataframe which consists only of dependepent variable\n",
        "    y = bank_final.y\n",
        "    return y\n",
        "y = log()\n",
        "y.head()"
      ],
      "execution_count": 23,
      "outputs": [
        {
          "output_type": "execute_result",
          "data": {
            "text/plain": [
              "0    0\n",
              "1    0\n",
              "3    0\n",
              "5    0\n",
              "8    0\n",
              "Name: y, dtype: int64"
            ]
          },
          "metadata": {
            "tags": []
          },
          "execution_count": 23
        }
      ]
    },
    {
      "cell_type": "markdown",
      "metadata": {
        "id": "30wIcADboaao",
        "colab_type": "text"
      },
      "source": [
        "### Q 8. Splitting X and y intro train and test dataset"
      ]
    },
    {
      "cell_type": "code",
      "metadata": {
        "id": "Nl130RuClEeP",
        "colab_type": "code",
        "colab": {}
      },
      "source": [
        "from sklearn.model_selection import train_test_split"
      ],
      "execution_count": 0,
      "outputs": []
    },
    {
      "cell_type": "code",
      "metadata": {
        "id": "qaPu8FqXoaao",
        "colab_type": "code",
        "colab": {}
      },
      "source": [
        "#  return # train test split using train_test_split of 75:25 and random state=1\n",
        "def log():\n",
        "  return train_test_split(X,y, test_size = 0.25, random_state = 1)\n",
        "X_train, X_test, y_train, y_test = log()"
      ],
      "execution_count": 0,
      "outputs": []
    },
    {
      "cell_type": "markdown",
      "metadata": {
        "id": "dsxmIutzoaas",
        "colab_type": "text"
      },
      "source": [
        "### Check the shape of X an y of train dataset."
      ]
    },
    {
      "cell_type": "code",
      "metadata": {
        "id": "v8lp1IkPoaas",
        "colab_type": "code",
        "colab": {
          "base_uri": "https://localhost:8080/",
          "height": 51
        },
        "outputId": "293ceec2-5701-4758-a4bc-c5ba44b2efb2"
      },
      "source": [
        "def log():\n",
        "    print(X_train.shape)\n",
        "    print(y_train.shape)\n",
        "log()"
      ],
      "execution_count": 26,
      "outputs": [
        {
          "output_type": "stream",
          "text": [
            "(3465, 20)\n",
            "(3465,)\n"
          ],
          "name": "stdout"
        }
      ]
    },
    {
      "cell_type": "markdown",
      "metadata": {
        "id": "YPpdNfK_oaay",
        "colab_type": "text"
      },
      "source": [
        "### Check the shape of X and y of test dataset."
      ]
    },
    {
      "cell_type": "code",
      "metadata": {
        "id": "EyAnZFEcoaaz",
        "colab_type": "code",
        "colab": {
          "base_uri": "https://localhost:8080/",
          "height": 51
        },
        "outputId": "5bbeba67-a075-4005-d4a2-9c77e4264ecc"
      },
      "source": [
        "def log():\n",
        "    print(X_test.shape)\n",
        "    print(y_test.shape)\n",
        "log()"
      ],
      "execution_count": 27,
      "outputs": [
        {
          "output_type": "stream",
          "text": [
            "(1156, 20)\n",
            "(1156,)\n"
          ],
          "name": "stdout"
        }
      ]
    },
    {
      "cell_type": "markdown",
      "metadata": {
        "id": "rdNhj4_Koaa3",
        "colab_type": "text"
      },
      "source": [
        "### Q 9. Instantitate Logistic Regression model using scikit-learn"
      ]
    },
    {
      "cell_type": "code",
      "metadata": {
        "id": "nf32ZBzGRPbg",
        "colab_type": "code",
        "colab": {}
      },
      "source": [
        "from sklearn.linear_model import LogisticRegression"
      ],
      "execution_count": 0,
      "outputs": []
    },
    {
      "cell_type": "code",
      "metadata": {
        "id": "e0GNTRufoaa4",
        "colab_type": "code",
        "colab": {}
      },
      "source": [
        "def log():\n",
        "    # initiate the logistic regression model to new variable logreg\n",
        "    logreg = LogisticRegression()\n",
        "    return logreg\n",
        "logreg = log()"
      ],
      "execution_count": 0,
      "outputs": []
    },
    {
      "cell_type": "markdown",
      "metadata": {
        "id": "6Cik9QfJoaa8",
        "colab_type": "text"
      },
      "source": [
        "### Q 10. Fit the logistic model on X_train and y_train"
      ]
    },
    {
      "cell_type": "code",
      "metadata": {
        "id": "EG2Ocm2Woaa8",
        "colab_type": "code",
        "colab": {
          "base_uri": "https://localhost:8080/",
          "height": 173
        },
        "outputId": "0dd2544e-1c4d-4e66-fd43-41196c680acf"
      },
      "source": [
        "def log():\n",
        "  # fit the X_train and y_train\n",
        "  # We don't expect any return from your side.\n",
        "  logreg.fit(X_train,y_train)\n",
        "log()    "
      ],
      "execution_count": 30,
      "outputs": [
        {
          "output_type": "stream",
          "text": [
            "/usr/local/lib/python3.6/dist-packages/sklearn/linear_model/_logistic.py:940: ConvergenceWarning: lbfgs failed to converge (status=1):\n",
            "STOP: TOTAL NO. of ITERATIONS REACHED LIMIT.\n",
            "\n",
            "Increase the number of iterations (max_iter) or scale the data as shown in:\n",
            "    https://scikit-learn.org/stable/modules/preprocessing.html\n",
            "Please also refer to the documentation for alternative solver options:\n",
            "    https://scikit-learn.org/stable/modules/linear_model.html#logistic-regression\n",
            "  extra_warning_msg=_LOGISTIC_SOLVER_CONVERGENCE_MSG)\n"
          ],
          "name": "stderr"
        }
      ]
    },
    {
      "cell_type": "markdown",
      "metadata": {
        "id": "zY8q4zMYoabA",
        "colab_type": "text"
      },
      "source": [
        "### Q 11. Using the model for prediction"
      ]
    },
    {
      "cell_type": "code",
      "metadata": {
        "id": "SWgAGFP9oabB",
        "colab_type": "code",
        "colab": {}
      },
      "source": [
        "y_pred_train = pd.DataFrame()\n",
        "def log():\n",
        "    # create the model prediction on X_train data using the above created dataframe\n",
        "    y_pred_train = logreg.predict(X_train)\n",
        "    return y_pred_train\n",
        "y_pred_train = log()"
      ],
      "execution_count": 0,
      "outputs": []
    },
    {
      "cell_type": "code",
      "metadata": {
        "id": "Za9J3BsroabF",
        "colab_type": "code",
        "colab": {}
      },
      "source": [
        "y_pred_test = pd.DataFrame()\n",
        "def log():\n",
        "    # create the model prediction on X_test data using the above created dataframe\n",
        "    y_pred_test = logreg.predict(X_test)\n",
        "    return y_pred_test\n",
        "y_pred_test = log()"
      ],
      "execution_count": 0,
      "outputs": []
    },
    {
      "cell_type": "markdown",
      "metadata": {
        "id": "WHtyHG-BoabJ",
        "colab_type": "text"
      },
      "source": [
        "### Q 12. Model evaluation using accuracy classification score"
      ]
    },
    {
      "cell_type": "code",
      "metadata": {
        "id": "5PY9ZiqtTRvV",
        "colab_type": "code",
        "colab": {}
      },
      "source": [
        "from sklearn.metrics import accuracy_score"
      ],
      "execution_count": 0,
      "outputs": []
    },
    {
      "cell_type": "code",
      "metadata": {
        "id": "hPLSoZ7SoabK",
        "colab_type": "code",
        "colab": {
          "base_uri": "https://localhost:8080/",
          "height": 34
        },
        "outputId": "d4771358-7ec0-4420-e97f-914479c5dc96"
      },
      "source": [
        "def log():\n",
        "    #Calculate and print the accuracy score\n",
        "    print(\"Accuracy Score: \", accuracy_score(y_test,y_pred_test))\n",
        "log()"
      ],
      "execution_count": 34,
      "outputs": [
        {
          "output_type": "stream",
          "text": [
            "Accuracy Score:  0.9411764705882353\n"
          ],
          "name": "stdout"
        }
      ]
    },
    {
      "cell_type": "markdown",
      "metadata": {
        "id": "BCIha5dLoabO",
        "colab_type": "text"
      },
      "source": [
        "### Q 13. Model evaluation using Confusion matrix"
      ]
    },
    {
      "cell_type": "code",
      "metadata": {
        "id": "00NRA5Y8Tp1o",
        "colab_type": "code",
        "colab": {}
      },
      "source": [
        "from sklearn.metrics import confusion_matrix\n",
        "confusion_matrix = pd.DataFrame(confusion_matrix(y_test, y_pred_test))"
      ],
      "execution_count": 0,
      "outputs": []
    },
    {
      "cell_type": "code",
      "metadata": {
        "id": "6eVaENUQoabP",
        "colab_type": "code",
        "colab": {
          "base_uri": "https://localhost:8080/",
          "height": 68
        },
        "outputId": "14b9b9f6-170a-423b-a5ae-a265fb840b54"
      },
      "source": [
        "def log():\n",
        "    # provide confusion matrix index name as['Actual No_Deposit','Actual Deposit']\n",
        "    # provide confusion matrix index name as['Predicted No_Deposit','Predicted Deposit']\n",
        "    confusion_matrix.index = ['Actual No_Deposit','Actual Deposit']\n",
        "    confusion_matrix.columns = ['Predicted No_Deposit','Predicted Deposit']\n",
        "    print(confusion_matrix)\n",
        "log()"
      ],
      "execution_count": 36,
      "outputs": [
        {
          "output_type": "stream",
          "text": [
            "                   Predicted No_Deposit  Predicted Deposit\n",
            "Actual No_Deposit                  1063                 13\n",
            "Actual Deposit                       55                 25\n"
          ],
          "name": "stdout"
        }
      ]
    },
    {
      "cell_type": "code",
      "metadata": {
        "id": "yGbe2_IcU1nn",
        "colab_type": "code",
        "colab": {}
      },
      "source": [
        "# correct predictions: 1063 + 25 = 1078\n",
        "# total wrong predictions: 55 + 13 = 68"
      ],
      "execution_count": 0,
      "outputs": []
    },
    {
      "cell_type": "markdown",
      "metadata": {
        "id": "dTF_Sh95oabT",
        "colab_type": "text"
      },
      "source": [
        "### Q 14. Accuracy prediction setting the threshold = 0.75"
      ]
    },
    {
      "cell_type": "code",
      "metadata": {
        "id": "nmivKn_-ngRu",
        "colab_type": "code",
        "colab": {}
      },
      "source": [
        "import numpy as np"
      ],
      "execution_count": 0,
      "outputs": []
    },
    {
      "cell_type": "code",
      "metadata": {
        "id": "-q-asxMKqFBY",
        "colab_type": "code",
        "colab": {
          "base_uri": "https://localhost:8080/",
          "height": 34
        },
        "outputId": "c94394bb-31fc-4e45-ecc2-a9c18c108541"
      },
      "source": [
        "probaTest = logreg.predict_proba(X_test)[0]\n",
        "probaTest"
      ],
      "execution_count": 44,
      "outputs": [
        {
          "output_type": "execute_result",
          "data": {
            "text/plain": [
              "array([0.98334834, 0.01665166])"
            ]
          },
          "metadata": {
            "tags": []
          },
          "execution_count": 44
        }
      ]
    },
    {
      "cell_type": "code",
      "metadata": {
        "id": "J52ZhSwxqlw5",
        "colab_type": "code",
        "colab": {}
      },
      "source": [
        "# 0.98334834, 0.01665166\n",
        "# for class 0, class 1\n",
        "# p values according to the sigmoid fnction"
      ],
      "execution_count": 0,
      "outputs": []
    },
    {
      "cell_type": "code",
      "metadata": {
        "id": "YIo0MgOaoabU",
        "colab_type": "code",
        "colab": {
          "base_uri": "https://localhost:8080/",
          "height": 34
        },
        "outputId": "c60f4439-d48d-41e3-8ac4-4bdd4663d87c"
      },
      "source": [
        "def log():\n",
        "    # Calculate preds1 keeping the probabilty value as 0.75\n",
        "    # calculate and print the accuracy using the above mentioned threshold probability\n",
        "    preds1 = np.where(logreg.predict_proba(X_test)[:,1]>0.75,1,0)\n",
        "    print(\"Accuracy score for test data: \", accuracy_score(y_test,preds1))\n",
        "log()"
      ],
      "execution_count": 40,
      "outputs": [
        {
          "output_type": "stream",
          "text": [
            "Accuracy score for test data:  0.9411764705882353\n"
          ],
          "name": "stdout"
        }
      ]
    },
    {
      "cell_type": "markdown",
      "metadata": {
        "id": "9Sw9Yg4hoabY",
        "colab_type": "text"
      },
      "source": [
        "### Q 15. Accuracy prediction setting the threshold = 0.25"
      ]
    },
    {
      "cell_type": "code",
      "metadata": {
        "id": "wHb3Y2dGoabZ",
        "colab_type": "code",
        "colab": {
          "base_uri": "https://localhost:8080/",
          "height": 34
        },
        "outputId": "ddd3f589-9da6-4882-ea25-6f9f646a56a7"
      },
      "source": [
        "def log():\n",
        "    # Calculate preds2 keeping the probabilty value as 0.25\n",
        "    # calculate and print the accuracy using the above mentioned threshold probability\\\n",
        "    preds2 = np.where(logreg.predict_proba(X_test)[:,1]>0.25,1,0)\n",
        "    print(\"Accuracy score for test data: \",accuracy_score(y_test,preds2))\n",
        "log()"
      ],
      "execution_count": 39,
      "outputs": [
        {
          "output_type": "stream",
          "text": [
            "Accuracy score for test data:  0.9273356401384083\n"
          ],
          "name": "stdout"
        }
      ]
    },
    {
      "cell_type": "code",
      "metadata": {
        "id": "5HGyeJZ1oabd",
        "colab_type": "code",
        "colab": {}
      },
      "source": [
        ""
      ],
      "execution_count": 0,
      "outputs": []
    }
  ]
}