{
  "nbformat": 4,
  "nbformat_minor": 0,
  "metadata": {
    "colab": {
      "name": "Untitled2.ipynb",
      "provenance": [],
      "collapsed_sections": [],
      "authorship_tag": "ABX9TyO2f+KkzLw9rS/HhAYBAWFs",
      "include_colab_link": true
    },
    "kernelspec": {
      "name": "python3",
      "display_name": "Python 3"
    }
  },
  "cells": [
    {
      "cell_type": "markdown",
      "metadata": {
        "id": "view-in-github",
        "colab_type": "text"
      },
      "source": [
        "<a href=\"https://colab.research.google.com/github/kapilpriya01/priya-kapil/blob/master/AdiAssignment/petStoreAPITest.ipynb\" target=\"_parent\"><img src=\"https://colab.research.google.com/assets/colab-badge.svg\" alt=\"Open In Colab\"/></a>"
      ]
    },
    {
      "cell_type": "code",
      "metadata": {
        "id": "t5Oa2YFqqfWE",
        "colab_type": "code",
        "colab": {}
      },
      "source": [
        "#pip install -U requests\n",
        "import requests\n",
        "import json"
      ],
      "execution_count": null,
      "outputs": []
    },
    {
      "cell_type": "code",
      "metadata": {
        "id": "O1d73iHOqhiM",
        "colab_type": "code",
        "colab": {
          "base_uri": "https://localhost:8080/",
          "height": 187
        },
        "outputId": "83ecb63f-2dc1-434a-8399-dd76c03498b3"
      },
      "source": [
        "petsURL = \"https://petstore.swagger.io/v2\"\n",
        "def getPetsByStatus(status):\n",
        "    print(\"......Inside getPetsByStatus\")\n",
        "    petsResponse = requests.get(petsURL+\"/pet/findByStatus?status=\"+status)\n",
        "    petsData = petsResponse.json()\n",
        "    print(petsResponse.status_code)\n",
        "    assert petsResponse.status_code == 200\n",
        "\n",
        "def postNewPetToStore(petID,petName,petStatus):\n",
        "    print(\"......Inside postNewPetToStore\")\n",
        "    data = requests.post(url = petsURL+\"/pet\", json={\"id\": petID,\"name\": petName,\"status\": petStatus})\n",
        "    print(data.status_code)\n",
        "    print(data.json())\n",
        "    assert data.json() == {'id': petID, 'name': petName, 'photoUrls': [], 'tags': [], 'status': petStatus}\n",
        "\n",
        "\n",
        "def getResponseByID(id):\n",
        "    print(\"......Inside getResponseByID\")\n",
        "    newDataResponse = requests.get(\"https://petstore.swagger.io/v2/pet/\"+str(id))\n",
        "    print(\"newDataResponse\", newDataResponse)\n",
        "    assert newDataResponse.status_code == 200\n",
        "    print(newDataResponse.json())\n",
        "\n",
        "def deleteByID(id):\n",
        "    print(\"......Inside deleteByID\")\n",
        "    delResponse = requests.delete(\"https://petstore.swagger.io/v2/pet/\"+str(id))\n",
        "    print(delResponse.status_code)\n",
        "    assert delResponse.status_code == 200\n",
        "\n",
        "getPetsByStatus(\"available\")\n",
        "postNewPetToStore(99909,\"Joolie\",\"available\")\n",
        "postNewPetToStore(99909,\"Joolie\",\"sold\")\n",
        "deleteByID(99909)\n",
        "#getResponseByID(99909)"
      ],
      "execution_count": 1,
      "outputs": [
        {
          "output_type": "stream",
          "text": [
            "......Inside getPetsByStatus\n",
            "200\n",
            "......Inside postNewPetToStore\n",
            "200\n",
            "{'id': 99909, 'name': 'Joolie', 'photoUrls': [], 'tags': [], 'status': 'available'}\n",
            "......Inside postNewPetToStore\n",
            "200\n",
            "{'id': 99909, 'name': 'Joolie', 'photoUrls': [], 'tags': [], 'status': 'sold'}\n",
            "......Inside deleteByID\n",
            "200\n"
          ],
          "name": "stdout"
        }
      ]
    }
  ]
}